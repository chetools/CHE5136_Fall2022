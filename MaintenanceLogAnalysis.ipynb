{
  "nbformat": 4,
  "nbformat_minor": 0,
  "metadata": {
    "colab": {
      "provenance": [],
      "authorship_tag": "ABX9TyPIfeKiMLmpTtmL2rRtUeCt",
      "include_colab_link": true
    },
    "kernelspec": {
      "name": "python3",
      "display_name": "Python 3"
    },
    "language_info": {
      "name": "python"
    }
  },
  "cells": [
    {
      "cell_type": "markdown",
      "metadata": {
        "id": "view-in-github",
        "colab_type": "text"
      },
      "source": [
        "<a href=\"https://colab.research.google.com/github/profteachkids/CHE5136_Fall2022/blob/main/MaintenanceLogAnalysis.ipynb\" target=\"_parent\"><img src=\"https://colab.research.google.com/assets/colab-badge.svg\" alt=\"Open In Colab\"/></a>"
      ]
    },
    {
      "cell_type": "code",
      "source": [
        "!wget https://github.com/profteachkids/CHE5136_Fall2022/raw/main/maintenance_log.csv -O maintenance_log.csv"
      ],
      "metadata": {
        "colab": {
          "base_uri": "https://localhost:8080/"
        },
        "id": "Usz4bn7j6cGa",
        "outputId": "ff44fb91-c9fd-44ed-d1e7-6e56c4053351"
      },
      "execution_count": 1,
      "outputs": [
        {
          "output_type": "stream",
          "name": "stdout",
          "text": [
            "--2022-10-21 18:59:22--  https://github.com/profteachkids/CHE5136_Fall2022/raw/main/maintenance_log.csv\n",
            "Resolving github.com (github.com)... 20.27.177.113\n",
            "Connecting to github.com (github.com)|20.27.177.113|:443... connected.\n",
            "HTTP request sent, awaiting response... 302 Found\n",
            "Location: https://raw.githubusercontent.com/profteachkids/CHE5136_Fall2022/main/maintenance_log.csv [following]\n",
            "--2022-10-21 18:59:23--  https://raw.githubusercontent.com/profteachkids/CHE5136_Fall2022/main/maintenance_log.csv\n",
            "Resolving raw.githubusercontent.com (raw.githubusercontent.com)... 185.199.108.133, 185.199.109.133, 185.199.110.133, ...\n",
            "Connecting to raw.githubusercontent.com (raw.githubusercontent.com)|185.199.108.133|:443... connected.\n",
            "HTTP request sent, awaiting response... 200 OK\n",
            "Length: 6763091 (6.4M) [text/plain]\n",
            "Saving to: ‘maintenance_log.csv’\n",
            "\n",
            "maintenance_log.csv 100%[===================>]   6.45M  --.-KB/s    in 0.1s    \n",
            "\n",
            "2022-10-21 18:59:23 (67.5 MB/s) - ‘maintenance_log.csv’ saved [6763091/6763091]\n",
            "\n"
          ]
        }
      ]
    },
    {
      "cell_type": "code",
      "execution_count": 2,
      "metadata": {
        "id": "vII_0R7T6Zju"
      },
      "outputs": [],
      "source": [
        "import pandas as pd"
      ]
    },
    {
      "cell_type": "code",
      "source": [
        "df=pd.read_csv('maintenance_log.csv', usecols=['start', 'end', 'Equipment', 'Procedure', 'Tech', 'Cost'])"
      ],
      "metadata": {
        "id": "Ww_VkaZW6kzB"
      },
      "execution_count": 51,
      "outputs": []
    },
    {
      "cell_type": "code",
      "source": [
        "df=df.astype({'start':'datetime64', 'end':'datetime64',\n",
        "              'Equipment':'category', 'Procedure':'category',\n",
        "              'Tech':'category', 'Cost':'float64'})"
      ],
      "metadata": {
        "id": "OyrHKSsJ6p_f"
      },
      "execution_count": 52,
      "outputs": []
    },
    {
      "cell_type": "code",
      "source": [
        "df.dtypes"
      ],
      "metadata": {
        "colab": {
          "base_uri": "https://localhost:8080/"
        },
        "id": "M71EUiEx7vk_",
        "outputId": "8259ce86-d88b-4c11-9afc-498afa1cf070"
      },
      "execution_count": 53,
      "outputs": [
        {
          "output_type": "execute_result",
          "data": {
            "text/plain": [
              "start        datetime64[ns]\n",
              "end          datetime64[ns]\n",
              "Equipment          category\n",
              "Procedure          category\n",
              "Tech               category\n",
              "Cost                float64\n",
              "dtype: object"
            ]
          },
          "metadata": {},
          "execution_count": 53
        }
      ]
    },
    {
      "cell_type": "code",
      "source": [
        "df['days']=(df['end']-df['start']).dt.days"
      ],
      "metadata": {
        "id": "c4Ce0l9Y6q5L"
      },
      "execution_count": 54,
      "outputs": []
    },
    {
      "cell_type": "code",
      "source": [
        "df.loc[df['Equipment'].str.endswith('D'),:]"
      ],
      "metadata": {
        "colab": {
          "base_uri": "https://localhost:8080/",
          "height": 424
        },
        "id": "iwX6xtc_60d1",
        "outputId": "8aba26a6-ecd0-4e8d-dd2e-a639876764c7"
      },
      "execution_count": 55,
      "outputs": [
        {
          "output_type": "execute_result",
          "data": {
            "text/plain": [
              "           start        end   Equipment Procedure   Tech           Cost  days\n",
              "0     2020-05-27 2020-06-08       TankD   Inspect    Ben    2655.325188    12\n",
              "6     2022-07-23 2022-08-16       TankD   Inspect  Ethan    2101.324674    24\n",
              "9     2019-04-21 2019-05-03       TankD   Inspect    Ben    4566.057749    12\n",
              "18    2021-04-13 2021-05-04  SeparatorD  Overhaul  Jerry  331205.713031    21\n",
              "22    2018-12-08 2018-12-29     HeaterD  Overhaul  Jerry   20168.748784    21\n",
              "...          ...        ...         ...       ...    ...            ...   ...\n",
              "99989 2018-10-10 2018-10-21  SeparatorD  Overhaul   Mary  220238.801599    11\n",
              "99990 2021-06-21 2021-06-25       TankD   Inspect  Jerry    1135.184807     4\n",
              "99992 2022-03-15 2022-04-02    ReactorD   Inspect    Ben   15547.111858    18\n",
              "99994 2021-04-07 2021-04-21  SeparatorD  Overhaul    Ben  394197.446296    14\n",
              "99998 2020-12-18 2021-01-16       TankD  Overhaul  Ethan   47487.049580    29\n",
              "\n",
              "[24920 rows x 7 columns]"
            ],
            "text/html": [
              "\n",
              "  <div id=\"df-a077d021-81e0-4fa5-bca0-7d26f1024ed4\">\n",
              "    <div class=\"colab-df-container\">\n",
              "      <div>\n",
              "<style scoped>\n",
              "    .dataframe tbody tr th:only-of-type {\n",
              "        vertical-align: middle;\n",
              "    }\n",
              "\n",
              "    .dataframe tbody tr th {\n",
              "        vertical-align: top;\n",
              "    }\n",
              "\n",
              "    .dataframe thead th {\n",
              "        text-align: right;\n",
              "    }\n",
              "</style>\n",
              "<table border=\"1\" class=\"dataframe\">\n",
              "  <thead>\n",
              "    <tr style=\"text-align: right;\">\n",
              "      <th></th>\n",
              "      <th>start</th>\n",
              "      <th>end</th>\n",
              "      <th>Equipment</th>\n",
              "      <th>Procedure</th>\n",
              "      <th>Tech</th>\n",
              "      <th>Cost</th>\n",
              "      <th>days</th>\n",
              "    </tr>\n",
              "  </thead>\n",
              "  <tbody>\n",
              "    <tr>\n",
              "      <th>0</th>\n",
              "      <td>2020-05-27</td>\n",
              "      <td>2020-06-08</td>\n",
              "      <td>TankD</td>\n",
              "      <td>Inspect</td>\n",
              "      <td>Ben</td>\n",
              "      <td>2655.325188</td>\n",
              "      <td>12</td>\n",
              "    </tr>\n",
              "    <tr>\n",
              "      <th>6</th>\n",
              "      <td>2022-07-23</td>\n",
              "      <td>2022-08-16</td>\n",
              "      <td>TankD</td>\n",
              "      <td>Inspect</td>\n",
              "      <td>Ethan</td>\n",
              "      <td>2101.324674</td>\n",
              "      <td>24</td>\n",
              "    </tr>\n",
              "    <tr>\n",
              "      <th>9</th>\n",
              "      <td>2019-04-21</td>\n",
              "      <td>2019-05-03</td>\n",
              "      <td>TankD</td>\n",
              "      <td>Inspect</td>\n",
              "      <td>Ben</td>\n",
              "      <td>4566.057749</td>\n",
              "      <td>12</td>\n",
              "    </tr>\n",
              "    <tr>\n",
              "      <th>18</th>\n",
              "      <td>2021-04-13</td>\n",
              "      <td>2021-05-04</td>\n",
              "      <td>SeparatorD</td>\n",
              "      <td>Overhaul</td>\n",
              "      <td>Jerry</td>\n",
              "      <td>331205.713031</td>\n",
              "      <td>21</td>\n",
              "    </tr>\n",
              "    <tr>\n",
              "      <th>22</th>\n",
              "      <td>2018-12-08</td>\n",
              "      <td>2018-12-29</td>\n",
              "      <td>HeaterD</td>\n",
              "      <td>Overhaul</td>\n",
              "      <td>Jerry</td>\n",
              "      <td>20168.748784</td>\n",
              "      <td>21</td>\n",
              "    </tr>\n",
              "    <tr>\n",
              "      <th>...</th>\n",
              "      <td>...</td>\n",
              "      <td>...</td>\n",
              "      <td>...</td>\n",
              "      <td>...</td>\n",
              "      <td>...</td>\n",
              "      <td>...</td>\n",
              "      <td>...</td>\n",
              "    </tr>\n",
              "    <tr>\n",
              "      <th>99989</th>\n",
              "      <td>2018-10-10</td>\n",
              "      <td>2018-10-21</td>\n",
              "      <td>SeparatorD</td>\n",
              "      <td>Overhaul</td>\n",
              "      <td>Mary</td>\n",
              "      <td>220238.801599</td>\n",
              "      <td>11</td>\n",
              "    </tr>\n",
              "    <tr>\n",
              "      <th>99990</th>\n",
              "      <td>2021-06-21</td>\n",
              "      <td>2021-06-25</td>\n",
              "      <td>TankD</td>\n",
              "      <td>Inspect</td>\n",
              "      <td>Jerry</td>\n",
              "      <td>1135.184807</td>\n",
              "      <td>4</td>\n",
              "    </tr>\n",
              "    <tr>\n",
              "      <th>99992</th>\n",
              "      <td>2022-03-15</td>\n",
              "      <td>2022-04-02</td>\n",
              "      <td>ReactorD</td>\n",
              "      <td>Inspect</td>\n",
              "      <td>Ben</td>\n",
              "      <td>15547.111858</td>\n",
              "      <td>18</td>\n",
              "    </tr>\n",
              "    <tr>\n",
              "      <th>99994</th>\n",
              "      <td>2021-04-07</td>\n",
              "      <td>2021-04-21</td>\n",
              "      <td>SeparatorD</td>\n",
              "      <td>Overhaul</td>\n",
              "      <td>Ben</td>\n",
              "      <td>394197.446296</td>\n",
              "      <td>14</td>\n",
              "    </tr>\n",
              "    <tr>\n",
              "      <th>99998</th>\n",
              "      <td>2020-12-18</td>\n",
              "      <td>2021-01-16</td>\n",
              "      <td>TankD</td>\n",
              "      <td>Overhaul</td>\n",
              "      <td>Ethan</td>\n",
              "      <td>47487.049580</td>\n",
              "      <td>29</td>\n",
              "    </tr>\n",
              "  </tbody>\n",
              "</table>\n",
              "<p>24920 rows × 7 columns</p>\n",
              "</div>\n",
              "      <button class=\"colab-df-convert\" onclick=\"convertToInteractive('df-a077d021-81e0-4fa5-bca0-7d26f1024ed4')\"\n",
              "              title=\"Convert this dataframe to an interactive table.\"\n",
              "              style=\"display:none;\">\n",
              "        \n",
              "  <svg xmlns=\"http://www.w3.org/2000/svg\" height=\"24px\"viewBox=\"0 0 24 24\"\n",
              "       width=\"24px\">\n",
              "    <path d=\"M0 0h24v24H0V0z\" fill=\"none\"/>\n",
              "    <path d=\"M18.56 5.44l.94 2.06.94-2.06 2.06-.94-2.06-.94-.94-2.06-.94 2.06-2.06.94zm-11 1L8.5 8.5l.94-2.06 2.06-.94-2.06-.94L8.5 2.5l-.94 2.06-2.06.94zm10 10l.94 2.06.94-2.06 2.06-.94-2.06-.94-.94-2.06-.94 2.06-2.06.94z\"/><path d=\"M17.41 7.96l-1.37-1.37c-.4-.4-.92-.59-1.43-.59-.52 0-1.04.2-1.43.59L10.3 9.45l-7.72 7.72c-.78.78-.78 2.05 0 2.83L4 21.41c.39.39.9.59 1.41.59.51 0 1.02-.2 1.41-.59l7.78-7.78 2.81-2.81c.8-.78.8-2.07 0-2.86zM5.41 20L4 18.59l7.72-7.72 1.47 1.35L5.41 20z\"/>\n",
              "  </svg>\n",
              "      </button>\n",
              "      \n",
              "  <style>\n",
              "    .colab-df-container {\n",
              "      display:flex;\n",
              "      flex-wrap:wrap;\n",
              "      gap: 12px;\n",
              "    }\n",
              "\n",
              "    .colab-df-convert {\n",
              "      background-color: #E8F0FE;\n",
              "      border: none;\n",
              "      border-radius: 50%;\n",
              "      cursor: pointer;\n",
              "      display: none;\n",
              "      fill: #1967D2;\n",
              "      height: 32px;\n",
              "      padding: 0 0 0 0;\n",
              "      width: 32px;\n",
              "    }\n",
              "\n",
              "    .colab-df-convert:hover {\n",
              "      background-color: #E2EBFA;\n",
              "      box-shadow: 0px 1px 2px rgba(60, 64, 67, 0.3), 0px 1px 3px 1px rgba(60, 64, 67, 0.15);\n",
              "      fill: #174EA6;\n",
              "    }\n",
              "\n",
              "    [theme=dark] .colab-df-convert {\n",
              "      background-color: #3B4455;\n",
              "      fill: #D2E3FC;\n",
              "    }\n",
              "\n",
              "    [theme=dark] .colab-df-convert:hover {\n",
              "      background-color: #434B5C;\n",
              "      box-shadow: 0px 1px 3px 1px rgba(0, 0, 0, 0.15);\n",
              "      filter: drop-shadow(0px 1px 2px rgba(0, 0, 0, 0.3));\n",
              "      fill: #FFFFFF;\n",
              "    }\n",
              "  </style>\n",
              "\n",
              "      <script>\n",
              "        const buttonEl =\n",
              "          document.querySelector('#df-a077d021-81e0-4fa5-bca0-7d26f1024ed4 button.colab-df-convert');\n",
              "        buttonEl.style.display =\n",
              "          google.colab.kernel.accessAllowed ? 'block' : 'none';\n",
              "\n",
              "        async function convertToInteractive(key) {\n",
              "          const element = document.querySelector('#df-a077d021-81e0-4fa5-bca0-7d26f1024ed4');\n",
              "          const dataTable =\n",
              "            await google.colab.kernel.invokeFunction('convertToInteractive',\n",
              "                                                     [key], {});\n",
              "          if (!dataTable) return;\n",
              "\n",
              "          const docLinkHtml = 'Like what you see? Visit the ' +\n",
              "            '<a target=\"_blank\" href=https://colab.research.google.com/notebooks/data_table.ipynb>data table notebook</a>'\n",
              "            + ' to learn more about interactive tables.';\n",
              "          element.innerHTML = '';\n",
              "          dataTable['output_type'] = 'display_data';\n",
              "          await google.colab.output.renderOutput(dataTable, element);\n",
              "          const docLink = document.createElement('div');\n",
              "          docLink.innerHTML = docLinkHtml;\n",
              "          element.appendChild(docLink);\n",
              "        }\n",
              "      </script>\n",
              "    </div>\n",
              "  </div>\n",
              "  "
            ]
          },
          "metadata": {},
          "execution_count": 55
        }
      ]
    },
    {
      "cell_type": "code",
      "source": [
        "df['dayofweek']=df['start'].dt.dayofweek"
      ],
      "metadata": {
        "id": "RNjh2kXHAq69"
      },
      "execution_count": 61,
      "outputs": []
    },
    {
      "cell_type": "code",
      "source": [
        "summary_df=pd.pivot_table(df,values='Cost',index=['Equipment','Tech'], columns=['dayofweek','Procedure'], aggfunc='mean')"
      ],
      "metadata": {
        "id": "8uDqZBCR-nk5"
      },
      "execution_count": 66,
      "outputs": []
    },
    {
      "cell_type": "code",
      "source": [
        "summary_df.stack([0,1])"
      ],
      "metadata": {
        "colab": {
          "base_uri": "https://localhost:8080/"
        },
        "id": "0G66wqitA0GP",
        "outputId": "a903e8df-da1b-462e-d31f-bcbb92c77020"
      },
      "execution_count": 72,
      "outputs": [
        {
          "output_type": "execute_result",
          "data": {
            "text/plain": [
              "Equipment  Tech  dayofweek  Procedure\n",
              "HeaterA    Ben   0          Flush         12748.373186\n",
              "                            Inspect        2686.938993\n",
              "                            Overhaul     119812.906161\n",
              "                 1          Flush         12268.275241\n",
              "                            Inspect        2405.718508\n",
              "                                             ...      \n",
              "TankD      Mary  5          Inspect        1450.714082\n",
              "                            Overhaul      84003.193952\n",
              "                 6          Flush          7221.265462\n",
              "                            Inspect        1443.845691\n",
              "                            Overhaul      73473.592366\n",
              "Length: 1344, dtype: float64"
            ]
          },
          "metadata": {},
          "execution_count": 72
        }
      ]
    },
    {
      "cell_type": "code",
      "source": [],
      "metadata": {
        "id": "gs5oUwvbBr3M"
      },
      "execution_count": null,
      "outputs": []
    }
  ]
}