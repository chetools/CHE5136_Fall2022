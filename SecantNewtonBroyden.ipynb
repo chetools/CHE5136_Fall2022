{
  "nbformat": 4,
  "nbformat_minor": 0,
  "metadata": {
    "colab": {
      "provenance": [],
      "authorship_tag": "ABX9TyOvSCLd5gYF5ao+2bqqXkzu",
      "include_colab_link": true
    },
    "kernelspec": {
      "name": "python3",
      "display_name": "Python 3"
    },
    "language_info": {
      "name": "python"
    }
  },
  "cells": [
    {
      "cell_type": "markdown",
      "metadata": {
        "id": "view-in-github",
        "colab_type": "text"
      },
      "source": [
        "<a href=\"https://colab.research.google.com/github/profteachkids/CHE5136_Fall2022/blob/main/SecantNewtonBroyden.ipynb\" target=\"_parent\"><img src=\"https://colab.research.google.com/assets/colab-badge.svg\" alt=\"Open In Colab\"/></a>"
      ]
    },
    {
      "cell_type": "code",
      "execution_count": null,
      "metadata": {
        "id": "UuF7zaVQswRY"
      },
      "outputs": [],
      "source": [
        "import numpy as np\n",
        "import jax.numpy as jnp\n",
        "import jax\n",
        "from jax.config import config\n",
        "from scipy.optimize import minimize\n",
        "config.update(\"jax_enable_x64\", True)\n",
        "from plotly.subplots import make_subplots"
      ]
    },
    {
      "cell_type": "code",
      "source": [
        "def f(x):\n",
        "    return 0.5*(x-0.8)*(x-0.3)*(x+0.5)"
      ],
      "metadata": {
        "id": "IcVuTrsnvF34"
      },
      "execution_count": null,
      "outputs": []
    },
    {
      "cell_type": "code",
      "source": [
        "xplot = np.linspace(-0.7,1.,100)\n",
        "fig=make_subplots()\n",
        "fig.add_scatter(x=xplot, y=f(xplot), mode='lines')\n",
        "fig.update_layout(width=600,height=600,template='plotly_dark')"
      ],
      "metadata": {
        "colab": {
          "base_uri": "https://localhost:8080/",
          "height": 617
        },
        "id": "k3jBshwQvQhS",
        "outputId": "ba0dca1a-962e-460e-9ab4-219d5f1a0c01"
      },
      "execution_count": null,
      "outputs": [
        {
          "output_type": "display_data",
          "data": {
            "text/html": [
              "<html>\n",
              "<head><meta charset=\"utf-8\" /></head>\n",
              "<body>\n",
              "    <div>            <script src=\"https://cdnjs.cloudflare.com/ajax/libs/mathjax/2.7.5/MathJax.js?config=TeX-AMS-MML_SVG\"></script><script type=\"text/javascript\">if (window.MathJax) {MathJax.Hub.Config({SVG: {font: \"STIX-Web\"}});}</script>                <script type=\"text/javascript\">window.PlotlyConfig = {MathJaxConfig: 'local'};</script>\n",
              "        <script src=\"https://cdn.plot.ly/plotly-2.8.3.min.js\"></script>                <div id=\"a6c02540-9c53-41a9-848c-7dc44f1ded6d\" class=\"plotly-graph-div\" style=\"height:600px; width:600px;\"></div>            <script type=\"text/javascript\">                                    window.PLOTLYENV=window.PLOTLYENV || {};                                    if (document.getElementById(\"a6c02540-9c53-41a9-848c-7dc44f1ded6d\")) {                    Plotly.newPlot(                        \"a6c02540-9c53-41a9-848c-7dc44f1ded6d\",                        [{\"mode\":\"lines\",\"x\":[-0.7,-0.6828282828282828,-0.6656565656565656,-0.6484848484848484,-0.6313131313131313,-0.6141414141414141,-0.5969696969696969,-0.5797979797979798,-0.5626262626262626,-0.5454545454545454,-0.5282828282828282,-0.5111111111111111,-0.4939393939393939,-0.47676767676767673,-0.45959595959595956,-0.4424242424242424,-0.4252525252525252,-0.40808080808080804,-0.3909090909090909,-0.3737373737373737,-0.35656565656565653,-0.33939393939393936,-0.3222222222222222,-0.305050505050505,-0.28787878787878785,-0.2707070707070707,-0.2535353535353535,-0.23636363636363633,-0.21919191919191916,-0.202020202020202,-0.18484848484848482,-0.16767676767676765,-0.15050505050505047,-0.1333333333333333,-0.11616161616161613,-0.09898989898989896,-0.08181818181818179,-0.06464646464646462,-0.04747474747474745,-0.030303030303030276,-0.013131313131313105,0.004040404040404066,0.021212121212121238,0.03838383838383841,0.05555555555555558,0.07272727272727275,0.08989898989898992,0.1070707070707071,0.12424242424242427,0.14141414141414144,0.1585858585858586,0.17575757575757578,0.19292929292929295,0.21010101010101012,0.2272727272727273,0.24444444444444446,0.26161616161616164,0.2787878787878788,0.295959595959596,0.31313131313131315,0.3303030303030303,0.3474747474747475,0.36464646464646466,0.38181818181818183,0.398989898989899,0.4161616161616162,0.43333333333333335,0.4505050505050505,0.4676767676767677,0.48484848484848486,0.502020202020202,0.5191919191919192,0.5363636363636364,0.5535353535353535,0.5707070707070707,0.5878787878787879,0.6050505050505051,0.6222222222222222,0.6393939393939394,0.6565656565656566,0.6737373737373737,0.6909090909090909,0.7080808080808081,0.7252525252525253,0.7424242424242424,0.7595959595959596,0.7767676767676768,0.793939393939394,0.8111111111111111,0.8282828282828283,0.8454545454545455,0.8626262626262626,0.8797979797979798,0.896969696969697,0.9141414141414141,0.9313131313131313,0.9484848484848485,0.9656565656565657,0.9828282828282828,1.0],\"y\":[-0.14999999999999997,-0.13322382275978845,-0.1172285986072334,-0.10199913737930263,-0.08752024891296392,-0.07377674304518501,-0.06075342961293372,-0.048435118453177814,-0.03680661940288507,-0.025852742299023266,-0.015558296978560194,-0.005908093278463628,0.0031130589642986537,0.011520349912758871,0.019328969729949238,0.026554108578901985,0.03321095662264932,0.039314704024223476,0.044880540946656666,0.04992365755298111,0.05445924400622903,0.05850249046943263,0.062068587105624164,0.06517272407783582,0.06783009154909983,0.07005587968244842,0.0718652786409138,0.0732734785875282,0.07429566968532382,0.0749470420973329,0.07524278598658764,0.0751980915161203,0.07482814884896305,0.07414814814814816,0.0731732795767078,0.07191873329767422,0.07039969947407963,0.06863136826895626,0.06662892984533633,0.06440757436625205,0.061982491994735635,0.05936887289381933,0.056581907226535326,0.053636785155915856,0.050548696844993135,0.047332832456799395,0.04400438215436685,0.04057853610072771,0.037070484458914206,0.033495417391958555,0.02986852506289298,0.026204997634749698,0.022520025270560927,0.018828798133358887,0.015146506386175804,0.011488340192043891,0.007869489713995372,0.004305145115062465,0.0008104965582773911,-0.0025992657933276296,-0.005908951776720378,-0.009103371228868633,-0.012167333986740176,-0.015085649887302786,-0.017843128767524242,-0.020424580464372327,-0.022814814814814822,-0.0249986416558195,-0.02696087082435415,-0.028686312157386543,-0.030159775491884467,-0.0313660706648157,-0.03229000751314802,-0.0329163958738492,-0.033230045583887036,-0.033215766480229295,-0.03285836839984377,-0.032142661179698225,-0.031053454656760453,-0.029575558667998224,-0.027693783050379325,-0.025392937640871534,-0.022657832276442635,-0.0194732767940604,-0.015824081030692612,-0.011695054823307053,-0.007071008008871504,-0.0019367504243537428,0.0037229080932784505,0.009923157707057295,0.01667918858001501,0.024006190875183818,0.03191935475559594,0.04043387038428359,0.04956492792427898,0.059327717538614363,0.06973742939032193,0.0808092536424339,0.09255838045798251,0.10499999999999997],\"type\":\"scatter\"}],                        {\"template\":{\"data\":{\"barpolar\":[{\"marker\":{\"line\":{\"color\":\"rgb(17,17,17)\",\"width\":0.5},\"pattern\":{\"fillmode\":\"overlay\",\"size\":10,\"solidity\":0.2}},\"type\":\"barpolar\"}],\"bar\":[{\"error_x\":{\"color\":\"#f2f5fa\"},\"error_y\":{\"color\":\"#f2f5fa\"},\"marker\":{\"line\":{\"color\":\"rgb(17,17,17)\",\"width\":0.5},\"pattern\":{\"fillmode\":\"overlay\",\"size\":10,\"solidity\":0.2}},\"type\":\"bar\"}],\"carpet\":[{\"aaxis\":{\"endlinecolor\":\"#A2B1C6\",\"gridcolor\":\"#506784\",\"linecolor\":\"#506784\",\"minorgridcolor\":\"#506784\",\"startlinecolor\":\"#A2B1C6\"},\"baxis\":{\"endlinecolor\":\"#A2B1C6\",\"gridcolor\":\"#506784\",\"linecolor\":\"#506784\",\"minorgridcolor\":\"#506784\",\"startlinecolor\":\"#A2B1C6\"},\"type\":\"carpet\"}],\"choropleth\":[{\"colorbar\":{\"outlinewidth\":0,\"ticks\":\"\"},\"type\":\"choropleth\"}],\"contourcarpet\":[{\"colorbar\":{\"outlinewidth\":0,\"ticks\":\"\"},\"type\":\"contourcarpet\"}],\"contour\":[{\"colorbar\":{\"outlinewidth\":0,\"ticks\":\"\"},\"colorscale\":[[0.0,\"#0d0887\"],[0.1111111111111111,\"#46039f\"],[0.2222222222222222,\"#7201a8\"],[0.3333333333333333,\"#9c179e\"],[0.4444444444444444,\"#bd3786\"],[0.5555555555555556,\"#d8576b\"],[0.6666666666666666,\"#ed7953\"],[0.7777777777777778,\"#fb9f3a\"],[0.8888888888888888,\"#fdca26\"],[1.0,\"#f0f921\"]],\"type\":\"contour\"}],\"heatmapgl\":[{\"colorbar\":{\"outlinewidth\":0,\"ticks\":\"\"},\"colorscale\":[[0.0,\"#0d0887\"],[0.1111111111111111,\"#46039f\"],[0.2222222222222222,\"#7201a8\"],[0.3333333333333333,\"#9c179e\"],[0.4444444444444444,\"#bd3786\"],[0.5555555555555556,\"#d8576b\"],[0.6666666666666666,\"#ed7953\"],[0.7777777777777778,\"#fb9f3a\"],[0.8888888888888888,\"#fdca26\"],[1.0,\"#f0f921\"]],\"type\":\"heatmapgl\"}],\"heatmap\":[{\"colorbar\":{\"outlinewidth\":0,\"ticks\":\"\"},\"colorscale\":[[0.0,\"#0d0887\"],[0.1111111111111111,\"#46039f\"],[0.2222222222222222,\"#7201a8\"],[0.3333333333333333,\"#9c179e\"],[0.4444444444444444,\"#bd3786\"],[0.5555555555555556,\"#d8576b\"],[0.6666666666666666,\"#ed7953\"],[0.7777777777777778,\"#fb9f3a\"],[0.8888888888888888,\"#fdca26\"],[1.0,\"#f0f921\"]],\"type\":\"heatmap\"}],\"histogram2dcontour\":[{\"colorbar\":{\"outlinewidth\":0,\"ticks\":\"\"},\"colorscale\":[[0.0,\"#0d0887\"],[0.1111111111111111,\"#46039f\"],[0.2222222222222222,\"#7201a8\"],[0.3333333333333333,\"#9c179e\"],[0.4444444444444444,\"#bd3786\"],[0.5555555555555556,\"#d8576b\"],[0.6666666666666666,\"#ed7953\"],[0.7777777777777778,\"#fb9f3a\"],[0.8888888888888888,\"#fdca26\"],[1.0,\"#f0f921\"]],\"type\":\"histogram2dcontour\"}],\"histogram2d\":[{\"colorbar\":{\"outlinewidth\":0,\"ticks\":\"\"},\"colorscale\":[[0.0,\"#0d0887\"],[0.1111111111111111,\"#46039f\"],[0.2222222222222222,\"#7201a8\"],[0.3333333333333333,\"#9c179e\"],[0.4444444444444444,\"#bd3786\"],[0.5555555555555556,\"#d8576b\"],[0.6666666666666666,\"#ed7953\"],[0.7777777777777778,\"#fb9f3a\"],[0.8888888888888888,\"#fdca26\"],[1.0,\"#f0f921\"]],\"type\":\"histogram2d\"}],\"histogram\":[{\"marker\":{\"pattern\":{\"fillmode\":\"overlay\",\"size\":10,\"solidity\":0.2}},\"type\":\"histogram\"}],\"mesh3d\":[{\"colorbar\":{\"outlinewidth\":0,\"ticks\":\"\"},\"type\":\"mesh3d\"}],\"parcoords\":[{\"line\":{\"colorbar\":{\"outlinewidth\":0,\"ticks\":\"\"}},\"type\":\"parcoords\"}],\"pie\":[{\"automargin\":true,\"type\":\"pie\"}],\"scatter3d\":[{\"line\":{\"colorbar\":{\"outlinewidth\":0,\"ticks\":\"\"}},\"marker\":{\"colorbar\":{\"outlinewidth\":0,\"ticks\":\"\"}},\"type\":\"scatter3d\"}],\"scattercarpet\":[{\"marker\":{\"colorbar\":{\"outlinewidth\":0,\"ticks\":\"\"}},\"type\":\"scattercarpet\"}],\"scattergeo\":[{\"marker\":{\"colorbar\":{\"outlinewidth\":0,\"ticks\":\"\"}},\"type\":\"scattergeo\"}],\"scattergl\":[{\"marker\":{\"line\":{\"color\":\"#283442\"}},\"type\":\"scattergl\"}],\"scattermapbox\":[{\"marker\":{\"colorbar\":{\"outlinewidth\":0,\"ticks\":\"\"}},\"type\":\"scattermapbox\"}],\"scatterpolargl\":[{\"marker\":{\"colorbar\":{\"outlinewidth\":0,\"ticks\":\"\"}},\"type\":\"scatterpolargl\"}],\"scatterpolar\":[{\"marker\":{\"colorbar\":{\"outlinewidth\":0,\"ticks\":\"\"}},\"type\":\"scatterpolar\"}],\"scatter\":[{\"marker\":{\"line\":{\"color\":\"#283442\"}},\"type\":\"scatter\"}],\"scatterternary\":[{\"marker\":{\"colorbar\":{\"outlinewidth\":0,\"ticks\":\"\"}},\"type\":\"scatterternary\"}],\"surface\":[{\"colorbar\":{\"outlinewidth\":0,\"ticks\":\"\"},\"colorscale\":[[0.0,\"#0d0887\"],[0.1111111111111111,\"#46039f\"],[0.2222222222222222,\"#7201a8\"],[0.3333333333333333,\"#9c179e\"],[0.4444444444444444,\"#bd3786\"],[0.5555555555555556,\"#d8576b\"],[0.6666666666666666,\"#ed7953\"],[0.7777777777777778,\"#fb9f3a\"],[0.8888888888888888,\"#fdca26\"],[1.0,\"#f0f921\"]],\"type\":\"surface\"}],\"table\":[{\"cells\":{\"fill\":{\"color\":\"#506784\"},\"line\":{\"color\":\"rgb(17,17,17)\"}},\"header\":{\"fill\":{\"color\":\"#2a3f5f\"},\"line\":{\"color\":\"rgb(17,17,17)\"}},\"type\":\"table\"}]},\"layout\":{\"annotationdefaults\":{\"arrowcolor\":\"#f2f5fa\",\"arrowhead\":0,\"arrowwidth\":1},\"autotypenumbers\":\"strict\",\"coloraxis\":{\"colorbar\":{\"outlinewidth\":0,\"ticks\":\"\"}},\"colorscale\":{\"diverging\":[[0,\"#8e0152\"],[0.1,\"#c51b7d\"],[0.2,\"#de77ae\"],[0.3,\"#f1b6da\"],[0.4,\"#fde0ef\"],[0.5,\"#f7f7f7\"],[0.6,\"#e6f5d0\"],[0.7,\"#b8e186\"],[0.8,\"#7fbc41\"],[0.9,\"#4d9221\"],[1,\"#276419\"]],\"sequential\":[[0.0,\"#0d0887\"],[0.1111111111111111,\"#46039f\"],[0.2222222222222222,\"#7201a8\"],[0.3333333333333333,\"#9c179e\"],[0.4444444444444444,\"#bd3786\"],[0.5555555555555556,\"#d8576b\"],[0.6666666666666666,\"#ed7953\"],[0.7777777777777778,\"#fb9f3a\"],[0.8888888888888888,\"#fdca26\"],[1.0,\"#f0f921\"]],\"sequentialminus\":[[0.0,\"#0d0887\"],[0.1111111111111111,\"#46039f\"],[0.2222222222222222,\"#7201a8\"],[0.3333333333333333,\"#9c179e\"],[0.4444444444444444,\"#bd3786\"],[0.5555555555555556,\"#d8576b\"],[0.6666666666666666,\"#ed7953\"],[0.7777777777777778,\"#fb9f3a\"],[0.8888888888888888,\"#fdca26\"],[1.0,\"#f0f921\"]]},\"colorway\":[\"#636efa\",\"#EF553B\",\"#00cc96\",\"#ab63fa\",\"#FFA15A\",\"#19d3f3\",\"#FF6692\",\"#B6E880\",\"#FF97FF\",\"#FECB52\"],\"font\":{\"color\":\"#f2f5fa\"},\"geo\":{\"bgcolor\":\"rgb(17,17,17)\",\"lakecolor\":\"rgb(17,17,17)\",\"landcolor\":\"rgb(17,17,17)\",\"showlakes\":true,\"showland\":true,\"subunitcolor\":\"#506784\"},\"hoverlabel\":{\"align\":\"left\"},\"hovermode\":\"closest\",\"mapbox\":{\"style\":\"dark\"},\"paper_bgcolor\":\"rgb(17,17,17)\",\"plot_bgcolor\":\"rgb(17,17,17)\",\"polar\":{\"angularaxis\":{\"gridcolor\":\"#506784\",\"linecolor\":\"#506784\",\"ticks\":\"\"},\"bgcolor\":\"rgb(17,17,17)\",\"radialaxis\":{\"gridcolor\":\"#506784\",\"linecolor\":\"#506784\",\"ticks\":\"\"}},\"scene\":{\"xaxis\":{\"backgroundcolor\":\"rgb(17,17,17)\",\"gridcolor\":\"#506784\",\"gridwidth\":2,\"linecolor\":\"#506784\",\"showbackground\":true,\"ticks\":\"\",\"zerolinecolor\":\"#C8D4E3\"},\"yaxis\":{\"backgroundcolor\":\"rgb(17,17,17)\",\"gridcolor\":\"#506784\",\"gridwidth\":2,\"linecolor\":\"#506784\",\"showbackground\":true,\"ticks\":\"\",\"zerolinecolor\":\"#C8D4E3\"},\"zaxis\":{\"backgroundcolor\":\"rgb(17,17,17)\",\"gridcolor\":\"#506784\",\"gridwidth\":2,\"linecolor\":\"#506784\",\"showbackground\":true,\"ticks\":\"\",\"zerolinecolor\":\"#C8D4E3\"}},\"shapedefaults\":{\"line\":{\"color\":\"#f2f5fa\"}},\"sliderdefaults\":{\"bgcolor\":\"#C8D4E3\",\"bordercolor\":\"rgb(17,17,17)\",\"borderwidth\":1,\"tickwidth\":0},\"ternary\":{\"aaxis\":{\"gridcolor\":\"#506784\",\"linecolor\":\"#506784\",\"ticks\":\"\"},\"baxis\":{\"gridcolor\":\"#506784\",\"linecolor\":\"#506784\",\"ticks\":\"\"},\"bgcolor\":\"rgb(17,17,17)\",\"caxis\":{\"gridcolor\":\"#506784\",\"linecolor\":\"#506784\",\"ticks\":\"\"}},\"title\":{\"x\":0.05},\"updatemenudefaults\":{\"bgcolor\":\"#506784\",\"borderwidth\":0},\"xaxis\":{\"automargin\":true,\"gridcolor\":\"#283442\",\"linecolor\":\"#506784\",\"ticks\":\"\",\"title\":{\"standoff\":15},\"zerolinecolor\":\"#283442\",\"zerolinewidth\":2},\"yaxis\":{\"automargin\":true,\"gridcolor\":\"#283442\",\"linecolor\":\"#506784\",\"ticks\":\"\",\"title\":{\"standoff\":15},\"zerolinecolor\":\"#283442\",\"zerolinewidth\":2}}},\"xaxis\":{\"anchor\":\"y\",\"domain\":[0.0,1.0]},\"yaxis\":{\"anchor\":\"x\",\"domain\":[0.0,1.0]},\"width\":600,\"height\":600},                        {\"responsive\": true}                    ).then(function(){\n",
              "                            \n",
              "var gd = document.getElementById('a6c02540-9c53-41a9-848c-7dc44f1ded6d');\n",
              "var x = new MutationObserver(function (mutations, observer) {{\n",
              "        var display = window.getComputedStyle(gd).display;\n",
              "        if (!display || display === 'none') {{\n",
              "            console.log([gd, 'removed!']);\n",
              "            Plotly.purge(gd);\n",
              "            observer.disconnect();\n",
              "        }}\n",
              "}});\n",
              "\n",
              "// Listen for the removal of the full notebook cells\n",
              "var notebookContainer = gd.closest('#notebook-container');\n",
              "if (notebookContainer) {{\n",
              "    x.observe(notebookContainer, {childList: true});\n",
              "}}\n",
              "\n",
              "// Listen for the clearing of the current output cell\n",
              "var outputEl = gd.closest('.output');\n",
              "if (outputEl) {{\n",
              "    x.observe(outputEl, {childList: true});\n",
              "}}\n",
              "\n",
              "                        })                };                            </script>        </div>\n",
              "</body>\n",
              "</html>"
            ]
          },
          "metadata": {}
        }
      ]
    },
    {
      "cell_type": "code",
      "source": [
        "def secant(f, x0, x1, maxiter=50, tol=1e-12):\n",
        "    f0=f(x0)\n",
        "    f1=f(x1)\n",
        "    xylist=[[x0,f0], [x1,f1]]\n",
        "    for i in range(maxiter):\n",
        "        x2 = (x1-x0)/(f0-f1)*f1 +x1\n",
        "        f2 = f(x2)\n",
        "        xylist.append([x2,f2])\n",
        "        if abs(f2)<tol:\n",
        "            break\n",
        "        x0, f0 = x1, f1\n",
        "        x1, f1 = x2, f2\n",
        "    return x2, f2, np.array(xylist)"
      ],
      "metadata": {
        "id": "w_vAFhPUvfqR"
      },
      "execution_count": null,
      "outputs": []
    },
    {
      "cell_type": "code",
      "source": [
        "secant(f, 0., 0.5)"
      ],
      "metadata": {
        "colab": {
          "base_uri": "https://localhost:8080/"
        },
        "id": "F99SupKWv30r",
        "outputId": "6a386a54-5e80-4327-a6f3-99c00122ceb1"
      },
      "execution_count": null,
      "outputs": [
        {
          "output_type": "execute_result",
          "data": {
            "text/plain": [
              "(0.3000000000000018,\n",
              " -3.6637359812630124e-16,\n",
              " array([[ 0.00000000e+00,  6.00000000e-02],\n",
              "        [ 5.00000000e-01, -3.00000000e-02],\n",
              "        [ 3.33333333e-01, -6.48148148e-03],\n",
              "        [ 2.87401575e-01,  2.54249327e-03],\n",
              "        [ 3.00342789e-01, -6.85400857e-05],\n",
              "        [ 3.00003080e-01, -6.15901299e-07],\n",
              "        [ 2.99999999e-01,  1.58567082e-10],\n",
              "        [ 3.00000000e-01, -3.66373598e-16]]))"
            ]
          },
          "metadata": {},
          "execution_count": 5
        }
      ]
    },
    {
      "cell_type": "code",
      "source": [
        "def newton(f, x0, maxiter=50, tol=1e-12):\n",
        "    fprime = jax.grad(f)\n",
        "    f0=f(x0)\n",
        "    xylist = [[x0,f0]]\n",
        "    for i in range(maxiter):\n",
        "        x1 = x0 - f0/fprime(x0)\n",
        "        f1 = f(x1)\n",
        "        xylist.append([x1,f1])\n",
        "        if abs(f1)<tol:\n",
        "            break\n",
        "        x0,f0 =x1,f1\n",
        "    return x1, f1, jnp.array(xylist)"
      ],
      "metadata": {
        "id": "qzJej625w9Hy"
      },
      "execution_count": null,
      "outputs": []
    },
    {
      "cell_type": "code",
      "source": [
        "newton(f,0.)"
      ],
      "metadata": {
        "colab": {
          "base_uri": "https://localhost:8080/"
        },
        "id": "6R298KCEzJ_E",
        "outputId": "82063cca-b19d-4811-e894-763749c48e7b"
      },
      "execution_count": null,
      "outputs": [
        {
          "output_type": "stream",
          "name": "stderr",
          "text": [
            "WARNING:absl:No GPU/TPU found, falling back to CPU. (Set TF_CPP_MIN_LOG_LEVEL=0 and rerun for more info.)\n"
          ]
        },
        {
          "output_type": "execute_result",
          "data": {
            "text/plain": [
              "(DeviceArray(0.3, dtype=float64, weak_type=True),\n",
              " DeviceArray(-0., dtype=float64, weak_type=True),\n",
              " DeviceArray([[ 0.00000000e+00,  6.00000000e-02],\n",
              "              [ 3.87096774e-01, -1.59511262e-02],\n",
              "              [ 2.88931283e-01,  2.23144280e-03],\n",
              "              [ 2.99916207e-01,  1.67595823e-05],\n",
              "              [ 2.99999995e-01,  1.05246061e-09],\n",
              "              [ 3.00000000e-01, -0.00000000e+00]], dtype=float64))"
            ]
          },
          "metadata": {},
          "execution_count": 7
        }
      ]
    },
    {
      "cell_type": "code",
      "source": [
        "def fun(x):\n",
        "    return jnp.array([x[0]  + 0.5 * (x[0] - x[1])**3 - 1.0,\n",
        "            0.5 * (x[1] - x[0])**3 + x[1]])"
      ],
      "metadata": {
        "id": "xbP24XeizM4e"
      },
      "execution_count": null,
      "outputs": []
    },
    {
      "cell_type": "code",
      "source": [
        "def newtonN(f,x0,maxiter=50, tol=1e-12):\n",
        "    f_jac=jax.jacobian(f)\n",
        "    f0 = f(x0)\n",
        "    for i in range(maxiter):\n",
        "        x1 = x0 - jnp.linalg.inv(f_jac(x0)) @ f0\n",
        "        f1 = f(x1)\n",
        "        if jnp.linalg.norm(f1)<tol:\n",
        "            break\n",
        "        x0, f0 = x1, f1\n",
        "    return x1, f1\n",
        "\n"
      ],
      "metadata": {
        "id": "1DX7Pm3a2ixi"
      },
      "execution_count": null,
      "outputs": []
    },
    {
      "cell_type": "code",
      "source": [
        "newtonN(fun, jnp.array([0.,0.]))"
      ],
      "metadata": {
        "colab": {
          "base_uri": "https://localhost:8080/"
        },
        "id": "bAZzgXC-26Q0",
        "outputId": "94f4b0bd-0cc4-4667-fb13-81f12e1c6d57"
      },
      "execution_count": null,
      "outputs": [
        {
          "output_type": "execute_result",
          "data": {
            "text/plain": [
              "(DeviceArray([0.8411639, 0.1588361], dtype=float64),\n",
              " DeviceArray([ 0.00000000e+00, -5.55111512e-17], dtype=float64))"
            ]
          },
          "metadata": {},
          "execution_count": 22
        }
      ]
    },
    {
      "cell_type": "code",
      "source": [
        "\n",
        "def broyden(f, x0, jac, maxiter=5, tol=1e-10):\n",
        "    Jinv=np.linalg.inv(jac(x0))\n",
        "    f0 = f(x0)\n",
        "    for i in range(maxiter):\n",
        "        dx = - Jinv @ f0\n",
        "        x1 = x0 + dx\n",
        "        f1 = f(x1)\n",
        "        alpha = 1.\n",
        "        jac_calc=False\n",
        "        while (np.linalg.norm(f1) > np.linalg.norm(f0)):\n",
        "            alpha = alpha * 0.75\n",
        "            if alpha < 1e-7:\n",
        "                jac_calc=True\n",
        "                Jinv=np.linalg.inv(jac(x0))\n",
        "                dx = - Jinv @ f0\n",
        "            x1 = x0 + alpha*dx\n",
        "            f1 = f(x1)\n",
        "        \n",
        "        print(jac_calc)\n",
        "        if np.linalg.norm(f1)<tol:\n",
        "            break\n",
        "        dx, df = x1 - x0, f1-f0\n",
        "        den = (dx.T @ Jinv @ df)\n",
        "        # print(den, np.linalg.norm(f1))\n",
        "        Jinv = Jinv + ((dx - Jinv@df) @ (dx.T @ Jinv)) / den\n",
        "        x0, f0 = x1, f1\n",
        "    return x1, f1"
      ],
      "metadata": {
        "id": "yxmxucuP3Y8X"
      },
      "execution_count": null,
      "outputs": []
    },
    {
      "cell_type": "code",
      "source": [
        "x0 = jnp.array([0.,0.])"
      ],
      "metadata": {
        "id": "RQFAPaENSXb2"
      },
      "execution_count": null,
      "outputs": []
    },
    {
      "cell_type": "code",
      "source": [
        "broyden(fun, x0, jax.jacobian(fun), maxiter=50)"
      ],
      "metadata": {
        "id": "RG93jfuZNw_C",
        "outputId": "1074318a-09e7-499f-d72e-1424d86896df",
        "colab": {
          "base_uri": "https://localhost:8080/"
        }
      },
      "execution_count": null,
      "outputs": [
        {
          "output_type": "stream",
          "name": "stdout",
          "text": [
            "False\n",
            "False\n",
            "False\n",
            "False\n",
            "False\n",
            "False\n",
            "False\n",
            "False\n",
            "False\n",
            "False\n",
            "False\n",
            "False\n",
            "False\n",
            "False\n",
            "False\n",
            "False\n",
            "False\n",
            "False\n",
            "False\n",
            "False\n",
            "False\n",
            "False\n",
            "True\n",
            "False\n",
            "False\n",
            "False\n",
            "False\n"
          ]
        },
        {
          "output_type": "execute_result",
          "data": {
            "text/plain": [
              "(DeviceArray([0.8411639, 0.1588361], dtype=float64),\n",
              " DeviceArray([-6.67466082e-13,  6.67382816e-13], dtype=float64))"
            ]
          },
          "metadata": {},
          "execution_count": 44
        }
      ]
    },
    {
      "cell_type": "markdown",
      "source": [
        "##Demonstrate Broyden method yields minimum Frobenius norm subject to secant equation"
      ],
      "metadata": {
        "id": "tN5s_ozog9KA"
      }
    },
    {
      "cell_type": "code",
      "source": [
        "N=5\n",
        "rng=np.random.RandomState(123)\n",
        "Jold=rng.uniform(size=(N,N))\n",
        "dx = rng.uniform(size=(N,1))\n",
        "df = rng.uniform(size=(N,1))"
      ],
      "metadata": {
        "id": "XJED2XEvhm5q"
      },
      "execution_count": null,
      "outputs": []
    },
    {
      "cell_type": "code",
      "source": [
        "Jold"
      ],
      "metadata": {
        "id": "n6LLMPMChyZ6",
        "outputId": "fcbb79c1-53c4-46fa-abf8-b62e090eaa75",
        "colab": {
          "base_uri": "https://localhost:8080/"
        }
      },
      "execution_count": null,
      "outputs": [
        {
          "output_type": "execute_result",
          "data": {
            "text/plain": [
              "array([[0.69646919, 0.28613933, 0.22685145, 0.55131477, 0.71946897],\n",
              "       [0.42310646, 0.9807642 , 0.68482974, 0.4809319 , 0.39211752],\n",
              "       [0.34317802, 0.72904971, 0.43857224, 0.0596779 , 0.39804426],\n",
              "       [0.73799541, 0.18249173, 0.17545176, 0.53155137, 0.53182759],\n",
              "       [0.63440096, 0.84943179, 0.72445532, 0.61102351, 0.72244338]])"
            ]
          },
          "metadata": {},
          "execution_count": 64
        }
      ]
    },
    {
      "cell_type": "code",
      "source": [
        "def frobenius(x):\n",
        "    Jnew=x.reshape((N,N))\n",
        "    return np.sum((Jnew - Jold)**2)"
      ],
      "metadata": {
        "id": "aFJXyJluSK6A"
      },
      "execution_count": null,
      "outputs": []
    },
    {
      "cell_type": "code",
      "source": [
        "def secant_constraint(x):\n",
        "    Jnew=x.reshape((N,N))\n",
        "    return 1e-6 - np.linalg.norm(Jnew @ dx - df)"
      ],
      "metadata": {
        "id": "QaVuGVZgiaVs"
      },
      "execution_count": null,
      "outputs": []
    },
    {
      "cell_type": "code",
      "source": [
        "res=minimize(frobenius, Jold.flatten(), method='SLSQP', constraints=[{'type':'ineq', 'fun':secant_constraint}])\n",
        "res"
      ],
      "metadata": {
        "id": "cBg6t0GEhWEO",
        "outputId": "46920745-fc73-43a1-96db-e18bdfc07ece",
        "colab": {
          "base_uri": "https://localhost:8080/"
        }
      },
      "execution_count": null,
      "outputs": [
        {
          "output_type": "execute_result",
          "data": {
            "text/plain": [
              "     fun: 2.82801690489399\n",
              "     jac: array([-0.756679  , -0.84765553, -0.53481111, -0.68815953, -1.47835046,\n",
              "       -0.50452325, -0.56518278, -0.35659063, -0.45883724, -0.98570487,\n",
              "       -0.2615872 , -0.29303825, -0.18488663, -0.23789984, -0.51107234,\n",
              "       -0.28661236, -0.32107216, -0.2025739 , -0.2606588 , -0.55996454,\n",
              "       -0.74246693, -0.83173466, -0.52476618, -0.67523441, -1.45058411])\n",
              " message: 'Optimization terminated successfully'\n",
              "    nfev: 88\n",
              "     nit: 3\n",
              "    njev: 3\n",
              "  status: 0\n",
              " success: True\n",
              "       x: array([ 0.31812983, -0.13768827, -0.04055399,  0.20723514, -0.01970598,\n",
              "        0.17084479,  0.69817276,  0.50653438,  0.25151324, -0.10073501,\n",
              "        0.21238437,  0.58253053,  0.34612889, -0.05927206,  0.142508  ,\n",
              "        0.59468914,  0.02195555,  0.07416474,  0.40122191,  0.25184516,\n",
              "        0.26316751,  0.43356448,  0.46207225,  0.27340632, -0.00284864])"
            ]
          },
          "metadata": {},
          "execution_count": 69
        }
      ]
    },
    {
      "cell_type": "code",
      "source": [
        "secant_constraint(res.x)"
      ],
      "metadata": {
        "id": "j6dJzuprjGgh",
        "outputId": "ecbdb8ec-9bd2-49e2-8e4e-4b1e703aa091",
        "colab": {
          "base_uri": "https://localhost:8080/"
        }
      },
      "execution_count": null,
      "outputs": [
        {
          "output_type": "execute_result",
          "data": {
            "text/plain": [
              "-1.3217346392056341e-07"
            ]
          },
          "metadata": {},
          "execution_count": 70
        }
      ]
    },
    {
      "cell_type": "code",
      "source": [
        "frobenius(res.x)"
      ],
      "metadata": {
        "id": "u61xmuwTj-pq",
        "outputId": "267fc99e-1678-46d6-f482-10d748c5e646",
        "colab": {
          "base_uri": "https://localhost:8080/"
        }
      },
      "execution_count": null,
      "outputs": [
        {
          "output_type": "execute_result",
          "data": {
            "text/plain": [
              "2.82801690489399"
            ]
          },
          "metadata": {},
          "execution_count": 71
        }
      ]
    },
    {
      "cell_type": "code",
      "source": [
        "Jold + ((df - Jold@dx) @ dx.T)/(jnp.linalg.norm(dx))**2"
      ],
      "metadata": {
        "id": "G7XIzsB1j_ep",
        "outputId": "ca66de98-96d0-4342-ac53-6c00757c6e3c",
        "colab": {
          "base_uri": "https://localhost:8080/"
        }
      },
      "execution_count": null,
      "outputs": [
        {
          "output_type": "execute_result",
          "data": {
            "text/plain": [
              "DeviceArray([[ 0.31812947, -0.13768862, -0.04055422,  0.20723482,\n",
              "              -0.01970656],\n",
              "             [ 0.17084458,  0.69817257,  0.50653427,  0.25151307,\n",
              "              -0.10073534],\n",
              "             [ 0.21238423,  0.58253042,  0.34612887, -0.05927214,\n",
              "               0.14250785],\n",
              "             [ 0.59468906,  0.02195549,  0.07416466,  0.40122183,\n",
              "               0.25184497],\n",
              "             [ 0.26316716,  0.4335641 ,  0.46207202,  0.27340601,\n",
              "              -0.00284908]], dtype=float64)"
            ]
          },
          "metadata": {},
          "execution_count": 72
        }
      ]
    },
    {
      "cell_type": "code",
      "source": [
        "(res.x).reshape(N,N)"
      ],
      "metadata": {
        "id": "pRC4QoC6lDOd",
        "outputId": "3abc4ca0-181a-4e94-8d2d-3933ba120653",
        "colab": {
          "base_uri": "https://localhost:8080/"
        }
      },
      "execution_count": null,
      "outputs": [
        {
          "output_type": "execute_result",
          "data": {
            "text/plain": [
              "array([[ 0.31812983, -0.13768827, -0.04055399,  0.20723514, -0.01970598],\n",
              "       [ 0.17084479,  0.69817276,  0.50653438,  0.25151324, -0.10073501],\n",
              "       [ 0.21238437,  0.58253053,  0.34612889, -0.05927206,  0.142508  ],\n",
              "       [ 0.59468914,  0.02195555,  0.07416474,  0.40122191,  0.25184516],\n",
              "       [ 0.26316751,  0.43356448,  0.46207225,  0.27340632, -0.00284864]])"
            ]
          },
          "metadata": {},
          "execution_count": 73
        }
      ]
    },
    {
      "cell_type": "code",
      "source": [],
      "metadata": {
        "id": "2L969CwOlH9U"
      },
      "execution_count": null,
      "outputs": []
    }
  ]
}