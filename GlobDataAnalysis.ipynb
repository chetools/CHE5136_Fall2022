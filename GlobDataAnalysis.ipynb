{
  "nbformat": 4,
  "nbformat_minor": 0,
  "metadata": {
    "colab": {
      "provenance": [],
      "authorship_tag": "ABX9TyOOEPO2REBalMRT/+jo3u2A",
      "include_colab_link": true
    },
    "kernelspec": {
      "name": "python3",
      "display_name": "Python 3"
    },
    "language_info": {
      "name": "python"
    }
  },
  "cells": [
    {
      "cell_type": "markdown",
      "metadata": {
        "id": "view-in-github",
        "colab_type": "text"
      },
      "source": [
        "<a href=\"https://colab.research.google.com/github/profteachkids/CHE5136_Fall2022/blob/main/GlobDataAnalysis.ipynb\" target=\"_parent\"><img src=\"https://colab.research.google.com/assets/colab-badge.svg\" alt=\"Open In Colab\"/></a>"
      ]
    },
    {
      "cell_type": "code",
      "execution_count": 1,
      "metadata": {
        "colab": {
          "base_uri": "https://localhost:8080/"
        },
        "id": "dNTHIy8n2bw1",
        "outputId": "168e5f65-cc5f-4c56-87bc-e57ab17a3e58"
      },
      "outputs": [
        {
          "output_type": "stream",
          "name": "stdout",
          "text": [
            "--2022-10-14 19:13:16--  https://github.com/profteachkids/CHE5136_Fall2022/raw/main/glob_data.zip\n",
            "Resolving github.com (github.com)... 140.82.112.3\n",
            "Connecting to github.com (github.com)|140.82.112.3|:443... connected.\n",
            "HTTP request sent, awaiting response... 302 Found\n",
            "Location: https://raw.githubusercontent.com/profteachkids/CHE5136_Fall2022/main/glob_data.zip [following]\n",
            "--2022-10-14 19:13:16--  https://raw.githubusercontent.com/profteachkids/CHE5136_Fall2022/main/glob_data.zip\n",
            "Resolving raw.githubusercontent.com (raw.githubusercontent.com)... 185.199.110.133, 185.199.111.133, 185.199.109.133, ...\n",
            "Connecting to raw.githubusercontent.com (raw.githubusercontent.com)|185.199.110.133|:443... connected.\n",
            "HTTP request sent, awaiting response... 200 OK\n",
            "Length: 366661 (358K) [application/zip]\n",
            "Saving to: ‘glob_data.zip’\n",
            "\n",
            "glob_data.zip       100%[===================>] 358.07K  --.-KB/s    in 0.005s  \n",
            "\n",
            "2022-10-14 19:13:16 (72.5 MB/s) - ‘glob_data.zip’ saved [366661/366661]\n",
            "\n"
          ]
        }
      ],
      "source": [
        "!wget https://github.com/profteachkids/CHE5136_Fall2022/raw/main/glob_data.zip -O glob_data.zip"
      ]
    },
    {
      "cell_type": "code",
      "source": [
        "import shutil\n",
        "from pathlib import Path\n",
        "import numpy as np\n",
        "from itertools import islice"
      ],
      "metadata": {
        "id": "cpzLhs2q4r2u"
      },
      "execution_count": 10,
      "outputs": []
    },
    {
      "cell_type": "code",
      "source": [
        "shutil.unpack_archive('/content/glob_data.zip', format='zip', extract_dir='data')"
      ],
      "metadata": {
        "id": "RQp18zgM4xzq"
      },
      "execution_count": 4,
      "outputs": []
    },
    {
      "cell_type": "code",
      "source": [
        "for file_posix in islice(Path('/content/data').glob('**/*.csv'),20):\n",
        "    filename=file_posix.as_posix()\n",
        "    _, _, _, tech, location, month, day_string= filename.split('/')\n",
        "    _, day, version_csv = day_string.split('_')\n",
        "    version, _ = version_csv.split('.')\n",
        "    day=int(day)\n",
        "    version=int(version)\n",
        "    data=np.loadtxt(file_posix, delimiter=',')\n",
        "    m, b = np.polyfit(data[:,0], data[:,1],deg=1)\n",
        "    print(tech, location, month, day, version, m, b)"
      ],
      "metadata": {
        "colab": {
          "base_uri": "https://localhost:8080/"
        },
        "id": "qUlr19wy42Q_",
        "outputId": "87ca6270-bbea-4207-a603-2f2145057959"
      },
      "execution_count": 25,
      "outputs": [
        {
          "output_type": "stream",
          "name": "stdout",
          "text": [
            "Ethan Crossley Aug 8 1 1.9855600405897864 0.10013736026541648\n",
            "Ethan Crossley Aug 13 1 1.6940386442555466 -0.2180635496206312\n",
            "Ethan Crossley Aug 4 1 1.0010648433955354 2.529699004904401\n",
            "Ethan Crossley Aug 23 1 1.362494263998182 -0.4016400182435983\n",
            "Ethan Crossley Aug 12 1 2.7915591583051658 1.7304408360609345\n",
            "Ethan Crossley Feb 9 1 2.56127566733003 0.21434769184174135\n",
            "Ethan Crossley Feb 26 1 2.4922163898243666 2.784798149998297\n",
            "Ethan Crossley Feb 13 1 0.20049095356140048 2.4569310253357615\n",
            "Ethan Crossley Feb 15 1 1.1689118603274753 2.8272478509866117\n",
            "Ethan Crossley Nov 16 1 0.29422482978421877 2.8546885724472655\n",
            "Ethan Crossley Nov 7 1 1.9291027600372315 2.012209338351821\n",
            "Ethan Crossley Nov 17 1 0.6011280907040678 -0.7441049232549836\n",
            "Ethan Crossley Nov 16 2 0.8007878288954343 2.6008432346182677\n",
            "Ethan Crossley Nov 7 2 1.576802795289606 1.8608323326321676\n",
            "Ethan Crossley Nov 23 1 0.32734471951534905 -0.6098959223625205\n",
            "Ethan Crossley Nov 23 2 0.38448300230263344 1.4979874848287626\n",
            "Ethan Crossley Nov 23 3 2.924969433544284 -0.0319275195190987\n",
            "Ethan Crossley Nov 2 1 1.7576408135807655 -0.4201431026735904\n",
            "Ethan Crossley May 20 1 2.173125178681115 -0.3151017692091109\n",
            "Ethan Crossley May 7 1 0.14176449158421445 2.0790038512793156\n"
          ]
        }
      ]
    },
    {
      "cell_type": "code",
      "source": [
        "np.polyfit?"
      ],
      "metadata": {
        "id": "Jzd4gLFy7G4a"
      },
      "execution_count": 22,
      "outputs": []
    },
    {
      "cell_type": "code",
      "source": [],
      "metadata": {
        "id": "DfPFtiia9pyh"
      },
      "execution_count": null,
      "outputs": []
    }
  ]
}