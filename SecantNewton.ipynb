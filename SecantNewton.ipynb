{
  "nbformat": 4,
  "nbformat_minor": 0,
  "metadata": {
    "colab": {
      "provenance": [],
      "authorship_tag": "ABX9TyOGpSan9Uc81CyelyKIhZ8B",
      "include_colab_link": true
    },
    "kernelspec": {
      "name": "python3",
      "display_name": "Python 3"
    },
    "language_info": {
      "name": "python"
    }
  },
  "cells": [
    {
      "cell_type": "markdown",
      "metadata": {
        "id": "view-in-github",
        "colab_type": "text"
      },
      "source": [
        "<a href=\"https://colab.research.google.com/github/profteachkids/CHE5136_Fall2022/blob/main/SecantNewton.ipynb\" target=\"_parent\"><img src=\"https://colab.research.google.com/assets/colab-badge.svg\" alt=\"Open In Colab\"/></a>"
      ]
    },
    {
      "cell_type": "code",
      "execution_count": 10,
      "metadata": {
        "id": "UuF7zaVQswRY"
      },
      "outputs": [],
      "source": [
        "import numpy as np\n",
        "import jax.numpy as jnp\n",
        "import jax\n",
        "from jax.config import config\n",
        "config.update(\"jax_enable_x64\", True)\n",
        "from plotly.subplots import make_subplots"
      ]
    },
    {
      "cell_type": "code",
      "source": [
        "def f(x):\n",
        "    return 0.5*(x-0.8)*(x-0.3)*(x+0.5)"
      ],
      "metadata": {
        "id": "IcVuTrsnvF34"
      },
      "execution_count": 2,
      "outputs": []
    },
    {
      "cell_type": "code",
      "source": [
        "xplot = np.linspace(-0.7,1.,100)\n",
        "fig=make_subplots()\n",
        "fig.add_scatter(x=xplot, y=f(xplot), mode='lines')\n",
        "fig.update_layout(width=600,height=600,template='plotly_dark')"
      ],
      "metadata": {
        "colab": {
          "base_uri": "https://localhost:8080/",
          "height": 617
        },
        "id": "k3jBshwQvQhS",
        "outputId": "d33c3b47-94d0-4015-9668-7a095b94affc"
      },
      "execution_count": 5,
      "outputs": [
        {
          "output_type": "display_data",
          "data": {
            "text/html": [
              "<html>\n",
              "<head><meta charset=\"utf-8\" /></head>\n",
              "<body>\n",
              "    <div>            <script src=\"https://cdnjs.cloudflare.com/ajax/libs/mathjax/2.7.5/MathJax.js?config=TeX-AMS-MML_SVG\"></script><script type=\"text/javascript\">if (window.MathJax) {MathJax.Hub.Config({SVG: {font: \"STIX-Web\"}});}</script>                <script type=\"text/javascript\">window.PlotlyConfig = {MathJaxConfig: 'local'};</script>\n",
              "        <script src=\"https://cdn.plot.ly/plotly-2.8.3.min.js\"></script>                <div id=\"fa08e329-434e-4666-9bd6-8bee095d1cbe\" class=\"plotly-graph-div\" style=\"height:600px; width:600px;\"></div>            <script type=\"text/javascript\">                                    window.PLOTLYENV=window.PLOTLYENV || {};                                    if (document.getElementById(\"fa08e329-434e-4666-9bd6-8bee095d1cbe\")) {                    Plotly.newPlot(                        \"fa08e329-434e-4666-9bd6-8bee095d1cbe\",                        [{\"mode\":\"lines\",\"x\":[-0.7,-0.6828282828282828,-0.6656565656565656,-0.6484848484848484,-0.6313131313131313,-0.6141414141414141,-0.5969696969696969,-0.5797979797979798,-0.5626262626262626,-0.5454545454545454,-0.5282828282828282,-0.5111111111111111,-0.4939393939393939,-0.47676767676767673,-0.45959595959595956,-0.4424242424242424,-0.4252525252525252,-0.40808080808080804,-0.3909090909090909,-0.3737373737373737,-0.35656565656565653,-0.33939393939393936,-0.3222222222222222,-0.305050505050505,-0.28787878787878785,-0.2707070707070707,-0.2535353535353535,-0.23636363636363633,-0.21919191919191916,-0.202020202020202,-0.18484848484848482,-0.16767676767676765,-0.15050505050505047,-0.1333333333333333,-0.11616161616161613,-0.09898989898989896,-0.08181818181818179,-0.06464646464646462,-0.04747474747474745,-0.030303030303030276,-0.013131313131313105,0.004040404040404066,0.021212121212121238,0.03838383838383841,0.05555555555555558,0.07272727272727275,0.08989898989898992,0.1070707070707071,0.12424242424242427,0.14141414141414144,0.1585858585858586,0.17575757575757578,0.19292929292929295,0.21010101010101012,0.2272727272727273,0.24444444444444446,0.26161616161616164,0.2787878787878788,0.295959595959596,0.31313131313131315,0.3303030303030303,0.3474747474747475,0.36464646464646466,0.38181818181818183,0.398989898989899,0.4161616161616162,0.43333333333333335,0.4505050505050505,0.4676767676767677,0.48484848484848486,0.502020202020202,0.5191919191919192,0.5363636363636364,0.5535353535353535,0.5707070707070707,0.5878787878787879,0.6050505050505051,0.6222222222222222,0.6393939393939394,0.6565656565656566,0.6737373737373737,0.6909090909090909,0.7080808080808081,0.7252525252525253,0.7424242424242424,0.7595959595959596,0.7767676767676768,0.793939393939394,0.8111111111111111,0.8282828282828283,0.8454545454545455,0.8626262626262626,0.8797979797979798,0.896969696969697,0.9141414141414141,0.9313131313131313,0.9484848484848485,0.9656565656565657,0.9828282828282828,1.0],\"y\":[-0.14999999999999997,-0.13322382275978845,-0.1172285986072334,-0.10199913737930263,-0.08752024891296392,-0.07377674304518501,-0.06075342961293372,-0.048435118453177814,-0.03680661940288507,-0.025852742299023266,-0.015558296978560194,-0.005908093278463628,0.0031130589642986537,0.011520349912758871,0.019328969729949238,0.026554108578901985,0.03321095662264932,0.039314704024223476,0.044880540946656666,0.04992365755298111,0.05445924400622903,0.05850249046943263,0.062068587105624164,0.06517272407783582,0.06783009154909983,0.07005587968244842,0.0718652786409138,0.0732734785875282,0.07429566968532382,0.0749470420973329,0.07524278598658764,0.0751980915161203,0.07482814884896305,0.07414814814814816,0.0731732795767078,0.07191873329767422,0.07039969947407963,0.06863136826895626,0.06662892984533633,0.06440757436625205,0.061982491994735635,0.05936887289381933,0.056581907226535326,0.053636785155915856,0.050548696844993135,0.047332832456799395,0.04400438215436685,0.04057853610072771,0.037070484458914206,0.033495417391958555,0.02986852506289298,0.026204997634749698,0.022520025270560927,0.018828798133358887,0.015146506386175804,0.011488340192043891,0.007869489713995372,0.004305145115062465,0.0008104965582773911,-0.0025992657933276296,-0.005908951776720378,-0.009103371228868633,-0.012167333986740176,-0.015085649887302786,-0.017843128767524242,-0.020424580464372327,-0.022814814814814822,-0.0249986416558195,-0.02696087082435415,-0.028686312157386543,-0.030159775491884467,-0.0313660706648157,-0.03229000751314802,-0.0329163958738492,-0.033230045583887036,-0.033215766480229295,-0.03285836839984377,-0.032142661179698225,-0.031053454656760453,-0.029575558667998224,-0.027693783050379325,-0.025392937640871534,-0.022657832276442635,-0.0194732767940604,-0.015824081030692612,-0.011695054823307053,-0.007071008008871504,-0.0019367504243537428,0.0037229080932784505,0.009923157707057295,0.01667918858001501,0.024006190875183818,0.03191935475559594,0.04043387038428359,0.04956492792427898,0.059327717538614363,0.06973742939032193,0.0808092536424339,0.09255838045798251,0.10499999999999997],\"type\":\"scatter\"}],                        {\"template\":{\"data\":{\"barpolar\":[{\"marker\":{\"line\":{\"color\":\"rgb(17,17,17)\",\"width\":0.5},\"pattern\":{\"fillmode\":\"overlay\",\"size\":10,\"solidity\":0.2}},\"type\":\"barpolar\"}],\"bar\":[{\"error_x\":{\"color\":\"#f2f5fa\"},\"error_y\":{\"color\":\"#f2f5fa\"},\"marker\":{\"line\":{\"color\":\"rgb(17,17,17)\",\"width\":0.5},\"pattern\":{\"fillmode\":\"overlay\",\"size\":10,\"solidity\":0.2}},\"type\":\"bar\"}],\"carpet\":[{\"aaxis\":{\"endlinecolor\":\"#A2B1C6\",\"gridcolor\":\"#506784\",\"linecolor\":\"#506784\",\"minorgridcolor\":\"#506784\",\"startlinecolor\":\"#A2B1C6\"},\"baxis\":{\"endlinecolor\":\"#A2B1C6\",\"gridcolor\":\"#506784\",\"linecolor\":\"#506784\",\"minorgridcolor\":\"#506784\",\"startlinecolor\":\"#A2B1C6\"},\"type\":\"carpet\"}],\"choropleth\":[{\"colorbar\":{\"outlinewidth\":0,\"ticks\":\"\"},\"type\":\"choropleth\"}],\"contourcarpet\":[{\"colorbar\":{\"outlinewidth\":0,\"ticks\":\"\"},\"type\":\"contourcarpet\"}],\"contour\":[{\"colorbar\":{\"outlinewidth\":0,\"ticks\":\"\"},\"colorscale\":[[0.0,\"#0d0887\"],[0.1111111111111111,\"#46039f\"],[0.2222222222222222,\"#7201a8\"],[0.3333333333333333,\"#9c179e\"],[0.4444444444444444,\"#bd3786\"],[0.5555555555555556,\"#d8576b\"],[0.6666666666666666,\"#ed7953\"],[0.7777777777777778,\"#fb9f3a\"],[0.8888888888888888,\"#fdca26\"],[1.0,\"#f0f921\"]],\"type\":\"contour\"}],\"heatmapgl\":[{\"colorbar\":{\"outlinewidth\":0,\"ticks\":\"\"},\"colorscale\":[[0.0,\"#0d0887\"],[0.1111111111111111,\"#46039f\"],[0.2222222222222222,\"#7201a8\"],[0.3333333333333333,\"#9c179e\"],[0.4444444444444444,\"#bd3786\"],[0.5555555555555556,\"#d8576b\"],[0.6666666666666666,\"#ed7953\"],[0.7777777777777778,\"#fb9f3a\"],[0.8888888888888888,\"#fdca26\"],[1.0,\"#f0f921\"]],\"type\":\"heatmapgl\"}],\"heatmap\":[{\"colorbar\":{\"outlinewidth\":0,\"ticks\":\"\"},\"colorscale\":[[0.0,\"#0d0887\"],[0.1111111111111111,\"#46039f\"],[0.2222222222222222,\"#7201a8\"],[0.3333333333333333,\"#9c179e\"],[0.4444444444444444,\"#bd3786\"],[0.5555555555555556,\"#d8576b\"],[0.6666666666666666,\"#ed7953\"],[0.7777777777777778,\"#fb9f3a\"],[0.8888888888888888,\"#fdca26\"],[1.0,\"#f0f921\"]],\"type\":\"heatmap\"}],\"histogram2dcontour\":[{\"colorbar\":{\"outlinewidth\":0,\"ticks\":\"\"},\"colorscale\":[[0.0,\"#0d0887\"],[0.1111111111111111,\"#46039f\"],[0.2222222222222222,\"#7201a8\"],[0.3333333333333333,\"#9c179e\"],[0.4444444444444444,\"#bd3786\"],[0.5555555555555556,\"#d8576b\"],[0.6666666666666666,\"#ed7953\"],[0.7777777777777778,\"#fb9f3a\"],[0.8888888888888888,\"#fdca26\"],[1.0,\"#f0f921\"]],\"type\":\"histogram2dcontour\"}],\"histogram2d\":[{\"colorbar\":{\"outlinewidth\":0,\"ticks\":\"\"},\"colorscale\":[[0.0,\"#0d0887\"],[0.1111111111111111,\"#46039f\"],[0.2222222222222222,\"#7201a8\"],[0.3333333333333333,\"#9c179e\"],[0.4444444444444444,\"#bd3786\"],[0.5555555555555556,\"#d8576b\"],[0.6666666666666666,\"#ed7953\"],[0.7777777777777778,\"#fb9f3a\"],[0.8888888888888888,\"#fdca26\"],[1.0,\"#f0f921\"]],\"type\":\"histogram2d\"}],\"histogram\":[{\"marker\":{\"pattern\":{\"fillmode\":\"overlay\",\"size\":10,\"solidity\":0.2}},\"type\":\"histogram\"}],\"mesh3d\":[{\"colorbar\":{\"outlinewidth\":0,\"ticks\":\"\"},\"type\":\"mesh3d\"}],\"parcoords\":[{\"line\":{\"colorbar\":{\"outlinewidth\":0,\"ticks\":\"\"}},\"type\":\"parcoords\"}],\"pie\":[{\"automargin\":true,\"type\":\"pie\"}],\"scatter3d\":[{\"line\":{\"colorbar\":{\"outlinewidth\":0,\"ticks\":\"\"}},\"marker\":{\"colorbar\":{\"outlinewidth\":0,\"ticks\":\"\"}},\"type\":\"scatter3d\"}],\"scattercarpet\":[{\"marker\":{\"colorbar\":{\"outlinewidth\":0,\"ticks\":\"\"}},\"type\":\"scattercarpet\"}],\"scattergeo\":[{\"marker\":{\"colorbar\":{\"outlinewidth\":0,\"ticks\":\"\"}},\"type\":\"scattergeo\"}],\"scattergl\":[{\"marker\":{\"line\":{\"color\":\"#283442\"}},\"type\":\"scattergl\"}],\"scattermapbox\":[{\"marker\":{\"colorbar\":{\"outlinewidth\":0,\"ticks\":\"\"}},\"type\":\"scattermapbox\"}],\"scatterpolargl\":[{\"marker\":{\"colorbar\":{\"outlinewidth\":0,\"ticks\":\"\"}},\"type\":\"scatterpolargl\"}],\"scatterpolar\":[{\"marker\":{\"colorbar\":{\"outlinewidth\":0,\"ticks\":\"\"}},\"type\":\"scatterpolar\"}],\"scatter\":[{\"marker\":{\"line\":{\"color\":\"#283442\"}},\"type\":\"scatter\"}],\"scatterternary\":[{\"marker\":{\"colorbar\":{\"outlinewidth\":0,\"ticks\":\"\"}},\"type\":\"scatterternary\"}],\"surface\":[{\"colorbar\":{\"outlinewidth\":0,\"ticks\":\"\"},\"colorscale\":[[0.0,\"#0d0887\"],[0.1111111111111111,\"#46039f\"],[0.2222222222222222,\"#7201a8\"],[0.3333333333333333,\"#9c179e\"],[0.4444444444444444,\"#bd3786\"],[0.5555555555555556,\"#d8576b\"],[0.6666666666666666,\"#ed7953\"],[0.7777777777777778,\"#fb9f3a\"],[0.8888888888888888,\"#fdca26\"],[1.0,\"#f0f921\"]],\"type\":\"surface\"}],\"table\":[{\"cells\":{\"fill\":{\"color\":\"#506784\"},\"line\":{\"color\":\"rgb(17,17,17)\"}},\"header\":{\"fill\":{\"color\":\"#2a3f5f\"},\"line\":{\"color\":\"rgb(17,17,17)\"}},\"type\":\"table\"}]},\"layout\":{\"annotationdefaults\":{\"arrowcolor\":\"#f2f5fa\",\"arrowhead\":0,\"arrowwidth\":1},\"autotypenumbers\":\"strict\",\"coloraxis\":{\"colorbar\":{\"outlinewidth\":0,\"ticks\":\"\"}},\"colorscale\":{\"diverging\":[[0,\"#8e0152\"],[0.1,\"#c51b7d\"],[0.2,\"#de77ae\"],[0.3,\"#f1b6da\"],[0.4,\"#fde0ef\"],[0.5,\"#f7f7f7\"],[0.6,\"#e6f5d0\"],[0.7,\"#b8e186\"],[0.8,\"#7fbc41\"],[0.9,\"#4d9221\"],[1,\"#276419\"]],\"sequential\":[[0.0,\"#0d0887\"],[0.1111111111111111,\"#46039f\"],[0.2222222222222222,\"#7201a8\"],[0.3333333333333333,\"#9c179e\"],[0.4444444444444444,\"#bd3786\"],[0.5555555555555556,\"#d8576b\"],[0.6666666666666666,\"#ed7953\"],[0.7777777777777778,\"#fb9f3a\"],[0.8888888888888888,\"#fdca26\"],[1.0,\"#f0f921\"]],\"sequentialminus\":[[0.0,\"#0d0887\"],[0.1111111111111111,\"#46039f\"],[0.2222222222222222,\"#7201a8\"],[0.3333333333333333,\"#9c179e\"],[0.4444444444444444,\"#bd3786\"],[0.5555555555555556,\"#d8576b\"],[0.6666666666666666,\"#ed7953\"],[0.7777777777777778,\"#fb9f3a\"],[0.8888888888888888,\"#fdca26\"],[1.0,\"#f0f921\"]]},\"colorway\":[\"#636efa\",\"#EF553B\",\"#00cc96\",\"#ab63fa\",\"#FFA15A\",\"#19d3f3\",\"#FF6692\",\"#B6E880\",\"#FF97FF\",\"#FECB52\"],\"font\":{\"color\":\"#f2f5fa\"},\"geo\":{\"bgcolor\":\"rgb(17,17,17)\",\"lakecolor\":\"rgb(17,17,17)\",\"landcolor\":\"rgb(17,17,17)\",\"showlakes\":true,\"showland\":true,\"subunitcolor\":\"#506784\"},\"hoverlabel\":{\"align\":\"left\"},\"hovermode\":\"closest\",\"mapbox\":{\"style\":\"dark\"},\"paper_bgcolor\":\"rgb(17,17,17)\",\"plot_bgcolor\":\"rgb(17,17,17)\",\"polar\":{\"angularaxis\":{\"gridcolor\":\"#506784\",\"linecolor\":\"#506784\",\"ticks\":\"\"},\"bgcolor\":\"rgb(17,17,17)\",\"radialaxis\":{\"gridcolor\":\"#506784\",\"linecolor\":\"#506784\",\"ticks\":\"\"}},\"scene\":{\"xaxis\":{\"backgroundcolor\":\"rgb(17,17,17)\",\"gridcolor\":\"#506784\",\"gridwidth\":2,\"linecolor\":\"#506784\",\"showbackground\":true,\"ticks\":\"\",\"zerolinecolor\":\"#C8D4E3\"},\"yaxis\":{\"backgroundcolor\":\"rgb(17,17,17)\",\"gridcolor\":\"#506784\",\"gridwidth\":2,\"linecolor\":\"#506784\",\"showbackground\":true,\"ticks\":\"\",\"zerolinecolor\":\"#C8D4E3\"},\"zaxis\":{\"backgroundcolor\":\"rgb(17,17,17)\",\"gridcolor\":\"#506784\",\"gridwidth\":2,\"linecolor\":\"#506784\",\"showbackground\":true,\"ticks\":\"\",\"zerolinecolor\":\"#C8D4E3\"}},\"shapedefaults\":{\"line\":{\"color\":\"#f2f5fa\"}},\"sliderdefaults\":{\"bgcolor\":\"#C8D4E3\",\"bordercolor\":\"rgb(17,17,17)\",\"borderwidth\":1,\"tickwidth\":0},\"ternary\":{\"aaxis\":{\"gridcolor\":\"#506784\",\"linecolor\":\"#506784\",\"ticks\":\"\"},\"baxis\":{\"gridcolor\":\"#506784\",\"linecolor\":\"#506784\",\"ticks\":\"\"},\"bgcolor\":\"rgb(17,17,17)\",\"caxis\":{\"gridcolor\":\"#506784\",\"linecolor\":\"#506784\",\"ticks\":\"\"}},\"title\":{\"x\":0.05},\"updatemenudefaults\":{\"bgcolor\":\"#506784\",\"borderwidth\":0},\"xaxis\":{\"automargin\":true,\"gridcolor\":\"#283442\",\"linecolor\":\"#506784\",\"ticks\":\"\",\"title\":{\"standoff\":15},\"zerolinecolor\":\"#283442\",\"zerolinewidth\":2},\"yaxis\":{\"automargin\":true,\"gridcolor\":\"#283442\",\"linecolor\":\"#506784\",\"ticks\":\"\",\"title\":{\"standoff\":15},\"zerolinecolor\":\"#283442\",\"zerolinewidth\":2}}},\"xaxis\":{\"anchor\":\"y\",\"domain\":[0.0,1.0]},\"yaxis\":{\"anchor\":\"x\",\"domain\":[0.0,1.0]},\"width\":600,\"height\":600},                        {\"responsive\": true}                    ).then(function(){\n",
              "                            \n",
              "var gd = document.getElementById('fa08e329-434e-4666-9bd6-8bee095d1cbe');\n",
              "var x = new MutationObserver(function (mutations, observer) {{\n",
              "        var display = window.getComputedStyle(gd).display;\n",
              "        if (!display || display === 'none') {{\n",
              "            console.log([gd, 'removed!']);\n",
              "            Plotly.purge(gd);\n",
              "            observer.disconnect();\n",
              "        }}\n",
              "}});\n",
              "\n",
              "// Listen for the removal of the full notebook cells\n",
              "var notebookContainer = gd.closest('#notebook-container');\n",
              "if (notebookContainer) {{\n",
              "    x.observe(notebookContainer, {childList: true});\n",
              "}}\n",
              "\n",
              "// Listen for the clearing of the current output cell\n",
              "var outputEl = gd.closest('.output');\n",
              "if (outputEl) {{\n",
              "    x.observe(outputEl, {childList: true});\n",
              "}}\n",
              "\n",
              "                        })                };                            </script>        </div>\n",
              "</body>\n",
              "</html>"
            ]
          },
          "metadata": {}
        }
      ]
    },
    {
      "cell_type": "code",
      "source": [
        "def secant(f, x0, x1, maxiter=50, tol=1e-12):\n",
        "    f0=f(x0)\n",
        "    f1=f(x1)\n",
        "    xylist=[[x0,f0], [x1,f1]]\n",
        "    for i in range(maxiter):\n",
        "        x2 = (x1-x0)/(f0-f1)*f1 +x1\n",
        "        f2 = f(x2)\n",
        "        xylist.append([x2,f2])\n",
        "        if abs(f2)<tol:\n",
        "            break\n",
        "        x0, f0 = x1, f1\n",
        "        x1, f1 = x2, f2\n",
        "    return x2, f2, np.array(xylist)"
      ],
      "metadata": {
        "id": "w_vAFhPUvfqR"
      },
      "execution_count": 8,
      "outputs": []
    },
    {
      "cell_type": "code",
      "source": [
        "secant(f, 0., 0.5)"
      ],
      "metadata": {
        "colab": {
          "base_uri": "https://localhost:8080/"
        },
        "id": "F99SupKWv30r",
        "outputId": "9b1b74b6-7fd4-4588-e5c2-d88061943c8d"
      },
      "execution_count": 9,
      "outputs": [
        {
          "output_type": "execute_result",
          "data": {
            "text/plain": [
              "(0.3000000000000018,\n",
              " -3.6637359812630124e-16,\n",
              " array([[ 0.00000000e+00,  6.00000000e-02],\n",
              "        [ 5.00000000e-01, -3.00000000e-02],\n",
              "        [ 3.33333333e-01, -6.48148148e-03],\n",
              "        [ 2.87401575e-01,  2.54249327e-03],\n",
              "        [ 3.00342789e-01, -6.85400857e-05],\n",
              "        [ 3.00003080e-01, -6.15901299e-07],\n",
              "        [ 2.99999999e-01,  1.58567082e-10],\n",
              "        [ 3.00000000e-01, -3.66373598e-16]]))"
            ]
          },
          "metadata": {},
          "execution_count": 9
        }
      ]
    },
    {
      "cell_type": "code",
      "source": [
        "def newton(f, x0, maxiter=50, tol=1e-12):\n",
        "    fprime = jax.grad(f)\n",
        "    f0=f(x0)\n",
        "    xylist = [[x0,f0]]\n",
        "    for i in range(maxiter):\n",
        "        x1 = x0 - f0/fprime(x0)\n",
        "        f1 = f(x1)\n",
        "        xylist.append([x1,f1])\n",
        "        if abs(f1)<tol:\n",
        "            break\n",
        "        x0,f0 =x1,f1\n",
        "    return x1, f1, jnp.array(xylist)"
      ],
      "metadata": {
        "id": "qzJej625w9Hy"
      },
      "execution_count": 22,
      "outputs": []
    },
    {
      "cell_type": "code",
      "source": [
        "newton(f,0.)"
      ],
      "metadata": {
        "colab": {
          "base_uri": "https://localhost:8080/"
        },
        "id": "6R298KCEzJ_E",
        "outputId": "4efe08b8-0973-4530-9a74-89ac7ef1fdf1"
      },
      "execution_count": 23,
      "outputs": [
        {
          "output_type": "execute_result",
          "data": {
            "text/plain": [
              "(DeviceArray(0.3, dtype=float64, weak_type=True),\n",
              " DeviceArray(-0., dtype=float64, weak_type=True),\n",
              " DeviceArray([[ 0.00000000e+00,  6.00000000e-02],\n",
              "              [ 3.87096774e-01, -1.59511262e-02],\n",
              "              [ 2.88931283e-01,  2.23144280e-03],\n",
              "              [ 2.99916207e-01,  1.67595823e-05],\n",
              "              [ 2.99999995e-01,  1.05246061e-09],\n",
              "              [ 3.00000000e-01, -0.00000000e+00]], dtype=float64))"
            ]
          },
          "metadata": {},
          "execution_count": 23
        }
      ]
    },
    {
      "cell_type": "code",
      "source": [
        "fprime(0.)"
      ],
      "metadata": {
        "colab": {
          "base_uri": "https://localhost:8080/"
        },
        "id": "qv1ndpXYzL9U",
        "outputId": "1ac3e593-a3b1-4dfa-fc24-94e7032f35c4"
      },
      "execution_count": 13,
      "outputs": [
        {
          "output_type": "stream",
          "name": "stderr",
          "text": [
            "WARNING:absl:No GPU/TPU found, falling back to CPU. (Set TF_CPP_MIN_LOG_LEVEL=0 and rerun for more info.)\n"
          ]
        },
        {
          "output_type": "execute_result",
          "data": {
            "text/plain": [
              "DeviceArray(-0.155, dtype=float64, weak_type=True)"
            ]
          },
          "metadata": {},
          "execution_count": 13
        }
      ]
    },
    {
      "cell_type": "code",
      "source": [
        "def fun(x):\n",
        "    return jnp.array([x[0]  + 0.5 * (x[0] - x[1])**3 - 1.0,\n",
        "            0.5 * (x[1] - x[0])**3 + x[1]])"
      ],
      "metadata": {
        "id": "xbP24XeizM4e"
      },
      "execution_count": 24,
      "outputs": []
    },
    {
      "cell_type": "code",
      "source": [
        "fun(jnp.array([0.,0.]))"
      ],
      "metadata": {
        "colab": {
          "base_uri": "https://localhost:8080/"
        },
        "id": "4bIbwAZE2gvS",
        "outputId": "c5c3b644-7b34-43de-cd61-75955d380d9a"
      },
      "execution_count": 25,
      "outputs": [
        {
          "output_type": "execute_result",
          "data": {
            "text/plain": [
              "DeviceArray([-1.,  0.], dtype=float64)"
            ]
          },
          "metadata": {},
          "execution_count": 25
        }
      ]
    },
    {
      "cell_type": "code",
      "source": [
        "def newtonN(f,x0,maxiter=50, tol=1e-12):\n",
        "    f_jac=jax.jacobian(f)\n",
        "    f0 = f(x0)\n",
        "    for i in range(maxiter):\n",
        "        x1 = x0 - jnp.linalg.inv(f_jac(x0)) @ f0\n",
        "        f1 = f(x1)\n",
        "        if jnp.linalg.norm(f1)<tol:\n",
        "            break\n",
        "        x0, f0 = x1, f1\n",
        "    return x1, f1\n",
        "\n"
      ],
      "metadata": {
        "id": "1DX7Pm3a2ixi"
      },
      "execution_count": 29,
      "outputs": []
    },
    {
      "cell_type": "code",
      "source": [
        "newtonN(fun, jnp.array([0.,0.]))"
      ],
      "metadata": {
        "colab": {
          "base_uri": "https://localhost:8080/"
        },
        "id": "bAZzgXC-26Q0",
        "outputId": "90bcd086-1e98-4675-d607-d224c67952e5"
      },
      "execution_count": 31,
      "outputs": [
        {
          "output_type": "execute_result",
          "data": {
            "text/plain": [
              "(DeviceArray([0.8411639, 0.1588361], dtype=float64),\n",
              " DeviceArray([ 0.00000000e+00, -5.55111512e-17], dtype=float64))"
            ]
          },
          "metadata": {},
          "execution_count": 31
        }
      ]
    },
    {
      "cell_type": "code",
      "source": [],
      "metadata": {
        "id": "yxmxucuP3Y8X"
      },
      "execution_count": null,
      "outputs": []
    }
  ]
}