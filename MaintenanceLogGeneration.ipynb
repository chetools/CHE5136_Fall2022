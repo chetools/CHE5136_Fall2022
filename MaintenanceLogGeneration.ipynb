{
  "nbformat": 4,
  "nbformat_minor": 0,
  "metadata": {
    "colab": {
      "provenance": [],
      "authorship_tag": "ABX9TyOh00x6LT/mJv5+1P77no+M",
      "include_colab_link": true
    },
    "kernelspec": {
      "name": "python3",
      "display_name": "Python 3"
    },
    "language_info": {
      "name": "python"
    }
  },
  "cells": [
    {
      "cell_type": "markdown",
      "metadata": {
        "id": "view-in-github",
        "colab_type": "text"
      },
      "source": [
        "<a href=\"https://colab.research.google.com/github/profteachkids/CHE5136_Fall2022/blob/main/MaintenanceLogGeneration.ipynb\" target=\"_parent\"><img src=\"https://colab.research.google.com/assets/colab-badge.svg\" alt=\"Open In Colab\"/></a>"
      ]
    },
    {
      "cell_type": "code",
      "execution_count": 1,
      "metadata": {
        "id": "No-3JqO8j88u"
      },
      "outputs": [],
      "source": [
        "import numpy as np\n",
        "import itertools as it\n",
        "import string\n",
        "import pandas as pd"
      ]
    },
    {
      "cell_type": "code",
      "source": [
        "rng=np.random.RandomState(123)"
      ],
      "metadata": {
        "id": "LfaUdj3Ipskz"
      },
      "execution_count": 2,
      "outputs": []
    },
    {
      "cell_type": "code",
      "source": [
        "# equipments=[process+loc for process, loc in it.product(['Reactor','Separator','Tank','Heater'],['A','B','C','D'])]\n",
        "equipments=['Reactor','Separator','Tank','Heater']\n",
        "equipment_cost=np.array([1e6, 5e5, 1e5, 5e4])\n",
        "locs=list(string.ascii_uppercase[:4])\n",
        "loc_cf=np.array([2., 1.5, 0.75, 1.])\n",
        "procedures=['Overhaul','Flush','Inspect']\n",
        "procedure_cf=np.array([0.5, 0.05, 0.01])\n",
        "techs=['Ben','Jerry','Mary','Ethan']\n",
        "tech_cf=np.array([2., 1., 1.2, 0.75])"
      ],
      "metadata": {
        "id": "P7aqRdZnnt6p"
      },
      "execution_count": 3,
      "outputs": []
    },
    {
      "cell_type": "code",
      "source": [
        "N=int(1e5)\n",
        "cost=np.zeros(N)\n",
        "equipment_choice=rng.randint(0,len(equipments),size=N)\n",
        "cost = equipment_cost[equipment_choice]\n",
        "\n",
        "loc_choice =rng.randint(0,len(locs),size=N)\n",
        "cost = cost *loc_cf[loc_choice]\n",
        "\n",
        "procedure_choice =rng.randint(0,len(procedures),size=N)\n",
        "cost = cost *procedure_cf[procedure_choice]\n",
        "procedure=[procedures[i] for i in procedure_choice]\n",
        "\n"
      ],
      "metadata": {
        "id": "ja9LNzR4oISo"
      },
      "execution_count": 4,
      "outputs": []
    },
    {
      "cell_type": "code",
      "source": [
        "dti=pd.date_range(start='01/01/2018',end='now', freq='D', normalize=True)\n",
        "end=rng.choice(dti,size=N)\n",
        "start=end-pd.TimedeltaIndex(rng.randint(1,30,size=N),'D')"
      ],
      "metadata": {
        "id": "lEicmCdd38AR"
      },
      "execution_count": 34,
      "outputs": []
    },
    {
      "cell_type": "code",
      "source": [
        "tech_choice =rng.randint(0,len(techs),size=N)\n",
        "cost = cost *tech_cf[tech_choice]\n",
        "tech=[techs[i] for i in tech_choice]"
      ],
      "metadata": {
        "id": "OPpMRGQtujvE"
      },
      "execution_count": 35,
      "outputs": []
    },
    {
      "cell_type": "code",
      "source": [
        "equipment = [equipments[i] + locs[j] for i,j in zip(equipment_choice,loc_choice)] "
      ],
      "metadata": {
        "id": "VdjVrbWlpQtK"
      },
      "execution_count": 36,
      "outputs": []
    },
    {
      "cell_type": "code",
      "source": [
        "cost = rng.normal(loc=cost, scale=0.1*cost)"
      ],
      "metadata": {
        "id": "mo7tvmbqt71z"
      },
      "execution_count": 37,
      "outputs": []
    },
    {
      "cell_type": "code",
      "source": [
        "df=pd.DataFrame({'start':start, 'end':end, 'Equipment':equipment, 'Procedure':procedure, 'Tech':tech, 'Cost':cost})\n",
        "df"
      ],
      "metadata": {
        "colab": {
          "base_uri": "https://localhost:8080/",
          "height": 424
        },
        "id": "XNm7bvSEuLAT",
        "outputId": "e69528c2-67cd-4e93-8be7-e8b8f3f9a46f"
      },
      "execution_count": 38,
      "outputs": [
        {
          "output_type": "execute_result",
          "data": {
            "text/plain": [
              "           start        end   Equipment Procedure   Tech           Cost\n",
              "0     2020-05-27 2020-06-08       TankD   Inspect    Ben    2655.325188\n",
              "1     2019-11-17 2019-11-28  SeparatorC   Inspect  Jerry    3775.144823\n",
              "2     2019-10-18 2019-10-31       TankB   Inspect   Mary    1781.770771\n",
              "3     2020-06-23 2020-06-24       TankC   Inspect   Mary     936.453817\n",
              "4     2019-05-17 2019-06-08    ReactorA   Inspect   Mary   18757.118105\n",
              "...          ...        ...         ...       ...    ...            ...\n",
              "99995 2018-08-05 2018-08-29     HeaterA   Inspect  Ethan     897.798585\n",
              "99996 2019-12-19 2020-01-14     HeaterA   Inspect    Ben    2323.927345\n",
              "99997 2022-09-10 2022-10-01  SeparatorC   Inspect   Mary    7593.117816\n",
              "99998 2020-12-18 2021-01-16       TankD  Overhaul  Ethan   47487.049580\n",
              "99999 2022-02-23 2022-03-06    ReactorA     Flush  Jerry  114676.996853\n",
              "\n",
              "[100000 rows x 6 columns]"
            ],
            "text/html": [
              "\n",
              "  <div id=\"df-f72d2df4-6bc0-49c0-8d21-955620430b5d\">\n",
              "    <div class=\"colab-df-container\">\n",
              "      <div>\n",
              "<style scoped>\n",
              "    .dataframe tbody tr th:only-of-type {\n",
              "        vertical-align: middle;\n",
              "    }\n",
              "\n",
              "    .dataframe tbody tr th {\n",
              "        vertical-align: top;\n",
              "    }\n",
              "\n",
              "    .dataframe thead th {\n",
              "        text-align: right;\n",
              "    }\n",
              "</style>\n",
              "<table border=\"1\" class=\"dataframe\">\n",
              "  <thead>\n",
              "    <tr style=\"text-align: right;\">\n",
              "      <th></th>\n",
              "      <th>start</th>\n",
              "      <th>end</th>\n",
              "      <th>Equipment</th>\n",
              "      <th>Procedure</th>\n",
              "      <th>Tech</th>\n",
              "      <th>Cost</th>\n",
              "    </tr>\n",
              "  </thead>\n",
              "  <tbody>\n",
              "    <tr>\n",
              "      <th>0</th>\n",
              "      <td>2020-05-27</td>\n",
              "      <td>2020-06-08</td>\n",
              "      <td>TankD</td>\n",
              "      <td>Inspect</td>\n",
              "      <td>Ben</td>\n",
              "      <td>2655.325188</td>\n",
              "    </tr>\n",
              "    <tr>\n",
              "      <th>1</th>\n",
              "      <td>2019-11-17</td>\n",
              "      <td>2019-11-28</td>\n",
              "      <td>SeparatorC</td>\n",
              "      <td>Inspect</td>\n",
              "      <td>Jerry</td>\n",
              "      <td>3775.144823</td>\n",
              "    </tr>\n",
              "    <tr>\n",
              "      <th>2</th>\n",
              "      <td>2019-10-18</td>\n",
              "      <td>2019-10-31</td>\n",
              "      <td>TankB</td>\n",
              "      <td>Inspect</td>\n",
              "      <td>Mary</td>\n",
              "      <td>1781.770771</td>\n",
              "    </tr>\n",
              "    <tr>\n",
              "      <th>3</th>\n",
              "      <td>2020-06-23</td>\n",
              "      <td>2020-06-24</td>\n",
              "      <td>TankC</td>\n",
              "      <td>Inspect</td>\n",
              "      <td>Mary</td>\n",
              "      <td>936.453817</td>\n",
              "    </tr>\n",
              "    <tr>\n",
              "      <th>4</th>\n",
              "      <td>2019-05-17</td>\n",
              "      <td>2019-06-08</td>\n",
              "      <td>ReactorA</td>\n",
              "      <td>Inspect</td>\n",
              "      <td>Mary</td>\n",
              "      <td>18757.118105</td>\n",
              "    </tr>\n",
              "    <tr>\n",
              "      <th>...</th>\n",
              "      <td>...</td>\n",
              "      <td>...</td>\n",
              "      <td>...</td>\n",
              "      <td>...</td>\n",
              "      <td>...</td>\n",
              "      <td>...</td>\n",
              "    </tr>\n",
              "    <tr>\n",
              "      <th>99995</th>\n",
              "      <td>2018-08-05</td>\n",
              "      <td>2018-08-29</td>\n",
              "      <td>HeaterA</td>\n",
              "      <td>Inspect</td>\n",
              "      <td>Ethan</td>\n",
              "      <td>897.798585</td>\n",
              "    </tr>\n",
              "    <tr>\n",
              "      <th>99996</th>\n",
              "      <td>2019-12-19</td>\n",
              "      <td>2020-01-14</td>\n",
              "      <td>HeaterA</td>\n",
              "      <td>Inspect</td>\n",
              "      <td>Ben</td>\n",
              "      <td>2323.927345</td>\n",
              "    </tr>\n",
              "    <tr>\n",
              "      <th>99997</th>\n",
              "      <td>2022-09-10</td>\n",
              "      <td>2022-10-01</td>\n",
              "      <td>SeparatorC</td>\n",
              "      <td>Inspect</td>\n",
              "      <td>Mary</td>\n",
              "      <td>7593.117816</td>\n",
              "    </tr>\n",
              "    <tr>\n",
              "      <th>99998</th>\n",
              "      <td>2020-12-18</td>\n",
              "      <td>2021-01-16</td>\n",
              "      <td>TankD</td>\n",
              "      <td>Overhaul</td>\n",
              "      <td>Ethan</td>\n",
              "      <td>47487.049580</td>\n",
              "    </tr>\n",
              "    <tr>\n",
              "      <th>99999</th>\n",
              "      <td>2022-02-23</td>\n",
              "      <td>2022-03-06</td>\n",
              "      <td>ReactorA</td>\n",
              "      <td>Flush</td>\n",
              "      <td>Jerry</td>\n",
              "      <td>114676.996853</td>\n",
              "    </tr>\n",
              "  </tbody>\n",
              "</table>\n",
              "<p>100000 rows × 6 columns</p>\n",
              "</div>\n",
              "      <button class=\"colab-df-convert\" onclick=\"convertToInteractive('df-f72d2df4-6bc0-49c0-8d21-955620430b5d')\"\n",
              "              title=\"Convert this dataframe to an interactive table.\"\n",
              "              style=\"display:none;\">\n",
              "        \n",
              "  <svg xmlns=\"http://www.w3.org/2000/svg\" height=\"24px\"viewBox=\"0 0 24 24\"\n",
              "       width=\"24px\">\n",
              "    <path d=\"M0 0h24v24H0V0z\" fill=\"none\"/>\n",
              "    <path d=\"M18.56 5.44l.94 2.06.94-2.06 2.06-.94-2.06-.94-.94-2.06-.94 2.06-2.06.94zm-11 1L8.5 8.5l.94-2.06 2.06-.94-2.06-.94L8.5 2.5l-.94 2.06-2.06.94zm10 10l.94 2.06.94-2.06 2.06-.94-2.06-.94-.94-2.06-.94 2.06-2.06.94z\"/><path d=\"M17.41 7.96l-1.37-1.37c-.4-.4-.92-.59-1.43-.59-.52 0-1.04.2-1.43.59L10.3 9.45l-7.72 7.72c-.78.78-.78 2.05 0 2.83L4 21.41c.39.39.9.59 1.41.59.51 0 1.02-.2 1.41-.59l7.78-7.78 2.81-2.81c.8-.78.8-2.07 0-2.86zM5.41 20L4 18.59l7.72-7.72 1.47 1.35L5.41 20z\"/>\n",
              "  </svg>\n",
              "      </button>\n",
              "      \n",
              "  <style>\n",
              "    .colab-df-container {\n",
              "      display:flex;\n",
              "      flex-wrap:wrap;\n",
              "      gap: 12px;\n",
              "    }\n",
              "\n",
              "    .colab-df-convert {\n",
              "      background-color: #E8F0FE;\n",
              "      border: none;\n",
              "      border-radius: 50%;\n",
              "      cursor: pointer;\n",
              "      display: none;\n",
              "      fill: #1967D2;\n",
              "      height: 32px;\n",
              "      padding: 0 0 0 0;\n",
              "      width: 32px;\n",
              "    }\n",
              "\n",
              "    .colab-df-convert:hover {\n",
              "      background-color: #E2EBFA;\n",
              "      box-shadow: 0px 1px 2px rgba(60, 64, 67, 0.3), 0px 1px 3px 1px rgba(60, 64, 67, 0.15);\n",
              "      fill: #174EA6;\n",
              "    }\n",
              "\n",
              "    [theme=dark] .colab-df-convert {\n",
              "      background-color: #3B4455;\n",
              "      fill: #D2E3FC;\n",
              "    }\n",
              "\n",
              "    [theme=dark] .colab-df-convert:hover {\n",
              "      background-color: #434B5C;\n",
              "      box-shadow: 0px 1px 3px 1px rgba(0, 0, 0, 0.15);\n",
              "      filter: drop-shadow(0px 1px 2px rgba(0, 0, 0, 0.3));\n",
              "      fill: #FFFFFF;\n",
              "    }\n",
              "  </style>\n",
              "\n",
              "      <script>\n",
              "        const buttonEl =\n",
              "          document.querySelector('#df-f72d2df4-6bc0-49c0-8d21-955620430b5d button.colab-df-convert');\n",
              "        buttonEl.style.display =\n",
              "          google.colab.kernel.accessAllowed ? 'block' : 'none';\n",
              "\n",
              "        async function convertToInteractive(key) {\n",
              "          const element = document.querySelector('#df-f72d2df4-6bc0-49c0-8d21-955620430b5d');\n",
              "          const dataTable =\n",
              "            await google.colab.kernel.invokeFunction('convertToInteractive',\n",
              "                                                     [key], {});\n",
              "          if (!dataTable) return;\n",
              "\n",
              "          const docLinkHtml = 'Like what you see? Visit the ' +\n",
              "            '<a target=\"_blank\" href=https://colab.research.google.com/notebooks/data_table.ipynb>data table notebook</a>'\n",
              "            + ' to learn more about interactive tables.';\n",
              "          element.innerHTML = '';\n",
              "          dataTable['output_type'] = 'display_data';\n",
              "          await google.colab.output.renderOutput(dataTable, element);\n",
              "          const docLink = document.createElement('div');\n",
              "          docLink.innerHTML = docLinkHtml;\n",
              "          element.appendChild(docLink);\n",
              "        }\n",
              "      </script>\n",
              "    </div>\n",
              "  </div>\n",
              "  "
            ]
          },
          "metadata": {},
          "execution_count": 38
        }
      ]
    },
    {
      "cell_type": "code",
      "source": [
        "df.to_csv('maintenance_log.csv')"
      ],
      "metadata": {
        "id": "ppSVeiIWwyRK"
      },
      "execution_count": 40,
      "outputs": []
    },
    {
      "cell_type": "code",
      "source": [
        "dti"
      ],
      "metadata": {
        "colab": {
          "base_uri": "https://localhost:8080/"
        },
        "id": "u2a7PZoN17cl",
        "outputId": "295b171d-3e44-40ad-d876-3b95056bc2e1"
      },
      "execution_count": 25,
      "outputs": [
        {
          "output_type": "execute_result",
          "data": {
            "text/plain": [
              "DatetimeIndex(['2018-01-01', '2018-01-02', '2018-01-03', '2018-01-04',\n",
              "               '2018-01-05', '2018-01-06', '2018-01-07', '2018-01-08',\n",
              "               '2018-01-09', '2018-01-10',\n",
              "               ...\n",
              "               '2022-10-12', '2022-10-13', '2022-10-14', '2022-10-15',\n",
              "               '2022-10-16', '2022-10-17', '2022-10-18', '2022-10-19',\n",
              "               '2022-10-20', '2022-10-21'],\n",
              "              dtype='datetime64[ns]', length=1755, freq='D')"
            ]
          },
          "metadata": {},
          "execution_count": 25
        }
      ]
    },
    {
      "cell_type": "code",
      "source": [],
      "metadata": {
        "id": "7e8FDQvg3zfg"
      },
      "execution_count": null,
      "outputs": []
    }
  ]
}