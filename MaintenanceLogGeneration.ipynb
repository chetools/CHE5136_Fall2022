{
  "nbformat": 4,
  "nbformat_minor": 0,
  "metadata": {
    "colab": {
      "provenance": [],
      "authorship_tag": "ABX9TyM5u9t5qdBE7wAGMsBQ/EDT",
      "include_colab_link": true
    },
    "kernelspec": {
      "name": "python3",
      "display_name": "Python 3"
    },
    "language_info": {
      "name": "python"
    }
  },
  "cells": [
    {
      "cell_type": "markdown",
      "metadata": {
        "id": "view-in-github",
        "colab_type": "text"
      },
      "source": [
        "<a href=\"https://colab.research.google.com/github/profteachkids/CHE5136_Fall2022/blob/main/MaintenanceLogGeneration.ipynb\" target=\"_parent\"><img src=\"https://colab.research.google.com/assets/colab-badge.svg\" alt=\"Open In Colab\"/></a>"
      ]
    },
    {
      "cell_type": "code",
      "execution_count": 1,
      "metadata": {
        "id": "No-3JqO8j88u"
      },
      "outputs": [],
      "source": [
        "import numpy as np\n",
        "import itertools as it\n",
        "import string\n",
        "import pandas as pd"
      ]
    },
    {
      "cell_type": "code",
      "source": [
        "rng=np.random.RandomState(123)"
      ],
      "metadata": {
        "id": "LfaUdj3Ipskz"
      },
      "execution_count": 2,
      "outputs": []
    },
    {
      "cell_type": "code",
      "source": [
        "# equipments=[process+loc for process, loc in it.product(['Reactor','Separator','Tank','Heater'],['A','B','C','D'])]\n",
        "equipments=['Reactor','Separator','Tank','Heater']\n",
        "equipment_cost=np.array([1e6, 5e5, 1e5, 5e4])\n",
        "locs=list(string.ascii_uppercase[:4])\n",
        "loc_cf=np.array([2., 1.5, 0.75, 1.])\n",
        "procedures=['Overhaul','Flush','Inspect']\n",
        "procedure_cf=np.array([0.5, 0.05, 0.01])\n",
        "techs=['Ben','Jerry','Mary','Ethan']\n",
        "tech_cf=np.array([2., 1., 1.2, 0.75])"
      ],
      "metadata": {
        "id": "P7aqRdZnnt6p"
      },
      "execution_count": 3,
      "outputs": []
    },
    {
      "cell_type": "code",
      "source": [
        "N=int(1e5)\n",
        "cost=np.zeros(N)\n",
        "equipment_choice=rng.randint(0,len(equipments),size=N)\n",
        "cost = equipment_cost[equipment_choice]\n",
        "\n",
        "loc_choice =rng.randint(0,len(locs),size=N)\n",
        "cost = cost *loc_cf[loc_choice]\n",
        "\n",
        "procedure_choice =rng.randint(0,len(procedures),size=N)\n",
        "cost = cost *procedure_cf[procedure_choice]\n",
        "procedure=[procedures[i] for i in procedure_choice]\n",
        "\n"
      ],
      "metadata": {
        "id": "ja9LNzR4oISo"
      },
      "execution_count": 4,
      "outputs": []
    },
    {
      "cell_type": "code",
      "source": [
        "cost"
      ],
      "metadata": {
        "colab": {
          "base_uri": "https://localhost:8080/"
        },
        "id": "BQmQGmN0xSRp",
        "outputId": "2b45aef0-0986-457b-9acd-092da09eecd5"
      },
      "execution_count": 5,
      "outputs": [
        {
          "output_type": "execute_result",
          "data": {
            "text/plain": [
              "array([  1000.,   3750.,   1500., ...,   3750.,  50000., 100000.])"
            ]
          },
          "metadata": {},
          "execution_count": 5
        }
      ]
    },
    {
      "cell_type": "code",
      "source": [
        "tech_choice =rng.randint(0,len(techs),size=N)\n",
        "cost = cost *tech_cf[tech_choice]\n",
        "tech=[techs[i] for i in tech_choice]"
      ],
      "metadata": {
        "id": "OPpMRGQtujvE"
      },
      "execution_count": 6,
      "outputs": []
    },
    {
      "cell_type": "code",
      "source": [
        "equipment = [equipments[i] + locs[j] for i,j in zip(equipment_choice,loc_choice)] "
      ],
      "metadata": {
        "id": "VdjVrbWlpQtK"
      },
      "execution_count": 7,
      "outputs": []
    },
    {
      "cell_type": "code",
      "source": [
        "cost = rng.normal(loc=cost, scale=0.1*cost)"
      ],
      "metadata": {
        "id": "mo7tvmbqt71z"
      },
      "execution_count": 8,
      "outputs": []
    },
    {
      "cell_type": "code",
      "source": [
        "df=pd.DataFrame({'Equipment':equipment, 'Procedure':procedure, 'Tech':tech, 'Cost':cost})\n",
        "df"
      ],
      "metadata": {
        "colab": {
          "base_uri": "https://localhost:8080/",
          "height": 424
        },
        "id": "XNm7bvSEuLAT",
        "outputId": "b4dd7d8e-3e5b-4607-e582-0744acb6ba2a"
      },
      "execution_count": 9,
      "outputs": [
        {
          "output_type": "execute_result",
          "data": {
            "text/plain": [
              "        Equipment Procedure   Tech           Cost\n",
              "0           TankD   Inspect   Mary    1260.819369\n",
              "1      SeparatorC   Inspect  Jerry    4167.739443\n",
              "2           TankB   Inspect  Jerry    1550.499194\n",
              "3           TankC   Inspect  Jerry     759.532044\n",
              "4        ReactorA   Inspect  Jerry   17325.211382\n",
              "...           ...       ...    ...            ...\n",
              "99995     HeaterA   Inspect   Mary    1318.113134\n",
              "99996     HeaterA   Inspect   Mary    1132.091108\n",
              "99997  SeparatorC   Inspect   Mary    5411.215721\n",
              "99998       TankD  Overhaul  Jerry   54860.846985\n",
              "99999    ReactorA     Flush   Mary  113474.176387\n",
              "\n",
              "[100000 rows x 4 columns]"
            ],
            "text/html": [
              "\n",
              "  <div id=\"df-50314d59-d06d-4cf7-a219-dbe98d903acb\">\n",
              "    <div class=\"colab-df-container\">\n",
              "      <div>\n",
              "<style scoped>\n",
              "    .dataframe tbody tr th:only-of-type {\n",
              "        vertical-align: middle;\n",
              "    }\n",
              "\n",
              "    .dataframe tbody tr th {\n",
              "        vertical-align: top;\n",
              "    }\n",
              "\n",
              "    .dataframe thead th {\n",
              "        text-align: right;\n",
              "    }\n",
              "</style>\n",
              "<table border=\"1\" class=\"dataframe\">\n",
              "  <thead>\n",
              "    <tr style=\"text-align: right;\">\n",
              "      <th></th>\n",
              "      <th>Equipment</th>\n",
              "      <th>Procedure</th>\n",
              "      <th>Tech</th>\n",
              "      <th>Cost</th>\n",
              "    </tr>\n",
              "  </thead>\n",
              "  <tbody>\n",
              "    <tr>\n",
              "      <th>0</th>\n",
              "      <td>TankD</td>\n",
              "      <td>Inspect</td>\n",
              "      <td>Mary</td>\n",
              "      <td>1260.819369</td>\n",
              "    </tr>\n",
              "    <tr>\n",
              "      <th>1</th>\n",
              "      <td>SeparatorC</td>\n",
              "      <td>Inspect</td>\n",
              "      <td>Jerry</td>\n",
              "      <td>4167.739443</td>\n",
              "    </tr>\n",
              "    <tr>\n",
              "      <th>2</th>\n",
              "      <td>TankB</td>\n",
              "      <td>Inspect</td>\n",
              "      <td>Jerry</td>\n",
              "      <td>1550.499194</td>\n",
              "    </tr>\n",
              "    <tr>\n",
              "      <th>3</th>\n",
              "      <td>TankC</td>\n",
              "      <td>Inspect</td>\n",
              "      <td>Jerry</td>\n",
              "      <td>759.532044</td>\n",
              "    </tr>\n",
              "    <tr>\n",
              "      <th>4</th>\n",
              "      <td>ReactorA</td>\n",
              "      <td>Inspect</td>\n",
              "      <td>Jerry</td>\n",
              "      <td>17325.211382</td>\n",
              "    </tr>\n",
              "    <tr>\n",
              "      <th>...</th>\n",
              "      <td>...</td>\n",
              "      <td>...</td>\n",
              "      <td>...</td>\n",
              "      <td>...</td>\n",
              "    </tr>\n",
              "    <tr>\n",
              "      <th>99995</th>\n",
              "      <td>HeaterA</td>\n",
              "      <td>Inspect</td>\n",
              "      <td>Mary</td>\n",
              "      <td>1318.113134</td>\n",
              "    </tr>\n",
              "    <tr>\n",
              "      <th>99996</th>\n",
              "      <td>HeaterA</td>\n",
              "      <td>Inspect</td>\n",
              "      <td>Mary</td>\n",
              "      <td>1132.091108</td>\n",
              "    </tr>\n",
              "    <tr>\n",
              "      <th>99997</th>\n",
              "      <td>SeparatorC</td>\n",
              "      <td>Inspect</td>\n",
              "      <td>Mary</td>\n",
              "      <td>5411.215721</td>\n",
              "    </tr>\n",
              "    <tr>\n",
              "      <th>99998</th>\n",
              "      <td>TankD</td>\n",
              "      <td>Overhaul</td>\n",
              "      <td>Jerry</td>\n",
              "      <td>54860.846985</td>\n",
              "    </tr>\n",
              "    <tr>\n",
              "      <th>99999</th>\n",
              "      <td>ReactorA</td>\n",
              "      <td>Flush</td>\n",
              "      <td>Mary</td>\n",
              "      <td>113474.176387</td>\n",
              "    </tr>\n",
              "  </tbody>\n",
              "</table>\n",
              "<p>100000 rows × 4 columns</p>\n",
              "</div>\n",
              "      <button class=\"colab-df-convert\" onclick=\"convertToInteractive('df-50314d59-d06d-4cf7-a219-dbe98d903acb')\"\n",
              "              title=\"Convert this dataframe to an interactive table.\"\n",
              "              style=\"display:none;\">\n",
              "        \n",
              "  <svg xmlns=\"http://www.w3.org/2000/svg\" height=\"24px\"viewBox=\"0 0 24 24\"\n",
              "       width=\"24px\">\n",
              "    <path d=\"M0 0h24v24H0V0z\" fill=\"none\"/>\n",
              "    <path d=\"M18.56 5.44l.94 2.06.94-2.06 2.06-.94-2.06-.94-.94-2.06-.94 2.06-2.06.94zm-11 1L8.5 8.5l.94-2.06 2.06-.94-2.06-.94L8.5 2.5l-.94 2.06-2.06.94zm10 10l.94 2.06.94-2.06 2.06-.94-2.06-.94-.94-2.06-.94 2.06-2.06.94z\"/><path d=\"M17.41 7.96l-1.37-1.37c-.4-.4-.92-.59-1.43-.59-.52 0-1.04.2-1.43.59L10.3 9.45l-7.72 7.72c-.78.78-.78 2.05 0 2.83L4 21.41c.39.39.9.59 1.41.59.51 0 1.02-.2 1.41-.59l7.78-7.78 2.81-2.81c.8-.78.8-2.07 0-2.86zM5.41 20L4 18.59l7.72-7.72 1.47 1.35L5.41 20z\"/>\n",
              "  </svg>\n",
              "      </button>\n",
              "      \n",
              "  <style>\n",
              "    .colab-df-container {\n",
              "      display:flex;\n",
              "      flex-wrap:wrap;\n",
              "      gap: 12px;\n",
              "    }\n",
              "\n",
              "    .colab-df-convert {\n",
              "      background-color: #E8F0FE;\n",
              "      border: none;\n",
              "      border-radius: 50%;\n",
              "      cursor: pointer;\n",
              "      display: none;\n",
              "      fill: #1967D2;\n",
              "      height: 32px;\n",
              "      padding: 0 0 0 0;\n",
              "      width: 32px;\n",
              "    }\n",
              "\n",
              "    .colab-df-convert:hover {\n",
              "      background-color: #E2EBFA;\n",
              "      box-shadow: 0px 1px 2px rgba(60, 64, 67, 0.3), 0px 1px 3px 1px rgba(60, 64, 67, 0.15);\n",
              "      fill: #174EA6;\n",
              "    }\n",
              "\n",
              "    [theme=dark] .colab-df-convert {\n",
              "      background-color: #3B4455;\n",
              "      fill: #D2E3FC;\n",
              "    }\n",
              "\n",
              "    [theme=dark] .colab-df-convert:hover {\n",
              "      background-color: #434B5C;\n",
              "      box-shadow: 0px 1px 3px 1px rgba(0, 0, 0, 0.15);\n",
              "      filter: drop-shadow(0px 1px 2px rgba(0, 0, 0, 0.3));\n",
              "      fill: #FFFFFF;\n",
              "    }\n",
              "  </style>\n",
              "\n",
              "      <script>\n",
              "        const buttonEl =\n",
              "          document.querySelector('#df-50314d59-d06d-4cf7-a219-dbe98d903acb button.colab-df-convert');\n",
              "        buttonEl.style.display =\n",
              "          google.colab.kernel.accessAllowed ? 'block' : 'none';\n",
              "\n",
              "        async function convertToInteractive(key) {\n",
              "          const element = document.querySelector('#df-50314d59-d06d-4cf7-a219-dbe98d903acb');\n",
              "          const dataTable =\n",
              "            await google.colab.kernel.invokeFunction('convertToInteractive',\n",
              "                                                     [key], {});\n",
              "          if (!dataTable) return;\n",
              "\n",
              "          const docLinkHtml = 'Like what you see? Visit the ' +\n",
              "            '<a target=\"_blank\" href=https://colab.research.google.com/notebooks/data_table.ipynb>data table notebook</a>'\n",
              "            + ' to learn more about interactive tables.';\n",
              "          element.innerHTML = '';\n",
              "          dataTable['output_type'] = 'display_data';\n",
              "          await google.colab.output.renderOutput(dataTable, element);\n",
              "          const docLink = document.createElement('div');\n",
              "          docLink.innerHTML = docLinkHtml;\n",
              "          element.appendChild(docLink);\n",
              "        }\n",
              "      </script>\n",
              "    </div>\n",
              "  </div>\n",
              "  "
            ]
          },
          "metadata": {},
          "execution_count": 9
        }
      ]
    },
    {
      "cell_type": "code",
      "source": [
        "df.memory_usage()"
      ],
      "metadata": {
        "colab": {
          "base_uri": "https://localhost:8080/"
        },
        "id": "yqYIWtjxu4rI",
        "outputId": "1853defe-eb1c-4720-bea8-bf1763821d77"
      },
      "execution_count": 10,
      "outputs": [
        {
          "output_type": "execute_result",
          "data": {
            "text/plain": [
              "Index           128\n",
              "Equipment    800000\n",
              "Procedure    800000\n",
              "Tech         800000\n",
              "Cost         800000\n",
              "dtype: int64"
            ]
          },
          "metadata": {},
          "execution_count": 10
        }
      ]
    },
    {
      "cell_type": "code",
      "source": [
        "df=df.astype({'Equipment':'category', 'Procedure':'category','Tech':'category','Cost':'float64'})"
      ],
      "metadata": {
        "id": "okcMyLzCvv8E"
      },
      "execution_count": 11,
      "outputs": []
    },
    {
      "cell_type": "code",
      "source": [
        "df.memory_usage()"
      ],
      "metadata": {
        "colab": {
          "base_uri": "https://localhost:8080/"
        },
        "id": "dVALVicUv6uo",
        "outputId": "4557e79f-1d92-414a-a705-ceae9854d13c"
      },
      "execution_count": 12,
      "outputs": [
        {
          "output_type": "execute_result",
          "data": {
            "text/plain": [
              "Index           128\n",
              "Equipment    100684\n",
              "Procedure    100132\n",
              "Tech         100204\n",
              "Cost         800000\n",
              "dtype: int64"
            ]
          },
          "metadata": {},
          "execution_count": 12
        }
      ]
    },
    {
      "cell_type": "code",
      "source": [
        "df.dtypes"
      ],
      "metadata": {
        "colab": {
          "base_uri": "https://localhost:8080/"
        },
        "id": "kzIOpL8xwXjl",
        "outputId": "25dfbf3c-4ff1-478e-9c95-e873dea50dba"
      },
      "execution_count": 13,
      "outputs": [
        {
          "output_type": "execute_result",
          "data": {
            "text/plain": [
              "Equipment    category\n",
              "Procedure    category\n",
              "Tech         category\n",
              "Cost          float64\n",
              "dtype: object"
            ]
          },
          "metadata": {},
          "execution_count": 13
        }
      ]
    },
    {
      "cell_type": "code",
      "source": [],
      "metadata": {
        "id": "ppSVeiIWwyRK"
      },
      "execution_count": 13,
      "outputs": []
    }
  ]
}