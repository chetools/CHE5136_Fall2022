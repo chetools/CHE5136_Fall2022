{
  "nbformat": 4,
  "nbformat_minor": 0,
  "metadata": {
    "colab": {
      "provenance": [],
      "authorship_tag": "ABX9TyNt4XbY95b9o70YyAr2kpvr",
      "include_colab_link": true
    },
    "kernelspec": {
      "name": "python3",
      "display_name": "Python 3"
    },
    "language_info": {
      "name": "python"
    }
  },
  "cells": [
    {
      "cell_type": "markdown",
      "metadata": {
        "id": "view-in-github",
        "colab_type": "text"
      },
      "source": [
        "<a href=\"https://colab.research.google.com/github/profteachkids/CHE5136_Fall2022/blob/main/GlobDataGeneration.ipynb\" target=\"_parent\"><img src=\"https://colab.research.google.com/assets/colab-badge.svg\" alt=\"Open In Colab\"/></a>"
      ]
    },
    {
      "cell_type": "code",
      "execution_count": 26,
      "metadata": {
        "id": "x_rf7tJEaGhh"
      },
      "outputs": [],
      "source": [
        "import numpy as np\n",
        "from pathlib import Path\n",
        "import shutil"
      ]
    },
    {
      "cell_type": "code",
      "source": [
        "tech_choices = ['Ben', 'Ethan', 'Josh', 'Sarah']\n",
        "loc_choices = ['Crossley',  'Zimmer', 'Mantei', 'Rhodes']\n",
        "month_choices = ['Jan', 'Feb','Mar','Apr','May','Jun','Jul','Aug','Sep','Oct','Nov','Dec']"
      ],
      "metadata": {
        "id": "My-eBw6nhvni"
      },
      "execution_count": 9,
      "outputs": []
    },
    {
      "cell_type": "code",
      "source": [
        "rng=np.random.RandomState(123)\n",
        "N=1000"
      ],
      "metadata": {
        "id": "d5A4NH3uj7I7"
      },
      "execution_count": 46,
      "outputs": []
    },
    {
      "cell_type": "code",
      "source": [
        "techs=rng.choice(tech_choices, N)\n",
        "locs=rng.choice(loc_choices,N)\n",
        "months=rng.choice(month_choices,N)\n",
        "days=rng.randint(1, 29, N)"
      ],
      "metadata": {
        "id": "_lcM3wMjkDa7"
      },
      "execution_count": 47,
      "outputs": []
    },
    {
      "cell_type": "code",
      "source": [
        "shutil.rmtree(Path('/content/data'),ignore_errors=True)\n",
        "for tech, loc, month, day in zip(techs,locs,months,days):\n",
        "    path = Path('/content/data',tech,loc,month)\n",
        "    path.mkdir(parents=True,exist_ok=True)\n",
        "    x=rng.uniform(0.,10., 20)\n",
        "    y=rng.normal(loc=rng.uniform(0.1,3.)*x+rng.uniform(-1,3),scale=0.1)\n",
        "    data=np.c_[x,y]\n",
        "    np.savetxt(f'{path}/Day:{day:02d}.csv',data,fmt='%10.5f',delimiter=',')"
      ],
      "metadata": {
        "id": "8p-zDq9nkIIz"
      },
      "execution_count": 50,
      "outputs": []
    },
    {
      "cell_type": "code",
      "source": [
        "shutil.make_archive('glob_data','zip',Path('/content/data'))"
      ],
      "metadata": {
        "colab": {
          "base_uri": "https://localhost:8080/",
          "height": 36
        },
        "id": "cTRC2lHCoTy7",
        "outputId": "51535653-c37d-43e7-db35-ba78a4129c48"
      },
      "execution_count": 45,
      "outputs": [
        {
          "output_type": "execute_result",
          "data": {
            "text/plain": [
              "'/content/compressed_data.zip'"
            ],
            "application/vnd.google.colaboratory.intrinsic+json": {
              "type": "string"
            }
          },
          "metadata": {},
          "execution_count": 45
        }
      ]
    },
    {
      "cell_type": "code",
      "source": [
        "l1=[1,2,3]\n",
        "l2=[5,6,7,9,10]"
      ],
      "metadata": {
        "id": "QQeM8F18qwvU"
      },
      "execution_count": 56,
      "outputs": []
    },
    {
      "cell_type": "code",
      "source": [
        "for list2, list1 in zip(l2,l1):\n",
        "    print(list1,list2)"
      ],
      "metadata": {
        "colab": {
          "base_uri": "https://localhost:8080/"
        },
        "id": "6x6V4fhdso1_",
        "outputId": "e7615ed6-b3eb-46e7-bcec-38002ce83e51"
      },
      "execution_count": 60,
      "outputs": [
        {
          "output_type": "stream",
          "name": "stdout",
          "text": [
            "1 5\n",
            "2 6\n",
            "3 7\n"
          ]
        }
      ]
    },
    {
      "cell_type": "code",
      "source": [
        "itertools"
      ],
      "metadata": {
        "id": "KKu7zhDysrw6"
      },
      "execution_count": null,
      "outputs": []
    }
  ]
}