{
  "nbformat": 4,
  "nbformat_minor": 0,
  "metadata": {
    "colab": {
      "provenance": [],
      "authorship_tag": "ABX9TyMvR1O3vg1zUpodRjFiE8Bx",
      "include_colab_link": true
    },
    "kernelspec": {
      "name": "python3",
      "display_name": "Python 3"
    },
    "language_info": {
      "name": "python"
    }
  },
  "cells": [
    {
      "cell_type": "markdown",
      "metadata": {
        "id": "view-in-github",
        "colab_type": "text"
      },
      "source": [
        "<a href=\"https://colab.research.google.com/github/profteachkids/CHE5136_Fall2022/blob/main/GlobDataGeneration.ipynb\" target=\"_parent\"><img src=\"https://colab.research.google.com/assets/colab-badge.svg\" alt=\"Open In Colab\"/></a>"
      ]
    },
    {
      "cell_type": "code",
      "execution_count": 1,
      "metadata": {
        "id": "x_rf7tJEaGhh"
      },
      "outputs": [],
      "source": [
        "import numpy as np\n",
        "from pathlib import Path\n",
        "import shutil"
      ]
    },
    {
      "cell_type": "code",
      "source": [
        "!pip install xxhash"
      ],
      "metadata": {
        "id": "sFIoCc5nzzTD",
        "outputId": "763f3ebb-2a7c-47e6-d4bb-d6d59f6c2318",
        "colab": {
          "base_uri": "https://localhost:8080/"
        }
      },
      "execution_count": 17,
      "outputs": [
        {
          "output_type": "stream",
          "name": "stdout",
          "text": [
            "Looking in indexes: https://pypi.org/simple, https://us-python.pkg.dev/colab-wheels/public/simple/\n",
            "Collecting xxhash\n",
            "  Downloading xxhash-3.0.0-cp37-cp37m-manylinux_2_17_x86_64.manylinux2014_x86_64.whl (212 kB)\n",
            "\u001b[K     |████████████████████████████████| 212 kB 4.9 MB/s \n",
            "\u001b[?25hInstalling collected packages: xxhash\n",
            "Successfully installed xxhash-3.0.0\n"
          ]
        }
      ]
    },
    {
      "cell_type": "code",
      "source": [
        "import xxhash"
      ],
      "metadata": {
        "id": "BXKM6a1-z7rm"
      },
      "execution_count": 18,
      "outputs": []
    },
    {
      "cell_type": "code",
      "source": [
        "tech_choices = ['Ben', 'Ethan', 'Josh', 'Sarah']\n",
        "loc_choices = ['Crossley',  'Zimmer', 'Mantei', 'Rhodes']\n",
        "month_choices = ['Jan', 'Feb','Mar','Apr','May','Jun','Jul','Aug','Sep','Oct','Nov','Dec']\n"
      ],
      "metadata": {
        "id": "My-eBw6nhvni"
      },
      "execution_count": 25,
      "outputs": []
    },
    {
      "cell_type": "code",
      "source": [
        "rng=np.random.RandomState(123)\n",
        "N=1000"
      ],
      "metadata": {
        "id": "d5A4NH3uj7I7"
      },
      "execution_count": 26,
      "outputs": []
    },
    {
      "cell_type": "code",
      "source": [
        "techs=rng.choice(tech_choices, N)\n",
        "locs=rng.choice(loc_choices,N)\n",
        "months=rng.choice(month_choices,N)\n",
        "days=rng.randint(1,28, N)"
      ],
      "metadata": {
        "id": "_lcM3wMjkDa7"
      },
      "execution_count": 27,
      "outputs": []
    },
    {
      "cell_type": "code",
      "source": [
        "shutil.rmtree(Path('/content/data'),ignore_errors=True)\n",
        "\n",
        "for tech, loc, month, day in zip(techs,locs,months,days):\n",
        "    path = Path('/content/data',tech,loc,month)\n",
        "    path.mkdir(parents=True,exist_ok=True)\n",
        "    x=rng.uniform(0.,10., 20)\n",
        "    y=rng.normal(loc=rng.uniform(0.1,3.)*x+rng.uniform(-1,3),scale=0.1)\n",
        "    data=np.c_[x,y]\n",
        "    filecount=1\n",
        "    while True:\n",
        "        filename=f'{path}/Day:{day:02d}:{filecount:05d}.csv'\n",
        "        filepath = Path(filename)\n",
        "        if not(filepath.exists()):\n",
        "            break\n",
        "        filecount=filecount+1\n",
        "\n",
        "    np.savetxt(filename,data,fmt='%10.5f',delimiter=',')"
      ],
      "metadata": {
        "id": "8p-zDq9nkIIz"
      },
      "execution_count": 28,
      "outputs": []
    },
    {
      "cell_type": "code",
      "source": [
        "shutil.make_archive('glob_data','zip',Path('/content/data'))"
      ],
      "metadata": {
        "colab": {
          "base_uri": "https://localhost:8080/",
          "height": 36
        },
        "id": "cTRC2lHCoTy7",
        "outputId": "2711bb4f-6dea-494d-d2e4-e893f80f0005"
      },
      "execution_count": 29,
      "outputs": [
        {
          "output_type": "execute_result",
          "data": {
            "text/plain": [
              "'/content/glob_data.zip'"
            ],
            "application/vnd.google.colaboratory.intrinsic+json": {
              "type": "string"
            }
          },
          "metadata": {},
          "execution_count": 29
        }
      ]
    },
    {
      "cell_type": "code",
      "source": [],
      "metadata": {
        "id": "Q6FUmq8p0VSD"
      },
      "execution_count": null,
      "outputs": []
    }
  ]
}