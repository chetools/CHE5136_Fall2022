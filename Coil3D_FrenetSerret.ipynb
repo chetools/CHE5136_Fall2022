{
  "nbformat": 4,
  "nbformat_minor": 0,
  "metadata": {
    "colab": {
      "provenance": [],
      "authorship_tag": "ABX9TyPpn7Mc7cRNmSQl/+Zm2nH5",
      "include_colab_link": true
    },
    "kernelspec": {
      "name": "python3",
      "display_name": "Python 3"
    },
    "language_info": {
      "name": "python"
    }
  },
  "cells": [
    {
      "cell_type": "markdown",
      "metadata": {
        "id": "view-in-github",
        "colab_type": "text"
      },
      "source": [
        "<a href=\"https://colab.research.google.com/github/profteachkids/CHE5136_Fall2022/blob/main/Coil3D_FrenetSerret.ipynb\" target=\"_parent\"><img src=\"https://colab.research.google.com/assets/colab-badge.svg\" alt=\"Open In Colab\"/></a>"
      ]
    },
    {
      "cell_type": "code",
      "execution_count": 1,
      "metadata": {
        "id": "d7h7QUNPPPsM"
      },
      "outputs": [],
      "source": [
        "import numpy as np\n",
        "import jax\n",
        "import jax.numpy as jnp\n",
        "from jax.config import config\n",
        "config.update(\"jax_enable_x64\", True)\n",
        "from plotly.subplots import make_subplots\n",
        "from functools import partial"
      ]
    },
    {
      "cell_type": "code",
      "source": [
        "theta=np.linspace(0,2*np.pi,36)\n",
        "xy=np.array([np.cos(theta),np.sin(theta)])"
      ],
      "metadata": {
        "id": "d8fi5_o6Ue3d"
      },
      "execution_count": 2,
      "outputs": []
    },
    {
      "cell_type": "code",
      "source": [
        "xy_stretch=np.array([[2.,0.],[0.,1.]]) @ xy\n",
        "\n",
        "rot_angle = np.pi/6\n",
        "xy_stretch_rotate = np.array([[np.cos(rot_angle), -np.sin(rot_angle)],[np.sin(rot_angle), np.cos(rot_angle)]]) @ xy_stretch"
      ],
      "metadata": {
        "id": "mdqjYMiwVBmL"
      },
      "execution_count": 3,
      "outputs": []
    },
    {
      "cell_type": "code",
      "source": [
        "fig=make_subplots()\n",
        "fig.add_scatter(x=xy[0],y=xy[1],mode='markers')\n",
        "fig.add_scatter(x=xy_stretch[0],y=xy_stretch[1],mode='markers')\n",
        "fig.add_scatter(x=xy_stretch_rotate[0],y=xy_stretch_rotate[1],mode='markers')\n",
        "fig.update_xaxes(range=[-3,3])\n",
        "fig.update_yaxes(range=[-3,3])\n",
        "fig.update_layout(width=600,height=600,template='plotly_dark')"
      ],
      "metadata": {
        "colab": {
          "base_uri": "https://localhost:8080/",
          "height": 617
        },
        "id": "_2Qb1ZrxUuag",
        "outputId": "63eac009-19d0-427e-889b-1feffa0802df"
      },
      "execution_count": 4,
      "outputs": [
        {
          "output_type": "display_data",
          "data": {
            "text/html": [
              "<html>\n",
              "<head><meta charset=\"utf-8\" /></head>\n",
              "<body>\n",
              "    <div>            <script src=\"https://cdnjs.cloudflare.com/ajax/libs/mathjax/2.7.5/MathJax.js?config=TeX-AMS-MML_SVG\"></script><script type=\"text/javascript\">if (window.MathJax) {MathJax.Hub.Config({SVG: {font: \"STIX-Web\"}});}</script>                <script type=\"text/javascript\">window.PlotlyConfig = {MathJaxConfig: 'local'};</script>\n",
              "        <script src=\"https://cdn.plot.ly/plotly-2.8.3.min.js\"></script>                <div id=\"4881378e-08d3-4073-8c27-eb1b3961191c\" class=\"plotly-graph-div\" style=\"height:600px; width:600px;\"></div>            <script type=\"text/javascript\">                                    window.PLOTLYENV=window.PLOTLYENV || {};                                    if (document.getElementById(\"4881378e-08d3-4073-8c27-eb1b3961191c\")) {                    Plotly.newPlot(                        \"4881378e-08d3-4073-8c27-eb1b3961191c\",                        [{\"mode\":\"markers\",\"x\":[1.0,0.9839295885986297,0.9362348706397372,0.8584487936018661,0.753071466003611,0.6234898018587336,0.4738686624729987,0.30901699437494745,0.13423326581765554,-0.04486483035051486,-0.22252093395631434,-0.39302503165392355,-0.5508969814521024,-0.6910626489868646,-0.8090169943749473,-0.900968867902419,-0.9639628606958532,-0.9959742939952391,-0.9959742939952391,-0.9639628606958534,-0.9009688679024191,-0.8090169943749476,-0.6910626489868648,-0.5508969814521026,-0.3930250316539238,-0.2225209339563146,-0.044864830350515104,0.1342332658176553,0.30901699437494723,0.47386866247299847,0.6234898018587334,0.7530714660036107,0.858448793601866,0.9362348706397371,0.9839295885986297,1.0],\"y\":[0.0,0.17855689479863665,0.3513748240813427,0.5128992774059061,0.6579387259397126,0.7818314824680298,0.880595531856738,0.9510565162951535,0.9909497617679347,0.9989930665413147,0.9749279121818236,0.9195277725514507,0.8345732537213026,0.7227948638273916,0.5877852522924732,0.43388373911755823,0.26603684556667523,0.08963930890343362,-0.08963930890343337,-0.266036845566675,-0.433883739117558,-0.587785252292473,-0.7227948638273914,-0.8345732537213025,-0.9195277725514506,-0.9749279121818236,-0.9989930665413146,-0.9909497617679348,-0.9510565162951536,-0.8805955318567381,-0.7818314824680299,-0.6579387259397128,-0.5128992774059064,-0.3513748240813429,-0.17855689479863687,-2.4492935982947064e-16],\"type\":\"scatter\"},{\"mode\":\"markers\",\"x\":[2.0,1.9678591771972593,1.8724697412794744,1.7168975872037322,1.506142932007222,1.2469796037174672,0.9477373249459974,0.6180339887498949,0.2684665316353111,-0.08972966070102972,-0.4450418679126287,-0.7860500633078471,-1.1017939629042048,-1.3821252979737293,-1.6180339887498947,-1.801937735804838,-1.9279257213917065,-1.9919485879904781,-1.9919485879904781,-1.9279257213917067,-1.8019377358048383,-1.6180339887498951,-1.3821252979737295,-1.1017939629042053,-0.7860500633078475,-0.4450418679126292,-0.08972966070103021,0.2684665316353106,0.6180339887498945,0.9477373249459969,1.2469796037174667,1.5061429320072215,1.716897587203732,1.8724697412794742,1.9678591771972593,2.0],\"y\":[0.0,0.17855689479863665,0.3513748240813427,0.5128992774059061,0.6579387259397126,0.7818314824680298,0.880595531856738,0.9510565162951535,0.9909497617679347,0.9989930665413147,0.9749279121818236,0.9195277725514507,0.8345732537213026,0.7227948638273916,0.5877852522924732,0.43388373911755823,0.26603684556667523,0.08963930890343362,-0.08963930890343337,-0.266036845566675,-0.433883739117558,-0.587785252292473,-0.7227948638273914,-0.8345732537213025,-0.9195277725514506,-0.9749279121818236,-0.9989930665413146,-0.9909497617679348,-0.9510565162951536,-0.8805955318567381,-0.7818314824680299,-0.6579387259397128,-0.5128992774059064,-0.3513748240813429,-0.17855689479863687,-2.4492935982947064e-16],\"type\":\"scatter\"},{\"mode\":\"markers\",\"x\":[1.7320508075688774,1.6149375911238517,1.445918951725029,1.2304272875116877,0.9753886778787766,0.689000273586364,0.3804668335895723,0.05970487651205825,-0.2629760444218892,-0.5772046989107072,-0.8728815194509268,-1.1405032097466872,-1.3714681884720221,-1.5583530511720822,-1.6951511645903101,-1.7774657248035812,-1.8026510741179955,-1.7698977346840132,-1.6802584257805797,-1.5366142285513205,-1.3435819856860234,-1.1073659122978374,-0.8355581873446911,-0.53689493475072,-0.2209754371952371,0.10204639273089622,0.4217883676306069,0.727973717346045,1.0107613928072114,1.2610623654463098,1.4708317560543935,1.6333274038184888,1.7433265649175937,1.7972937758063716,1.7934944859224884,1.7320508075688776],\"y\":[0.9999999999999999,1.1385643955151143,1.240534394544468,1.3026325974180626,1.3228631168009697,1.3005757271544953,1.2364867635200028,1.1326560979212794,0.9924209333828246,0.8202885434787819,0.6217914048516693,0.4033093788609521,0.17186465758958164,-0.06510393518742938,-0.2999800339198199,-0.5252145275376335,-0.7335681940924349,-0.9183443753071848,-1.073604212683293,-1.1943575272992712,-1.2767232082672042,-1.3180539548300745,-1.3170213627862997,-1.2736586204937863,-1.1893594421687992,-1.0668332727642982,-0.9100182041798117,-0.7239544017475138,-0.5146221091713848,-0.28874943857400576,-0.05359612343702866,0.1832798152062517,0.414264989785669,0.6319353467350058,0.8292947816821445,0.9999999999999997],\"type\":\"scatter\"}],                        {\"template\":{\"data\":{\"barpolar\":[{\"marker\":{\"line\":{\"color\":\"rgb(17,17,17)\",\"width\":0.5},\"pattern\":{\"fillmode\":\"overlay\",\"size\":10,\"solidity\":0.2}},\"type\":\"barpolar\"}],\"bar\":[{\"error_x\":{\"color\":\"#f2f5fa\"},\"error_y\":{\"color\":\"#f2f5fa\"},\"marker\":{\"line\":{\"color\":\"rgb(17,17,17)\",\"width\":0.5},\"pattern\":{\"fillmode\":\"overlay\",\"size\":10,\"solidity\":0.2}},\"type\":\"bar\"}],\"carpet\":[{\"aaxis\":{\"endlinecolor\":\"#A2B1C6\",\"gridcolor\":\"#506784\",\"linecolor\":\"#506784\",\"minorgridcolor\":\"#506784\",\"startlinecolor\":\"#A2B1C6\"},\"baxis\":{\"endlinecolor\":\"#A2B1C6\",\"gridcolor\":\"#506784\",\"linecolor\":\"#506784\",\"minorgridcolor\":\"#506784\",\"startlinecolor\":\"#A2B1C6\"},\"type\":\"carpet\"}],\"choropleth\":[{\"colorbar\":{\"outlinewidth\":0,\"ticks\":\"\"},\"type\":\"choropleth\"}],\"contourcarpet\":[{\"colorbar\":{\"outlinewidth\":0,\"ticks\":\"\"},\"type\":\"contourcarpet\"}],\"contour\":[{\"colorbar\":{\"outlinewidth\":0,\"ticks\":\"\"},\"colorscale\":[[0.0,\"#0d0887\"],[0.1111111111111111,\"#46039f\"],[0.2222222222222222,\"#7201a8\"],[0.3333333333333333,\"#9c179e\"],[0.4444444444444444,\"#bd3786\"],[0.5555555555555556,\"#d8576b\"],[0.6666666666666666,\"#ed7953\"],[0.7777777777777778,\"#fb9f3a\"],[0.8888888888888888,\"#fdca26\"],[1.0,\"#f0f921\"]],\"type\":\"contour\"}],\"heatmapgl\":[{\"colorbar\":{\"outlinewidth\":0,\"ticks\":\"\"},\"colorscale\":[[0.0,\"#0d0887\"],[0.1111111111111111,\"#46039f\"],[0.2222222222222222,\"#7201a8\"],[0.3333333333333333,\"#9c179e\"],[0.4444444444444444,\"#bd3786\"],[0.5555555555555556,\"#d8576b\"],[0.6666666666666666,\"#ed7953\"],[0.7777777777777778,\"#fb9f3a\"],[0.8888888888888888,\"#fdca26\"],[1.0,\"#f0f921\"]],\"type\":\"heatmapgl\"}],\"heatmap\":[{\"colorbar\":{\"outlinewidth\":0,\"ticks\":\"\"},\"colorscale\":[[0.0,\"#0d0887\"],[0.1111111111111111,\"#46039f\"],[0.2222222222222222,\"#7201a8\"],[0.3333333333333333,\"#9c179e\"],[0.4444444444444444,\"#bd3786\"],[0.5555555555555556,\"#d8576b\"],[0.6666666666666666,\"#ed7953\"],[0.7777777777777778,\"#fb9f3a\"],[0.8888888888888888,\"#fdca26\"],[1.0,\"#f0f921\"]],\"type\":\"heatmap\"}],\"histogram2dcontour\":[{\"colorbar\":{\"outlinewidth\":0,\"ticks\":\"\"},\"colorscale\":[[0.0,\"#0d0887\"],[0.1111111111111111,\"#46039f\"],[0.2222222222222222,\"#7201a8\"],[0.3333333333333333,\"#9c179e\"],[0.4444444444444444,\"#bd3786\"],[0.5555555555555556,\"#d8576b\"],[0.6666666666666666,\"#ed7953\"],[0.7777777777777778,\"#fb9f3a\"],[0.8888888888888888,\"#fdca26\"],[1.0,\"#f0f921\"]],\"type\":\"histogram2dcontour\"}],\"histogram2d\":[{\"colorbar\":{\"outlinewidth\":0,\"ticks\":\"\"},\"colorscale\":[[0.0,\"#0d0887\"],[0.1111111111111111,\"#46039f\"],[0.2222222222222222,\"#7201a8\"],[0.3333333333333333,\"#9c179e\"],[0.4444444444444444,\"#bd3786\"],[0.5555555555555556,\"#d8576b\"],[0.6666666666666666,\"#ed7953\"],[0.7777777777777778,\"#fb9f3a\"],[0.8888888888888888,\"#fdca26\"],[1.0,\"#f0f921\"]],\"type\":\"histogram2d\"}],\"histogram\":[{\"marker\":{\"pattern\":{\"fillmode\":\"overlay\",\"size\":10,\"solidity\":0.2}},\"type\":\"histogram\"}],\"mesh3d\":[{\"colorbar\":{\"outlinewidth\":0,\"ticks\":\"\"},\"type\":\"mesh3d\"}],\"parcoords\":[{\"line\":{\"colorbar\":{\"outlinewidth\":0,\"ticks\":\"\"}},\"type\":\"parcoords\"}],\"pie\":[{\"automargin\":true,\"type\":\"pie\"}],\"scatter3d\":[{\"line\":{\"colorbar\":{\"outlinewidth\":0,\"ticks\":\"\"}},\"marker\":{\"colorbar\":{\"outlinewidth\":0,\"ticks\":\"\"}},\"type\":\"scatter3d\"}],\"scattercarpet\":[{\"marker\":{\"colorbar\":{\"outlinewidth\":0,\"ticks\":\"\"}},\"type\":\"scattercarpet\"}],\"scattergeo\":[{\"marker\":{\"colorbar\":{\"outlinewidth\":0,\"ticks\":\"\"}},\"type\":\"scattergeo\"}],\"scattergl\":[{\"marker\":{\"line\":{\"color\":\"#283442\"}},\"type\":\"scattergl\"}],\"scattermapbox\":[{\"marker\":{\"colorbar\":{\"outlinewidth\":0,\"ticks\":\"\"}},\"type\":\"scattermapbox\"}],\"scatterpolargl\":[{\"marker\":{\"colorbar\":{\"outlinewidth\":0,\"ticks\":\"\"}},\"type\":\"scatterpolargl\"}],\"scatterpolar\":[{\"marker\":{\"colorbar\":{\"outlinewidth\":0,\"ticks\":\"\"}},\"type\":\"scatterpolar\"}],\"scatter\":[{\"marker\":{\"line\":{\"color\":\"#283442\"}},\"type\":\"scatter\"}],\"scatterternary\":[{\"marker\":{\"colorbar\":{\"outlinewidth\":0,\"ticks\":\"\"}},\"type\":\"scatterternary\"}],\"surface\":[{\"colorbar\":{\"outlinewidth\":0,\"ticks\":\"\"},\"colorscale\":[[0.0,\"#0d0887\"],[0.1111111111111111,\"#46039f\"],[0.2222222222222222,\"#7201a8\"],[0.3333333333333333,\"#9c179e\"],[0.4444444444444444,\"#bd3786\"],[0.5555555555555556,\"#d8576b\"],[0.6666666666666666,\"#ed7953\"],[0.7777777777777778,\"#fb9f3a\"],[0.8888888888888888,\"#fdca26\"],[1.0,\"#f0f921\"]],\"type\":\"surface\"}],\"table\":[{\"cells\":{\"fill\":{\"color\":\"#506784\"},\"line\":{\"color\":\"rgb(17,17,17)\"}},\"header\":{\"fill\":{\"color\":\"#2a3f5f\"},\"line\":{\"color\":\"rgb(17,17,17)\"}},\"type\":\"table\"}]},\"layout\":{\"annotationdefaults\":{\"arrowcolor\":\"#f2f5fa\",\"arrowhead\":0,\"arrowwidth\":1},\"autotypenumbers\":\"strict\",\"coloraxis\":{\"colorbar\":{\"outlinewidth\":0,\"ticks\":\"\"}},\"colorscale\":{\"diverging\":[[0,\"#8e0152\"],[0.1,\"#c51b7d\"],[0.2,\"#de77ae\"],[0.3,\"#f1b6da\"],[0.4,\"#fde0ef\"],[0.5,\"#f7f7f7\"],[0.6,\"#e6f5d0\"],[0.7,\"#b8e186\"],[0.8,\"#7fbc41\"],[0.9,\"#4d9221\"],[1,\"#276419\"]],\"sequential\":[[0.0,\"#0d0887\"],[0.1111111111111111,\"#46039f\"],[0.2222222222222222,\"#7201a8\"],[0.3333333333333333,\"#9c179e\"],[0.4444444444444444,\"#bd3786\"],[0.5555555555555556,\"#d8576b\"],[0.6666666666666666,\"#ed7953\"],[0.7777777777777778,\"#fb9f3a\"],[0.8888888888888888,\"#fdca26\"],[1.0,\"#f0f921\"]],\"sequentialminus\":[[0.0,\"#0d0887\"],[0.1111111111111111,\"#46039f\"],[0.2222222222222222,\"#7201a8\"],[0.3333333333333333,\"#9c179e\"],[0.4444444444444444,\"#bd3786\"],[0.5555555555555556,\"#d8576b\"],[0.6666666666666666,\"#ed7953\"],[0.7777777777777778,\"#fb9f3a\"],[0.8888888888888888,\"#fdca26\"],[1.0,\"#f0f921\"]]},\"colorway\":[\"#636efa\",\"#EF553B\",\"#00cc96\",\"#ab63fa\",\"#FFA15A\",\"#19d3f3\",\"#FF6692\",\"#B6E880\",\"#FF97FF\",\"#FECB52\"],\"font\":{\"color\":\"#f2f5fa\"},\"geo\":{\"bgcolor\":\"rgb(17,17,17)\",\"lakecolor\":\"rgb(17,17,17)\",\"landcolor\":\"rgb(17,17,17)\",\"showlakes\":true,\"showland\":true,\"subunitcolor\":\"#506784\"},\"hoverlabel\":{\"align\":\"left\"},\"hovermode\":\"closest\",\"mapbox\":{\"style\":\"dark\"},\"paper_bgcolor\":\"rgb(17,17,17)\",\"plot_bgcolor\":\"rgb(17,17,17)\",\"polar\":{\"angularaxis\":{\"gridcolor\":\"#506784\",\"linecolor\":\"#506784\",\"ticks\":\"\"},\"bgcolor\":\"rgb(17,17,17)\",\"radialaxis\":{\"gridcolor\":\"#506784\",\"linecolor\":\"#506784\",\"ticks\":\"\"}},\"scene\":{\"xaxis\":{\"backgroundcolor\":\"rgb(17,17,17)\",\"gridcolor\":\"#506784\",\"gridwidth\":2,\"linecolor\":\"#506784\",\"showbackground\":true,\"ticks\":\"\",\"zerolinecolor\":\"#C8D4E3\"},\"yaxis\":{\"backgroundcolor\":\"rgb(17,17,17)\",\"gridcolor\":\"#506784\",\"gridwidth\":2,\"linecolor\":\"#506784\",\"showbackground\":true,\"ticks\":\"\",\"zerolinecolor\":\"#C8D4E3\"},\"zaxis\":{\"backgroundcolor\":\"rgb(17,17,17)\",\"gridcolor\":\"#506784\",\"gridwidth\":2,\"linecolor\":\"#506784\",\"showbackground\":true,\"ticks\":\"\",\"zerolinecolor\":\"#C8D4E3\"}},\"shapedefaults\":{\"line\":{\"color\":\"#f2f5fa\"}},\"sliderdefaults\":{\"bgcolor\":\"#C8D4E3\",\"bordercolor\":\"rgb(17,17,17)\",\"borderwidth\":1,\"tickwidth\":0},\"ternary\":{\"aaxis\":{\"gridcolor\":\"#506784\",\"linecolor\":\"#506784\",\"ticks\":\"\"},\"baxis\":{\"gridcolor\":\"#506784\",\"linecolor\":\"#506784\",\"ticks\":\"\"},\"bgcolor\":\"rgb(17,17,17)\",\"caxis\":{\"gridcolor\":\"#506784\",\"linecolor\":\"#506784\",\"ticks\":\"\"}},\"title\":{\"x\":0.05},\"updatemenudefaults\":{\"bgcolor\":\"#506784\",\"borderwidth\":0},\"xaxis\":{\"automargin\":true,\"gridcolor\":\"#283442\",\"linecolor\":\"#506784\",\"ticks\":\"\",\"title\":{\"standoff\":15},\"zerolinecolor\":\"#283442\",\"zerolinewidth\":2},\"yaxis\":{\"automargin\":true,\"gridcolor\":\"#283442\",\"linecolor\":\"#506784\",\"ticks\":\"\",\"title\":{\"standoff\":15},\"zerolinecolor\":\"#283442\",\"zerolinewidth\":2}}},\"xaxis\":{\"anchor\":\"y\",\"domain\":[0.0,1.0],\"range\":[-3,3]},\"yaxis\":{\"anchor\":\"x\",\"domain\":[0.0,1.0],\"range\":[-3,3]},\"width\":600,\"height\":600},                        {\"responsive\": true}                    ).then(function(){\n",
              "                            \n",
              "var gd = document.getElementById('4881378e-08d3-4073-8c27-eb1b3961191c');\n",
              "var x = new MutationObserver(function (mutations, observer) {{\n",
              "        var display = window.getComputedStyle(gd).display;\n",
              "        if (!display || display === 'none') {{\n",
              "            console.log([gd, 'removed!']);\n",
              "            Plotly.purge(gd);\n",
              "            observer.disconnect();\n",
              "        }}\n",
              "}});\n",
              "\n",
              "// Listen for the removal of the full notebook cells\n",
              "var notebookContainer = gd.closest('#notebook-container');\n",
              "if (notebookContainer) {{\n",
              "    x.observe(notebookContainer, {childList: true});\n",
              "}}\n",
              "\n",
              "// Listen for the clearing of the current output cell\n",
              "var outputEl = gd.closest('.output');\n",
              "if (outputEl) {{\n",
              "    x.observe(outputEl, {childList: true});\n",
              "}}\n",
              "\n",
              "                        })                };                            </script>        </div>\n",
              "</body>\n",
              "</html>"
            ]
          },
          "metadata": {}
        }
      ]
    },
    {
      "cell_type": "code",
      "source": [
        "t=jnp.linspace(0,4*np.pi,36)\n",
        "theta = jnp.linspace(0,2*np.pi, 18)\n",
        "R=3.\n",
        "mz=2.\n",
        "r=1."
      ],
      "metadata": {
        "id": "VB4x-vglPUZr"
      },
      "execution_count": 40,
      "outputs": []
    },
    {
      "cell_type": "code",
      "source": [
        "def curve(t, R, mz):\n",
        "    xyz = jnp.array([R*jnp.cos(t), R*jnp.sin(t), mz*t])\n",
        "    return xyz\n",
        "\n",
        "# test for line without using Frenet-Serret\n",
        "# def curve(t, R, mz):\n",
        "#     xyz = jnp.array([t, 0.3*t, 0.5*t+0.1])\n",
        "#     return xyz"
      ],
      "metadata": {
        "id": "dVnjX3NIPsoD"
      },
      "execution_count": 41,
      "outputs": []
    },
    {
      "cell_type": "code",
      "source": [
        "def frenet(f):\n",
        "\n",
        "    dfdt = jax.jacobian(f)\n",
        "\n",
        "    def dsdt(t):\n",
        "        return jnp.linalg.norm(dfdt(t))\n",
        "\n",
        "    def tangent(t):   #df_ds = dfdt / dsdt\n",
        "        return dfdt(t)/dsdt(t)\n",
        "\n",
        "    dtangent_dt = jax.jacobian(tangent)\n",
        "\n",
        "    def normal(t):\n",
        "        v= dtangent_dt(t) / dsdt(t)\n",
        "        return v/jnp.linalg.norm(v)\n",
        "\n",
        "\n",
        "    return tangent, normal"
      ],
      "metadata": {
        "id": "fk5GZdS9SHb4"
      },
      "execution_count": 42,
      "outputs": []
    },
    {
      "cell_type": "code",
      "source": [
        "xyz= curve(t,R,mz)"
      ],
      "metadata": {
        "id": "1P7HeiyeQ2zv"
      },
      "execution_count": 43,
      "outputs": []
    },
    {
      "cell_type": "code",
      "source": [
        "fig=make_subplots(rows=1,cols=1,specs=[[{'type':'surface'}]])\n",
        "fig.add_scatter3d(x=xyz[0,:],y=xyz[1,:],z=xyz[2,:],mode='lines',row=1,col=1)\n",
        "fig.update_layout(width=600,height=600,template='plotly_dark')"
      ],
      "metadata": {
        "id": "RwaLO-alQT_E",
        "outputId": "72bfd67d-fb81-4453-9058-e0a88ad3b8d9",
        "colab": {
          "base_uri": "https://localhost:8080/",
          "height": 617
        }
      },
      "execution_count": 44,
      "outputs": [
        {
          "output_type": "display_data",
          "data": {
            "text/html": [
              "<html>\n",
              "<head><meta charset=\"utf-8\" /></head>\n",
              "<body>\n",
              "    <div>            <script src=\"https://cdnjs.cloudflare.com/ajax/libs/mathjax/2.7.5/MathJax.js?config=TeX-AMS-MML_SVG\"></script><script type=\"text/javascript\">if (window.MathJax) {MathJax.Hub.Config({SVG: {font: \"STIX-Web\"}});}</script>                <script type=\"text/javascript\">window.PlotlyConfig = {MathJaxConfig: 'local'};</script>\n",
              "        <script src=\"https://cdn.plot.ly/plotly-2.8.3.min.js\"></script>                <div id=\"efd14879-82a1-4611-93f8-0c5faed94f49\" class=\"plotly-graph-div\" style=\"height:600px; width:600px;\"></div>            <script type=\"text/javascript\">                                    window.PLOTLYENV=window.PLOTLYENV || {};                                    if (document.getElementById(\"efd14879-82a1-4611-93f8-0c5faed94f49\")) {                    Plotly.newPlot(                        \"efd14879-82a1-4611-93f8-0c5faed94f49\",                        [{\"mode\":\"lines\",\"x\":[3.0,2.808704611919212,2.259214398010833,1.4216059874189961,0.40269979745296663,-0.667562801868943,-1.6526909443563071,-2.427050983124842,-2.8918885820875597,-2.987922881985717,-2.7029066037072575,-2.0731879469605943,-1.1790750949617714,-0.1345944910515453,0.9270509831248417,1.8704694055762001,2.575346380805598,2.951788765795889,2.951788765795889,2.5753463808055987,1.870469405576201,0.9270509831248432,-0.13459449105154386,-1.17907509496177,-2.0731879469605934,-2.7029066037072567,-2.9879228819857166,-2.89188858208756,-2.4270509831248432,-1.6526909443563085,-0.6675628018689445,0.40269979745296514,1.421605987418995,2.259214398010832,2.8087046119192114,3.0],\"y\":[0.0,1.0541244722440282,1.9738161778191379,2.6417865955702142,2.972849285303804,2.924783736545471,2.503719761163908,1.7633557568774196,0.7981105367000256,-0.2689179267103001,-1.301651217352674,-2.1683845914821744,-2.7585833176543515,-2.9969791996239437,-2.853169548885461,-2.3454944474040897,-1.5386978322177192,-0.5356706843959106,0.5356706843959091,1.5386978322177178,2.345494447404089,2.8531695488854605,2.996979199623944,2.7585833176543524,2.1683845914821753,1.3016512173526753,0.26891792671030157,-0.7981105367000242,-1.7633557568774183,-2.5037197611639073,-2.9247837365454705,-2.9728492853038047,-2.6417865955702147,-1.9738161778191388,-1.0541244722440295,-1.4695761589768238e-15],\"z\":[0.0,0.7180783208205241,1.4361566416410483,2.1542349624615724,2.8723132832820966,3.5903916041026207,4.308469924923145,5.026548245743669,5.744626566564193,6.462704887384717,7.180783208205241,7.8988615290257655,8.61693984984629,9.335018170666814,10.053096491487338,10.771174812307862,11.489253133128386,12.20733145394891,12.925409774769435,13.643488095589959,14.361566416410483,15.079644737231007,15.797723058051531,16.515801378872055,17.23387969969258,17.951958020513104,18.670036341333628,19.388114662154152,20.106192982974676,20.8242713037952,21.542349624615724,22.26042794543625,22.978506266256773,23.696584587077297,24.41466290789782,25.132741228718345],\"type\":\"scatter3d\",\"scene\":\"scene\"}],                        {\"template\":{\"data\":{\"barpolar\":[{\"marker\":{\"line\":{\"color\":\"rgb(17,17,17)\",\"width\":0.5},\"pattern\":{\"fillmode\":\"overlay\",\"size\":10,\"solidity\":0.2}},\"type\":\"barpolar\"}],\"bar\":[{\"error_x\":{\"color\":\"#f2f5fa\"},\"error_y\":{\"color\":\"#f2f5fa\"},\"marker\":{\"line\":{\"color\":\"rgb(17,17,17)\",\"width\":0.5},\"pattern\":{\"fillmode\":\"overlay\",\"size\":10,\"solidity\":0.2}},\"type\":\"bar\"}],\"carpet\":[{\"aaxis\":{\"endlinecolor\":\"#A2B1C6\",\"gridcolor\":\"#506784\",\"linecolor\":\"#506784\",\"minorgridcolor\":\"#506784\",\"startlinecolor\":\"#A2B1C6\"},\"baxis\":{\"endlinecolor\":\"#A2B1C6\",\"gridcolor\":\"#506784\",\"linecolor\":\"#506784\",\"minorgridcolor\":\"#506784\",\"startlinecolor\":\"#A2B1C6\"},\"type\":\"carpet\"}],\"choropleth\":[{\"colorbar\":{\"outlinewidth\":0,\"ticks\":\"\"},\"type\":\"choropleth\"}],\"contourcarpet\":[{\"colorbar\":{\"outlinewidth\":0,\"ticks\":\"\"},\"type\":\"contourcarpet\"}],\"contour\":[{\"colorbar\":{\"outlinewidth\":0,\"ticks\":\"\"},\"colorscale\":[[0.0,\"#0d0887\"],[0.1111111111111111,\"#46039f\"],[0.2222222222222222,\"#7201a8\"],[0.3333333333333333,\"#9c179e\"],[0.4444444444444444,\"#bd3786\"],[0.5555555555555556,\"#d8576b\"],[0.6666666666666666,\"#ed7953\"],[0.7777777777777778,\"#fb9f3a\"],[0.8888888888888888,\"#fdca26\"],[1.0,\"#f0f921\"]],\"type\":\"contour\"}],\"heatmapgl\":[{\"colorbar\":{\"outlinewidth\":0,\"ticks\":\"\"},\"colorscale\":[[0.0,\"#0d0887\"],[0.1111111111111111,\"#46039f\"],[0.2222222222222222,\"#7201a8\"],[0.3333333333333333,\"#9c179e\"],[0.4444444444444444,\"#bd3786\"],[0.5555555555555556,\"#d8576b\"],[0.6666666666666666,\"#ed7953\"],[0.7777777777777778,\"#fb9f3a\"],[0.8888888888888888,\"#fdca26\"],[1.0,\"#f0f921\"]],\"type\":\"heatmapgl\"}],\"heatmap\":[{\"colorbar\":{\"outlinewidth\":0,\"ticks\":\"\"},\"colorscale\":[[0.0,\"#0d0887\"],[0.1111111111111111,\"#46039f\"],[0.2222222222222222,\"#7201a8\"],[0.3333333333333333,\"#9c179e\"],[0.4444444444444444,\"#bd3786\"],[0.5555555555555556,\"#d8576b\"],[0.6666666666666666,\"#ed7953\"],[0.7777777777777778,\"#fb9f3a\"],[0.8888888888888888,\"#fdca26\"],[1.0,\"#f0f921\"]],\"type\":\"heatmap\"}],\"histogram2dcontour\":[{\"colorbar\":{\"outlinewidth\":0,\"ticks\":\"\"},\"colorscale\":[[0.0,\"#0d0887\"],[0.1111111111111111,\"#46039f\"],[0.2222222222222222,\"#7201a8\"],[0.3333333333333333,\"#9c179e\"],[0.4444444444444444,\"#bd3786\"],[0.5555555555555556,\"#d8576b\"],[0.6666666666666666,\"#ed7953\"],[0.7777777777777778,\"#fb9f3a\"],[0.8888888888888888,\"#fdca26\"],[1.0,\"#f0f921\"]],\"type\":\"histogram2dcontour\"}],\"histogram2d\":[{\"colorbar\":{\"outlinewidth\":0,\"ticks\":\"\"},\"colorscale\":[[0.0,\"#0d0887\"],[0.1111111111111111,\"#46039f\"],[0.2222222222222222,\"#7201a8\"],[0.3333333333333333,\"#9c179e\"],[0.4444444444444444,\"#bd3786\"],[0.5555555555555556,\"#d8576b\"],[0.6666666666666666,\"#ed7953\"],[0.7777777777777778,\"#fb9f3a\"],[0.8888888888888888,\"#fdca26\"],[1.0,\"#f0f921\"]],\"type\":\"histogram2d\"}],\"histogram\":[{\"marker\":{\"pattern\":{\"fillmode\":\"overlay\",\"size\":10,\"solidity\":0.2}},\"type\":\"histogram\"}],\"mesh3d\":[{\"colorbar\":{\"outlinewidth\":0,\"ticks\":\"\"},\"type\":\"mesh3d\"}],\"parcoords\":[{\"line\":{\"colorbar\":{\"outlinewidth\":0,\"ticks\":\"\"}},\"type\":\"parcoords\"}],\"pie\":[{\"automargin\":true,\"type\":\"pie\"}],\"scatter3d\":[{\"line\":{\"colorbar\":{\"outlinewidth\":0,\"ticks\":\"\"}},\"marker\":{\"colorbar\":{\"outlinewidth\":0,\"ticks\":\"\"}},\"type\":\"scatter3d\"}],\"scattercarpet\":[{\"marker\":{\"colorbar\":{\"outlinewidth\":0,\"ticks\":\"\"}},\"type\":\"scattercarpet\"}],\"scattergeo\":[{\"marker\":{\"colorbar\":{\"outlinewidth\":0,\"ticks\":\"\"}},\"type\":\"scattergeo\"}],\"scattergl\":[{\"marker\":{\"line\":{\"color\":\"#283442\"}},\"type\":\"scattergl\"}],\"scattermapbox\":[{\"marker\":{\"colorbar\":{\"outlinewidth\":0,\"ticks\":\"\"}},\"type\":\"scattermapbox\"}],\"scatterpolargl\":[{\"marker\":{\"colorbar\":{\"outlinewidth\":0,\"ticks\":\"\"}},\"type\":\"scatterpolargl\"}],\"scatterpolar\":[{\"marker\":{\"colorbar\":{\"outlinewidth\":0,\"ticks\":\"\"}},\"type\":\"scatterpolar\"}],\"scatter\":[{\"marker\":{\"line\":{\"color\":\"#283442\"}},\"type\":\"scatter\"}],\"scatterternary\":[{\"marker\":{\"colorbar\":{\"outlinewidth\":0,\"ticks\":\"\"}},\"type\":\"scatterternary\"}],\"surface\":[{\"colorbar\":{\"outlinewidth\":0,\"ticks\":\"\"},\"colorscale\":[[0.0,\"#0d0887\"],[0.1111111111111111,\"#46039f\"],[0.2222222222222222,\"#7201a8\"],[0.3333333333333333,\"#9c179e\"],[0.4444444444444444,\"#bd3786\"],[0.5555555555555556,\"#d8576b\"],[0.6666666666666666,\"#ed7953\"],[0.7777777777777778,\"#fb9f3a\"],[0.8888888888888888,\"#fdca26\"],[1.0,\"#f0f921\"]],\"type\":\"surface\"}],\"table\":[{\"cells\":{\"fill\":{\"color\":\"#506784\"},\"line\":{\"color\":\"rgb(17,17,17)\"}},\"header\":{\"fill\":{\"color\":\"#2a3f5f\"},\"line\":{\"color\":\"rgb(17,17,17)\"}},\"type\":\"table\"}]},\"layout\":{\"annotationdefaults\":{\"arrowcolor\":\"#f2f5fa\",\"arrowhead\":0,\"arrowwidth\":1},\"autotypenumbers\":\"strict\",\"coloraxis\":{\"colorbar\":{\"outlinewidth\":0,\"ticks\":\"\"}},\"colorscale\":{\"diverging\":[[0,\"#8e0152\"],[0.1,\"#c51b7d\"],[0.2,\"#de77ae\"],[0.3,\"#f1b6da\"],[0.4,\"#fde0ef\"],[0.5,\"#f7f7f7\"],[0.6,\"#e6f5d0\"],[0.7,\"#b8e186\"],[0.8,\"#7fbc41\"],[0.9,\"#4d9221\"],[1,\"#276419\"]],\"sequential\":[[0.0,\"#0d0887\"],[0.1111111111111111,\"#46039f\"],[0.2222222222222222,\"#7201a8\"],[0.3333333333333333,\"#9c179e\"],[0.4444444444444444,\"#bd3786\"],[0.5555555555555556,\"#d8576b\"],[0.6666666666666666,\"#ed7953\"],[0.7777777777777778,\"#fb9f3a\"],[0.8888888888888888,\"#fdca26\"],[1.0,\"#f0f921\"]],\"sequentialminus\":[[0.0,\"#0d0887\"],[0.1111111111111111,\"#46039f\"],[0.2222222222222222,\"#7201a8\"],[0.3333333333333333,\"#9c179e\"],[0.4444444444444444,\"#bd3786\"],[0.5555555555555556,\"#d8576b\"],[0.6666666666666666,\"#ed7953\"],[0.7777777777777778,\"#fb9f3a\"],[0.8888888888888888,\"#fdca26\"],[1.0,\"#f0f921\"]]},\"colorway\":[\"#636efa\",\"#EF553B\",\"#00cc96\",\"#ab63fa\",\"#FFA15A\",\"#19d3f3\",\"#FF6692\",\"#B6E880\",\"#FF97FF\",\"#FECB52\"],\"font\":{\"color\":\"#f2f5fa\"},\"geo\":{\"bgcolor\":\"rgb(17,17,17)\",\"lakecolor\":\"rgb(17,17,17)\",\"landcolor\":\"rgb(17,17,17)\",\"showlakes\":true,\"showland\":true,\"subunitcolor\":\"#506784\"},\"hoverlabel\":{\"align\":\"left\"},\"hovermode\":\"closest\",\"mapbox\":{\"style\":\"dark\"},\"paper_bgcolor\":\"rgb(17,17,17)\",\"plot_bgcolor\":\"rgb(17,17,17)\",\"polar\":{\"angularaxis\":{\"gridcolor\":\"#506784\",\"linecolor\":\"#506784\",\"ticks\":\"\"},\"bgcolor\":\"rgb(17,17,17)\",\"radialaxis\":{\"gridcolor\":\"#506784\",\"linecolor\":\"#506784\",\"ticks\":\"\"}},\"scene\":{\"xaxis\":{\"backgroundcolor\":\"rgb(17,17,17)\",\"gridcolor\":\"#506784\",\"gridwidth\":2,\"linecolor\":\"#506784\",\"showbackground\":true,\"ticks\":\"\",\"zerolinecolor\":\"#C8D4E3\"},\"yaxis\":{\"backgroundcolor\":\"rgb(17,17,17)\",\"gridcolor\":\"#506784\",\"gridwidth\":2,\"linecolor\":\"#506784\",\"showbackground\":true,\"ticks\":\"\",\"zerolinecolor\":\"#C8D4E3\"},\"zaxis\":{\"backgroundcolor\":\"rgb(17,17,17)\",\"gridcolor\":\"#506784\",\"gridwidth\":2,\"linecolor\":\"#506784\",\"showbackground\":true,\"ticks\":\"\",\"zerolinecolor\":\"#C8D4E3\"}},\"shapedefaults\":{\"line\":{\"color\":\"#f2f5fa\"}},\"sliderdefaults\":{\"bgcolor\":\"#C8D4E3\",\"bordercolor\":\"rgb(17,17,17)\",\"borderwidth\":1,\"tickwidth\":0},\"ternary\":{\"aaxis\":{\"gridcolor\":\"#506784\",\"linecolor\":\"#506784\",\"ticks\":\"\"},\"baxis\":{\"gridcolor\":\"#506784\",\"linecolor\":\"#506784\",\"ticks\":\"\"},\"bgcolor\":\"rgb(17,17,17)\",\"caxis\":{\"gridcolor\":\"#506784\",\"linecolor\":\"#506784\",\"ticks\":\"\"}},\"title\":{\"x\":0.05},\"updatemenudefaults\":{\"bgcolor\":\"#506784\",\"borderwidth\":0},\"xaxis\":{\"automargin\":true,\"gridcolor\":\"#283442\",\"linecolor\":\"#506784\",\"ticks\":\"\",\"title\":{\"standoff\":15},\"zerolinecolor\":\"#283442\",\"zerolinewidth\":2},\"yaxis\":{\"automargin\":true,\"gridcolor\":\"#283442\",\"linecolor\":\"#506784\",\"ticks\":\"\",\"title\":{\"standoff\":15},\"zerolinecolor\":\"#283442\",\"zerolinewidth\":2}}},\"scene\":{\"domain\":{\"x\":[0.0,1.0],\"y\":[0.0,1.0]}},\"width\":600,\"height\":600},                        {\"responsive\": true}                    ).then(function(){\n",
              "                            \n",
              "var gd = document.getElementById('efd14879-82a1-4611-93f8-0c5faed94f49');\n",
              "var x = new MutationObserver(function (mutations, observer) {{\n",
              "        var display = window.getComputedStyle(gd).display;\n",
              "        if (!display || display === 'none') {{\n",
              "            console.log([gd, 'removed!']);\n",
              "            Plotly.purge(gd);\n",
              "            observer.disconnect();\n",
              "        }}\n",
              "}});\n",
              "\n",
              "// Listen for the removal of the full notebook cells\n",
              "var notebookContainer = gd.closest('#notebook-container');\n",
              "if (notebookContainer) {{\n",
              "    x.observe(notebookContainer, {childList: true});\n",
              "}}\n",
              "\n",
              "// Listen for the clearing of the current output cell\n",
              "var outputEl = gd.closest('.output');\n",
              "if (outputEl) {{\n",
              "    x.observe(outputEl, {childList: true});\n",
              "}}\n",
              "\n",
              "                        })                };                            </script>        </div>\n",
              "</body>\n",
              "</html>"
            ]
          },
          "metadata": {}
        }
      ]
    },
    {
      "cell_type": "code",
      "source": [
        "tangent, normal = frenet(lambda t: curve(t, R=R,mz=mz))\n",
        "\n",
        "def surf(t,theta):\n",
        "    T = tangent(t)\n",
        "    N = normal(t)\n",
        "    B = jnp.cross(T,N)\n",
        "    return curve(t, R, mz) + jnp.stack([N, B], axis=1) @ jnp.array([r*jnp.cos(theta), r*jnp.sin(theta)])\n"
      ],
      "metadata": {
        "id": "tAfC_KdIOnv-"
      },
      "execution_count": 45,
      "outputs": []
    },
    {
      "cell_type": "code",
      "source": [
        "def get_tangent_local_basis_function(f):\n",
        "\n",
        "    dfdt = jax.jacobian(f)\n",
        "\n",
        "    def dsdt(t):\n",
        "        return jnp.linalg.norm(dfdt(t))\n",
        "\n",
        "    def tangent(t):   #df_ds = dfdt / dsdt\n",
        "        return dfdt(t)/dsdt(t)\n",
        "\n",
        "    def local_basis(t):\n",
        "        arb_v = jnp.array([0.,0.,1.])\n",
        "        v1 = jnp.cross(arb_v, tangent(t))\n",
        "        v2 = jnp.cross(v1, tangent(t))\n",
        "        return v1/jnp.linalg.norm(v1), v2/jnp.linalg.norm(v2)\n",
        "\n",
        "    return tangent, local_basis\n",
        "\n"
      ],
      "metadata": {
        "id": "TAudO76EOmgc"
      },
      "execution_count": 46,
      "outputs": []
    },
    {
      "cell_type": "code",
      "source": [
        "tangent, local_basis=get_tangent_local_basis_function(lambda t: curve(t,R, mz))\n",
        "\n",
        "def surf2(t,theta):\n",
        "    v1,v2 = local_basis(t)\n",
        "    return curve(t, R, mz) + jnp.stack([v1, v2], axis=1) @ jnp.array([r*jnp.cos(theta), r*jnp.sin(theta)])"
      ],
      "metadata": {
        "id": "liul_KiUQIS-"
      },
      "execution_count": 47,
      "outputs": []
    },
    {
      "cell_type": "code",
      "source": [
        "# surf_vec = jnp.vectorize(surf, signature='(),()->(3)')\n",
        "surf2_vec = jnp.vectorize(surf2, signature='(),()->(3)')"
      ],
      "metadata": {
        "id": "XWZUm1-tcqP1"
      },
      "execution_count": 48,
      "outputs": []
    },
    {
      "cell_type": "code",
      "source": [
        "# s1=surf_vec(t[:,None], theta[None,:])\n",
        "s2=surf2_vec(t[:,None], theta[None,:])"
      ],
      "metadata": {
        "id": "7qGt8atYdOlf"
      },
      "execution_count": 49,
      "outputs": []
    },
    {
      "cell_type": "code",
      "source": [
        "x,y,z = s2.T"
      ],
      "metadata": {
        "id": "r5NH4Fu5fIA5"
      },
      "execution_count": 50,
      "outputs": []
    },
    {
      "cell_type": "code",
      "source": [
        "fig=make_subplots(rows=1,cols=1,specs=[[{'type':'surface'}]])\n",
        "\n",
        "for i in range(theta.size):\n",
        "    fig.add_scatter3d(x=x[i,:],y=y[i,:],z=z[i,:],mode='lines', line_color='white',row=1,col=1)\n",
        "\n",
        "for i in range(t.size):\n",
        "    fig.add_scatter3d(x=x[:,i],y=y[:,i],z=z[:,i],mode='lines', line_color='white',row=1,col=1)\n",
        "\n",
        "fig.update_layout(width=600,height=600,template='plotly_dark', showlegend=False)"
      ],
      "metadata": {
        "id": "vK61OUlkfWaT",
        "outputId": "0870f3e4-f7ba-4944-dcfd-b1c3da5044da",
        "colab": {
          "base_uri": "https://localhost:8080/",
          "height": 617
        }
      },
      "execution_count": 51,
      "outputs": [
        {
          "output_type": "display_data",
          "data": {
            "text/html": [
              "<html>\n",
              "<head><meta charset=\"utf-8\" /></head>\n",
              "<body>\n",
              "    <div>            <script src=\"https://cdnjs.cloudflare.com/ajax/libs/mathjax/2.7.5/MathJax.js?config=TeX-AMS-MML_SVG\"></script><script type=\"text/javascript\">if (window.MathJax) {MathJax.Hub.Config({SVG: {font: \"STIX-Web\"}});}</script>                <script type=\"text/javascript\">window.PlotlyConfig = {MathJaxConfig: 'local'};</script>\n",
              "        <script src=\"https://cdn.plot.ly/plotly-2.8.3.min.js\"></script>                <div id=\"a8de921a-5194-499b-8051-d80e2331ec04\" class=\"plotly-graph-div\" style=\"height:600px; width:600px;\"></div>            <script type=\"text/javascript\">                                    window.PLOTLYENV=window.PLOTLYENV || {};                                    if (document.getElementById(\"a8de921a-5194-499b-8051-d80e2331ec04\")) {                    Plotly.newPlot(                        \"a8de921a-5194-499b-8051-d80e2331ec04\",                        [{\"line\":{\"color\":\"white\"},\"mode\":\"lines\",\"x\":[2.0,1.8724697412794746,1.506142932007222,0.9477373249459975,0.2684665316353111,-0.4450418679126287,-1.1017939629042046,-1.6180339887498947,-1.9279257213917065,-1.991948587990478,-1.8019377358048385,-1.3821252979737295,-0.7860500633078475,-0.08972966070103021,0.6180339887498945,1.2469796037174667,1.7168975872037318,1.9678591771972593,1.9678591771972593,1.7168975872037326,1.2469796037174672,0.6180339887498956,-0.08972966070102925,-0.7860500633078469,-1.3821252979737289,-1.8019377358048376,-1.9919485879904777,-1.927925721391707,-1.6180339887498956,-1.1017939629042057,-0.4450418679126297,0.2684665316353101,0.9477373249459967,1.5061429320072213,1.8724697412794744,2.0],\"y\":[0.0,0.7027496481626855,1.3158774518794254,1.7611910637134762,1.9818995235358696,1.9498558243636475,1.6691465074426055,1.1755705045849463,0.5320736911333503,-0.17927861780686677,-0.867767478235116,-1.445589727654783,-1.8390555451029011,-1.997986133082629,-1.9021130325903073,-1.5636629649360598,-1.025798554811813,-0.3571137895972738,0.35711378959727275,1.0257985548118118,1.5636629649360594,1.902113032590307,1.9979861330826294,1.8390555451029016,1.4455897276547836,0.8677674782351168,0.1792786178068677,-0.5320736911333495,-1.1755705045849456,-1.6691465074426048,-1.949855824363647,-1.98189952353587,-1.7611910637134764,-1.3158774518794258,-0.7027496481626865,-9.797174393178824e-16],\"z\":[0.0,0.7180783208205241,1.4361566416410483,2.1542349624615724,2.8723132832820966,3.5903916041026207,4.308469924923145,5.026548245743669,5.744626566564193,6.462704887384717,7.180783208205241,7.8988615290257655,8.61693984984629,9.335018170666814,10.053096491487338,10.771174812307862,11.489253133128386,12.20733145394891,12.925409774769435,13.643488095589959,14.361566416410483,15.079644737231007,15.797723058051531,16.515801378872055,17.23387969969258,17.951958020513104,18.670036341333628,19.388114662154152,20.106192982974676,20.8242713037952,21.542349624615724,22.26042794543625,22.978506266256773,23.696584587077297,24.41466290789782,25.132741228718345],\"type\":\"scatter3d\",\"scene\":\"scene\"},{\"line\":{\"color\":\"white\"},\"mode\":\"lines\",\"x\":[2.0675277705956443,1.8652828183750545,1.425157865740143,0.8032821617697989,0.07896367588336933,-0.65542506801799,-1.3062272834230968,-1.790445995425447,-2.046328666406061,-2.041242513132682,-1.7758361740481563,-1.2839569882420008,-0.6283344355393161,0.10741977029071295,0.8294747050238679,1.4457465160231975,1.87764189978979,2.070081126291692,1.9985223711851368,1.6720915410225832,1.132418444029017,0.44832772988853586,-0.2929383356362165,-0.9968458994281222,-1.5736254477614642,-1.9497201356125835,-2.0771665101364123,-1.9397113022169332,-1.5548842100826012,-0.9717623323559745,-0.26471135296912934,0.4760983337481294,1.1561910767860781,1.688834472671135,2.0061003713203,2.0675277705956443],\"y\":[0.20038082311874242,0.914080720687595,1.5112076674557142,1.915609909412764,2.0757139240148015,1.9711016048574344,1.615114188068155,1.0531508410113524,0.356878894728633,-0.38490590933072427,-1.077603563190075,-1.6328741558376354,-1.979903884933162,-2.074435959341389,-1.9044146791556473,-1.4915229022260188,-0.8884168236879172,-0.17201071777322768,0.5663319594817847,1.2324501754223829,1.7413937016312075,2.0282568385367106,2.0564558560719517,1.8223945262349968,1.3559227509764231,0.7165297964807794,-0.014242388341023537,-0.7431982376928975,-1.3773738235111577,-1.8358925692621604,-2.0602794606720694,-2.021918379425885,-1.7257015241397307,-1.2094055070056315,-0.5388736926650763,0.2003808231187414],\"z\":[-0.30057123467811364,0.41750708614241044,1.1355854069629345,1.8536637277834587,2.571742048603983,3.289820369424507,4.007898690245031,4.725977011065555,5.444055331886079,6.162133652706603,6.880211973527127,7.598290294347652,8.316368615168177,9.0344469359887,9.752525256809225,10.470603577629749,11.188681898450273,11.906760219270797,12.624838540091321,13.342916860911846,14.06099518173237,14.779073502552894,15.497151823373418,16.215230144193942,16.933308465014466,17.65138678583499,18.369465106655515,19.08754342747604,19.805621748296563,20.523700069117087,21.24177838993761,21.959856710758135,22.67793503157866,23.396013352399184,24.114091673219708,24.832169994040232],\"type\":\"scatter3d\",\"scene\":\"scene\"},{\"line\":{\"color\":\"white\"},\"mode\":\"lines\",\"x\":[2.260991082779341,1.9855102363693968,1.4568167558230112,0.7423350574981206,-0.06681682276682172,-0.8674475363374277,-1.5574524411724389,-2.048835033239815,-2.2789291634424407,-2.218390867825501,-1.8749406108915243,-1.292378692764931,-0.5449993855851314,0.27188383424086754,1.0540936383442001,1.7018746080338367,2.132615068651025,2.291382577811857,2.1579294739966377,1.7492750660619796,1.1175351563790725,0.3432756990738599,-0.4747617969467116,-1.2322527981720477,-1.8325942812374105,-2.1992245414868106,-2.285387126975869,-2.0800937008851363,-1.6095253869575865,-0.9336938840140813,-0.13878815847648818,0.6738172568189569,1.4004905830219254,1.948558982836448,2.2481271514376346,2.2609910827793414],\"y\":[0.37369910572682724,1.1443254778694172,1.769015725758831,2.168102940461543,2.290691426234462,2.1211474417708107,1.6810929752737467,1.0266482867067634,0.2412748765210827,-0.5748683810900946,-1.3176985253306026,-1.892482235720044,-2.225917196964109,-2.2754803621888744,-2.0348509281102176,-1.5347164287119628,-0.8388591460974308,-0.03602193955101385,0.7714091542659587,1.480462239060012,2.000711591480773,2.265809677014837,2.2419484682277284,1.9321709912494511,1.3759832478648373,0.6443160048849115,-0.16952102489576237,-0.9617389945129109,-1.6313061413382097,-2.0928323939062645,-2.2874591898207566,-2.190365723444764,-1.8139343496652889,-1.2061714589709513,-0.4445852100527351,0.3736991057268262],\"z\":[-0.560548658590241,0.1575296622302832,0.8756079830508072,1.5936863038713316,2.3117646246918557,3.02984294551238,3.747921266332904,4.465999587153428,5.184077907973952,5.902156228794476,6.620234549615001,7.338312870435525,8.056391191256049,8.774469512076573,9.492547832897097,10.210626153717621,10.928704474538145,11.64678279535867,12.364861116179194,13.082939436999718,13.801017757820242,14.519096078640766,15.23717439946129,15.955252720281814,16.673331041102337,17.39140936192286,18.109487682743385,18.82756600356391,19.545644324384433,20.263722645204957,20.98180096602548,21.699879286846006,22.41795760766653,23.136035928487054,23.854114249307578,24.572192570128102],\"type\":\"scatter3d\",\"scene\":\"scene\"},{\"line\":{\"color\":\"white\"},\"mode\":\"lines\",\"x\":[2.5542616442234616,2.2169146162592437,1.5968438937221694,0.7731272562824157,-0.14918650017492469,-1.052474463667347,-1.8215400865115263,-2.358304230853082,-2.5943132264922344,-2.4994687851547503,-2.0858664429826037,-1.4062530136804225,-0.5472997737170588,0.38145074798612677,1.2615547571095036,1.9807723616685955,2.4473815544776247,2.601875544456281,2.424551673091819,1.9380240995766744,1.2043398112359025,0.3170657551807876,-0.6106437786639523,-1.4604777534295992,-2.124056622444797,-2.5167540008625644,-2.5884890904144107,-2.33011349657045,-1.774577925660671,-0.9927299727716529,-0.08427890961544571,0.8349202646887031,1.647641841626092,2.2502392282221417,2.5658630238599467,2.554261644223462],\"y\":[0.49654725336827493,1.3623880894205038,2.054483219951173,2.484569573904491,2.5977981272886232,2.3797288133959404,1.858172068246184,1.0996421584857377,0.200874599753608,-0.7235105486554814,-1.5556262096075075,-2.189352457575858,-2.5438700201991407,-2.573967180995038,-2.275805641260497,-1.6874100192983725,-0.8838185610075201,0.0324865070306245,0.944648562422227,1.7363393422481506,2.30659431653054,2.5826887208624965,2.5294121644282748,2.153559020253671,1.503061937056195,0.6608789761529679,-0.2655860515620031,-1.1581808214087088,-1.9030724914560113,-2.4052648343040133,-2.6007131305418425,-2.464491808383803,-2.0139732082879607,-1.3066120838829476,-0.4326183823729777,0.4965472533682737],\"z\":[-0.7448208800524124,-0.026742559231888396,0.6913357615886356,1.4094140824091599,2.127492403229684,2.845570724050208,3.5636490448707323,4.281727365691257,4.999805686511781,5.717884007332305,6.435962328152829,7.154040648973353,7.872118969793878,8.590197290614402,9.308275611434926,10.02635393225545,10.744432253075974,11.462510573896498,12.180588894717022,12.898667215537547,13.61674553635807,14.334823857178595,15.052902177999119,15.770980498819643,16.489058819640167,17.20713714046069,17.925215461281216,18.64329378210174,19.361372102922264,20.079450423742788,20.797528744563312,21.515607065383836,22.23368538620436,22.951763707024885,23.66984202784541,24.387920348665933],\"type\":\"scatter3d\",\"scene\":\"scene\"},{\"line\":{\"color\":\"white\"},\"mode\":\"lines\",\"x\":[2.907731640536698,2.5282435142845383,1.8263278385471797,0.8915001010514019,-0.15702087498083622,-1.185516938202245,-2.062823719577156,-2.677058058299555,-2.949886490237145,-2.846515134878608,-2.3801269679171106,-1.6102005929494436,-0.6349249197709911,0.4213228926939654,1.4238392876487802,2.244773089873297,2.7794303991773988,2.9596262305787135,2.7623801630782703,2.212847038696008,1.381108958959895,0.37323769636639126,-0.6822326662089718,-1.6506977203551108,-2.4086488671549806,-2.8594244007596745,-2.945536800743704,-2.6560041304580597,-2.0277505662523145,-1.1408974477117186,-0.10854538249086076,0.9376495034419752,1.8642657056116838,2.553131620020931,2.9163959983813545,2.9077316405366984],\"y\":[0.5523339429790224,1.5388179913242372,2.3290561831120726,2.822269237292986,2.955557565462944,2.711922872646006,2.1224359542504123,1.2622742294915177,0.2411343456693179,-0.8107574636424947,-1.7592531638563829,-2.4833908529287636,-2.8908210640229517,-2.9295841169075483,-2.594736549419383,-1.9289815584721595,-1.0172230503058595,0.024262176642429578,1.062653241926386,1.9655238643372657,2.617730719807846,2.9360976993206647,2.880023379610379,2.456658933177219,1.719996137407878,0.7639817892366056,-0.2894633541737811,-1.3059931611362743,-2.1559693223718215,-2.730994158131774,-2.9577346023409374,-2.8072743874869106,-2.298801743697173,-1.4971623187865393,-0.5045893960144366,0.552333942979021],\"z\":[-0.8285009144685337,-0.11042259364800966,0.6076557271725144,1.3257340479930386,2.0438123688135628,2.761890689634087,3.479969010454611,4.198047331275135,4.916125652095659,5.6342039729161835,6.352282293736708,7.070360614557232,7.788438935377756,8.506517256198281,9.224595577018803,9.94267389783933,10.660752218659853,11.378830539480376,12.096908860300902,12.814987181121424,13.53306550194195,14.251143822762474,14.969222143582996,15.68730046440352,16.405378785224045,17.12345710604457,17.841535426865093,18.559613747685617,19.27769206850614,19.995770389326665,20.71384871014719,21.431927030967714,22.150005351788238,22.868083672608762,23.586161993429286,24.30424031424981],\"type\":\"scatter3d\",\"scene\":\"scene\"},{\"line\":{\"color\":\"white\"},\"mode\":\"lines\",\"x\":[3.273662990072083,2.877450237633986,2.1142755119349887,1.0814666831924509,-0.08926187145524872,-1.2486068365423824,-2.2487166487250487,-2.9620470449066567,-3.2976268151089503,-3.212659384416657,-2.7179806712487826,-1.8766771798791635,-0.7960405622246485,0.38611531428240886,1.5190298048630737,2.458222031425361,3.083916566327476,3.3163184236533336,3.1257893344110355,2.5366275226454387,1.6239689466392635,0.5042051907140837,-0.6798599836310953,-1.7772224383700688,-2.6479352557397835,-3.1809562048698026,-3.3083089862141146,-3.0137522666191017,-2.334850940742584,-1.3581854703193015,-0.20831025547574028,0.9681308201427811,2.021105921793179,2.8163288623357063,3.2523846544224777,3.2736629900720833],\"y\":[0.5335248730024198,1.6497873476966833,2.555652015105339,3.1355937198279786,3.3156523462185,3.0728649710684595,2.4381943311448175,1.4925801373593583,0.3566168124953425,-0.8248259467302935,-1.9010784395700127,-2.7348859071633553,-3.219912667445035,-3.2943031321899525,-2.948570266182848,-2.2268054712737952,-1.2210555984929141,-0.05958418932408471,1.1094860069248975,2.137063165663945,2.892100105983764,3.278306771541814,3.2464301263598863,2.800535407245173,1.9974876830884905,0.9396998379164696,-0.23792817070467442,-1.3852131381589499,-2.3558415157207433,-3.0260288152781154,-3.310305877127304,-3.1724187740223715,-2.629952283896513,-1.7520872985826947,-0.6507781667796793,0.5335248730024182],\"z\":[-0.8002873095036298,-0.08220898868310578,0.6358693321374183,1.3539476529579426,2.0720259737784668,2.790104294598991,3.508182615419515,4.226260936240039,4.944339257060563,5.6624175778810875,6.380495898701612,7.098574219522136,7.81665254034266,8.534730861163183,9.252809181983707,9.970887502804231,10.688965823624756,11.40704414444528,12.125122465265804,12.843200786086328,13.561279106906852,14.279357427727376,14.9974357485479,15.715514069368425,16.43359239018895,17.151670711009473,17.869749031829997,18.58782735265052,19.305905673471045,20.02398399429157,20.742062315112094,21.460140635932618,22.178218956753142,22.896297277573666,23.61437559839419,24.332453919214714],\"type\":\"scatter3d\",\"scene\":\"scene\"},{\"line\":{\"color\":\"white\"},\"mode\":\"lines\",\"x\":[3.602634636379256,3.217372483297991,2.421797985021433,1.3173709631462445,0.04493928151010712,-1.2332235183237286,-2.3541130038055025,-3.174781848854607,-3.590569943338055,-3.548451723993458,-3.05379853823068,-2.169693634806981,-1.0088871407920703,0.28058299130786485,1.534270301933729,2.5922917240067656,3.319717511838142,3.623778866505741,3.46569876478189,2.8656372029379984,1.9001201872042606,0.6922803523962704,-0.6038461748599531,-1.8229640432088872,-2.8095988354891763,-3.4379247613786434,-3.627811252987791,-3.355042036914172,-2.654403441854649,-1.6152480891067489,-0.37009972965723115,0.9222475440678701,2.096980349893627,3.0042847091655904,3.528451862207548,3.6026346363792565],\"y\":[0.4426603125634621,1.6803091320573118,2.7036676932094306,3.3822268139522245,3.629449674060192,3.413807878222136,2.7628022804522425,1.7594557930626167,0.5317254531763879,-0.7638159713217145,-1.9619477473822893,-2.9098718196230484,-3.4866991858637126,-3.6188669028505327,-3.2895195874416774,-2.540658987980148,-1.4677874904608819,-0.20772867453638805,1.0788218329954027,2.2277899130519385,3.092647369121983,3.5630987060765484,3.579147143198402,3.138746019149333,2.29805980322013,1.1643014260310238,-0.11794061324849586,-1.3851416556067773,-2.4756952242609493,-3.2505227404519528,-3.6108102505761672,-3.510610195253677,-2.9627011134635706,-2.036957992161866,-0.8514410911169163,0.4426603125634604],\"z\":[-0.6639904688451932,0.054087851975330836,0.7721661727958549,1.490244493616379,2.208322814436903,2.9264011352574277,3.644479456077952,4.362557776898476,5.080636097719,5.798714418539524,6.516792739360048,7.234871060180572,7.952949381001097,8.67102770182162,9.389106022642144,10.107184343462668,10.825262664283192,11.543340985103717,12.26141930592424,12.979497626744765,13.697575947565289,14.415654268385813,15.133732589206337,15.851810910026861,16.569889230847387,17.28796755166791,18.006045872488436,18.72412419330896,19.442202514129484,20.160280834950008,20.878359155770532,21.596437476591056,22.31451579741158,23.032594118232105,23.75067243905263,24.468750759873153],\"type\":\"scatter3d\",\"scene\":\"scene\"},{\"line\":{\"color\":\"white\"},\"mode\":\"lines\",\"x\":[3.850217135729614,3.502101868425444,2.70736264377534,1.5673527607142816,0.22745797457300065,-1.141444585913622,-2.3647784230435365,-3.286531456065993,-3.789152282203208,-3.8085415374595777,-3.342226505095859,-2.449676461834667,-1.2447185456141194,0.11897864876283393,1.4675024652808446,2.6288753127285798,3.4549870114000365,3.8404833226315915,3.7362018021160757,3.1554414991446027,2.172266925409736,0.9120625886673248,-0.46445732597714273,-1.7817448776751017,-2.871806044149184,-3.595625042817751,-3.86089304951377,-3.6337803667130193,-2.943250733611791,-1.8773675729736732,-0.5720632400406985,0.8061964658991687,2.081641727963342,3.0916146818969077,3.707313215583986,3.8502171357296144],\"y\":[0.29201202404734095,1.6262612083011745,2.7531128799132047,3.528859353663093,3.8545694810519797,3.688705365266066,3.0524196999039797,2.0268581604895104,0.742810875478005,-0.6359672726636305,-1.9336403499846861,-2.9847157731997473,-3.6551496216514106,-3.8594412931916384,-3.5715374180944575,-2.828154452037652,-1.7240962170108787,-0.4001635453696283,0.9748020867431333,2.225450956532235,3.1922874900649396,3.7520107740793653,3.83323915335325,3.4256135516623467,2.5811185674514054,1.4074528645450342,0.05429433368628997,-1.3057883675945252,-2.4993435405217577,-3.3741567850947765,-3.8186629419010414,-3.7761740257601835,-3.2521086591404003,-2.3133010338331803,-1.079477529182756,0.2920120240473391],\"z\":[-0.4380180360710115,0.2800602847495126,0.9981386055700368,1.716216926390561,2.434295247211085,3.152373568031609,3.8704518888521333,4.5885302096726575,5.306608530493182,6.024686851313706,6.74276517213423,7.460843492954754,8.178921813775279,8.897000134595803,9.615078455416327,10.333156776236851,11.051235097057376,11.7693134178779,12.487391738698424,13.205470059518948,13.923548380339472,14.641626701159996,15.359705021980519,16.077783342801045,16.79586166362157,17.513939984442093,18.232018305262617,18.95009662608314,19.668174946903665,20.38625326772419,21.104331588544714,21.822409909365238,22.540488230185762,23.258566551006286,23.97664487182681,24.694723192647334],\"type\":\"scatter3d\",\"scene\":\"scene\"},{\"line\":{\"color\":\"white\"},\"mode\":\"lines\",\"x\":[3.982973099683902,3.6931841118148925,2.9324023986635948,1.7976506489380397,0.4336440468642957,-0.9856652926986679,-2.2792724824719275,-3.2822034628609678,-3.866554186457944,-3.9578022542990072,-3.5443107766846387,-2.678812428733731,-1.471684438682652,-0.07687215141140202,1.3277436612177471,2.563031981217259,3.4714561695431527,3.937164654430244,3.9007655123125367,3.366900735201509,2.403654236243904,1.1338690906634277,-0.2805186734045631,-1.6591318184773314,-2.8261554534882296,-3.632758752331349,-3.9760753876203982,-3.8123221000339043,-3.1623823887041094,-2.109143233169645,-0.7869244954304103,0.6356509268045836,1.9771616218882473,3.0665243838002083,3.7648124976733293,3.982973099683902],\"y\":[0.10192589358914281,1.494943048021422,2.6973097287670784,3.5556878019536784,3.9606080898277085,3.860431003315405,3.2679321521775493,2.258673068191367,0.9613648234536567,-0.4585465259439112,-1.8199793182524537,-2.949309677238255,-3.702513810038912,-3.9835353987289874,-3.7565356873967835,-3.0504640079579803,-1.9553658643666445,-0.610899406199346,0.8114752112927701,2.1303621851434267,3.177563518354317,3.819529353968578,3.974389622880585,3.622394954930458,2.808435321190124,1.6363152043385507,0.2555153861293523,-1.1578703753799973,-2.4235926283523037,-3.380233486397682,-3.9057922933869804,-3.9332443986920023,-3.459088828220774,-2.543794764549272,-1.3040898964228822,0.10192589358914085],\"z\":[-0.15288884038371423,0.5651894804368099,1.283267801257334,2.0013461220778583,2.7194244428983825,3.4375027637189066,4.15558108453943,4.8736594053599545,5.591737726180479,6.309816047001003,7.027894367821527,7.745972688642051,8.464051009462576,9.1821293302831,9.900207651103624,10.618285971924148,11.336364292744673,12.054442613565197,12.772520934385721,13.490599255206245,14.20867757602677,14.926755896847293,15.644834217667817,16.36291253848834,17.080990859308866,17.79906918012939,18.517147500949914,19.235225821770438,19.953304142590962,20.671382463411486,21.38946078423201,22.107539105052535,22.82561742587306,23.543695746693583,24.261774067514107,24.97985238833463],\"type\":\"scatter3d\",\"scene\":\"scene\"},{\"line\":{\"color\":\"white\"},\"mode\":\"lines\",\"x\":[3.982973099683902,3.7648124976733297,3.0665243838002096,1.9771616218882486,0.6356509268045855,-0.7869244954304085,-2.109143233169643,-3.1623823887041076,-3.812322100033904,-3.9760753876203987,-3.63275875233135,-2.8261554534882305,-1.6591318184773332,-0.2805186734045649,1.133869090663426,2.403654236243903,3.3669007352015075,3.9007655123125367,3.937164654430244,3.4714561695431536,2.5630319812172604,1.327743661217749,-0.07687215141140025,-1.47168443868265,-2.67881242873373,-3.544310776684638,-3.957802254299007,-3.8665541864579445,-3.282203462860969,-2.279272482471929,-0.9856652926986695,0.4336440468642938,1.7976506489380384,2.932402398663594,3.6931841118148916,3.982973099683902],\"y\":[-0.10192589358914267,1.3040898964228806,2.5437947645492707,3.4590888282207737,3.9332443986920014,3.905792293386981,3.3802334863976835,2.4235926283523055,1.157870375379999,-0.2555153861293506,-1.636315204338549,-2.8084353211901227,-3.6223949549304573,-3.9743896228805844,-3.819529353968579,-3.177563518354318,-2.130362185143428,-0.8114752112927719,0.6108994061993442,1.955365864366643,3.050464007957979,3.756535687396783,3.983535398728988,3.702513810038913,2.9493096772382565,1.8199793182524555,0.458546525943913,-0.9613648234536547,-2.2586730681913654,-3.2679321521775484,-3.860431003315404,-3.960608089827709,-3.555687801953679,-2.6973097287670793,-1.4949430480214236,-0.10192589358914461],\"z\":[0.152888840383714,0.8709671612042382,1.5890454820247624,2.3071238028452865,3.0252021236658106,3.743280444486335,4.4613587653068585,5.179437086127383,5.897515406947907,6.615593727768431,7.333672048588955,8.05175036940948,8.769828690230003,9.487907011050527,10.205985331871052,10.924063652691576,11.6421419735121,12.360220294332624,13.078298615153148,13.796376935973672,14.514455256794196,15.23253357761472,15.950611898435245,16.66869021925577,17.386768540076293,18.104846860896817,18.82292518171734,19.541003502537865,20.25908182335839,20.977160144178914,21.695238464999438,22.413316785819962,23.131395106640486,23.84947342746101,24.567551748281534,25.28563006910206],\"type\":\"scatter3d\",\"scene\":\"scene\"},{\"line\":{\"color\":\"white\"},\"mode\":\"lines\",\"x\":[3.850217135729614,3.7073132155839863,3.0916146818969086,2.0816417279633432,0.8061964658991707,-0.5720632400406965,-1.8773675729736712,-2.9432507336117886,-3.6337803667130184,-3.8608930495137703,-3.595625042817752,-2.871806044149185,-1.7817448776751035,-0.4644573259771446,0.9120625886673228,2.172266925409734,3.155441499144602,3.736201802116075,3.8404833226315915,3.4549870114000374,2.6288753127285807,1.4675024652808464,0.11897864876283587,-1.2447185456141174,-2.4496764618346663,-3.3422265050958577,-3.808541537459577,-3.789152282203208,-3.286531456065995,-2.3647784230435382,-1.1414445859136237,0.22745797457299863,1.56735276071428,2.7073626437753386,3.502101868425443,3.850217135729614],\"y\":[-0.292012024047341,1.0794775291827543,2.313301033833179,3.2521086591404,3.7761740257601826,3.818662941901042,3.374156785094778,2.4993435405217594,1.305788367594527,-0.05429433368628808,-1.4074528645450324,-2.581118567451404,-3.4256135516623454,-3.8332391533532495,-3.7520107740793653,-3.1922874900649405,-2.2254509565322365,-0.9748020867431351,0.4001635453696264,1.724096217010877,2.8281544520376505,3.5715374180944566,3.859441293191639,3.655149621651411,2.9847157731997482,1.933640349984688,0.6359672726636325,-0.7428108754780027,-2.026858160489508,-3.0524196999039783,-3.688705365266065,-3.8545694810519797,-3.5288593536630932,-2.7531128799132056,-1.6262612083011763,-0.2920120240473429],\"z\":[0.43801803607101153,1.1560963568915357,1.87417467771206,2.592252998532584,3.310331319353108,4.028409640173632,4.746487960994156,5.4645662818146805,6.182644602635205,6.900722923455729,7.618801244276253,8.336879565096778,9.0549578859173,9.773036206737824,10.49111452755835,11.209192848378873,11.927271169199397,12.645349490019923,13.363427810840445,14.081506131660971,14.799584452481493,15.517662773302018,16.23574109412254,16.953819414943066,17.67189773576359,18.389976056584114,19.10805437740464,19.826132698225162,20.544211019045687,21.26228933986621,21.980367660686735,22.69844598150726,23.416524302327783,24.134602623148307,24.85268094396883,25.570759264789356],\"type\":\"scatter3d\",\"scene\":\"scene\"},{\"line\":{\"color\":\"white\"},\"mode\":\"lines\",\"x\":[3.6026346363792565,3.528451862207549,3.0042847091655918,2.096980349893628,0.9222475440678719,-0.3700997296572294,-1.6152480891067476,-2.654403441854648,-3.3550420369141714,-3.627811252987791,-3.4379247613786443,-2.8095988354891777,-1.8229640432088887,-0.6038461748599548,0.6922803523962686,1.9001201872042595,2.8656372029379975,3.46569876478189,3.623778866505741,3.3197175118381432,2.5922917240067664,1.5342703019337307,0.2805829913078665,-1.0088871407920688,-2.16969363480698,-3.053798538230679,-3.548451723993457,-3.590569943338055,-3.1747818488546082,-2.354113003805504,-1.2332235183237303,0.0449392815101054,1.3173709631462431,2.421797985021432,3.2173724832979906,3.602634636379256],\"y\":[-0.44266031256346206,0.8514410911169148,2.036957992161865,2.96270111346357,3.5106101952536766,3.6108102505761677,3.2505227404519537,2.4756952242609507,1.3851416556067788,0.11794061324849747,-1.1643014260310223,-2.298059803220129,-3.138746019149332,-3.5791471431984014,-3.563098706076549,-3.092647369121984,-2.22778991305194,-1.0788218329954042,0.2077286745363865,1.4677874904608803,2.5406589879801467,3.289519587441677,3.618866902850533,3.4866991858637135,2.9098718196230493,1.9619477473822908,0.7638159713217163,-0.531725453176386,-1.7594557930626151,-2.7628022804522416,-3.4138078782221357,-3.6294496740601923,-3.3822268139522254,-2.703667693209432,-1.6803091320573134,-0.4426603125634638],\"z\":[0.6639904688451931,1.3820687896657173,2.1001471104862417,2.8182254313067654,3.5363037521272895,4.254382072947814,4.972460393768338,5.690538714588862,6.408617035409386,7.12669535622991,7.844773677050434,8.56285199787096,9.280930318691484,9.999008639512008,10.717086960332532,11.435165281153056,12.15324360197358,12.871321922794104,13.589400243614628,14.307478564435153,15.025556885255677,15.7436352060762,16.461713526896723,17.179791847717247,17.89787016853777,18.615948489358296,19.33402681017882,20.052105130999344,20.770183451819868,21.488261772640392,22.206340093460916,22.92441841428144,23.642496735101965,24.36057505592249,25.078653376743013,25.796731697563537],\"type\":\"scatter3d\",\"scene\":\"scene\"},{\"line\":{\"color\":\"white\"},\"mode\":\"lines\",\"x\":[3.2736629900720833,3.252384654422478,2.8163288623357072,2.02110592179318,0.9681308201427827,-0.20831025547573867,-1.3581854703193001,-2.3348509407425824,-3.0137522666191012,-3.308308986214115,-3.1809562048698035,-2.6479352557397844,-1.77722243837007,-0.6798599836310969,0.504205190714082,1.6239689466392624,2.536627522645438,3.1257893344110355,3.3163184236533336,3.083916566327477,2.458222031425362,1.5190298048630753,0.3861153142824104,-0.796040562224647,-1.8766771798791626,-2.7179806712487817,-3.212659384416656,-3.2976268151089507,-2.962047044906658,-2.24871664872505,-1.248606836542384,-0.08926187145525033,1.08146668319245,2.114275511934988,2.8774502376339854,3.273662990072083],\"y\":[-0.5335248730024198,0.6507781667796778,1.7520872985826939,2.6299522838965124,3.172418774022371,3.3103058771273046,3.0260288152781167,2.355841515720745,1.3852131381589514,0.23792817070467598,-0.9396998379164683,-1.9974876830884896,-2.800535407245172,-3.2464301263598854,-3.2783067715418146,-2.892100105983765,-2.1370631656639465,-1.109486006924899,0.059584189324083214,1.2210555984929126,2.2268054712737944,2.9485702661828475,3.294303132189953,3.219912667445036,2.7348859071633562,1.9010784395700142,0.8248259467302952,-0.3566168124953407,-1.4925801373593566,-2.4381943311448167,-3.072864971068459,-3.3156523462185006,-3.135593719827979,-2.55565201510534,-1.6497873476966847,-0.5335248730024215],\"z\":[0.8002873095036298,1.518365630324154,2.236443951144678,2.9545222719652022,3.6726005927857264,4.3906789136062505,5.108757234426775,5.826835555247299,6.544913876067823,7.262992196888347,7.981070517708871,8.699148838529396,9.41722715934992,10.135305480170445,10.853383800990969,11.571462121811493,12.289540442632017,13.007618763452541,13.725697084273065,14.44377540509359,15.161853725914114,15.879932046734638,16.598010367555162,17.316088688375686,18.03416700919621,18.752245330016734,19.47032365083726,20.188401971657782,20.906480292478307,21.62455861329883,22.342636934119355,23.06071525493988,23.778793575760403,24.496871896580927,25.21495021740145,25.933028538221976],\"type\":\"scatter3d\",\"scene\":\"scene\"},{\"line\":{\"color\":\"white\"},\"mode\":\"lines\",\"x\":[2.9077316405366984,2.9163959983813554,2.553131620020932,1.8642657056116851,0.9376495034419767,-0.10854538249085932,-1.1408974477117175,-2.027750566252313,-2.6560041304580593,-2.9455368007437044,-2.859424400759676,-2.408648867154982,-1.6506977203551123,-0.6822326662089733,0.3732376963663897,1.3811089589598944,2.2128470386960077,2.7623801630782707,2.9596262305787135,2.7794303991773996,2.244773089873298,1.4238392876487818,0.42132289269396683,-0.6349249197709897,-1.610200592949443,-2.3801269679171098,-2.8465151348786075,-2.9498864902371453,-2.677058058299557,-2.0628237195771573,-1.1855169382022464,-0.1570208749808376,0.8915001010514009,1.826327838547179,2.528243514284538,2.9077316405366984],\"y\":[-0.5523339429790225,0.5045893960144354,1.4971623187865384,2.298801743697173,2.8072743874869106,2.9577346023409383,2.730994158131775,2.155969322371823,1.3059931611362756,0.28946335417378244,-0.7639817892366045,-1.7199961374078774,-2.456658933177218,-2.8800233796103787,-2.9360976993206656,-2.6177307198078474,-1.9655238643372672,-1.0626532419263877,-0.02426217664243102,1.0172230503058581,1.9289815584721588,2.5947365494193826,2.9295841169075487,2.8908210640229526,2.4833908529287645,1.7592531638563844,0.8107574636424963,-0.24113434566931635,-1.2622742294915166,-2.1224359542504114,-2.711922872646006,-2.9555575654629447,-2.8222692372929865,-2.329056183112074,-1.5388179913242388,-0.5523339429790238],\"z\":[0.8285009144685338,1.546579235289058,2.264657556109582,2.9827358769301062,3.7008141977506304,4.4188925185711545,5.136970839391679,5.855049160212203,6.573127481032727,7.291205801853251,8.009284122673776,8.7273624434943,9.445440764314824,10.163519085135349,10.881597405955873,11.599675726776397,12.317754047596921,13.035832368417445,13.75391068923797,14.471989010058493,15.190067330879018,15.908145651699542,16.626223972520066,17.34430229334059,18.062380614161114,18.780458934981638,19.498537255802162,20.216615576622686,20.93469389744321,21.652772218263735,22.37085053908426,23.088928859904783,23.807007180725307,24.52508550154583,25.243163822366355,25.96124214318688],\"type\":\"scatter3d\",\"scene\":\"scene\"},{\"line\":{\"color\":\"white\"},\"mode\":\"lines\",\"x\":[2.5542616442234616,2.5658630238599467,2.250239228222142,1.6476418416260927,0.8349202646887043,-0.08427890961544438,-0.9927299727716514,-1.7745779256606697,-2.330113496570449,-2.5884890904144107,-2.5167540008625644,-2.1240566224447974,-1.4604777534296,-0.6106437786639535,0.31706575518078617,1.2043398112359016,1.9380240995766733,2.424551673091819,2.6018755444562807,2.447381554477625,1.980772361668596,1.2615547571095047,0.381450747986128,-0.5472997737170576,-1.4062530136804214,-2.0858664429826024,-2.4994687851547495,-2.5943132264922344,-2.358304230853083,-1.8215400865115272,-1.0524744636673482,-0.14918650017492585,0.7731272562824147,1.5968438937221685,2.2169146162592432,2.554261644223461],\"y\":[-0.4965472533682749,0.43261838237297634,1.3066120838829467,2.01397320828796,2.464491808383802,2.6007131305418425,2.4052648343040137,1.903072491456012,1.1581808214087097,0.2655860515620042,-0.6608789761529668,-1.503061937056194,-2.15355902025367,-2.529412164428274,-2.582688720862496,-2.3065943165305405,-1.7363393422481515,-0.9446485624222282,-0.03248650703062572,0.8838185610075187,1.6874100192983714,2.2758056412604963,2.573967180995038,2.5438700201991407,2.1893524575758585,1.5556262096075086,0.7235105486554825,-0.20087459975360655,-1.0996421584857363,-1.8581720682461829,-2.3797288133959396,-2.5977981272886232,-2.484569573904491,-2.0544832199511736,-1.3623880894205047,-0.4965472533682761],\"z\":[0.7448208800524124,1.4628992008729367,2.180977521693461,2.899055842513985,3.617134163334509,4.335212484155033,5.053290804975557,5.771369125796081,6.489447446616605,7.207525767437129,7.9256040882576535,8.643682409078178,9.361760729898702,10.079839050719226,10.79791737153975,11.515995692360274,12.234074013180798,12.952152334001322,13.670230654821847,14.38830897564237,15.106387296462895,15.824465617283419,16.542543938103943,17.260622258924467,17.97870057974499,18.696778900565516,19.41485722138604,20.132935542206564,20.851013863027088,21.569092183847612,22.287170504668136,23.00524882548866,23.723327146309185,24.44140546712971,25.159483787950233,25.877562108770757],\"type\":\"scatter3d\",\"scene\":\"scene\"},{\"line\":{\"color\":\"white\"},\"mode\":\"lines\",\"x\":[2.260991082779341,2.2481271514376346,1.9485589828364485,1.400490583021926,0.6738172568189578,-0.13878815847648707,-0.93369388401408,-1.6095253869575852,-2.0800937008851355,-2.285387126975869,-2.199224541486811,-1.832594281237411,-1.2322527981720484,-0.47476179694671267,0.3432756990738587,1.1175351563790719,1.7492750660619787,2.1579294739966373,2.2913825778118566,2.1326150686510252,1.7018746080338372,1.0540936383442012,0.2718838342408686,-0.5449993855851304,-1.29237869276493,-1.8749406108915232,-2.2183908678255007,-2.2789291634424407,-2.0488350332398158,-1.5574524411724397,-0.8674475363374287,-0.06681682276682277,0.7423350574981197,1.4568167558230103,1.9855102363693962,2.2609910827793405],\"y\":[-0.3736991057268272,0.444585210052734,1.2061714589709507,1.8139343496652884,2.1903657234447635,2.2874591898207566,2.092832393906265,1.6313061413382104,0.9617389945129117,0.16952102489576332,-0.6443160048849105,-1.3759832478648364,-1.9321709912494502,-2.2419484682277275,-2.265809677014837,-2.0007115914807736,-1.4804622390600128,-0.7714091542659598,0.036021939551012794,0.8388591460974296,1.534716428711962,2.0348509281102167,2.2754803621888744,2.2259171969641094,1.8924822357200444,1.3176985253306035,0.5748683810900957,-0.2412748765210816,-1.0266482867067626,-1.6810929752737458,-2.12114744177081,-2.290691426234462,-2.1681029404615435,-1.7690157257588315,-1.144325477869418,-0.3736991057268283],\"z\":[0.5605486585902408,1.278626979410765,1.9967053002312891,2.7147836210518133,3.4328619418723374,4.1509402626928615,4.869018583513386,5.58709690433391,6.305175225154434,7.023253545974958,7.741331866795482,8.459410187616006,9.17748850843653,9.895566829257055,10.613645150077579,11.331723470898103,12.049801791718627,12.767880112539151,13.485958433359675,14.2040367541802,14.922115075000724,15.640193395821248,16.358271716641774,17.076350037462298,17.794428358282822,18.512506679103346,19.23058499992387,19.948663320744394,20.66674164156492,21.384819962385443,22.102898283205967,22.82097660402649,23.539054924847015,24.25713324566754,24.975211566488063,25.693289887308588],\"type\":\"scatter3d\",\"scene\":\"scene\"},{\"line\":{\"color\":\"white\"},\"mode\":\"lines\",\"x\":[2.0675277705956443,2.0061003713203003,1.6888344726711355,1.1561910767860788,0.47609833374813043,-0.26471135296912823,-0.9717623323559733,-1.5548842100826001,-1.9397113022169328,-2.0771665101364123,-1.9497201356125844,-1.5736254477614648,-0.9968458994281231,-0.29293833563621763,0.44832772988853464,1.1324184440290164,1.6720915410225825,1.9985223711851368,2.070081126291692,1.8776418997897906,1.445746516023198,0.829474705023869,0.10741977029071403,-0.6283344355393152,-1.2839569882419999,-1.7758361740481554,-2.0412425131326817,-2.0463286664060614,-1.790445995425448,-1.306227283423098,-0.655425068017991,0.07896367588336828,0.803282161769798,1.4251578657401422,1.8652828183750543,2.0675277705956443],\"y\":[-0.20038082311874247,0.5388736926650752,1.209405507005631,1.7257015241397302,2.021918379425884,2.0602794606720694,1.8358925692621608,1.3773738235111583,0.7431982376928984,0.014242388341024537,-0.7165297964807785,-1.3559227509764225,-1.822394526234996,-2.056455856071951,-2.028256838536711,-1.7413937016312082,-1.232450175422384,-0.5663319594817858,0.17201071777322657,0.888416823687916,1.4915229022260181,1.9044146791556469,2.0744359593413892,1.9799038849331627,1.6328741558376363,1.077603563190076,0.3849059093307253,-0.35687889472863193,-1.0531508410113515,-1.6151141880681543,-1.971101604857434,-2.075713924014802,-1.9156099094127645,-1.5112076674557149,-0.914080720687596,-0.20038082311874347],\"z\":[0.30057123467811375,1.018649555498638,1.736727876319162,2.4548061971396864,3.1728845179602105,3.8909628387807347,4.609041159601259,5.327119480421783,6.045197801242307,6.763276122062831,7.481354442883355,8.199432763703879,8.917511084524403,9.635589405344927,10.353667726165451,11.071746046985975,11.7898243678065,12.507902688627023,13.225981009447548,13.944059330268072,14.662137651088596,15.38021597190912,16.098294292729644,16.81637261355017,17.534450934370692,18.252529255191217,18.97060757601174,19.688685896832265,20.40676421765279,21.124842538473313,21.842920859293837,22.56099918011436,23.279077500934886,23.99715582175541,24.715234142575934,25.433312463396458],\"type\":\"scatter3d\",\"scene\":\"scene\"},{\"line\":{\"color\":\"white\"},\"mode\":\"lines\",\"x\":[2.0,1.8724697412794746,1.5061429320072222,0.9477373249459976,0.2684665316353112,-0.44504186791262856,-1.1017939629042046,-1.6180339887498945,-1.9279257213917065,-1.991948587990478,-1.8019377358048385,-1.3821252979737297,-0.7860500633078478,-0.08972966070103035,0.6180339887498942,1.2469796037174667,1.7168975872037318,1.9678591771972593,1.9678591771972593,1.7168975872037326,1.2469796037174674,0.6180339887498956,-0.08972966070102911,-0.7860500633078467,-1.3821252979737286,-1.8019377358048376,-1.9919485879904777,-1.927925721391707,-1.6180339887498958,-1.101793962904206,-0.4450418679126298,0.26846653163531,0.9477373249459966,1.5061429320072213,1.8724697412794744,2.0],\"y\":[-1.358623639587271e-16,0.7027496481626854,1.3158774518794252,1.761191063713476,1.9818995235358696,1.9498558243636475,1.6691465074426057,1.1755705045849465,0.5320736911333506,-0.1792786178068666,-0.8677674782351159,-1.4455897276547829,-1.8390555451029011,-1.997986133082629,-1.9021130325903073,-1.5636629649360598,-1.025798554811813,-0.3571137895972739,0.3571137895972726,1.0257985548118116,1.5636629649360592,1.902113032590307,1.9979861330826294,1.8390555451029016,1.4455897276547836,0.867767478235117,0.17927861780686782,-0.5320736911333495,-1.1755705045849454,-1.6691465074426048,-1.949855824363647,-1.98189952353587,-1.7611910637134767,-1.3158774518794258,-0.7027496481626865,-1.1155798032766096e-15],\"z\":[2.0379354593809067e-16,0.7180783208205244,1.4361566416410485,2.1542349624615724,2.8723132832820966,3.5903916041026207,4.308469924923145,5.026548245743669,5.744626566564193,6.462704887384717,7.180783208205241,7.8988615290257655,8.61693984984629,9.335018170666814,10.053096491487338,10.771174812307862,11.489253133128386,12.20733145394891,12.925409774769435,13.643488095589959,14.361566416410483,15.079644737231007,15.797723058051531,16.515801378872055,17.23387969969258,17.951958020513104,18.670036341333628,19.388114662154152,20.106192982974676,20.8242713037952,21.542349624615724,22.26042794543625,22.978506266256773,23.696584587077297,24.41466290789782,25.132741228718345],\"type\":\"scatter3d\",\"scene\":\"scene\"},{\"line\":{\"color\":\"white\"},\"mode\":\"lines\",\"x\":[2.0,2.0675277705956443,2.260991082779341,2.5542616442234616,2.907731640536698,3.273662990072083,3.602634636379256,3.850217135729614,3.982973099683902,3.982973099683902,3.850217135729614,3.6026346363792565,3.2736629900720833,2.9077316405366984,2.5542616442234616,2.260991082779341,2.0675277705956443,2.0],\"y\":[0.0,0.20038082311874242,0.37369910572682724,0.49654725336827493,0.5523339429790224,0.5335248730024198,0.4426603125634621,0.29201202404734095,0.10192589358914281,-0.10192589358914267,-0.292012024047341,-0.44266031256346206,-0.5335248730024198,-0.5523339429790225,-0.4965472533682749,-0.3736991057268272,-0.20038082311874247,-1.358623639587271e-16],\"z\":[0.0,-0.30057123467811364,-0.560548658590241,-0.7448208800524124,-0.8285009144685337,-0.8002873095036298,-0.6639904688451932,-0.4380180360710115,-0.15288884038371423,0.152888840383714,0.43801803607101153,0.6639904688451931,0.8002873095036298,0.8285009144685338,0.7448208800524124,0.5605486585902408,0.30057123467811375,2.0379354593809067e-16],\"type\":\"scatter3d\",\"scene\":\"scene\"},{\"line\":{\"color\":\"white\"},\"mode\":\"lines\",\"x\":[1.8724697412794746,1.8652828183750545,1.9855102363693968,2.2169146162592437,2.5282435142845383,2.877450237633986,3.217372483297991,3.502101868425444,3.6931841118148925,3.7648124976733297,3.7073132155839863,3.528451862207549,3.252384654422478,2.9163959983813554,2.5658630238599467,2.2481271514376346,2.0061003713203003,1.8724697412794746],\"y\":[0.7027496481626855,0.914080720687595,1.1443254778694172,1.3623880894205038,1.5388179913242372,1.6497873476966833,1.6803091320573118,1.6262612083011745,1.494943048021422,1.3040898964228806,1.0794775291827543,0.8514410911169148,0.6507781667796778,0.5045893960144354,0.43261838237297634,0.444585210052734,0.5388736926650752,0.7027496481626854],\"z\":[0.7180783208205241,0.41750708614241044,0.1575296622302832,-0.026742559231888396,-0.11042259364800966,-0.08220898868310578,0.054087851975330836,0.2800602847495126,0.5651894804368099,0.8709671612042382,1.1560963568915357,1.3820687896657173,1.518365630324154,1.546579235289058,1.4628992008729367,1.278626979410765,1.018649555498638,0.7180783208205244],\"type\":\"scatter3d\",\"scene\":\"scene\"},{\"line\":{\"color\":\"white\"},\"mode\":\"lines\",\"x\":[1.506142932007222,1.425157865740143,1.4568167558230112,1.5968438937221694,1.8263278385471797,2.1142755119349887,2.421797985021433,2.70736264377534,2.9324023986635948,3.0665243838002096,3.0916146818969086,3.0042847091655918,2.8163288623357072,2.553131620020932,2.250239228222142,1.9485589828364485,1.6888344726711355,1.5061429320072222],\"y\":[1.3158774518794254,1.5112076674557142,1.769015725758831,2.054483219951173,2.3290561831120726,2.555652015105339,2.7036676932094306,2.7531128799132047,2.6973097287670784,2.5437947645492707,2.313301033833179,2.036957992161865,1.7520872985826939,1.4971623187865384,1.3066120838829467,1.2061714589709507,1.209405507005631,1.3158774518794252],\"z\":[1.4361566416410483,1.1355854069629345,0.8756079830508072,0.6913357615886356,0.6076557271725144,0.6358693321374183,0.7721661727958549,0.9981386055700368,1.283267801257334,1.5890454820247624,1.87417467771206,2.1001471104862417,2.236443951144678,2.264657556109582,2.180977521693461,1.9967053002312891,1.736727876319162,1.4361566416410485],\"type\":\"scatter3d\",\"scene\":\"scene\"},{\"line\":{\"color\":\"white\"},\"mode\":\"lines\",\"x\":[0.9477373249459975,0.8032821617697989,0.7423350574981206,0.7731272562824157,0.8915001010514019,1.0814666831924509,1.3173709631462445,1.5673527607142816,1.7976506489380397,1.9771616218882486,2.0816417279633432,2.096980349893628,2.02110592179318,1.8642657056116851,1.6476418416260927,1.400490583021926,1.1561910767860788,0.9477373249459976],\"y\":[1.7611910637134762,1.915609909412764,2.168102940461543,2.484569573904491,2.822269237292986,3.1355937198279786,3.3822268139522245,3.528859353663093,3.5556878019536784,3.4590888282207737,3.2521086591404,2.96270111346357,2.6299522838965124,2.298801743697173,2.01397320828796,1.8139343496652884,1.7257015241397302,1.761191063713476],\"z\":[2.1542349624615724,1.8536637277834587,1.5936863038713316,1.4094140824091599,1.3257340479930386,1.3539476529579426,1.490244493616379,1.716216926390561,2.0013461220778583,2.3071238028452865,2.592252998532584,2.8182254313067654,2.9545222719652022,2.9827358769301062,2.899055842513985,2.7147836210518133,2.4548061971396864,2.1542349624615724],\"type\":\"scatter3d\",\"scene\":\"scene\"},{\"line\":{\"color\":\"white\"},\"mode\":\"lines\",\"x\":[0.2684665316353111,0.07896367588336933,-0.06681682276682172,-0.14918650017492469,-0.15702087498083622,-0.08926187145524872,0.04493928151010712,0.22745797457300065,0.4336440468642957,0.6356509268045855,0.8061964658991707,0.9222475440678719,0.9681308201427827,0.9376495034419767,0.8349202646887043,0.6738172568189578,0.47609833374813043,0.2684665316353112],\"y\":[1.9818995235358696,2.0757139240148015,2.290691426234462,2.5977981272886232,2.955557565462944,3.3156523462185,3.629449674060192,3.8545694810519797,3.9606080898277085,3.9332443986920014,3.7761740257601826,3.5106101952536766,3.172418774022371,2.8072743874869106,2.464491808383802,2.1903657234447635,2.021918379425884,1.9818995235358696],\"z\":[2.8723132832820966,2.571742048603983,2.3117646246918557,2.127492403229684,2.0438123688135628,2.0720259737784668,2.208322814436903,2.434295247211085,2.7194244428983825,3.0252021236658106,3.310331319353108,3.5363037521272895,3.6726005927857264,3.7008141977506304,3.617134163334509,3.4328619418723374,3.1728845179602105,2.8723132832820966],\"type\":\"scatter3d\",\"scene\":\"scene\"},{\"line\":{\"color\":\"white\"},\"mode\":\"lines\",\"x\":[-0.4450418679126287,-0.65542506801799,-0.8674475363374277,-1.052474463667347,-1.185516938202245,-1.2486068365423824,-1.2332235183237286,-1.141444585913622,-0.9856652926986679,-0.7869244954304085,-0.5720632400406965,-0.3700997296572294,-0.20831025547573867,-0.10854538249085932,-0.08427890961544438,-0.13878815847648707,-0.26471135296912823,-0.44504186791262856],\"y\":[1.9498558243636475,1.9711016048574344,2.1211474417708107,2.3797288133959404,2.711922872646006,3.0728649710684595,3.413807878222136,3.688705365266066,3.860431003315405,3.905792293386981,3.818662941901042,3.6108102505761677,3.3103058771273046,2.9577346023409383,2.6007131305418425,2.2874591898207566,2.0602794606720694,1.9498558243636475],\"z\":[3.5903916041026207,3.289820369424507,3.02984294551238,2.845570724050208,2.761890689634087,2.790104294598991,2.9264011352574277,3.152373568031609,3.4375027637189066,3.743280444486335,4.028409640173632,4.254382072947814,4.3906789136062505,4.4188925185711545,4.335212484155033,4.1509402626928615,3.8909628387807347,3.5903916041026207],\"type\":\"scatter3d\",\"scene\":\"scene\"},{\"line\":{\"color\":\"white\"},\"mode\":\"lines\",\"x\":[-1.1017939629042046,-1.3062272834230968,-1.5574524411724389,-1.8215400865115263,-2.062823719577156,-2.2487166487250487,-2.3541130038055025,-2.3647784230435365,-2.2792724824719275,-2.109143233169643,-1.8773675729736712,-1.6152480891067476,-1.3581854703193001,-1.1408974477117175,-0.9927299727716514,-0.93369388401408,-0.9717623323559733,-1.1017939629042046],\"y\":[1.6691465074426055,1.615114188068155,1.6810929752737467,1.858172068246184,2.1224359542504123,2.4381943311448175,2.7628022804522425,3.0524196999039797,3.2679321521775493,3.3802334863976835,3.374156785094778,3.2505227404519537,3.0260288152781167,2.730994158131775,2.4052648343040137,2.092832393906265,1.8358925692621608,1.6691465074426057],\"z\":[4.308469924923145,4.007898690245031,3.747921266332904,3.5636490448707323,3.479969010454611,3.508182615419515,3.644479456077952,3.8704518888521333,4.15558108453943,4.4613587653068585,4.746487960994156,4.972460393768338,5.108757234426775,5.136970839391679,5.053290804975557,4.869018583513386,4.609041159601259,4.308469924923145],\"type\":\"scatter3d\",\"scene\":\"scene\"},{\"line\":{\"color\":\"white\"},\"mode\":\"lines\",\"x\":[-1.6180339887498947,-1.790445995425447,-2.048835033239815,-2.358304230853082,-2.677058058299555,-2.9620470449066567,-3.174781848854607,-3.286531456065993,-3.2822034628609678,-3.1623823887041076,-2.9432507336117886,-2.654403441854648,-2.3348509407425824,-2.027750566252313,-1.7745779256606697,-1.6095253869575852,-1.5548842100826001,-1.6180339887498945],\"y\":[1.1755705045849463,1.0531508410113524,1.0266482867067634,1.0996421584857377,1.2622742294915177,1.4925801373593583,1.7594557930626167,2.0268581604895104,2.258673068191367,2.4235926283523055,2.4993435405217594,2.4756952242609507,2.355841515720745,2.155969322371823,1.903072491456012,1.6313061413382104,1.3773738235111583,1.1755705045849465],\"z\":[5.026548245743669,4.725977011065555,4.465999587153428,4.281727365691257,4.198047331275135,4.226260936240039,4.362557776898476,4.5885302096726575,4.8736594053599545,5.179437086127383,5.4645662818146805,5.690538714588862,5.826835555247299,5.855049160212203,5.771369125796081,5.58709690433391,5.327119480421783,5.026548245743669],\"type\":\"scatter3d\",\"scene\":\"scene\"},{\"line\":{\"color\":\"white\"},\"mode\":\"lines\",\"x\":[-1.9279257213917065,-2.046328666406061,-2.2789291634424407,-2.5943132264922344,-2.949886490237145,-3.2976268151089503,-3.590569943338055,-3.789152282203208,-3.866554186457944,-3.812322100033904,-3.6337803667130184,-3.3550420369141714,-3.0137522666191012,-2.6560041304580593,-2.330113496570449,-2.0800937008851355,-1.9397113022169328,-1.9279257213917065],\"y\":[0.5320736911333503,0.356878894728633,0.2412748765210827,0.200874599753608,0.2411343456693179,0.3566168124953425,0.5317254531763879,0.742810875478005,0.9613648234536567,1.157870375379999,1.305788367594527,1.3851416556067788,1.3852131381589514,1.3059931611362756,1.1581808214087097,0.9617389945129117,0.7431982376928984,0.5320736911333506],\"z\":[5.744626566564193,5.444055331886079,5.184077907973952,4.999805686511781,4.916125652095659,4.944339257060563,5.080636097719,5.306608530493182,5.591737726180479,5.897515406947907,6.182644602635205,6.408617035409386,6.544913876067823,6.573127481032727,6.489447446616605,6.305175225154434,6.045197801242307,5.744626566564193],\"type\":\"scatter3d\",\"scene\":\"scene\"},{\"line\":{\"color\":\"white\"},\"mode\":\"lines\",\"x\":[-1.991948587990478,-2.041242513132682,-2.218390867825501,-2.4994687851547503,-2.846515134878608,-3.212659384416657,-3.548451723993458,-3.8085415374595777,-3.9578022542990072,-3.9760753876203987,-3.8608930495137703,-3.627811252987791,-3.308308986214115,-2.9455368007437044,-2.5884890904144107,-2.285387126975869,-2.0771665101364123,-1.991948587990478],\"y\":[-0.17927861780686677,-0.38490590933072427,-0.5748683810900946,-0.7235105486554814,-0.8107574636424947,-0.8248259467302935,-0.7638159713217145,-0.6359672726636305,-0.4585465259439112,-0.2555153861293506,-0.05429433368628808,0.11794061324849747,0.23792817070467598,0.28946335417378244,0.2655860515620042,0.16952102489576332,0.014242388341024537,-0.1792786178068666],\"z\":[6.462704887384717,6.162133652706603,5.902156228794476,5.717884007332305,5.6342039729161835,5.6624175778810875,5.798714418539524,6.024686851313706,6.309816047001003,6.615593727768431,6.900722923455729,7.12669535622991,7.262992196888347,7.291205801853251,7.207525767437129,7.023253545974958,6.763276122062831,6.462704887384717],\"type\":\"scatter3d\",\"scene\":\"scene\"},{\"line\":{\"color\":\"white\"},\"mode\":\"lines\",\"x\":[-1.8019377358048385,-1.7758361740481563,-1.8749406108915243,-2.0858664429826037,-2.3801269679171106,-2.7179806712487826,-3.05379853823068,-3.342226505095859,-3.5443107766846387,-3.63275875233135,-3.595625042817752,-3.4379247613786443,-3.1809562048698035,-2.859424400759676,-2.5167540008625644,-2.199224541486811,-1.9497201356125844,-1.8019377358048385],\"y\":[-0.867767478235116,-1.077603563190075,-1.3176985253306026,-1.5556262096075075,-1.7592531638563829,-1.9010784395700127,-1.9619477473822893,-1.9336403499846861,-1.8199793182524537,-1.636315204338549,-1.4074528645450324,-1.1643014260310223,-0.9396998379164683,-0.7639817892366045,-0.6608789761529668,-0.6443160048849105,-0.7165297964807785,-0.8677674782351159],\"z\":[7.180783208205241,6.880211973527127,6.620234549615001,6.435962328152829,6.352282293736708,6.380495898701612,6.516792739360048,6.74276517213423,7.027894367821527,7.333672048588955,7.618801244276253,7.844773677050434,7.981070517708871,8.009284122673776,7.9256040882576535,7.741331866795482,7.481354442883355,7.180783208205241],\"type\":\"scatter3d\",\"scene\":\"scene\"},{\"line\":{\"color\":\"white\"},\"mode\":\"lines\",\"x\":[-1.3821252979737295,-1.2839569882420008,-1.292378692764931,-1.4062530136804225,-1.6102005929494436,-1.8766771798791635,-2.169693634806981,-2.449676461834667,-2.678812428733731,-2.8261554534882305,-2.871806044149185,-2.8095988354891777,-2.6479352557397844,-2.408648867154982,-2.1240566224447974,-1.832594281237411,-1.5736254477614648,-1.3821252979737297],\"y\":[-1.445589727654783,-1.6328741558376354,-1.892482235720044,-2.189352457575858,-2.4833908529287636,-2.7348859071633553,-2.9098718196230484,-2.9847157731997473,-2.949309677238255,-2.8084353211901227,-2.581118567451404,-2.298059803220129,-1.9974876830884896,-1.7199961374078774,-1.503061937056194,-1.3759832478648364,-1.3559227509764225,-1.4455897276547829],\"z\":[7.8988615290257655,7.598290294347652,7.338312870435525,7.154040648973353,7.070360614557232,7.098574219522136,7.234871060180572,7.460843492954754,7.745972688642051,8.05175036940948,8.336879565096778,8.56285199787096,8.699148838529396,8.7273624434943,8.643682409078178,8.459410187616006,8.199432763703879,7.8988615290257655],\"type\":\"scatter3d\",\"scene\":\"scene\"},{\"line\":{\"color\":\"white\"},\"mode\":\"lines\",\"x\":[-0.7860500633078475,-0.6283344355393161,-0.5449993855851314,-0.5472997737170588,-0.6349249197709911,-0.7960405622246485,-1.0088871407920703,-1.2447185456141194,-1.471684438682652,-1.6591318184773332,-1.7817448776751035,-1.8229640432088887,-1.77722243837007,-1.6506977203551123,-1.4604777534296,-1.2322527981720484,-0.9968458994281231,-0.7860500633078478],\"y\":[-1.8390555451029011,-1.979903884933162,-2.225917196964109,-2.5438700201991407,-2.8908210640229517,-3.219912667445035,-3.4866991858637126,-3.6551496216514106,-3.702513810038912,-3.6223949549304573,-3.4256135516623454,-3.138746019149332,-2.800535407245172,-2.456658933177218,-2.15355902025367,-1.9321709912494502,-1.822394526234996,-1.8390555451029011],\"z\":[8.61693984984629,8.316368615168177,8.056391191256049,7.872118969793878,7.788438935377756,7.81665254034266,7.952949381001097,8.178921813775279,8.464051009462576,8.769828690230003,9.0549578859173,9.280930318691484,9.41722715934992,9.445440764314824,9.361760729898702,9.17748850843653,8.917511084524403,8.61693984984629],\"type\":\"scatter3d\",\"scene\":\"scene\"},{\"line\":{\"color\":\"white\"},\"mode\":\"lines\",\"x\":[-0.08972966070103021,0.10741977029071295,0.27188383424086754,0.38145074798612677,0.4213228926939654,0.38611531428240886,0.28058299130786485,0.11897864876283393,-0.07687215141140202,-0.2805186734045649,-0.4644573259771446,-0.6038461748599548,-0.6798599836310969,-0.6822326662089733,-0.6106437786639535,-0.47476179694671267,-0.29293833563621763,-0.08972966070103035],\"y\":[-1.997986133082629,-2.074435959341389,-2.2754803621888744,-2.573967180995038,-2.9295841169075483,-3.2943031321899525,-3.6188669028505327,-3.8594412931916384,-3.9835353987289874,-3.9743896228805844,-3.8332391533532495,-3.5791471431984014,-3.2464301263598854,-2.8800233796103787,-2.529412164428274,-2.2419484682277275,-2.056455856071951,-1.997986133082629],\"z\":[9.335018170666814,9.0344469359887,8.774469512076573,8.590197290614402,8.506517256198281,8.534730861163183,8.67102770182162,8.897000134595803,9.1821293302831,9.487907011050527,9.773036206737824,9.999008639512008,10.135305480170445,10.163519085135349,10.079839050719226,9.895566829257055,9.635589405344927,9.335018170666814],\"type\":\"scatter3d\",\"scene\":\"scene\"},{\"line\":{\"color\":\"white\"},\"mode\":\"lines\",\"x\":[0.6180339887498945,0.8294747050238679,1.0540936383442001,1.2615547571095036,1.4238392876487802,1.5190298048630737,1.534270301933729,1.4675024652808446,1.3277436612177471,1.133869090663426,0.9120625886673228,0.6922803523962686,0.504205190714082,0.3732376963663897,0.31706575518078617,0.3432756990738587,0.44832772988853464,0.6180339887498942],\"y\":[-1.9021130325903073,-1.9044146791556473,-2.0348509281102176,-2.275805641260497,-2.594736549419383,-2.948570266182848,-3.2895195874416774,-3.5715374180944575,-3.7565356873967835,-3.819529353968579,-3.7520107740793653,-3.563098706076549,-3.2783067715418146,-2.9360976993206656,-2.582688720862496,-2.265809677014837,-2.028256838536711,-1.9021130325903073],\"z\":[10.053096491487338,9.752525256809225,9.492547832897097,9.308275611434926,9.224595577018803,9.252809181983707,9.389106022642144,9.615078455416327,9.900207651103624,10.205985331871052,10.49111452755835,10.717086960332532,10.853383800990969,10.881597405955873,10.79791737153975,10.613645150077579,10.353667726165451,10.053096491487338],\"type\":\"scatter3d\",\"scene\":\"scene\"},{\"line\":{\"color\":\"white\"},\"mode\":\"lines\",\"x\":[1.2469796037174667,1.4457465160231975,1.7018746080338367,1.9807723616685955,2.244773089873297,2.458222031425361,2.5922917240067656,2.6288753127285798,2.563031981217259,2.403654236243903,2.172266925409734,1.9001201872042595,1.6239689466392624,1.3811089589598944,1.2043398112359016,1.1175351563790719,1.1324184440290164,1.2469796037174667],\"y\":[-1.5636629649360598,-1.4915229022260188,-1.5347164287119628,-1.6874100192983725,-1.9289815584721595,-2.2268054712737952,-2.540658987980148,-2.828154452037652,-3.0504640079579803,-3.177563518354318,-3.1922874900649405,-3.092647369121984,-2.892100105983765,-2.6177307198078474,-2.3065943165305405,-2.0007115914807736,-1.7413937016312082,-1.5636629649360598],\"z\":[10.771174812307862,10.470603577629749,10.210626153717621,10.02635393225545,9.94267389783933,9.970887502804231,10.107184343462668,10.333156776236851,10.618285971924148,10.924063652691576,11.209192848378873,11.435165281153056,11.571462121811493,11.599675726776397,11.515995692360274,11.331723470898103,11.071746046985975,10.771174812307862],\"type\":\"scatter3d\",\"scene\":\"scene\"},{\"line\":{\"color\":\"white\"},\"mode\":\"lines\",\"x\":[1.7168975872037318,1.87764189978979,2.132615068651025,2.4473815544776247,2.7794303991773988,3.083916566327476,3.319717511838142,3.4549870114000365,3.4714561695431527,3.3669007352015075,3.155441499144602,2.8656372029379975,2.536627522645438,2.2128470386960077,1.9380240995766733,1.7492750660619787,1.6720915410225825,1.7168975872037318],\"y\":[-1.025798554811813,-0.8884168236879172,-0.8388591460974308,-0.8838185610075201,-1.0172230503058595,-1.2210555984929141,-1.4677874904608819,-1.7240962170108787,-1.9553658643666445,-2.130362185143428,-2.2254509565322365,-2.22778991305194,-2.1370631656639465,-1.9655238643372672,-1.7363393422481515,-1.4804622390600128,-1.232450175422384,-1.025798554811813],\"z\":[11.489253133128386,11.188681898450273,10.928704474538145,10.744432253075974,10.660752218659853,10.688965823624756,10.825262664283192,11.051235097057376,11.336364292744673,11.6421419735121,11.927271169199397,12.15324360197358,12.289540442632017,12.317754047596921,12.234074013180798,12.049801791718627,11.7898243678065,11.489253133128386],\"type\":\"scatter3d\",\"scene\":\"scene\"},{\"line\":{\"color\":\"white\"},\"mode\":\"lines\",\"x\":[1.9678591771972593,2.070081126291692,2.291382577811857,2.601875544456281,2.9596262305787135,3.3163184236533336,3.623778866505741,3.8404833226315915,3.937164654430244,3.9007655123125367,3.736201802116075,3.46569876478189,3.1257893344110355,2.7623801630782707,2.424551673091819,2.1579294739966373,1.9985223711851368,1.9678591771972593],\"y\":[-0.3571137895972738,-0.17201071777322768,-0.03602193955101385,0.0324865070306245,0.024262176642429578,-0.05958418932408471,-0.20772867453638805,-0.4001635453696283,-0.610899406199346,-0.8114752112927719,-0.9748020867431351,-1.0788218329954042,-1.109486006924899,-1.0626532419263877,-0.9446485624222282,-0.7714091542659598,-0.5663319594817858,-0.3571137895972739],\"z\":[12.20733145394891,11.906760219270797,11.64678279535867,11.462510573896498,11.378830539480376,11.40704414444528,11.543340985103717,11.7693134178779,12.054442613565197,12.360220294332624,12.645349490019923,12.871321922794104,13.007618763452541,13.035832368417445,12.952152334001322,12.767880112539151,12.507902688627023,12.20733145394891],\"type\":\"scatter3d\",\"scene\":\"scene\"},{\"line\":{\"color\":\"white\"},\"mode\":\"lines\",\"x\":[1.9678591771972593,1.9985223711851368,2.1579294739966377,2.424551673091819,2.7623801630782703,3.1257893344110355,3.46569876478189,3.7362018021160757,3.9007655123125367,3.937164654430244,3.8404833226315915,3.623778866505741,3.3163184236533336,2.9596262305787135,2.6018755444562807,2.2913825778118566,2.070081126291692,1.9678591771972593],\"y\":[0.35711378959727275,0.5663319594817847,0.7714091542659587,0.944648562422227,1.062653241926386,1.1094860069248975,1.0788218329954027,0.9748020867431333,0.8114752112927701,0.6108994061993442,0.4001635453696264,0.2077286745363865,0.059584189324083214,-0.02426217664243102,-0.03248650703062572,0.036021939551012794,0.17201071777322657,0.3571137895972726],\"z\":[12.925409774769435,12.624838540091321,12.364861116179194,12.180588894717022,12.096908860300902,12.125122465265804,12.26141930592424,12.487391738698424,12.772520934385721,13.078298615153148,13.363427810840445,13.589400243614628,13.725697084273065,13.75391068923797,13.670230654821847,13.485958433359675,13.225981009447548,12.925409774769435],\"type\":\"scatter3d\",\"scene\":\"scene\"},{\"line\":{\"color\":\"white\"},\"mode\":\"lines\",\"x\":[1.7168975872037326,1.6720915410225832,1.7492750660619796,1.9380240995766744,2.212847038696008,2.5366275226454387,2.8656372029379984,3.1554414991446027,3.366900735201509,3.4714561695431536,3.4549870114000374,3.3197175118381432,3.083916566327477,2.7794303991773996,2.447381554477625,2.1326150686510252,1.8776418997897906,1.7168975872037326],\"y\":[1.0257985548118118,1.2324501754223829,1.480462239060012,1.7363393422481506,1.9655238643372657,2.137063165663945,2.2277899130519385,2.225450956532235,2.1303621851434267,1.955365864366643,1.724096217010877,1.4677874904608803,1.2210555984929126,1.0172230503058581,0.8838185610075187,0.8388591460974296,0.888416823687916,1.0257985548118116],\"z\":[13.643488095589959,13.342916860911846,13.082939436999718,12.898667215537547,12.814987181121424,12.843200786086328,12.979497626744765,13.205470059518948,13.490599255206245,13.796376935973672,14.081506131660971,14.307478564435153,14.44377540509359,14.471989010058493,14.38830897564237,14.2040367541802,13.944059330268072,13.643488095589959],\"type\":\"scatter3d\",\"scene\":\"scene\"},{\"line\":{\"color\":\"white\"},\"mode\":\"lines\",\"x\":[1.2469796037174672,1.132418444029017,1.1175351563790725,1.2043398112359025,1.381108958959895,1.6239689466392635,1.9001201872042606,2.172266925409736,2.403654236243904,2.5630319812172604,2.6288753127285807,2.5922917240067664,2.458222031425362,2.244773089873298,1.980772361668596,1.7018746080338372,1.445746516023198,1.2469796037174674],\"y\":[1.5636629649360594,1.7413937016312075,2.000711591480773,2.30659431653054,2.617730719807846,2.892100105983764,3.092647369121983,3.1922874900649396,3.177563518354317,3.050464007957979,2.8281544520376505,2.5406589879801467,2.2268054712737944,1.9289815584721588,1.6874100192983714,1.534716428711962,1.4915229022260181,1.5636629649360592],\"z\":[14.361566416410483,14.06099518173237,13.801017757820242,13.61674553635807,13.53306550194195,13.561279106906852,13.697575947565289,13.923548380339472,14.20867757602677,14.514455256794196,14.799584452481493,15.025556885255677,15.161853725914114,15.190067330879018,15.106387296462895,14.922115075000724,14.662137651088596,14.361566416410483],\"type\":\"scatter3d\",\"scene\":\"scene\"},{\"line\":{\"color\":\"white\"},\"mode\":\"lines\",\"x\":[0.6180339887498956,0.44832772988853586,0.3432756990738599,0.3170657551807876,0.37323769636639126,0.5042051907140837,0.6922803523962704,0.9120625886673248,1.1338690906634277,1.327743661217749,1.4675024652808464,1.5342703019337307,1.5190298048630753,1.4238392876487818,1.2615547571095047,1.0540936383442012,0.829474705023869,0.6180339887498956],\"y\":[1.902113032590307,2.0282568385367106,2.265809677014837,2.5826887208624965,2.9360976993206647,3.278306771541814,3.5630987060765484,3.7520107740793653,3.819529353968578,3.756535687396783,3.5715374180944566,3.289519587441677,2.9485702661828475,2.5947365494193826,2.2758056412604963,2.0348509281102167,1.9044146791556469,1.902113032590307],\"z\":[15.079644737231007,14.779073502552894,14.519096078640766,14.334823857178595,14.251143822762474,14.279357427727376,14.415654268385813,14.641626701159996,14.926755896847293,15.23253357761472,15.517662773302018,15.7436352060762,15.879932046734638,15.908145651699542,15.824465617283419,15.640193395821248,15.38021597190912,15.079644737231007],\"type\":\"scatter3d\",\"scene\":\"scene\"},{\"line\":{\"color\":\"white\"},\"mode\":\"lines\",\"x\":[-0.08972966070102925,-0.2929383356362165,-0.4747617969467116,-0.6106437786639523,-0.6822326662089718,-0.6798599836310953,-0.6038461748599531,-0.46445732597714273,-0.2805186734045631,-0.07687215141140025,0.11897864876283587,0.2805829913078665,0.3861153142824104,0.42132289269396683,0.381450747986128,0.2718838342408686,0.10741977029071403,-0.08972966070102911],\"y\":[1.9979861330826294,2.0564558560719517,2.2419484682277284,2.5294121644282748,2.880023379610379,3.2464301263598863,3.579147143198402,3.83323915335325,3.974389622880585,3.983535398728988,3.859441293191639,3.618866902850533,3.294303132189953,2.9295841169075487,2.573967180995038,2.2754803621888744,2.0744359593413892,1.9979861330826294],\"z\":[15.797723058051531,15.497151823373418,15.23717439946129,15.052902177999119,14.969222143582996,14.9974357485479,15.133732589206337,15.359705021980519,15.644834217667817,15.950611898435245,16.23574109412254,16.461713526896723,16.598010367555162,16.626223972520066,16.542543938103943,16.358271716641774,16.098294292729644,15.797723058051531],\"type\":\"scatter3d\",\"scene\":\"scene\"},{\"line\":{\"color\":\"white\"},\"mode\":\"lines\",\"x\":[-0.7860500633078469,-0.9968458994281222,-1.2322527981720477,-1.4604777534295992,-1.6506977203551108,-1.7772224383700688,-1.8229640432088872,-1.7817448776751017,-1.6591318184773314,-1.47168443868265,-1.2447185456141174,-1.0088871407920688,-0.796040562224647,-0.6349249197709897,-0.5472997737170576,-0.5449993855851304,-0.6283344355393152,-0.7860500633078467],\"y\":[1.8390555451029016,1.8223945262349968,1.9321709912494511,2.153559020253671,2.456658933177219,2.800535407245173,3.138746019149333,3.4256135516623467,3.622394954930458,3.702513810038913,3.655149621651411,3.4866991858637135,3.219912667445036,2.8908210640229526,2.5438700201991407,2.2259171969641094,1.9799038849331627,1.8390555451029016],\"z\":[16.515801378872055,16.215230144193942,15.955252720281814,15.770980498819643,15.68730046440352,15.715514069368425,15.851810910026861,16.077783342801045,16.36291253848834,16.66869021925577,16.953819414943066,17.179791847717247,17.316088688375686,17.34430229334059,17.260622258924467,17.076350037462298,16.81637261355017,16.515801378872055],\"type\":\"scatter3d\",\"scene\":\"scene\"},{\"line\":{\"color\":\"white\"},\"mode\":\"lines\",\"x\":[-1.3821252979737289,-1.5736254477614642,-1.8325942812374105,-2.124056622444797,-2.4086488671549806,-2.6479352557397835,-2.8095988354891763,-2.871806044149184,-2.8261554534882296,-2.67881242873373,-2.4496764618346663,-2.16969363480698,-1.8766771798791626,-1.610200592949443,-1.4062530136804214,-1.29237869276493,-1.2839569882419999,-1.3821252979737286],\"y\":[1.4455897276547836,1.3559227509764231,1.3759832478648373,1.503061937056195,1.719996137407878,1.9974876830884905,2.29805980322013,2.5811185674514054,2.808435321190124,2.9493096772382565,2.9847157731997482,2.9098718196230493,2.7348859071633562,2.4833908529287645,2.1893524575758585,1.8924822357200444,1.6328741558376363,1.4455897276547836],\"z\":[17.23387969969258,16.933308465014466,16.673331041102337,16.489058819640167,16.405378785224045,16.43359239018895,16.569889230847387,16.79586166362157,17.080990859308866,17.386768540076293,17.67189773576359,17.89787016853777,18.03416700919621,18.062380614161114,17.97870057974499,17.794428358282822,17.534450934370692,17.23387969969258],\"type\":\"scatter3d\",\"scene\":\"scene\"},{\"line\":{\"color\":\"white\"},\"mode\":\"lines\",\"x\":[-1.8019377358048376,-1.9497201356125835,-2.1992245414868106,-2.5167540008625644,-2.8594244007596745,-3.1809562048698026,-3.4379247613786434,-3.595625042817751,-3.632758752331349,-3.544310776684638,-3.3422265050958577,-3.053798538230679,-2.7179806712487817,-2.3801269679171098,-2.0858664429826024,-1.8749406108915232,-1.7758361740481554,-1.8019377358048376],\"y\":[0.8677674782351168,0.7165297964807794,0.6443160048849115,0.6608789761529679,0.7639817892366056,0.9396998379164696,1.1643014260310238,1.4074528645450342,1.6363152043385507,1.8199793182524555,1.933640349984688,1.9619477473822908,1.9010784395700142,1.7592531638563844,1.5556262096075086,1.3176985253306035,1.077603563190076,0.867767478235117],\"z\":[17.951958020513104,17.65138678583499,17.39140936192286,17.20713714046069,17.12345710604457,17.151670711009473,17.28796755166791,17.513939984442093,17.79906918012939,18.104846860896817,18.389976056584114,18.615948489358296,18.752245330016734,18.780458934981638,18.696778900565516,18.512506679103346,18.252529255191217,17.951958020513104],\"type\":\"scatter3d\",\"scene\":\"scene\"},{\"line\":{\"color\":\"white\"},\"mode\":\"lines\",\"x\":[-1.9919485879904777,-2.0771665101364123,-2.285387126975869,-2.5884890904144107,-2.945536800743704,-3.3083089862141146,-3.627811252987791,-3.86089304951377,-3.9760753876203982,-3.957802254299007,-3.808541537459577,-3.548451723993457,-3.212659384416656,-2.8465151348786075,-2.4994687851547495,-2.2183908678255007,-2.0412425131326817,-1.9919485879904777],\"y\":[0.1792786178068677,-0.014242388341023537,-0.16952102489576237,-0.2655860515620031,-0.2894633541737811,-0.23792817070467442,-0.11794061324849586,0.05429433368628997,0.2555153861293523,0.458546525943913,0.6359672726636325,0.7638159713217163,0.8248259467302952,0.8107574636424963,0.7235105486554825,0.5748683810900957,0.3849059093307253,0.17927861780686782],\"z\":[18.670036341333628,18.369465106655515,18.109487682743385,17.925215461281216,17.841535426865093,17.869749031829997,18.006045872488436,18.232018305262617,18.517147500949914,18.82292518171734,19.10805437740464,19.33402681017882,19.47032365083726,19.498537255802162,19.41485722138604,19.23058499992387,18.97060757601174,18.670036341333628],\"type\":\"scatter3d\",\"scene\":\"scene\"},{\"line\":{\"color\":\"white\"},\"mode\":\"lines\",\"x\":[-1.927925721391707,-1.9397113022169332,-2.0800937008851363,-2.33011349657045,-2.6560041304580597,-3.0137522666191017,-3.355042036914172,-3.6337803667130193,-3.8123221000339043,-3.8665541864579445,-3.789152282203208,-3.590569943338055,-3.2976268151089507,-2.9498864902371453,-2.5943132264922344,-2.2789291634424407,-2.0463286664060614,-1.927925721391707],\"y\":[-0.5320736911333495,-0.7431982376928975,-0.9617389945129109,-1.1581808214087088,-1.3059931611362743,-1.3852131381589499,-1.3851416556067773,-1.3057883675945252,-1.1578703753799973,-0.9613648234536547,-0.7428108754780027,-0.531725453176386,-0.3566168124953407,-0.24113434566931635,-0.20087459975360655,-0.2412748765210816,-0.35687889472863193,-0.5320736911333495],\"z\":[19.388114662154152,19.08754342747604,18.82756600356391,18.64329378210174,18.559613747685617,18.58782735265052,18.72412419330896,18.95009662608314,19.235225821770438,19.541003502537865,19.826132698225162,20.052105130999344,20.188401971657782,20.216615576622686,20.132935542206564,19.948663320744394,19.688685896832265,19.388114662154152],\"type\":\"scatter3d\",\"scene\":\"scene\"},{\"line\":{\"color\":\"white\"},\"mode\":\"lines\",\"x\":[-1.6180339887498956,-1.5548842100826012,-1.6095253869575865,-1.774577925660671,-2.0277505662523145,-2.334850940742584,-2.654403441854649,-2.943250733611791,-3.1623823887041094,-3.282203462860969,-3.286531456065995,-3.1747818488546082,-2.962047044906658,-2.677058058299557,-2.358304230853083,-2.0488350332398158,-1.790445995425448,-1.6180339887498958],\"y\":[-1.1755705045849456,-1.3773738235111577,-1.6313061413382097,-1.9030724914560113,-2.1559693223718215,-2.3558415157207433,-2.4756952242609493,-2.4993435405217577,-2.4235926283523037,-2.2586730681913654,-2.026858160489508,-1.7594557930626151,-1.4925801373593566,-1.2622742294915166,-1.0996421584857363,-1.0266482867067626,-1.0531508410113515,-1.1755705045849454],\"z\":[20.106192982974676,19.805621748296563,19.545644324384433,19.361372102922264,19.27769206850614,19.305905673471045,19.442202514129484,19.668174946903665,19.953304142590962,20.25908182335839,20.544211019045687,20.770183451819868,20.906480292478307,20.93469389744321,20.851013863027088,20.66674164156492,20.40676421765279,20.106192982974676],\"type\":\"scatter3d\",\"scene\":\"scene\"},{\"line\":{\"color\":\"white\"},\"mode\":\"lines\",\"x\":[-1.1017939629042057,-0.9717623323559745,-0.9336938840140813,-0.9927299727716529,-1.1408974477117186,-1.3581854703193015,-1.6152480891067489,-1.8773675729736732,-2.109143233169645,-2.279272482471929,-2.3647784230435382,-2.354113003805504,-2.24871664872505,-2.0628237195771573,-1.8215400865115272,-1.5574524411724397,-1.306227283423098,-1.101793962904206],\"y\":[-1.6691465074426048,-1.8358925692621604,-2.0928323939062645,-2.4052648343040133,-2.730994158131774,-3.0260288152781154,-3.2505227404519528,-3.3741567850947765,-3.380233486397682,-3.2679321521775484,-3.0524196999039783,-2.7628022804522416,-2.4381943311448167,-2.1224359542504114,-1.8581720682461829,-1.6810929752737458,-1.6151141880681543,-1.6691465074426048],\"z\":[20.8242713037952,20.523700069117087,20.263722645204957,20.079450423742788,19.995770389326665,20.02398399429157,20.160280834950008,20.38625326772419,20.671382463411486,20.977160144178914,21.26228933986621,21.488261772640392,21.62455861329883,21.652772218263735,21.569092183847612,21.384819962385443,21.124842538473313,20.8242713037952],\"type\":\"scatter3d\",\"scene\":\"scene\"},{\"line\":{\"color\":\"white\"},\"mode\":\"lines\",\"x\":[-0.4450418679126297,-0.26471135296912934,-0.13878815847648818,-0.08427890961544571,-0.10854538249086076,-0.20831025547574028,-0.37009972965723115,-0.5720632400406985,-0.7869244954304103,-0.9856652926986695,-1.1414445859136237,-1.2332235183237303,-1.248606836542384,-1.1855169382022464,-1.0524744636673482,-0.8674475363374287,-0.655425068017991,-0.4450418679126298],\"y\":[-1.949855824363647,-2.0602794606720694,-2.2874591898207566,-2.6007131305418425,-2.9577346023409374,-3.310305877127304,-3.6108102505761672,-3.8186629419010414,-3.9057922933869804,-3.860431003315404,-3.688705365266065,-3.4138078782221357,-3.072864971068459,-2.711922872646006,-2.3797288133959396,-2.12114744177081,-1.971101604857434,-1.949855824363647],\"z\":[21.542349624615724,21.24177838993761,20.98180096602548,20.797528744563312,20.71384871014719,20.742062315112094,20.878359155770532,21.104331588544714,21.38946078423201,21.695238464999438,21.980367660686735,22.206340093460916,22.342636934119355,22.37085053908426,22.287170504668136,22.102898283205967,21.842920859293837,21.542349624615724],\"type\":\"scatter3d\",\"scene\":\"scene\"},{\"line\":{\"color\":\"white\"},\"mode\":\"lines\",\"x\":[0.2684665316353101,0.4760983337481294,0.6738172568189569,0.8349202646887031,0.9376495034419752,0.9681308201427811,0.9222475440678701,0.8061964658991687,0.6356509268045836,0.4336440468642938,0.22745797457299863,0.0449392815101054,-0.08926187145525033,-0.1570208749808376,-0.14918650017492585,-0.06681682276682277,0.07896367588336828,0.26846653163531],\"y\":[-1.98189952353587,-2.021918379425885,-2.190365723444764,-2.464491808383803,-2.8072743874869106,-3.1724187740223715,-3.510610195253677,-3.7761740257601835,-3.9332443986920023,-3.960608089827709,-3.8545694810519797,-3.6294496740601923,-3.3156523462185006,-2.9555575654629447,-2.5977981272886232,-2.290691426234462,-2.075713924014802,-1.98189952353587],\"z\":[22.26042794543625,21.959856710758135,21.699879286846006,21.515607065383836,21.431927030967714,21.460140635932618,21.596437476591056,21.822409909365238,22.107539105052535,22.413316785819962,22.69844598150726,22.92441841428144,23.06071525493988,23.088928859904783,23.00524882548866,22.82097660402649,22.56099918011436,22.26042794543625],\"type\":\"scatter3d\",\"scene\":\"scene\"},{\"line\":{\"color\":\"white\"},\"mode\":\"lines\",\"x\":[0.9477373249459967,1.1561910767860781,1.4004905830219254,1.647641841626092,1.8642657056116838,2.021105921793179,2.096980349893627,2.081641727963342,1.9771616218882473,1.7976506489380384,1.56735276071428,1.3173709631462431,1.08146668319245,0.8915001010514009,0.7731272562824147,0.7423350574981197,0.803282161769798,0.9477373249459966],\"y\":[-1.7611910637134764,-1.7257015241397307,-1.8139343496652889,-2.0139732082879607,-2.298801743697173,-2.629952283896513,-2.9627011134635706,-3.2521086591404003,-3.459088828220774,-3.555687801953679,-3.5288593536630932,-3.3822268139522254,-3.135593719827979,-2.8222692372929865,-2.484569573904491,-2.1681029404615435,-1.9156099094127645,-1.7611910637134767],\"z\":[22.978506266256773,22.67793503157866,22.41795760766653,22.23368538620436,22.150005351788238,22.178218956753142,22.31451579741158,22.540488230185762,22.82561742587306,23.131395106640486,23.416524302327783,23.642496735101965,23.778793575760403,23.807007180725307,23.723327146309185,23.539054924847015,23.279077500934886,22.978506266256773],\"type\":\"scatter3d\",\"scene\":\"scene\"},{\"line\":{\"color\":\"white\"},\"mode\":\"lines\",\"x\":[1.5061429320072213,1.688834472671135,1.948558982836448,2.2502392282221417,2.553131620020931,2.8163288623357063,3.0042847091655904,3.0916146818969077,3.0665243838002083,2.932402398663594,2.7073626437753386,2.421797985021432,2.114275511934988,1.826327838547179,1.5968438937221685,1.4568167558230103,1.4251578657401422,1.5061429320072213],\"y\":[-1.3158774518794258,-1.2094055070056315,-1.2061714589709513,-1.3066120838829476,-1.4971623187865393,-1.7520872985826947,-2.036957992161866,-2.3133010338331803,-2.543794764549272,-2.6973097287670793,-2.7531128799132056,-2.703667693209432,-2.55565201510534,-2.329056183112074,-2.0544832199511736,-1.7690157257588315,-1.5112076674557149,-1.3158774518794258],\"z\":[23.696584587077297,23.396013352399184,23.136035928487054,22.951763707024885,22.868083672608762,22.896297277573666,23.032594118232105,23.258566551006286,23.543695746693583,23.84947342746101,24.134602623148307,24.36057505592249,24.496871896580927,24.52508550154583,24.44140546712971,24.25713324566754,23.99715582175541,23.696584587077297],\"type\":\"scatter3d\",\"scene\":\"scene\"},{\"line\":{\"color\":\"white\"},\"mode\":\"lines\",\"x\":[1.8724697412794744,2.0061003713203,2.2481271514376346,2.5658630238599467,2.9163959983813545,3.2523846544224777,3.528451862207548,3.707313215583986,3.7648124976733293,3.6931841118148916,3.502101868425443,3.2173724832979906,2.8774502376339854,2.528243514284538,2.2169146162592432,1.9855102363693962,1.8652828183750543,1.8724697412794744],\"y\":[-0.7027496481626865,-0.5388736926650763,-0.4445852100527351,-0.4326183823729777,-0.5045893960144366,-0.6507781667796793,-0.8514410911169163,-1.079477529182756,-1.3040898964228822,-1.4949430480214236,-1.6262612083011763,-1.6803091320573134,-1.6497873476966847,-1.5388179913242388,-1.3623880894205047,-1.144325477869418,-0.914080720687596,-0.7027496481626865],\"z\":[24.41466290789782,24.114091673219708,23.854114249307578,23.66984202784541,23.586161993429286,23.61437559839419,23.75067243905263,23.97664487182681,24.261774067514107,24.567551748281534,24.85268094396883,25.078653376743013,25.21495021740145,25.243163822366355,25.159483787950233,24.975211566488063,24.715234142575934,24.41466290789782],\"type\":\"scatter3d\",\"scene\":\"scene\"},{\"line\":{\"color\":\"white\"},\"mode\":\"lines\",\"x\":[2.0,2.0675277705956443,2.2609910827793414,2.554261644223462,2.9077316405366984,3.2736629900720833,3.6026346363792565,3.8502171357296144,3.982973099683902,3.982973099683902,3.850217135729614,3.602634636379256,3.273662990072083,2.9077316405366984,2.554261644223461,2.2609910827793405,2.0675277705956443,2.0],\"y\":[-9.797174393178824e-16,0.2003808231187414,0.3736991057268262,0.4965472533682737,0.552333942979021,0.5335248730024182,0.4426603125634604,0.2920120240473391,0.10192589358914085,-0.10192589358914461,-0.2920120240473429,-0.4426603125634638,-0.5335248730024215,-0.5523339429790238,-0.4965472533682761,-0.3736991057268283,-0.20038082311874347,-1.1155798032766096e-15],\"z\":[25.132741228718345,24.832169994040232,24.572192570128102,24.387920348665933,24.30424031424981,24.332453919214714,24.468750759873153,24.694723192647334,24.97985238833463,25.28563006910206,25.570759264789356,25.796731697563537,25.933028538221976,25.96124214318688,25.877562108770757,25.693289887308588,25.433312463396458,25.132741228718345],\"type\":\"scatter3d\",\"scene\":\"scene\"}],                        {\"template\":{\"data\":{\"barpolar\":[{\"marker\":{\"line\":{\"color\":\"rgb(17,17,17)\",\"width\":0.5},\"pattern\":{\"fillmode\":\"overlay\",\"size\":10,\"solidity\":0.2}},\"type\":\"barpolar\"}],\"bar\":[{\"error_x\":{\"color\":\"#f2f5fa\"},\"error_y\":{\"color\":\"#f2f5fa\"},\"marker\":{\"line\":{\"color\":\"rgb(17,17,17)\",\"width\":0.5},\"pattern\":{\"fillmode\":\"overlay\",\"size\":10,\"solidity\":0.2}},\"type\":\"bar\"}],\"carpet\":[{\"aaxis\":{\"endlinecolor\":\"#A2B1C6\",\"gridcolor\":\"#506784\",\"linecolor\":\"#506784\",\"minorgridcolor\":\"#506784\",\"startlinecolor\":\"#A2B1C6\"},\"baxis\":{\"endlinecolor\":\"#A2B1C6\",\"gridcolor\":\"#506784\",\"linecolor\":\"#506784\",\"minorgridcolor\":\"#506784\",\"startlinecolor\":\"#A2B1C6\"},\"type\":\"carpet\"}],\"choropleth\":[{\"colorbar\":{\"outlinewidth\":0,\"ticks\":\"\"},\"type\":\"choropleth\"}],\"contourcarpet\":[{\"colorbar\":{\"outlinewidth\":0,\"ticks\":\"\"},\"type\":\"contourcarpet\"}],\"contour\":[{\"colorbar\":{\"outlinewidth\":0,\"ticks\":\"\"},\"colorscale\":[[0.0,\"#0d0887\"],[0.1111111111111111,\"#46039f\"],[0.2222222222222222,\"#7201a8\"],[0.3333333333333333,\"#9c179e\"],[0.4444444444444444,\"#bd3786\"],[0.5555555555555556,\"#d8576b\"],[0.6666666666666666,\"#ed7953\"],[0.7777777777777778,\"#fb9f3a\"],[0.8888888888888888,\"#fdca26\"],[1.0,\"#f0f921\"]],\"type\":\"contour\"}],\"heatmapgl\":[{\"colorbar\":{\"outlinewidth\":0,\"ticks\":\"\"},\"colorscale\":[[0.0,\"#0d0887\"],[0.1111111111111111,\"#46039f\"],[0.2222222222222222,\"#7201a8\"],[0.3333333333333333,\"#9c179e\"],[0.4444444444444444,\"#bd3786\"],[0.5555555555555556,\"#d8576b\"],[0.6666666666666666,\"#ed7953\"],[0.7777777777777778,\"#fb9f3a\"],[0.8888888888888888,\"#fdca26\"],[1.0,\"#f0f921\"]],\"type\":\"heatmapgl\"}],\"heatmap\":[{\"colorbar\":{\"outlinewidth\":0,\"ticks\":\"\"},\"colorscale\":[[0.0,\"#0d0887\"],[0.1111111111111111,\"#46039f\"],[0.2222222222222222,\"#7201a8\"],[0.3333333333333333,\"#9c179e\"],[0.4444444444444444,\"#bd3786\"],[0.5555555555555556,\"#d8576b\"],[0.6666666666666666,\"#ed7953\"],[0.7777777777777778,\"#fb9f3a\"],[0.8888888888888888,\"#fdca26\"],[1.0,\"#f0f921\"]],\"type\":\"heatmap\"}],\"histogram2dcontour\":[{\"colorbar\":{\"outlinewidth\":0,\"ticks\":\"\"},\"colorscale\":[[0.0,\"#0d0887\"],[0.1111111111111111,\"#46039f\"],[0.2222222222222222,\"#7201a8\"],[0.3333333333333333,\"#9c179e\"],[0.4444444444444444,\"#bd3786\"],[0.5555555555555556,\"#d8576b\"],[0.6666666666666666,\"#ed7953\"],[0.7777777777777778,\"#fb9f3a\"],[0.8888888888888888,\"#fdca26\"],[1.0,\"#f0f921\"]],\"type\":\"histogram2dcontour\"}],\"histogram2d\":[{\"colorbar\":{\"outlinewidth\":0,\"ticks\":\"\"},\"colorscale\":[[0.0,\"#0d0887\"],[0.1111111111111111,\"#46039f\"],[0.2222222222222222,\"#7201a8\"],[0.3333333333333333,\"#9c179e\"],[0.4444444444444444,\"#bd3786\"],[0.5555555555555556,\"#d8576b\"],[0.6666666666666666,\"#ed7953\"],[0.7777777777777778,\"#fb9f3a\"],[0.8888888888888888,\"#fdca26\"],[1.0,\"#f0f921\"]],\"type\":\"histogram2d\"}],\"histogram\":[{\"marker\":{\"pattern\":{\"fillmode\":\"overlay\",\"size\":10,\"solidity\":0.2}},\"type\":\"histogram\"}],\"mesh3d\":[{\"colorbar\":{\"outlinewidth\":0,\"ticks\":\"\"},\"type\":\"mesh3d\"}],\"parcoords\":[{\"line\":{\"colorbar\":{\"outlinewidth\":0,\"ticks\":\"\"}},\"type\":\"parcoords\"}],\"pie\":[{\"automargin\":true,\"type\":\"pie\"}],\"scatter3d\":[{\"line\":{\"colorbar\":{\"outlinewidth\":0,\"ticks\":\"\"}},\"marker\":{\"colorbar\":{\"outlinewidth\":0,\"ticks\":\"\"}},\"type\":\"scatter3d\"}],\"scattercarpet\":[{\"marker\":{\"colorbar\":{\"outlinewidth\":0,\"ticks\":\"\"}},\"type\":\"scattercarpet\"}],\"scattergeo\":[{\"marker\":{\"colorbar\":{\"outlinewidth\":0,\"ticks\":\"\"}},\"type\":\"scattergeo\"}],\"scattergl\":[{\"marker\":{\"line\":{\"color\":\"#283442\"}},\"type\":\"scattergl\"}],\"scattermapbox\":[{\"marker\":{\"colorbar\":{\"outlinewidth\":0,\"ticks\":\"\"}},\"type\":\"scattermapbox\"}],\"scatterpolargl\":[{\"marker\":{\"colorbar\":{\"outlinewidth\":0,\"ticks\":\"\"}},\"type\":\"scatterpolargl\"}],\"scatterpolar\":[{\"marker\":{\"colorbar\":{\"outlinewidth\":0,\"ticks\":\"\"}},\"type\":\"scatterpolar\"}],\"scatter\":[{\"marker\":{\"line\":{\"color\":\"#283442\"}},\"type\":\"scatter\"}],\"scatterternary\":[{\"marker\":{\"colorbar\":{\"outlinewidth\":0,\"ticks\":\"\"}},\"type\":\"scatterternary\"}],\"surface\":[{\"colorbar\":{\"outlinewidth\":0,\"ticks\":\"\"},\"colorscale\":[[0.0,\"#0d0887\"],[0.1111111111111111,\"#46039f\"],[0.2222222222222222,\"#7201a8\"],[0.3333333333333333,\"#9c179e\"],[0.4444444444444444,\"#bd3786\"],[0.5555555555555556,\"#d8576b\"],[0.6666666666666666,\"#ed7953\"],[0.7777777777777778,\"#fb9f3a\"],[0.8888888888888888,\"#fdca26\"],[1.0,\"#f0f921\"]],\"type\":\"surface\"}],\"table\":[{\"cells\":{\"fill\":{\"color\":\"#506784\"},\"line\":{\"color\":\"rgb(17,17,17)\"}},\"header\":{\"fill\":{\"color\":\"#2a3f5f\"},\"line\":{\"color\":\"rgb(17,17,17)\"}},\"type\":\"table\"}]},\"layout\":{\"annotationdefaults\":{\"arrowcolor\":\"#f2f5fa\",\"arrowhead\":0,\"arrowwidth\":1},\"autotypenumbers\":\"strict\",\"coloraxis\":{\"colorbar\":{\"outlinewidth\":0,\"ticks\":\"\"}},\"colorscale\":{\"diverging\":[[0,\"#8e0152\"],[0.1,\"#c51b7d\"],[0.2,\"#de77ae\"],[0.3,\"#f1b6da\"],[0.4,\"#fde0ef\"],[0.5,\"#f7f7f7\"],[0.6,\"#e6f5d0\"],[0.7,\"#b8e186\"],[0.8,\"#7fbc41\"],[0.9,\"#4d9221\"],[1,\"#276419\"]],\"sequential\":[[0.0,\"#0d0887\"],[0.1111111111111111,\"#46039f\"],[0.2222222222222222,\"#7201a8\"],[0.3333333333333333,\"#9c179e\"],[0.4444444444444444,\"#bd3786\"],[0.5555555555555556,\"#d8576b\"],[0.6666666666666666,\"#ed7953\"],[0.7777777777777778,\"#fb9f3a\"],[0.8888888888888888,\"#fdca26\"],[1.0,\"#f0f921\"]],\"sequentialminus\":[[0.0,\"#0d0887\"],[0.1111111111111111,\"#46039f\"],[0.2222222222222222,\"#7201a8\"],[0.3333333333333333,\"#9c179e\"],[0.4444444444444444,\"#bd3786\"],[0.5555555555555556,\"#d8576b\"],[0.6666666666666666,\"#ed7953\"],[0.7777777777777778,\"#fb9f3a\"],[0.8888888888888888,\"#fdca26\"],[1.0,\"#f0f921\"]]},\"colorway\":[\"#636efa\",\"#EF553B\",\"#00cc96\",\"#ab63fa\",\"#FFA15A\",\"#19d3f3\",\"#FF6692\",\"#B6E880\",\"#FF97FF\",\"#FECB52\"],\"font\":{\"color\":\"#f2f5fa\"},\"geo\":{\"bgcolor\":\"rgb(17,17,17)\",\"lakecolor\":\"rgb(17,17,17)\",\"landcolor\":\"rgb(17,17,17)\",\"showlakes\":true,\"showland\":true,\"subunitcolor\":\"#506784\"},\"hoverlabel\":{\"align\":\"left\"},\"hovermode\":\"closest\",\"mapbox\":{\"style\":\"dark\"},\"paper_bgcolor\":\"rgb(17,17,17)\",\"plot_bgcolor\":\"rgb(17,17,17)\",\"polar\":{\"angularaxis\":{\"gridcolor\":\"#506784\",\"linecolor\":\"#506784\",\"ticks\":\"\"},\"bgcolor\":\"rgb(17,17,17)\",\"radialaxis\":{\"gridcolor\":\"#506784\",\"linecolor\":\"#506784\",\"ticks\":\"\"}},\"scene\":{\"xaxis\":{\"backgroundcolor\":\"rgb(17,17,17)\",\"gridcolor\":\"#506784\",\"gridwidth\":2,\"linecolor\":\"#506784\",\"showbackground\":true,\"ticks\":\"\",\"zerolinecolor\":\"#C8D4E3\"},\"yaxis\":{\"backgroundcolor\":\"rgb(17,17,17)\",\"gridcolor\":\"#506784\",\"gridwidth\":2,\"linecolor\":\"#506784\",\"showbackground\":true,\"ticks\":\"\",\"zerolinecolor\":\"#C8D4E3\"},\"zaxis\":{\"backgroundcolor\":\"rgb(17,17,17)\",\"gridcolor\":\"#506784\",\"gridwidth\":2,\"linecolor\":\"#506784\",\"showbackground\":true,\"ticks\":\"\",\"zerolinecolor\":\"#C8D4E3\"}},\"shapedefaults\":{\"line\":{\"color\":\"#f2f5fa\"}},\"sliderdefaults\":{\"bgcolor\":\"#C8D4E3\",\"bordercolor\":\"rgb(17,17,17)\",\"borderwidth\":1,\"tickwidth\":0},\"ternary\":{\"aaxis\":{\"gridcolor\":\"#506784\",\"linecolor\":\"#506784\",\"ticks\":\"\"},\"baxis\":{\"gridcolor\":\"#506784\",\"linecolor\":\"#506784\",\"ticks\":\"\"},\"bgcolor\":\"rgb(17,17,17)\",\"caxis\":{\"gridcolor\":\"#506784\",\"linecolor\":\"#506784\",\"ticks\":\"\"}},\"title\":{\"x\":0.05},\"updatemenudefaults\":{\"bgcolor\":\"#506784\",\"borderwidth\":0},\"xaxis\":{\"automargin\":true,\"gridcolor\":\"#283442\",\"linecolor\":\"#506784\",\"ticks\":\"\",\"title\":{\"standoff\":15},\"zerolinecolor\":\"#283442\",\"zerolinewidth\":2},\"yaxis\":{\"automargin\":true,\"gridcolor\":\"#283442\",\"linecolor\":\"#506784\",\"ticks\":\"\",\"title\":{\"standoff\":15},\"zerolinecolor\":\"#283442\",\"zerolinewidth\":2}}},\"scene\":{\"domain\":{\"x\":[0.0,1.0],\"y\":[0.0,1.0]}},\"width\":600,\"height\":600,\"showlegend\":false},                        {\"responsive\": true}                    ).then(function(){\n",
              "                            \n",
              "var gd = document.getElementById('a8de921a-5194-499b-8051-d80e2331ec04');\n",
              "var x = new MutationObserver(function (mutations, observer) {{\n",
              "        var display = window.getComputedStyle(gd).display;\n",
              "        if (!display || display === 'none') {{\n",
              "            console.log([gd, 'removed!']);\n",
              "            Plotly.purge(gd);\n",
              "            observer.disconnect();\n",
              "        }}\n",
              "}});\n",
              "\n",
              "// Listen for the removal of the full notebook cells\n",
              "var notebookContainer = gd.closest('#notebook-container');\n",
              "if (notebookContainer) {{\n",
              "    x.observe(notebookContainer, {childList: true});\n",
              "}}\n",
              "\n",
              "// Listen for the clearing of the current output cell\n",
              "var outputEl = gd.closest('.output');\n",
              "if (outputEl) {{\n",
              "    x.observe(outputEl, {childList: true});\n",
              "}}\n",
              "\n",
              "                        })                };                            </script>        </div>\n",
              "</body>\n",
              "</html>"
            ]
          },
          "metadata": {}
        }
      ]
    },
    {
      "cell_type": "code",
      "source": [
        "def get_grad(f):\n",
        "\n",
        "    def grad(x,h):\n",
        "        res=[]\n",
        "        xplush=np.copy(x)\n",
        "        for i in range(x.size):\n",
        "            xplush[i]=x[i]+h\n",
        "            res.append((f(xplush) - f(x))/h)\n",
        "        return np.array(res)\n",
        "    return grad\n",
        "        \n",
        "\n"
      ],
      "metadata": {
        "id": "a6nlo1h_oLR2"
      },
      "execution_count": 52,
      "outputs": []
    },
    {
      "cell_type": "code",
      "source": [
        "def f(x):\n",
        "    return np.sin(x[0])+ np.cos(2*x[1])"
      ],
      "metadata": {
        "id": "BoEV6MGztmjp"
      },
      "execution_count": 53,
      "outputs": []
    },
    {
      "cell_type": "code",
      "source": [
        "grad=get_grad(f)"
      ],
      "metadata": {
        "id": "V7njBY16tsyV"
      },
      "execution_count": 54,
      "outputs": []
    },
    {
      "cell_type": "code",
      "source": [
        "grad(np.array([np.pi/6, np.pi/3]),h=1e-8)"
      ],
      "metadata": {
        "id": "fSJBcKcsvYIE",
        "outputId": "8ec4fce0-64ad-4b09-eed7-b7c9e44f3297",
        "colab": {
          "base_uri": "https://localhost:8080/"
        }
      },
      "execution_count": 55,
      "outputs": [
        {
          "output_type": "execute_result",
          "data": {
            "text/plain": [
              "array([ 0.8660254 , -0.86602539])"
            ]
          },
          "metadata": {},
          "execution_count": 55
        }
      ]
    },
    {
      "cell_type": "code",
      "source": [
        "def get_jac(f):\n",
        "    def jac(x0, dx=1e-8):\n",
        "        x0=np.atleast_1d(x0)\n",
        "        f0 = np.atleast_1d(f(x0))\n",
        "        J=np.zeros((f0.size, x0.size))\n",
        "        for i in range(x0.size):\n",
        "            x=np.copy(x0)\n",
        "            x[i]=x0[i]+dx\n",
        "            J[:,i]=((f(x)-f0)/dx)[:,0]\n",
        "        return J\n",
        "\n",
        "    return jac"
      ],
      "metadata": {
        "id": "woZfNpSuveHJ"
      },
      "execution_count": 56,
      "outputs": []
    },
    {
      "cell_type": "code",
      "source": [
        "jac=get_jac(lambda t: curve(t,R,mz))"
      ],
      "metadata": {
        "id": "S9PMWfm0I6F6"
      },
      "execution_count": 57,
      "outputs": []
    },
    {
      "cell_type": "code",
      "source": [
        "jac(0.)"
      ],
      "metadata": {
        "id": "8Y8eNyJpJMAg",
        "outputId": "71f5048a-8eda-4c5f-f3e2-13f2edb53574",
        "colab": {
          "base_uri": "https://localhost:8080/"
        }
      },
      "execution_count": 58,
      "outputs": [
        {
          "output_type": "execute_result",
          "data": {
            "text/plain": [
              "array([[0.],\n",
              "       [3.],\n",
              "       [2.]])"
            ]
          },
          "metadata": {},
          "execution_count": 58
        }
      ]
    },
    {
      "cell_type": "code",
      "source": [
        "jax_jac=jax.jacobian(lambda t: curve(t,R,mz))"
      ],
      "metadata": {
        "id": "twkdnUx9JP6X"
      },
      "execution_count": 59,
      "outputs": []
    },
    {
      "cell_type": "code",
      "source": [
        "jax_jac(0.)"
      ],
      "metadata": {
        "id": "GtWImITlJ1Oa",
        "outputId": "09747340-cad9-4918-bfda-7199153b4d07",
        "colab": {
          "base_uri": "https://localhost:8080/"
        }
      },
      "execution_count": 60,
      "outputs": [
        {
          "output_type": "execute_result",
          "data": {
            "text/plain": [
              "DeviceArray([0., 3., 2.], dtype=float64, weak_type=True)"
            ]
          },
          "metadata": {},
          "execution_count": 60
        }
      ]
    },
    {
      "cell_type": "code",
      "source": [
        "surf2_jac=jax.jacobian(surf2, (0,1))"
      ],
      "metadata": {
        "id": "wVR6DnrYLDfg"
      },
      "execution_count": 61,
      "outputs": []
    },
    {
      "cell_type": "code",
      "source": [
        "t=jnp.linspace(0,4*np.pi,360, endpoint=False)\n",
        "theta = jnp.linspace(0,2*np.pi, 180, endpoint=False)\n",
        "dt = 4*np.pi/360\n",
        "dtheta = 2*np.pi/180\n",
        "\n",
        "def patch_area(t, theta):\n",
        "\n",
        "    dxyz_dt, dxyz_dtheta=surf2_jac(t,theta)\n",
        "    return jnp.linalg.norm(jnp.cross(dxyz_dt * dt, dxyz_dtheta * dtheta))\n",
        "    "
      ],
      "metadata": {
        "id": "fulXpcsqcV1P"
      },
      "execution_count": 62,
      "outputs": []
    },
    {
      "cell_type": "code",
      "source": [
        "patch_area_vec = jnp.vectorize(patch_area, signature='(),()->()')"
      ],
      "metadata": {
        "id": "PdMdSUrIgInl"
      },
      "execution_count": 63,
      "outputs": []
    },
    {
      "cell_type": "code",
      "source": [
        "jnp.sum(patch_area_vec(t[:,None],theta[None,:]))"
      ],
      "metadata": {
        "id": "lMErIZazcaDY",
        "outputId": "397e249e-c768-45e7-be40-1fc3175a9358",
        "colab": {
          "base_uri": "https://localhost:8080/"
        }
      },
      "execution_count": 64,
      "outputs": [
        {
          "output_type": "execute_result",
          "data": {
            "text/plain": [
              "DeviceArray(284.68291789, dtype=float64)"
            ]
          },
          "metadata": {},
          "execution_count": 64
        }
      ]
    },
    {
      "cell_type": "code",
      "source": [
        "# calculate total arc length\n",
        "dxyz_dt=jax.jacobian(lambda t: curve(t,R,mz))\n"
      ],
      "metadata": {
        "id": "fRHeXc4mczxr"
      },
      "execution_count": 83,
      "outputs": []
    },
    {
      "cell_type": "code",
      "source": [
        "def darc_length(t):\n",
        "    return jnp.linalg.norm(dxyz_dt(t)*dt)"
      ],
      "metadata": {
        "id": "9X97hETQh4TD"
      },
      "execution_count": 66,
      "outputs": []
    },
    {
      "cell_type": "code",
      "source": [
        "darc_length_vec = jnp.vectorize(darc_length, signature='()->()')"
      ],
      "metadata": {
        "id": "YU8h0Uq-h6Bq"
      },
      "execution_count": 67,
      "outputs": []
    },
    {
      "cell_type": "code",
      "source": [
        "jnp.sum(darc_length_vec(t))*2*jnp.pi*r"
      ],
      "metadata": {
        "id": "-RUD3a_SjD1b",
        "outputId": "439a9bd1-f2d7-42d9-f8ad-f70353c98b22",
        "colab": {
          "base_uri": "https://localhost:8080/"
        }
      },
      "execution_count": 68,
      "outputs": [
        {
          "output_type": "execute_result",
          "data": {
            "text/plain": [
              "DeviceArray(284.68291789, dtype=float64)"
            ]
          },
          "metadata": {},
          "execution_count": 68
        }
      ]
    },
    {
      "cell_type": "code",
      "source": [],
      "metadata": {
        "id": "DoW8Ob60jy4H"
      },
      "execution_count": 33,
      "outputs": []
    }
  ]
}