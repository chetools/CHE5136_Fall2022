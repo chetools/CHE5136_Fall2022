{
  "nbformat": 4,
  "nbformat_minor": 0,
  "metadata": {
    "colab": {
      "provenance": [],
      "authorship_tag": "ABX9TyPWRgI4RXE1lj3XTMqH6YUc",
      "include_colab_link": true
    },
    "kernelspec": {
      "name": "python3",
      "display_name": "Python 3"
    },
    "language_info": {
      "name": "python"
    }
  },
  "cells": [
    {
      "cell_type": "markdown",
      "metadata": {
        "id": "view-in-github",
        "colab_type": "text"
      },
      "source": [
        "<a href=\"https://colab.research.google.com/github/profteachkids/CHE5136_Fall2022/blob/main/Coil3D_FrenetSerret.ipynb\" target=\"_parent\"><img src=\"https://colab.research.google.com/assets/colab-badge.svg\" alt=\"Open In Colab\"/></a>"
      ]
    },
    {
      "cell_type": "code",
      "execution_count": 1,
      "metadata": {
        "id": "d7h7QUNPPPsM"
      },
      "outputs": [],
      "source": [
        "import numpy as np\n",
        "from plotly.subplots import make_subplots"
      ]
    },
    {
      "cell_type": "code",
      "source": [
        "theta=np.linspace(0,2*np.pi,36)\n",
        "xy=np.array([np.cos(theta),np.sin(theta)])"
      ],
      "metadata": {
        "id": "d8fi5_o6Ue3d"
      },
      "execution_count": 2,
      "outputs": []
    },
    {
      "cell_type": "code",
      "source": [
        "xy_stretch=np.array([[2.,0.],[0.,1.]]) @ xy\n",
        "\n",
        "rot_angle = np.pi/6\n",
        "xy_stretch_rotate = np.array([[np.cos(rot_angle), -np.sin(rot_angle)],[np.sin(rot_angle), np.cos(rot_angle)]]) @ xy_stretch"
      ],
      "metadata": {
        "id": "mdqjYMiwVBmL"
      },
      "execution_count": 3,
      "outputs": []
    },
    {
      "cell_type": "code",
      "source": [
        "fig=make_subplots()\n",
        "fig.add_scatter(x=xy[0],y=xy[1],mode='markers')\n",
        "fig.add_scatter(x=xy_stretch[0],y=xy_stretch[1],mode='markers')\n",
        "fig.add_scatter(x=xy_stretch_rotate[0],y=xy_stretch_rotate[1],mode='markers')\n",
        "fig.update_xaxes(range=[-3,3])\n",
        "fig.update_yaxes(range=[-3,3])\n",
        "fig.update_layout(width=600,height=600,template='plotly_dark')"
      ],
      "metadata": {
        "colab": {
          "base_uri": "https://localhost:8080/",
          "height": 617
        },
        "id": "_2Qb1ZrxUuag",
        "outputId": "8dcdce18-b102-4bcf-c4f8-903c602b9831"
      },
      "execution_count": 4,
      "outputs": [
        {
          "output_type": "display_data",
          "data": {
            "text/html": [
              "<html>\n",
              "<head><meta charset=\"utf-8\" /></head>\n",
              "<body>\n",
              "    <div>            <script src=\"https://cdnjs.cloudflare.com/ajax/libs/mathjax/2.7.5/MathJax.js?config=TeX-AMS-MML_SVG\"></script><script type=\"text/javascript\">if (window.MathJax) {MathJax.Hub.Config({SVG: {font: \"STIX-Web\"}});}</script>                <script type=\"text/javascript\">window.PlotlyConfig = {MathJaxConfig: 'local'};</script>\n",
              "        <script src=\"https://cdn.plot.ly/plotly-2.8.3.min.js\"></script>                <div id=\"dd873ed1-cfbc-4b23-ad13-01807ee4aed7\" class=\"plotly-graph-div\" style=\"height:600px; width:600px;\"></div>            <script type=\"text/javascript\">                                    window.PLOTLYENV=window.PLOTLYENV || {};                                    if (document.getElementById(\"dd873ed1-cfbc-4b23-ad13-01807ee4aed7\")) {                    Plotly.newPlot(                        \"dd873ed1-cfbc-4b23-ad13-01807ee4aed7\",                        [{\"mode\":\"markers\",\"x\":[1.0,0.9839295885986297,0.9362348706397372,0.8584487936018661,0.753071466003611,0.6234898018587336,0.4738686624729987,0.30901699437494745,0.13423326581765554,-0.04486483035051486,-0.22252093395631434,-0.39302503165392355,-0.5508969814521024,-0.6910626489868646,-0.8090169943749473,-0.900968867902419,-0.9639628606958532,-0.9959742939952391,-0.9959742939952391,-0.9639628606958534,-0.9009688679024191,-0.8090169943749476,-0.6910626489868648,-0.5508969814521026,-0.3930250316539238,-0.2225209339563146,-0.044864830350515104,0.1342332658176553,0.30901699437494723,0.47386866247299847,0.6234898018587334,0.7530714660036107,0.858448793601866,0.9362348706397371,0.9839295885986297,1.0],\"y\":[0.0,0.17855689479863665,0.3513748240813427,0.5128992774059061,0.6579387259397126,0.7818314824680298,0.880595531856738,0.9510565162951535,0.9909497617679347,0.9989930665413147,0.9749279121818236,0.9195277725514507,0.8345732537213026,0.7227948638273916,0.5877852522924732,0.43388373911755823,0.26603684556667523,0.08963930890343362,-0.08963930890343337,-0.266036845566675,-0.433883739117558,-0.587785252292473,-0.7227948638273914,-0.8345732537213025,-0.9195277725514506,-0.9749279121818236,-0.9989930665413146,-0.9909497617679348,-0.9510565162951536,-0.8805955318567381,-0.7818314824680299,-0.6579387259397128,-0.5128992774059064,-0.3513748240813429,-0.17855689479863687,-2.4492935982947064e-16],\"type\":\"scatter\"},{\"mode\":\"markers\",\"x\":[2.0,1.9678591771972593,1.8724697412794744,1.7168975872037322,1.506142932007222,1.2469796037174672,0.9477373249459974,0.6180339887498949,0.2684665316353111,-0.08972966070102972,-0.4450418679126287,-0.7860500633078471,-1.1017939629042048,-1.3821252979737293,-1.6180339887498947,-1.801937735804838,-1.9279257213917065,-1.9919485879904781,-1.9919485879904781,-1.9279257213917067,-1.8019377358048383,-1.6180339887498951,-1.3821252979737295,-1.1017939629042053,-0.7860500633078475,-0.4450418679126292,-0.08972966070103021,0.2684665316353106,0.6180339887498945,0.9477373249459969,1.2469796037174667,1.5061429320072215,1.716897587203732,1.8724697412794742,1.9678591771972593,2.0],\"y\":[0.0,0.17855689479863665,0.3513748240813427,0.5128992774059061,0.6579387259397126,0.7818314824680298,0.880595531856738,0.9510565162951535,0.9909497617679347,0.9989930665413147,0.9749279121818236,0.9195277725514507,0.8345732537213026,0.7227948638273916,0.5877852522924732,0.43388373911755823,0.26603684556667523,0.08963930890343362,-0.08963930890343337,-0.266036845566675,-0.433883739117558,-0.587785252292473,-0.7227948638273914,-0.8345732537213025,-0.9195277725514506,-0.9749279121818236,-0.9989930665413146,-0.9909497617679348,-0.9510565162951536,-0.8805955318567381,-0.7818314824680299,-0.6579387259397128,-0.5128992774059064,-0.3513748240813429,-0.17855689479863687,-2.4492935982947064e-16],\"type\":\"scatter\"},{\"mode\":\"markers\",\"x\":[1.7320508075688774,1.6149375911238517,1.445918951725029,1.2304272875116877,0.9753886778787766,0.689000273586364,0.3804668335895723,0.05970487651205825,-0.2629760444218892,-0.5772046989107072,-0.8728815194509268,-1.1405032097466872,-1.3714681884720221,-1.5583530511720822,-1.6951511645903101,-1.7774657248035812,-1.8026510741179955,-1.7698977346840132,-1.6802584257805797,-1.5366142285513205,-1.3435819856860234,-1.1073659122978374,-0.8355581873446911,-0.53689493475072,-0.2209754371952371,0.10204639273089622,0.4217883676306069,0.727973717346045,1.0107613928072114,1.2610623654463098,1.4708317560543935,1.6333274038184888,1.7433265649175937,1.7972937758063716,1.7934944859224884,1.7320508075688776],\"y\":[0.9999999999999999,1.1385643955151143,1.240534394544468,1.3026325974180626,1.3228631168009697,1.3005757271544953,1.2364867635200028,1.1326560979212794,0.9924209333828246,0.8202885434787819,0.6217914048516693,0.4033093788609521,0.17186465758958164,-0.06510393518742938,-0.2999800339198199,-0.5252145275376335,-0.7335681940924349,-0.9183443753071848,-1.073604212683293,-1.1943575272992712,-1.2767232082672042,-1.3180539548300745,-1.3170213627862997,-1.2736586204937863,-1.1893594421687992,-1.0668332727642982,-0.9100182041798117,-0.7239544017475138,-0.5146221091713848,-0.28874943857400576,-0.05359612343702866,0.1832798152062517,0.414264989785669,0.6319353467350058,0.8292947816821445,0.9999999999999997],\"type\":\"scatter\"}],                        {\"template\":{\"data\":{\"barpolar\":[{\"marker\":{\"line\":{\"color\":\"rgb(17,17,17)\",\"width\":0.5},\"pattern\":{\"fillmode\":\"overlay\",\"size\":10,\"solidity\":0.2}},\"type\":\"barpolar\"}],\"bar\":[{\"error_x\":{\"color\":\"#f2f5fa\"},\"error_y\":{\"color\":\"#f2f5fa\"},\"marker\":{\"line\":{\"color\":\"rgb(17,17,17)\",\"width\":0.5},\"pattern\":{\"fillmode\":\"overlay\",\"size\":10,\"solidity\":0.2}},\"type\":\"bar\"}],\"carpet\":[{\"aaxis\":{\"endlinecolor\":\"#A2B1C6\",\"gridcolor\":\"#506784\",\"linecolor\":\"#506784\",\"minorgridcolor\":\"#506784\",\"startlinecolor\":\"#A2B1C6\"},\"baxis\":{\"endlinecolor\":\"#A2B1C6\",\"gridcolor\":\"#506784\",\"linecolor\":\"#506784\",\"minorgridcolor\":\"#506784\",\"startlinecolor\":\"#A2B1C6\"},\"type\":\"carpet\"}],\"choropleth\":[{\"colorbar\":{\"outlinewidth\":0,\"ticks\":\"\"},\"type\":\"choropleth\"}],\"contourcarpet\":[{\"colorbar\":{\"outlinewidth\":0,\"ticks\":\"\"},\"type\":\"contourcarpet\"}],\"contour\":[{\"colorbar\":{\"outlinewidth\":0,\"ticks\":\"\"},\"colorscale\":[[0.0,\"#0d0887\"],[0.1111111111111111,\"#46039f\"],[0.2222222222222222,\"#7201a8\"],[0.3333333333333333,\"#9c179e\"],[0.4444444444444444,\"#bd3786\"],[0.5555555555555556,\"#d8576b\"],[0.6666666666666666,\"#ed7953\"],[0.7777777777777778,\"#fb9f3a\"],[0.8888888888888888,\"#fdca26\"],[1.0,\"#f0f921\"]],\"type\":\"contour\"}],\"heatmapgl\":[{\"colorbar\":{\"outlinewidth\":0,\"ticks\":\"\"},\"colorscale\":[[0.0,\"#0d0887\"],[0.1111111111111111,\"#46039f\"],[0.2222222222222222,\"#7201a8\"],[0.3333333333333333,\"#9c179e\"],[0.4444444444444444,\"#bd3786\"],[0.5555555555555556,\"#d8576b\"],[0.6666666666666666,\"#ed7953\"],[0.7777777777777778,\"#fb9f3a\"],[0.8888888888888888,\"#fdca26\"],[1.0,\"#f0f921\"]],\"type\":\"heatmapgl\"}],\"heatmap\":[{\"colorbar\":{\"outlinewidth\":0,\"ticks\":\"\"},\"colorscale\":[[0.0,\"#0d0887\"],[0.1111111111111111,\"#46039f\"],[0.2222222222222222,\"#7201a8\"],[0.3333333333333333,\"#9c179e\"],[0.4444444444444444,\"#bd3786\"],[0.5555555555555556,\"#d8576b\"],[0.6666666666666666,\"#ed7953\"],[0.7777777777777778,\"#fb9f3a\"],[0.8888888888888888,\"#fdca26\"],[1.0,\"#f0f921\"]],\"type\":\"heatmap\"}],\"histogram2dcontour\":[{\"colorbar\":{\"outlinewidth\":0,\"ticks\":\"\"},\"colorscale\":[[0.0,\"#0d0887\"],[0.1111111111111111,\"#46039f\"],[0.2222222222222222,\"#7201a8\"],[0.3333333333333333,\"#9c179e\"],[0.4444444444444444,\"#bd3786\"],[0.5555555555555556,\"#d8576b\"],[0.6666666666666666,\"#ed7953\"],[0.7777777777777778,\"#fb9f3a\"],[0.8888888888888888,\"#fdca26\"],[1.0,\"#f0f921\"]],\"type\":\"histogram2dcontour\"}],\"histogram2d\":[{\"colorbar\":{\"outlinewidth\":0,\"ticks\":\"\"},\"colorscale\":[[0.0,\"#0d0887\"],[0.1111111111111111,\"#46039f\"],[0.2222222222222222,\"#7201a8\"],[0.3333333333333333,\"#9c179e\"],[0.4444444444444444,\"#bd3786\"],[0.5555555555555556,\"#d8576b\"],[0.6666666666666666,\"#ed7953\"],[0.7777777777777778,\"#fb9f3a\"],[0.8888888888888888,\"#fdca26\"],[1.0,\"#f0f921\"]],\"type\":\"histogram2d\"}],\"histogram\":[{\"marker\":{\"pattern\":{\"fillmode\":\"overlay\",\"size\":10,\"solidity\":0.2}},\"type\":\"histogram\"}],\"mesh3d\":[{\"colorbar\":{\"outlinewidth\":0,\"ticks\":\"\"},\"type\":\"mesh3d\"}],\"parcoords\":[{\"line\":{\"colorbar\":{\"outlinewidth\":0,\"ticks\":\"\"}},\"type\":\"parcoords\"}],\"pie\":[{\"automargin\":true,\"type\":\"pie\"}],\"scatter3d\":[{\"line\":{\"colorbar\":{\"outlinewidth\":0,\"ticks\":\"\"}},\"marker\":{\"colorbar\":{\"outlinewidth\":0,\"ticks\":\"\"}},\"type\":\"scatter3d\"}],\"scattercarpet\":[{\"marker\":{\"colorbar\":{\"outlinewidth\":0,\"ticks\":\"\"}},\"type\":\"scattercarpet\"}],\"scattergeo\":[{\"marker\":{\"colorbar\":{\"outlinewidth\":0,\"ticks\":\"\"}},\"type\":\"scattergeo\"}],\"scattergl\":[{\"marker\":{\"line\":{\"color\":\"#283442\"}},\"type\":\"scattergl\"}],\"scattermapbox\":[{\"marker\":{\"colorbar\":{\"outlinewidth\":0,\"ticks\":\"\"}},\"type\":\"scattermapbox\"}],\"scatterpolargl\":[{\"marker\":{\"colorbar\":{\"outlinewidth\":0,\"ticks\":\"\"}},\"type\":\"scatterpolargl\"}],\"scatterpolar\":[{\"marker\":{\"colorbar\":{\"outlinewidth\":0,\"ticks\":\"\"}},\"type\":\"scatterpolar\"}],\"scatter\":[{\"marker\":{\"line\":{\"color\":\"#283442\"}},\"type\":\"scatter\"}],\"scatterternary\":[{\"marker\":{\"colorbar\":{\"outlinewidth\":0,\"ticks\":\"\"}},\"type\":\"scatterternary\"}],\"surface\":[{\"colorbar\":{\"outlinewidth\":0,\"ticks\":\"\"},\"colorscale\":[[0.0,\"#0d0887\"],[0.1111111111111111,\"#46039f\"],[0.2222222222222222,\"#7201a8\"],[0.3333333333333333,\"#9c179e\"],[0.4444444444444444,\"#bd3786\"],[0.5555555555555556,\"#d8576b\"],[0.6666666666666666,\"#ed7953\"],[0.7777777777777778,\"#fb9f3a\"],[0.8888888888888888,\"#fdca26\"],[1.0,\"#f0f921\"]],\"type\":\"surface\"}],\"table\":[{\"cells\":{\"fill\":{\"color\":\"#506784\"},\"line\":{\"color\":\"rgb(17,17,17)\"}},\"header\":{\"fill\":{\"color\":\"#2a3f5f\"},\"line\":{\"color\":\"rgb(17,17,17)\"}},\"type\":\"table\"}]},\"layout\":{\"annotationdefaults\":{\"arrowcolor\":\"#f2f5fa\",\"arrowhead\":0,\"arrowwidth\":1},\"autotypenumbers\":\"strict\",\"coloraxis\":{\"colorbar\":{\"outlinewidth\":0,\"ticks\":\"\"}},\"colorscale\":{\"diverging\":[[0,\"#8e0152\"],[0.1,\"#c51b7d\"],[0.2,\"#de77ae\"],[0.3,\"#f1b6da\"],[0.4,\"#fde0ef\"],[0.5,\"#f7f7f7\"],[0.6,\"#e6f5d0\"],[0.7,\"#b8e186\"],[0.8,\"#7fbc41\"],[0.9,\"#4d9221\"],[1,\"#276419\"]],\"sequential\":[[0.0,\"#0d0887\"],[0.1111111111111111,\"#46039f\"],[0.2222222222222222,\"#7201a8\"],[0.3333333333333333,\"#9c179e\"],[0.4444444444444444,\"#bd3786\"],[0.5555555555555556,\"#d8576b\"],[0.6666666666666666,\"#ed7953\"],[0.7777777777777778,\"#fb9f3a\"],[0.8888888888888888,\"#fdca26\"],[1.0,\"#f0f921\"]],\"sequentialminus\":[[0.0,\"#0d0887\"],[0.1111111111111111,\"#46039f\"],[0.2222222222222222,\"#7201a8\"],[0.3333333333333333,\"#9c179e\"],[0.4444444444444444,\"#bd3786\"],[0.5555555555555556,\"#d8576b\"],[0.6666666666666666,\"#ed7953\"],[0.7777777777777778,\"#fb9f3a\"],[0.8888888888888888,\"#fdca26\"],[1.0,\"#f0f921\"]]},\"colorway\":[\"#636efa\",\"#EF553B\",\"#00cc96\",\"#ab63fa\",\"#FFA15A\",\"#19d3f3\",\"#FF6692\",\"#B6E880\",\"#FF97FF\",\"#FECB52\"],\"font\":{\"color\":\"#f2f5fa\"},\"geo\":{\"bgcolor\":\"rgb(17,17,17)\",\"lakecolor\":\"rgb(17,17,17)\",\"landcolor\":\"rgb(17,17,17)\",\"showlakes\":true,\"showland\":true,\"subunitcolor\":\"#506784\"},\"hoverlabel\":{\"align\":\"left\"},\"hovermode\":\"closest\",\"mapbox\":{\"style\":\"dark\"},\"paper_bgcolor\":\"rgb(17,17,17)\",\"plot_bgcolor\":\"rgb(17,17,17)\",\"polar\":{\"angularaxis\":{\"gridcolor\":\"#506784\",\"linecolor\":\"#506784\",\"ticks\":\"\"},\"bgcolor\":\"rgb(17,17,17)\",\"radialaxis\":{\"gridcolor\":\"#506784\",\"linecolor\":\"#506784\",\"ticks\":\"\"}},\"scene\":{\"xaxis\":{\"backgroundcolor\":\"rgb(17,17,17)\",\"gridcolor\":\"#506784\",\"gridwidth\":2,\"linecolor\":\"#506784\",\"showbackground\":true,\"ticks\":\"\",\"zerolinecolor\":\"#C8D4E3\"},\"yaxis\":{\"backgroundcolor\":\"rgb(17,17,17)\",\"gridcolor\":\"#506784\",\"gridwidth\":2,\"linecolor\":\"#506784\",\"showbackground\":true,\"ticks\":\"\",\"zerolinecolor\":\"#C8D4E3\"},\"zaxis\":{\"backgroundcolor\":\"rgb(17,17,17)\",\"gridcolor\":\"#506784\",\"gridwidth\":2,\"linecolor\":\"#506784\",\"showbackground\":true,\"ticks\":\"\",\"zerolinecolor\":\"#C8D4E3\"}},\"shapedefaults\":{\"line\":{\"color\":\"#f2f5fa\"}},\"sliderdefaults\":{\"bgcolor\":\"#C8D4E3\",\"bordercolor\":\"rgb(17,17,17)\",\"borderwidth\":1,\"tickwidth\":0},\"ternary\":{\"aaxis\":{\"gridcolor\":\"#506784\",\"linecolor\":\"#506784\",\"ticks\":\"\"},\"baxis\":{\"gridcolor\":\"#506784\",\"linecolor\":\"#506784\",\"ticks\":\"\"},\"bgcolor\":\"rgb(17,17,17)\",\"caxis\":{\"gridcolor\":\"#506784\",\"linecolor\":\"#506784\",\"ticks\":\"\"}},\"title\":{\"x\":0.05},\"updatemenudefaults\":{\"bgcolor\":\"#506784\",\"borderwidth\":0},\"xaxis\":{\"automargin\":true,\"gridcolor\":\"#283442\",\"linecolor\":\"#506784\",\"ticks\":\"\",\"title\":{\"standoff\":15},\"zerolinecolor\":\"#283442\",\"zerolinewidth\":2},\"yaxis\":{\"automargin\":true,\"gridcolor\":\"#283442\",\"linecolor\":\"#506784\",\"ticks\":\"\",\"title\":{\"standoff\":15},\"zerolinecolor\":\"#283442\",\"zerolinewidth\":2}}},\"xaxis\":{\"anchor\":\"y\",\"domain\":[0.0,1.0],\"range\":[-3,3]},\"yaxis\":{\"anchor\":\"x\",\"domain\":[0.0,1.0],\"range\":[-3,3]},\"width\":600,\"height\":600},                        {\"responsive\": true}                    ).then(function(){\n",
              "                            \n",
              "var gd = document.getElementById('dd873ed1-cfbc-4b23-ad13-01807ee4aed7');\n",
              "var x = new MutationObserver(function (mutations, observer) {{\n",
              "        var display = window.getComputedStyle(gd).display;\n",
              "        if (!display || display === 'none') {{\n",
              "            console.log([gd, 'removed!']);\n",
              "            Plotly.purge(gd);\n",
              "            observer.disconnect();\n",
              "        }}\n",
              "}});\n",
              "\n",
              "// Listen for the removal of the full notebook cells\n",
              "var notebookContainer = gd.closest('#notebook-container');\n",
              "if (notebookContainer) {{\n",
              "    x.observe(notebookContainer, {childList: true});\n",
              "}}\n",
              "\n",
              "// Listen for the clearing of the current output cell\n",
              "var outputEl = gd.closest('.output');\n",
              "if (outputEl) {{\n",
              "    x.observe(outputEl, {childList: true});\n",
              "}}\n",
              "\n",
              "                        })                };                            </script>        </div>\n",
              "</body>\n",
              "</html>"
            ]
          },
          "metadata": {}
        }
      ]
    },
    {
      "cell_type": "code",
      "source": [
        "t=np.linspace(0,4*np.pi,360)\n",
        "R=3.\n",
        "mz=0.4"
      ],
      "metadata": {
        "id": "VB4x-vglPUZr"
      },
      "execution_count": 5,
      "outputs": []
    },
    {
      "cell_type": "code",
      "source": [
        "def curve(t, R, mz):\n",
        "    xyz = np.array([R*np.cos(t), R*np.sin(t), mz*t])\n",
        "    return xyz"
      ],
      "metadata": {
        "id": "dVnjX3NIPsoD"
      },
      "execution_count": 6,
      "outputs": []
    },
    {
      "cell_type": "code",
      "source": [
        "xyz= curve(t,R,mz)"
      ],
      "metadata": {
        "id": "1P7HeiyeQ2zv"
      },
      "execution_count": 7,
      "outputs": []
    },
    {
      "cell_type": "code",
      "source": [
        "fig=make_subplots(rows=1,cols=1,specs=[[{'type':'surface'}]])\n",
        "fig.add_scatter3d(x=xyz[0,:],y=xyz[1,:],z=xyz[2,:],mode='lines',row=1,col=1)\n",
        "fig.update_layout(width=600,height=600,template='plotly_dark')"
      ],
      "metadata": {
        "id": "RwaLO-alQT_E"
      },
      "execution_count": null,
      "outputs": []
    },
    {
      "cell_type": "code",
      "source": [
        "def get_grad(f):\n",
        "\n",
        "    def grad(x,h):\n",
        "        res=[]\n",
        "        xplush=np.copy(x)\n",
        "        for i in range(x.size):\n",
        "            xplush[i]=x[i]+h\n",
        "            res.append((f(xplush) - f(x))/h)\n",
        "        return np.array(res)\n",
        "    return grad\n",
        "        \n",
        "\n"
      ],
      "metadata": {
        "id": "a6nlo1h_oLR2"
      },
      "execution_count": 28,
      "outputs": []
    },
    {
      "cell_type": "code",
      "source": [
        "def f(x):\n",
        "    return np.sin(x[0])+ np.cos(2*x[1])"
      ],
      "metadata": {
        "id": "BoEV6MGztmjp"
      },
      "execution_count": 29,
      "outputs": []
    },
    {
      "cell_type": "code",
      "source": [
        "grad=get_grad(f)"
      ],
      "metadata": {
        "id": "V7njBY16tsyV"
      },
      "execution_count": 30,
      "outputs": []
    },
    {
      "cell_type": "code",
      "source": [
        "grad(np.array([np.pi/6, np.pi/3]),h=1e-8)"
      ],
      "metadata": {
        "id": "fSJBcKcsvYIE",
        "outputId": "bc8a283b-bb5c-4d37-aaa5-edcb42f30558",
        "colab": {
          "base_uri": "https://localhost:8080/"
        }
      },
      "execution_count": 31,
      "outputs": [
        {
          "output_type": "execute_result",
          "data": {
            "text/plain": [
              "array([ 0.8660254 , -0.86602539])"
            ]
          },
          "metadata": {},
          "execution_count": 31
        }
      ]
    },
    {
      "cell_type": "code",
      "source": [],
      "metadata": {
        "id": "woZfNpSuveHJ"
      },
      "execution_count": 31,
      "outputs": []
    }
  ]
}