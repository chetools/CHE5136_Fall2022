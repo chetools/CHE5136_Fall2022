{
  "nbformat": 4,
  "nbformat_minor": 0,
  "metadata": {
    "colab": {
      "provenance": [],
      "collapsed_sections": [],
      "authorship_tag": "ABX9TyM4iJnTziTyooQakr7XmMh3",
      "include_colab_link": true
    },
    "kernelspec": {
      "name": "python3",
      "display_name": "Python 3"
    }
  },
  "cells": [
    {
      "cell_type": "markdown",
      "metadata": {
        "id": "view-in-github",
        "colab_type": "text"
      },
      "source": [
        "<a href=\"https://colab.research.google.com/github/profteachkids/CHE5136_Fall2022/blob/main/StefanMaxwell_NRTL_JAX.ipynb\" target=\"_parent\"><img src=\"https://colab.research.google.com/assets/colab-badge.svg\" alt=\"Open In Colab\"/></a>"
      ]
    },
    {
      "cell_type": "code",
      "metadata": {
        "id": "U0Ldy5aWBHMA"
      },
      "source": [
        "import jax\n",
        "import jax.numpy as jnp"
      ],
      "execution_count": 1,
      "outputs": []
    },
    {
      "cell_type": "markdown",
      "metadata": {
        "id": "43iNt4W2By5l"
      },
      "source": [
        "#### Using the Non-Random Two Liquid (NRTL) activity coefficient, one can calculate the activity coefficient of a component $\\gamma_i$ in a mixture by:"
      ]
    },
    {
      "cell_type": "markdown",
      "metadata": {
        "id": "RwDkUyAJBigm"
      },
      "source": [
        "$$\\ln{\\gamma_i}=\\dfrac{\\sum\\limits_{j=1}^n x_j \\tau_{ji} G_{ji}}{\\sum\\limits_{k=1}^n {x_k G_{ki}}} + \n",
        "\\sum\\limits_{j=1}^n \n",
        "\\dfrac {x_j G_{ij}}{\\sum\\limits_{k=1}^{n}x_k G_{kj}}\n",
        "\\left(\\tau_{ij}-\n",
        "\\dfrac{\\sum\\limits_{m=1}^n x_m \\tau_{mj} G_{mj}}\n",
        "{\\sum\\limits_{k=1}^n x_k G_{kj}}\n",
        "\\right)\n",
        "$$"
      ]
    },
    {
      "cell_type": "markdown",
      "metadata": {
        "id": "9u8fPMYjBuvR"
      },
      "source": [
        "$$\\begin{align}\n",
        "G_{ij} &= \\exp \\left(-\\alpha_{ij}\\tau_{ij} \\right) \\\\\n",
        "\\tau_{ij} &= A_{ij} + \\dfrac{B_{ij}}{T} + C_{ij}\\ln{T} + D_{ij}T \\\\\n",
        "\\alpha_{ij} &= \\alpha_{ji}\n",
        "\\end{align}$$\n",
        "\n",
        "\n",
        "here, $x$ is a vector of mole fractions while $\\tau$ and $G$ are matrices calculated from $A$, $B$, $C$, $D$, and $\\alpha$ that are matrices of binary interaction parameters determined experimentally.  Unlike the other matrices, the $\\alpha$ interaction matrix is symmetric."
      ]
    },
    {
      "cell_type": "code",
      "metadata": {
        "id": "cKO9UOmaBJwC",
        "colab": {
          "base_uri": "https://localhost:8080/"
        },
        "outputId": "9f7e3354-bcc2-48fc-fa5d-fcfe9e3ffe0b"
      },
      "source": [
        "# For the 3 component mixture: (1) Methanol, (2) Ethanol, and (3) Water system, \n",
        "# the matrices A, C, D are zeros, while B and alpha have been determined experimentally.\n",
        "\n",
        "B=jnp.array( [[   0.,   -155.5,   -24.49],\n",
        " [ 190.06,    0.,    -55.17],\n",
        " [ 307.17,  670.44,    0.  ]])\n",
        "\n",
        "alpha = jnp.array( [[0.,    0.305, 0.3  ],\n",
        " [0.305, 0.,    0.303],\n",
        " [0.3,   0.303, 0.   ]])"
      ],
      "execution_count": 2,
      "outputs": [
        {
          "output_type": "stream",
          "name": "stderr",
          "text": [
            "WARNING:absl:No GPU/TPU found, falling back to CPU. (Set TF_CPP_MIN_LOG_LEVEL=0 and rerun for more info.)\n"
          ]
        }
      ]
    },
    {
      "cell_type": "code",
      "source": [
        "def ln_g(xm1, T):\n",
        "    x=jnp.asarray(jnp.append(xm1,1-jnp.sum(xm1))).reshape((1,-1))\n",
        "    tau = B/T\n",
        "    G = jnp.exp(-alpha * tau)\n",
        "    xG=x @ G\n",
        "    xtauGdivxG = (x@ (tau*G)/ xG)\n",
        "    lngamma = xtauGdivxG +  (((G*(tau - xtauGdivxG))/xG) @x.T).T\n",
        "    return lngamma.flatten()"
      ],
      "metadata": {
        "id": "sAqXRqt1VmHO"
      },
      "execution_count": 10,
      "outputs": []
    },
    {
      "cell_type": "code",
      "metadata": {
        "id": "4CbDO3uPC0tn",
        "colab": {
          "base_uri": "https://localhost:8080/"
        },
        "outputId": "cdcb9d72-9a6f-4b20-cfdd-e46b841d7002"
      },
      "source": [
        "x12=jnp.array([0.2, 0.3])\n",
        "T=300\n",
        "print(jnp.exp(ln_g(x12,T)))\n",
        "dlng_dx=jax.jacobian(ln_g)\n",
        "dlng_dx(x12,T)"
      ],
      "execution_count": 19,
      "outputs": [
        {
          "output_type": "stream",
          "name": "stdout",
          "text": [
            "[1.0061771 1.335594  1.4216974]\n"
          ]
        },
        {
          "output_type": "execute_result",
          "data": {
            "text/plain": [
              "DeviceArray([[ 0.04480401, -0.65847015],\n",
              "             [-1.1157057 , -1.4089153 ],\n",
              "             [ 0.6515017 ,  1.108737  ]], dtype=float32)"
            ]
          },
          "metadata": {},
          "execution_count": 19
        }
      ]
    },
    {
      "cell_type": "code",
      "metadata": {
        "id": "PJQ_U96iEs5-",
        "colab": {
          "base_uri": "https://localhost:8080/"
        },
        "outputId": "e481676d-b6ed-40e7-819d-903fafa8c448"
      },
      "source": [
        "#thermodynamic factor matrix (Eq 1.31 and 1.32 - Principles and Modern Applications of Mass Transfer Operations\n",
        "#2nd Edition, Benitez)\n",
        "tfm = jnp.eye(2) + x12[None,:]*dlng_dx(x12,T)[:2,:]\n",
        "tfm"
      ],
      "execution_count": 16,
      "outputs": [
        {
          "output_type": "execute_result",
          "data": {
            "text/plain": [
              "DeviceArray([[ 1.0089608 , -0.19754106],\n",
              "             [-0.22314115,  0.5773254 ]], dtype=float32)"
            ]
          },
          "metadata": {},
          "execution_count": 16
        }
      ]
    },
    {
      "cell_type": "code",
      "metadata": {
        "id": "yLDo7Bylo_9c",
        "colab": {
          "base_uri": "https://localhost:8080/"
        },
        "outputId": "cdaf87da-240f-49dd-d597-e8eee3a01d6d"
      },
      "source": [
        "#driving force\n",
        "dxdz = jnp.array([0.3, 0.4]).reshape((-1,1))\n",
        "d = tfm @ dxdz\n",
        "d"
      ],
      "execution_count": 17,
      "outputs": [
        {
          "output_type": "execute_result",
          "data": {
            "text/plain": [
              "DeviceArray([[0.22367185],\n",
              "             [0.16398782]], dtype=float32)"
            ]
          },
          "metadata": {},
          "execution_count": 17
        }
      ]
    },
    {
      "cell_type": "code",
      "source": [],
      "metadata": {
        "id": "jdBUbrCggMov"
      },
      "execution_count": null,
      "outputs": []
    }
  ]
}