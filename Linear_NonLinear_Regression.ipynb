{
  "nbformat": 4,
  "nbformat_minor": 0,
  "metadata": {
    "colab": {
      "provenance": [],
      "authorship_tag": "ABX9TyPifB0nIG2Zcel6pTd4FsD8",
      "include_colab_link": true
    },
    "kernelspec": {
      "name": "python3",
      "display_name": "Python 3"
    },
    "language_info": {
      "name": "python"
    }
  },
  "cells": [
    {
      "cell_type": "markdown",
      "metadata": {
        "id": "view-in-github",
        "colab_type": "text"
      },
      "source": [
        "<a href=\"https://colab.research.google.com/github/profteachkids/CHE5136_Fall2022/blob/main/Linear_NonLinear_Regression.ipynb\" target=\"_parent\"><img src=\"https://colab.research.google.com/assets/colab-badge.svg\" alt=\"Open In Colab\"/></a>"
      ]
    },
    {
      "cell_type": "code",
      "execution_count": 7,
      "metadata": {
        "id": "Y3uF8UlLsLGP"
      },
      "outputs": [],
      "source": [
        "import numpy as np\n",
        "from plotly.subplots import make_subplots\n",
        "from scipy.optimize import minimize"
      ]
    },
    {
      "cell_type": "code",
      "source": [
        "rng=np.random.RandomState(123)\n",
        "N=50\n",
        "x_data = np.linspace(-5.,5., N)\n",
        "y_data = rng.normal(loc=2.*x_data +1., scale=0.4)"
      ],
      "metadata": {
        "id": "Drj_mDtCsNHF"
      },
      "execution_count": 8,
      "outputs": []
    },
    {
      "cell_type": "code",
      "source": [
        "def sumsq(u):\n",
        "    m,b = u\n",
        "    return np.sum( (y_data - (m*x_data + b))**2)"
      ],
      "metadata": {
        "id": "rzk3ZnViDqLA"
      },
      "execution_count": 10,
      "outputs": []
    },
    {
      "cell_type": "code",
      "source": [
        "minimize(sumsq, [0.,0.]).x"
      ],
      "metadata": {
        "colab": {
          "base_uri": "https://localhost:8080/"
        },
        "id": "J-nGMY8aEzd5",
        "outputId": "b8123d12-4b9c-4274-ecef-9eed9a323c58"
      },
      "execution_count": 15,
      "outputs": [
        {
          "output_type": "execute_result",
          "data": {
            "text/plain": [
              "array([2.01526623, 1.00530857])"
            ]
          },
          "metadata": {},
          "execution_count": 15
        }
      ]
    },
    {
      "cell_type": "code",
      "source": [
        "fig = make_subplots()\n",
        "fig.add_scatter(x=x_data, y=y_data, mode='markers')\n",
        "fig.update_layout(width=600, height=600, template='plotly_dark')"
      ],
      "metadata": {
        "colab": {
          "base_uri": "https://localhost:8080/",
          "height": 617
        },
        "id": "lF5jh3RlsZTF",
        "outputId": "38d39a77-01e5-402a-8c9f-2d38787f2d20"
      },
      "execution_count": 9,
      "outputs": [
        {
          "output_type": "display_data",
          "data": {
            "text/html": [
              "<html>\n",
              "<head><meta charset=\"utf-8\" /></head>\n",
              "<body>\n",
              "    <div>            <script src=\"https://cdnjs.cloudflare.com/ajax/libs/mathjax/2.7.5/MathJax.js?config=TeX-AMS-MML_SVG\"></script><script type=\"text/javascript\">if (window.MathJax) {MathJax.Hub.Config({SVG: {font: \"STIX-Web\"}});}</script>                <script type=\"text/javascript\">window.PlotlyConfig = {MathJaxConfig: 'local'};</script>\n",
              "        <script src=\"https://cdn.plot.ly/plotly-2.8.3.min.js\"></script>                <div id=\"5dd2d91a-3758-47b7-8c47-c771cad2884f\" class=\"plotly-graph-div\" style=\"height:600px; width:600px;\"></div>            <script type=\"text/javascript\">                                    window.PLOTLYENV=window.PLOTLYENV || {};                                    if (document.getElementById(\"5dd2d91a-3758-47b7-8c47-c771cad2884f\")) {                    Plotly.newPlot(                        \"5dd2d91a-3758-47b7-8c47-c771cad2884f\",                        [{\"mode\":\"markers\",\"x\":[-5.0,-4.795918367346939,-4.591836734693878,-4.387755102040816,-4.183673469387755,-3.979591836734694,-3.7755102040816326,-3.571428571428571,-3.36734693877551,-3.163265306122449,-2.9591836734693877,-2.7551020408163263,-2.5510204081632653,-2.3469387755102042,-2.142857142857143,-1.9387755102040813,-1.7346938775510203,-1.5306122448979593,-1.3265306122448979,-1.1224489795918364,-0.9183673469387754,-0.7142857142857144,-0.5102040816326525,-0.3061224489795915,-0.1020408163265305,0.1020408163265305,0.3061224489795915,0.5102040816326534,0.7142857142857144,0.9183673469387754,1.1224489795918373,1.3265306122448983,1.5306122448979593,1.7346938775510203,1.9387755102040813,2.1428571428571432,2.3469387755102042,2.5510204081632653,2.755102040816327,2.959183673469388,3.163265306122449,3.36734693877551,3.571428571428571,3.775510204081632,3.979591836734695,4.183673469387756,4.387755102040817,4.591836734693878,4.795918367346939,5.0],\"y\":[-9.434252241320225,-8.192898556060443,-8.070482070166959,-8.378028089648868,-7.598787039562925,-6.298609058630528,-7.521692105520495,-6.314422194399613,-5.228319374068807,-5.673226773150939,-5.189921807587597,-4.548087669207409,-3.5054849658768155,-3.949438349694269,-3.463307069572712,-3.0512915306555697,-1.5870157220118584,-1.186510054206404,-1.251439665338245,-1.0904233995137305,-0.5417872635190539,0.1677213826888908,-0.3947417106262616,0.8580867199536584,0.294366100247334,0.9489810316716969,1.9750869762793035,1.448935883174919,2.3725439404959623,2.4920327355336767,3.142650210971436,2.5336255823055067,3.35261124799198,4.189436861262874,5.248535993111596,5.2162600125982,5.695015917379133,6.377329900767444,6.158389544429033,7.031818276461693,7.004384005018652,7.0436260799027774,7.986497225355102,8.780542753125287,9.094619293869311,9.362614740983984,10.732456310456724,10.348838333511267,10.983331137068816,11.895257335399181],\"type\":\"scatter\"}],                        {\"template\":{\"data\":{\"barpolar\":[{\"marker\":{\"line\":{\"color\":\"rgb(17,17,17)\",\"width\":0.5},\"pattern\":{\"fillmode\":\"overlay\",\"size\":10,\"solidity\":0.2}},\"type\":\"barpolar\"}],\"bar\":[{\"error_x\":{\"color\":\"#f2f5fa\"},\"error_y\":{\"color\":\"#f2f5fa\"},\"marker\":{\"line\":{\"color\":\"rgb(17,17,17)\",\"width\":0.5},\"pattern\":{\"fillmode\":\"overlay\",\"size\":10,\"solidity\":0.2}},\"type\":\"bar\"}],\"carpet\":[{\"aaxis\":{\"endlinecolor\":\"#A2B1C6\",\"gridcolor\":\"#506784\",\"linecolor\":\"#506784\",\"minorgridcolor\":\"#506784\",\"startlinecolor\":\"#A2B1C6\"},\"baxis\":{\"endlinecolor\":\"#A2B1C6\",\"gridcolor\":\"#506784\",\"linecolor\":\"#506784\",\"minorgridcolor\":\"#506784\",\"startlinecolor\":\"#A2B1C6\"},\"type\":\"carpet\"}],\"choropleth\":[{\"colorbar\":{\"outlinewidth\":0,\"ticks\":\"\"},\"type\":\"choropleth\"}],\"contourcarpet\":[{\"colorbar\":{\"outlinewidth\":0,\"ticks\":\"\"},\"type\":\"contourcarpet\"}],\"contour\":[{\"colorbar\":{\"outlinewidth\":0,\"ticks\":\"\"},\"colorscale\":[[0.0,\"#0d0887\"],[0.1111111111111111,\"#46039f\"],[0.2222222222222222,\"#7201a8\"],[0.3333333333333333,\"#9c179e\"],[0.4444444444444444,\"#bd3786\"],[0.5555555555555556,\"#d8576b\"],[0.6666666666666666,\"#ed7953\"],[0.7777777777777778,\"#fb9f3a\"],[0.8888888888888888,\"#fdca26\"],[1.0,\"#f0f921\"]],\"type\":\"contour\"}],\"heatmapgl\":[{\"colorbar\":{\"outlinewidth\":0,\"ticks\":\"\"},\"colorscale\":[[0.0,\"#0d0887\"],[0.1111111111111111,\"#46039f\"],[0.2222222222222222,\"#7201a8\"],[0.3333333333333333,\"#9c179e\"],[0.4444444444444444,\"#bd3786\"],[0.5555555555555556,\"#d8576b\"],[0.6666666666666666,\"#ed7953\"],[0.7777777777777778,\"#fb9f3a\"],[0.8888888888888888,\"#fdca26\"],[1.0,\"#f0f921\"]],\"type\":\"heatmapgl\"}],\"heatmap\":[{\"colorbar\":{\"outlinewidth\":0,\"ticks\":\"\"},\"colorscale\":[[0.0,\"#0d0887\"],[0.1111111111111111,\"#46039f\"],[0.2222222222222222,\"#7201a8\"],[0.3333333333333333,\"#9c179e\"],[0.4444444444444444,\"#bd3786\"],[0.5555555555555556,\"#d8576b\"],[0.6666666666666666,\"#ed7953\"],[0.7777777777777778,\"#fb9f3a\"],[0.8888888888888888,\"#fdca26\"],[1.0,\"#f0f921\"]],\"type\":\"heatmap\"}],\"histogram2dcontour\":[{\"colorbar\":{\"outlinewidth\":0,\"ticks\":\"\"},\"colorscale\":[[0.0,\"#0d0887\"],[0.1111111111111111,\"#46039f\"],[0.2222222222222222,\"#7201a8\"],[0.3333333333333333,\"#9c179e\"],[0.4444444444444444,\"#bd3786\"],[0.5555555555555556,\"#d8576b\"],[0.6666666666666666,\"#ed7953\"],[0.7777777777777778,\"#fb9f3a\"],[0.8888888888888888,\"#fdca26\"],[1.0,\"#f0f921\"]],\"type\":\"histogram2dcontour\"}],\"histogram2d\":[{\"colorbar\":{\"outlinewidth\":0,\"ticks\":\"\"},\"colorscale\":[[0.0,\"#0d0887\"],[0.1111111111111111,\"#46039f\"],[0.2222222222222222,\"#7201a8\"],[0.3333333333333333,\"#9c179e\"],[0.4444444444444444,\"#bd3786\"],[0.5555555555555556,\"#d8576b\"],[0.6666666666666666,\"#ed7953\"],[0.7777777777777778,\"#fb9f3a\"],[0.8888888888888888,\"#fdca26\"],[1.0,\"#f0f921\"]],\"type\":\"histogram2d\"}],\"histogram\":[{\"marker\":{\"pattern\":{\"fillmode\":\"overlay\",\"size\":10,\"solidity\":0.2}},\"type\":\"histogram\"}],\"mesh3d\":[{\"colorbar\":{\"outlinewidth\":0,\"ticks\":\"\"},\"type\":\"mesh3d\"}],\"parcoords\":[{\"line\":{\"colorbar\":{\"outlinewidth\":0,\"ticks\":\"\"}},\"type\":\"parcoords\"}],\"pie\":[{\"automargin\":true,\"type\":\"pie\"}],\"scatter3d\":[{\"line\":{\"colorbar\":{\"outlinewidth\":0,\"ticks\":\"\"}},\"marker\":{\"colorbar\":{\"outlinewidth\":0,\"ticks\":\"\"}},\"type\":\"scatter3d\"}],\"scattercarpet\":[{\"marker\":{\"colorbar\":{\"outlinewidth\":0,\"ticks\":\"\"}},\"type\":\"scattercarpet\"}],\"scattergeo\":[{\"marker\":{\"colorbar\":{\"outlinewidth\":0,\"ticks\":\"\"}},\"type\":\"scattergeo\"}],\"scattergl\":[{\"marker\":{\"line\":{\"color\":\"#283442\"}},\"type\":\"scattergl\"}],\"scattermapbox\":[{\"marker\":{\"colorbar\":{\"outlinewidth\":0,\"ticks\":\"\"}},\"type\":\"scattermapbox\"}],\"scatterpolargl\":[{\"marker\":{\"colorbar\":{\"outlinewidth\":0,\"ticks\":\"\"}},\"type\":\"scatterpolargl\"}],\"scatterpolar\":[{\"marker\":{\"colorbar\":{\"outlinewidth\":0,\"ticks\":\"\"}},\"type\":\"scatterpolar\"}],\"scatter\":[{\"marker\":{\"line\":{\"color\":\"#283442\"}},\"type\":\"scatter\"}],\"scatterternary\":[{\"marker\":{\"colorbar\":{\"outlinewidth\":0,\"ticks\":\"\"}},\"type\":\"scatterternary\"}],\"surface\":[{\"colorbar\":{\"outlinewidth\":0,\"ticks\":\"\"},\"colorscale\":[[0.0,\"#0d0887\"],[0.1111111111111111,\"#46039f\"],[0.2222222222222222,\"#7201a8\"],[0.3333333333333333,\"#9c179e\"],[0.4444444444444444,\"#bd3786\"],[0.5555555555555556,\"#d8576b\"],[0.6666666666666666,\"#ed7953\"],[0.7777777777777778,\"#fb9f3a\"],[0.8888888888888888,\"#fdca26\"],[1.0,\"#f0f921\"]],\"type\":\"surface\"}],\"table\":[{\"cells\":{\"fill\":{\"color\":\"#506784\"},\"line\":{\"color\":\"rgb(17,17,17)\"}},\"header\":{\"fill\":{\"color\":\"#2a3f5f\"},\"line\":{\"color\":\"rgb(17,17,17)\"}},\"type\":\"table\"}]},\"layout\":{\"annotationdefaults\":{\"arrowcolor\":\"#f2f5fa\",\"arrowhead\":0,\"arrowwidth\":1},\"autotypenumbers\":\"strict\",\"coloraxis\":{\"colorbar\":{\"outlinewidth\":0,\"ticks\":\"\"}},\"colorscale\":{\"diverging\":[[0,\"#8e0152\"],[0.1,\"#c51b7d\"],[0.2,\"#de77ae\"],[0.3,\"#f1b6da\"],[0.4,\"#fde0ef\"],[0.5,\"#f7f7f7\"],[0.6,\"#e6f5d0\"],[0.7,\"#b8e186\"],[0.8,\"#7fbc41\"],[0.9,\"#4d9221\"],[1,\"#276419\"]],\"sequential\":[[0.0,\"#0d0887\"],[0.1111111111111111,\"#46039f\"],[0.2222222222222222,\"#7201a8\"],[0.3333333333333333,\"#9c179e\"],[0.4444444444444444,\"#bd3786\"],[0.5555555555555556,\"#d8576b\"],[0.6666666666666666,\"#ed7953\"],[0.7777777777777778,\"#fb9f3a\"],[0.8888888888888888,\"#fdca26\"],[1.0,\"#f0f921\"]],\"sequentialminus\":[[0.0,\"#0d0887\"],[0.1111111111111111,\"#46039f\"],[0.2222222222222222,\"#7201a8\"],[0.3333333333333333,\"#9c179e\"],[0.4444444444444444,\"#bd3786\"],[0.5555555555555556,\"#d8576b\"],[0.6666666666666666,\"#ed7953\"],[0.7777777777777778,\"#fb9f3a\"],[0.8888888888888888,\"#fdca26\"],[1.0,\"#f0f921\"]]},\"colorway\":[\"#636efa\",\"#EF553B\",\"#00cc96\",\"#ab63fa\",\"#FFA15A\",\"#19d3f3\",\"#FF6692\",\"#B6E880\",\"#FF97FF\",\"#FECB52\"],\"font\":{\"color\":\"#f2f5fa\"},\"geo\":{\"bgcolor\":\"rgb(17,17,17)\",\"lakecolor\":\"rgb(17,17,17)\",\"landcolor\":\"rgb(17,17,17)\",\"showlakes\":true,\"showland\":true,\"subunitcolor\":\"#506784\"},\"hoverlabel\":{\"align\":\"left\"},\"hovermode\":\"closest\",\"mapbox\":{\"style\":\"dark\"},\"paper_bgcolor\":\"rgb(17,17,17)\",\"plot_bgcolor\":\"rgb(17,17,17)\",\"polar\":{\"angularaxis\":{\"gridcolor\":\"#506784\",\"linecolor\":\"#506784\",\"ticks\":\"\"},\"bgcolor\":\"rgb(17,17,17)\",\"radialaxis\":{\"gridcolor\":\"#506784\",\"linecolor\":\"#506784\",\"ticks\":\"\"}},\"scene\":{\"xaxis\":{\"backgroundcolor\":\"rgb(17,17,17)\",\"gridcolor\":\"#506784\",\"gridwidth\":2,\"linecolor\":\"#506784\",\"showbackground\":true,\"ticks\":\"\",\"zerolinecolor\":\"#C8D4E3\"},\"yaxis\":{\"backgroundcolor\":\"rgb(17,17,17)\",\"gridcolor\":\"#506784\",\"gridwidth\":2,\"linecolor\":\"#506784\",\"showbackground\":true,\"ticks\":\"\",\"zerolinecolor\":\"#C8D4E3\"},\"zaxis\":{\"backgroundcolor\":\"rgb(17,17,17)\",\"gridcolor\":\"#506784\",\"gridwidth\":2,\"linecolor\":\"#506784\",\"showbackground\":true,\"ticks\":\"\",\"zerolinecolor\":\"#C8D4E3\"}},\"shapedefaults\":{\"line\":{\"color\":\"#f2f5fa\"}},\"sliderdefaults\":{\"bgcolor\":\"#C8D4E3\",\"bordercolor\":\"rgb(17,17,17)\",\"borderwidth\":1,\"tickwidth\":0},\"ternary\":{\"aaxis\":{\"gridcolor\":\"#506784\",\"linecolor\":\"#506784\",\"ticks\":\"\"},\"baxis\":{\"gridcolor\":\"#506784\",\"linecolor\":\"#506784\",\"ticks\":\"\"},\"bgcolor\":\"rgb(17,17,17)\",\"caxis\":{\"gridcolor\":\"#506784\",\"linecolor\":\"#506784\",\"ticks\":\"\"}},\"title\":{\"x\":0.05},\"updatemenudefaults\":{\"bgcolor\":\"#506784\",\"borderwidth\":0},\"xaxis\":{\"automargin\":true,\"gridcolor\":\"#283442\",\"linecolor\":\"#506784\",\"ticks\":\"\",\"title\":{\"standoff\":15},\"zerolinecolor\":\"#283442\",\"zerolinewidth\":2},\"yaxis\":{\"automargin\":true,\"gridcolor\":\"#283442\",\"linecolor\":\"#506784\",\"ticks\":\"\",\"title\":{\"standoff\":15},\"zerolinecolor\":\"#283442\",\"zerolinewidth\":2}}},\"xaxis\":{\"anchor\":\"y\",\"domain\":[0.0,1.0]},\"yaxis\":{\"anchor\":\"x\",\"domain\":[0.0,1.0]},\"width\":600,\"height\":600},                        {\"responsive\": true}                    ).then(function(){\n",
              "                            \n",
              "var gd = document.getElementById('5dd2d91a-3758-47b7-8c47-c771cad2884f');\n",
              "var x = new MutationObserver(function (mutations, observer) {{\n",
              "        var display = window.getComputedStyle(gd).display;\n",
              "        if (!display || display === 'none') {{\n",
              "            console.log([gd, 'removed!']);\n",
              "            Plotly.purge(gd);\n",
              "            observer.disconnect();\n",
              "        }}\n",
              "}});\n",
              "\n",
              "// Listen for the removal of the full notebook cells\n",
              "var notebookContainer = gd.closest('#notebook-container');\n",
              "if (notebookContainer) {{\n",
              "    x.observe(notebookContainer, {childList: true});\n",
              "}}\n",
              "\n",
              "// Listen for the clearing of the current output cell\n",
              "var outputEl = gd.closest('.output');\n",
              "if (outputEl) {{\n",
              "    x.observe(outputEl, {childList: true});\n",
              "}}\n",
              "\n",
              "                        })                };                            </script>        </div>\n",
              "</body>\n",
              "</html>"
            ]
          },
          "metadata": {}
        }
      ]
    },
    {
      "cell_type": "code",
      "source": [
        "A = np.c_[x_data, np.ones_like(x_data)]\n",
        "J=A.T @ A"
      ],
      "metadata": {
        "id": "2DDcBRGDsiMt"
      },
      "execution_count": 4,
      "outputs": []
    },
    {
      "cell_type": "code",
      "source": [
        "m,b = np.linalg.solve(A.T@A, A.T @ y_data)"
      ],
      "metadata": {
        "id": "WVF_CCZ9tdzg"
      },
      "execution_count": 5,
      "outputs": []
    },
    {
      "cell_type": "code",
      "source": [
        "m,b"
      ],
      "metadata": {
        "colab": {
          "base_uri": "https://localhost:8080/"
        },
        "id": "0JEe57k6FDrC",
        "outputId": "4c7dfd2e-c216-4ef9-ae6d-88052fba064d"
      },
      "execution_count": 16,
      "outputs": [
        {
          "output_type": "execute_result",
          "data": {
            "text/plain": [
              "(2.015266236744091, 1.0053085764335146)"
            ]
          },
          "metadata": {},
          "execution_count": 16
        }
      ]
    },
    {
      "cell_type": "code",
      "source": [
        "fig = make_subplots()\n",
        "fig.add_scatter(x=x_data, y=y_data, mode='markers')\n",
        "fig.add_scatter(x=x_data, y=m*x_data+b, mode='lines')\n",
        "fig.update_layout(width=600, height=600, template='plotly_dark')\n"
      ],
      "metadata": {
        "colab": {
          "base_uri": "https://localhost:8080/",
          "height": 617
        },
        "id": "-o5yfaADtiP0",
        "outputId": "b9124856-3b9b-4d95-cbb0-7d1d3b0f4790"
      },
      "execution_count": 6,
      "outputs": [
        {
          "output_type": "display_data",
          "data": {
            "text/html": [
              "<html>\n",
              "<head><meta charset=\"utf-8\" /></head>\n",
              "<body>\n",
              "    <div>            <script src=\"https://cdnjs.cloudflare.com/ajax/libs/mathjax/2.7.5/MathJax.js?config=TeX-AMS-MML_SVG\"></script><script type=\"text/javascript\">if (window.MathJax) {MathJax.Hub.Config({SVG: {font: \"STIX-Web\"}});}</script>                <script type=\"text/javascript\">window.PlotlyConfig = {MathJaxConfig: 'local'};</script>\n",
              "        <script src=\"https://cdn.plot.ly/plotly-2.8.3.min.js\"></script>                <div id=\"a722c370-5531-4a42-b4d9-3db013292795\" class=\"plotly-graph-div\" style=\"height:600px; width:600px;\"></div>            <script type=\"text/javascript\">                                    window.PLOTLYENV=window.PLOTLYENV || {};                                    if (document.getElementById(\"a722c370-5531-4a42-b4d9-3db013292795\")) {                    Plotly.newPlot(                        \"a722c370-5531-4a42-b4d9-3db013292795\",                        [{\"mode\":\"markers\",\"x\":[-5.0,-4.795918367346939,-4.591836734693878,-4.387755102040816,-4.183673469387755,-3.979591836734694,-3.7755102040816326,-3.571428571428571,-3.36734693877551,-3.163265306122449,-2.9591836734693877,-2.7551020408163263,-2.5510204081632653,-2.3469387755102042,-2.142857142857143,-1.9387755102040813,-1.7346938775510203,-1.5306122448979593,-1.3265306122448979,-1.1224489795918364,-0.9183673469387754,-0.7142857142857144,-0.5102040816326525,-0.3061224489795915,-0.1020408163265305,0.1020408163265305,0.3061224489795915,0.5102040816326534,0.7142857142857144,0.9183673469387754,1.1224489795918373,1.3265306122448983,1.5306122448979593,1.7346938775510203,1.9387755102040813,2.1428571428571432,2.3469387755102042,2.5510204081632653,2.755102040816327,2.959183673469388,3.163265306122449,3.36734693877551,3.571428571428571,3.775510204081632,3.979591836734695,4.183673469387756,4.387755102040817,4.591836734693878,4.795918367346939,5.0],\"y\":[-9.434252241320225,-8.192898556060443,-8.070482070166959,-8.378028089648868,-7.598787039562925,-6.298609058630528,-7.521692105520495,-6.314422194399613,-5.228319374068807,-5.673226773150939,-5.189921807587597,-4.548087669207409,-3.5054849658768155,-3.949438349694269,-3.463307069572712,-3.0512915306555697,-1.5870157220118584,-1.186510054206404,-1.251439665338245,-1.0904233995137305,-0.5417872635190539,0.1677213826888908,-0.3947417106262616,0.8580867199536584,0.294366100247334,0.9489810316716969,1.9750869762793035,1.448935883174919,2.3725439404959623,2.4920327355336767,3.142650210971436,2.5336255823055067,3.35261124799198,4.189436861262874,5.248535993111596,5.2162600125982,5.695015917379133,6.377329900767444,6.158389544429033,7.031818276461693,7.004384005018652,7.0436260799027774,7.986497225355102,8.780542753125287,9.094619293869311,9.362614740983984,10.732456310456724,10.348838333511267,10.983331137068816,11.895257335399181],\"type\":\"scatter\"},{\"mode\":\"lines\",\"x\":[-5.0,-4.795918367346939,-4.591836734693878,-4.387755102040816,-4.183673469387755,-3.979591836734694,-3.7755102040816326,-3.571428571428571,-3.36734693877551,-3.163265306122449,-2.9591836734693877,-2.7551020408163263,-2.5510204081632653,-2.3469387755102042,-2.142857142857143,-1.9387755102040813,-1.7346938775510203,-1.5306122448979593,-1.3265306122448979,-1.1224489795918364,-0.9183673469387754,-0.7142857142857144,-0.5102040816326525,-0.3061224489795915,-0.1020408163265305,0.1020408163265305,0.3061224489795915,0.5102040816326534,0.7142857142857144,0.9183673469387754,1.1224489795918373,1.3265306122448983,1.5306122448979593,1.7346938775510203,1.9387755102040813,2.1428571428571432,2.3469387755102042,2.5510204081632653,2.755102040816327,2.959183673469388,3.163265306122449,3.36734693877551,3.571428571428571,3.775510204081632,3.979591836734695,4.183673469387756,4.387755102040817,4.591836734693878,4.795918367346939,5.0],\"y\":[-9.071022607286942,-8.659743783461614,-8.24846495963629,-7.837186135810966,-7.425907311985642,-7.014628488160317,-6.603349664334992,-6.192070840509667,-5.780792016684343,-5.369513192859019,-4.958234369033693,-4.546955545208368,-4.135676721383044,-3.7243978975577194,-3.313119073732395,-2.9018402499070692,-2.490561426081745,-2.079282602256421,-1.6680037784310957,-1.2567249546057706,-0.8454461307804464,-0.4341673069551222,-0.022888483129795967,0.38839034069552814,0.7996691645208525,1.2109479883461767,1.622226812171501,2.033505635996827,2.4447844598221513,2.8560632836474755,3.2673421074728015,3.6786209312981257,4.08989975512345,4.501178578948775,4.912457402774098,5.323736226599425,5.735015050424749,6.146293874250073,6.557572698075399,6.968851521900723,7.380130345726048,7.791409169551372,8.202687993376696,8.61396681720202,9.025245641027347,9.436524464852674,9.847803288677998,10.259082112503322,10.670360936328645,11.08163976015397],\"type\":\"scatter\"}],                        {\"template\":{\"data\":{\"barpolar\":[{\"marker\":{\"line\":{\"color\":\"rgb(17,17,17)\",\"width\":0.5},\"pattern\":{\"fillmode\":\"overlay\",\"size\":10,\"solidity\":0.2}},\"type\":\"barpolar\"}],\"bar\":[{\"error_x\":{\"color\":\"#f2f5fa\"},\"error_y\":{\"color\":\"#f2f5fa\"},\"marker\":{\"line\":{\"color\":\"rgb(17,17,17)\",\"width\":0.5},\"pattern\":{\"fillmode\":\"overlay\",\"size\":10,\"solidity\":0.2}},\"type\":\"bar\"}],\"carpet\":[{\"aaxis\":{\"endlinecolor\":\"#A2B1C6\",\"gridcolor\":\"#506784\",\"linecolor\":\"#506784\",\"minorgridcolor\":\"#506784\",\"startlinecolor\":\"#A2B1C6\"},\"baxis\":{\"endlinecolor\":\"#A2B1C6\",\"gridcolor\":\"#506784\",\"linecolor\":\"#506784\",\"minorgridcolor\":\"#506784\",\"startlinecolor\":\"#A2B1C6\"},\"type\":\"carpet\"}],\"choropleth\":[{\"colorbar\":{\"outlinewidth\":0,\"ticks\":\"\"},\"type\":\"choropleth\"}],\"contourcarpet\":[{\"colorbar\":{\"outlinewidth\":0,\"ticks\":\"\"},\"type\":\"contourcarpet\"}],\"contour\":[{\"colorbar\":{\"outlinewidth\":0,\"ticks\":\"\"},\"colorscale\":[[0.0,\"#0d0887\"],[0.1111111111111111,\"#46039f\"],[0.2222222222222222,\"#7201a8\"],[0.3333333333333333,\"#9c179e\"],[0.4444444444444444,\"#bd3786\"],[0.5555555555555556,\"#d8576b\"],[0.6666666666666666,\"#ed7953\"],[0.7777777777777778,\"#fb9f3a\"],[0.8888888888888888,\"#fdca26\"],[1.0,\"#f0f921\"]],\"type\":\"contour\"}],\"heatmapgl\":[{\"colorbar\":{\"outlinewidth\":0,\"ticks\":\"\"},\"colorscale\":[[0.0,\"#0d0887\"],[0.1111111111111111,\"#46039f\"],[0.2222222222222222,\"#7201a8\"],[0.3333333333333333,\"#9c179e\"],[0.4444444444444444,\"#bd3786\"],[0.5555555555555556,\"#d8576b\"],[0.6666666666666666,\"#ed7953\"],[0.7777777777777778,\"#fb9f3a\"],[0.8888888888888888,\"#fdca26\"],[1.0,\"#f0f921\"]],\"type\":\"heatmapgl\"}],\"heatmap\":[{\"colorbar\":{\"outlinewidth\":0,\"ticks\":\"\"},\"colorscale\":[[0.0,\"#0d0887\"],[0.1111111111111111,\"#46039f\"],[0.2222222222222222,\"#7201a8\"],[0.3333333333333333,\"#9c179e\"],[0.4444444444444444,\"#bd3786\"],[0.5555555555555556,\"#d8576b\"],[0.6666666666666666,\"#ed7953\"],[0.7777777777777778,\"#fb9f3a\"],[0.8888888888888888,\"#fdca26\"],[1.0,\"#f0f921\"]],\"type\":\"heatmap\"}],\"histogram2dcontour\":[{\"colorbar\":{\"outlinewidth\":0,\"ticks\":\"\"},\"colorscale\":[[0.0,\"#0d0887\"],[0.1111111111111111,\"#46039f\"],[0.2222222222222222,\"#7201a8\"],[0.3333333333333333,\"#9c179e\"],[0.4444444444444444,\"#bd3786\"],[0.5555555555555556,\"#d8576b\"],[0.6666666666666666,\"#ed7953\"],[0.7777777777777778,\"#fb9f3a\"],[0.8888888888888888,\"#fdca26\"],[1.0,\"#f0f921\"]],\"type\":\"histogram2dcontour\"}],\"histogram2d\":[{\"colorbar\":{\"outlinewidth\":0,\"ticks\":\"\"},\"colorscale\":[[0.0,\"#0d0887\"],[0.1111111111111111,\"#46039f\"],[0.2222222222222222,\"#7201a8\"],[0.3333333333333333,\"#9c179e\"],[0.4444444444444444,\"#bd3786\"],[0.5555555555555556,\"#d8576b\"],[0.6666666666666666,\"#ed7953\"],[0.7777777777777778,\"#fb9f3a\"],[0.8888888888888888,\"#fdca26\"],[1.0,\"#f0f921\"]],\"type\":\"histogram2d\"}],\"histogram\":[{\"marker\":{\"pattern\":{\"fillmode\":\"overlay\",\"size\":10,\"solidity\":0.2}},\"type\":\"histogram\"}],\"mesh3d\":[{\"colorbar\":{\"outlinewidth\":0,\"ticks\":\"\"},\"type\":\"mesh3d\"}],\"parcoords\":[{\"line\":{\"colorbar\":{\"outlinewidth\":0,\"ticks\":\"\"}},\"type\":\"parcoords\"}],\"pie\":[{\"automargin\":true,\"type\":\"pie\"}],\"scatter3d\":[{\"line\":{\"colorbar\":{\"outlinewidth\":0,\"ticks\":\"\"}},\"marker\":{\"colorbar\":{\"outlinewidth\":0,\"ticks\":\"\"}},\"type\":\"scatter3d\"}],\"scattercarpet\":[{\"marker\":{\"colorbar\":{\"outlinewidth\":0,\"ticks\":\"\"}},\"type\":\"scattercarpet\"}],\"scattergeo\":[{\"marker\":{\"colorbar\":{\"outlinewidth\":0,\"ticks\":\"\"}},\"type\":\"scattergeo\"}],\"scattergl\":[{\"marker\":{\"line\":{\"color\":\"#283442\"}},\"type\":\"scattergl\"}],\"scattermapbox\":[{\"marker\":{\"colorbar\":{\"outlinewidth\":0,\"ticks\":\"\"}},\"type\":\"scattermapbox\"}],\"scatterpolargl\":[{\"marker\":{\"colorbar\":{\"outlinewidth\":0,\"ticks\":\"\"}},\"type\":\"scatterpolargl\"}],\"scatterpolar\":[{\"marker\":{\"colorbar\":{\"outlinewidth\":0,\"ticks\":\"\"}},\"type\":\"scatterpolar\"}],\"scatter\":[{\"marker\":{\"line\":{\"color\":\"#283442\"}},\"type\":\"scatter\"}],\"scatterternary\":[{\"marker\":{\"colorbar\":{\"outlinewidth\":0,\"ticks\":\"\"}},\"type\":\"scatterternary\"}],\"surface\":[{\"colorbar\":{\"outlinewidth\":0,\"ticks\":\"\"},\"colorscale\":[[0.0,\"#0d0887\"],[0.1111111111111111,\"#46039f\"],[0.2222222222222222,\"#7201a8\"],[0.3333333333333333,\"#9c179e\"],[0.4444444444444444,\"#bd3786\"],[0.5555555555555556,\"#d8576b\"],[0.6666666666666666,\"#ed7953\"],[0.7777777777777778,\"#fb9f3a\"],[0.8888888888888888,\"#fdca26\"],[1.0,\"#f0f921\"]],\"type\":\"surface\"}],\"table\":[{\"cells\":{\"fill\":{\"color\":\"#506784\"},\"line\":{\"color\":\"rgb(17,17,17)\"}},\"header\":{\"fill\":{\"color\":\"#2a3f5f\"},\"line\":{\"color\":\"rgb(17,17,17)\"}},\"type\":\"table\"}]},\"layout\":{\"annotationdefaults\":{\"arrowcolor\":\"#f2f5fa\",\"arrowhead\":0,\"arrowwidth\":1},\"autotypenumbers\":\"strict\",\"coloraxis\":{\"colorbar\":{\"outlinewidth\":0,\"ticks\":\"\"}},\"colorscale\":{\"diverging\":[[0,\"#8e0152\"],[0.1,\"#c51b7d\"],[0.2,\"#de77ae\"],[0.3,\"#f1b6da\"],[0.4,\"#fde0ef\"],[0.5,\"#f7f7f7\"],[0.6,\"#e6f5d0\"],[0.7,\"#b8e186\"],[0.8,\"#7fbc41\"],[0.9,\"#4d9221\"],[1,\"#276419\"]],\"sequential\":[[0.0,\"#0d0887\"],[0.1111111111111111,\"#46039f\"],[0.2222222222222222,\"#7201a8\"],[0.3333333333333333,\"#9c179e\"],[0.4444444444444444,\"#bd3786\"],[0.5555555555555556,\"#d8576b\"],[0.6666666666666666,\"#ed7953\"],[0.7777777777777778,\"#fb9f3a\"],[0.8888888888888888,\"#fdca26\"],[1.0,\"#f0f921\"]],\"sequentialminus\":[[0.0,\"#0d0887\"],[0.1111111111111111,\"#46039f\"],[0.2222222222222222,\"#7201a8\"],[0.3333333333333333,\"#9c179e\"],[0.4444444444444444,\"#bd3786\"],[0.5555555555555556,\"#d8576b\"],[0.6666666666666666,\"#ed7953\"],[0.7777777777777778,\"#fb9f3a\"],[0.8888888888888888,\"#fdca26\"],[1.0,\"#f0f921\"]]},\"colorway\":[\"#636efa\",\"#EF553B\",\"#00cc96\",\"#ab63fa\",\"#FFA15A\",\"#19d3f3\",\"#FF6692\",\"#B6E880\",\"#FF97FF\",\"#FECB52\"],\"font\":{\"color\":\"#f2f5fa\"},\"geo\":{\"bgcolor\":\"rgb(17,17,17)\",\"lakecolor\":\"rgb(17,17,17)\",\"landcolor\":\"rgb(17,17,17)\",\"showlakes\":true,\"showland\":true,\"subunitcolor\":\"#506784\"},\"hoverlabel\":{\"align\":\"left\"},\"hovermode\":\"closest\",\"mapbox\":{\"style\":\"dark\"},\"paper_bgcolor\":\"rgb(17,17,17)\",\"plot_bgcolor\":\"rgb(17,17,17)\",\"polar\":{\"angularaxis\":{\"gridcolor\":\"#506784\",\"linecolor\":\"#506784\",\"ticks\":\"\"},\"bgcolor\":\"rgb(17,17,17)\",\"radialaxis\":{\"gridcolor\":\"#506784\",\"linecolor\":\"#506784\",\"ticks\":\"\"}},\"scene\":{\"xaxis\":{\"backgroundcolor\":\"rgb(17,17,17)\",\"gridcolor\":\"#506784\",\"gridwidth\":2,\"linecolor\":\"#506784\",\"showbackground\":true,\"ticks\":\"\",\"zerolinecolor\":\"#C8D4E3\"},\"yaxis\":{\"backgroundcolor\":\"rgb(17,17,17)\",\"gridcolor\":\"#506784\",\"gridwidth\":2,\"linecolor\":\"#506784\",\"showbackground\":true,\"ticks\":\"\",\"zerolinecolor\":\"#C8D4E3\"},\"zaxis\":{\"backgroundcolor\":\"rgb(17,17,17)\",\"gridcolor\":\"#506784\",\"gridwidth\":2,\"linecolor\":\"#506784\",\"showbackground\":true,\"ticks\":\"\",\"zerolinecolor\":\"#C8D4E3\"}},\"shapedefaults\":{\"line\":{\"color\":\"#f2f5fa\"}},\"sliderdefaults\":{\"bgcolor\":\"#C8D4E3\",\"bordercolor\":\"rgb(17,17,17)\",\"borderwidth\":1,\"tickwidth\":0},\"ternary\":{\"aaxis\":{\"gridcolor\":\"#506784\",\"linecolor\":\"#506784\",\"ticks\":\"\"},\"baxis\":{\"gridcolor\":\"#506784\",\"linecolor\":\"#506784\",\"ticks\":\"\"},\"bgcolor\":\"rgb(17,17,17)\",\"caxis\":{\"gridcolor\":\"#506784\",\"linecolor\":\"#506784\",\"ticks\":\"\"}},\"title\":{\"x\":0.05},\"updatemenudefaults\":{\"bgcolor\":\"#506784\",\"borderwidth\":0},\"xaxis\":{\"automargin\":true,\"gridcolor\":\"#283442\",\"linecolor\":\"#506784\",\"ticks\":\"\",\"title\":{\"standoff\":15},\"zerolinecolor\":\"#283442\",\"zerolinewidth\":2},\"yaxis\":{\"automargin\":true,\"gridcolor\":\"#283442\",\"linecolor\":\"#506784\",\"ticks\":\"\",\"title\":{\"standoff\":15},\"zerolinecolor\":\"#283442\",\"zerolinewidth\":2}}},\"xaxis\":{\"anchor\":\"y\",\"domain\":[0.0,1.0]},\"yaxis\":{\"anchor\":\"x\",\"domain\":[0.0,1.0]},\"width\":600,\"height\":600},                        {\"responsive\": true}                    ).then(function(){\n",
              "                            \n",
              "var gd = document.getElementById('a722c370-5531-4a42-b4d9-3db013292795');\n",
              "var x = new MutationObserver(function (mutations, observer) {{\n",
              "        var display = window.getComputedStyle(gd).display;\n",
              "        if (!display || display === 'none') {{\n",
              "            console.log([gd, 'removed!']);\n",
              "            Plotly.purge(gd);\n",
              "            observer.disconnect();\n",
              "        }}\n",
              "}});\n",
              "\n",
              "// Listen for the removal of the full notebook cells\n",
              "var notebookContainer = gd.closest('#notebook-container');\n",
              "if (notebookContainer) {{\n",
              "    x.observe(notebookContainer, {childList: true});\n",
              "}}\n",
              "\n",
              "// Listen for the clearing of the current output cell\n",
              "var outputEl = gd.closest('.output');\n",
              "if (outputEl) {{\n",
              "    x.observe(outputEl, {childList: true});\n",
              "}}\n",
              "\n",
              "                        })                };                            </script>        </div>\n",
              "</body>\n",
              "</html>"
            ]
          },
          "metadata": {}
        }
      ]
    },
    {
      "cell_type": "code",
      "source": [
        "N=30\n",
        "xd=np.linspace(-1.,1., N)\n",
        "A = np.c_[xd**4, xd**3, xd**2, xd, np.ones_like(xd)]\n",
        "yd = 1.2*(xd-0.9)*(xd-0.3)*(xd+0.4)*(xd+0.8)\n",
        "yd = rng.normal(loc=yd, scale=0.02)"
      ],
      "metadata": {
        "id": "9IjHL2Mouyvh"
      },
      "execution_count": 41,
      "outputs": []
    },
    {
      "cell_type": "code",
      "source": [
        "def sqerr(u):\n",
        "    model = A @ u\n",
        "\n",
        "    return np.sum((yd -model)**2)"
      ],
      "metadata": {
        "id": "nLy0Txw7G-_A"
      },
      "execution_count": 42,
      "outputs": []
    },
    {
      "cell_type": "code",
      "source": [
        "u_min = minimize(sqerr, np.zeros(5)).x"
      ],
      "metadata": {
        "id": "1GlQUZXYHknU"
      },
      "execution_count": 43,
      "outputs": []
    },
    {
      "cell_type": "code",
      "source": [
        "fig = make_subplots()\n",
        "fig.add_scatter(x=xd, y=yd, mode='markers')\n",
        "fig.add_scatter(x=xd, y=A @ u_min, mode='lines')\n",
        "fig.update_layout(width=600, height=600, template='plotly_dark')"
      ],
      "metadata": {
        "colab": {
          "base_uri": "https://localhost:8080/",
          "height": 617
        },
        "id": "dIcdV2k-F7qs",
        "outputId": "6c9e45a3-2f67-4b41-93ec-65f9d7b5368d"
      },
      "execution_count": 44,
      "outputs": [
        {
          "output_type": "display_data",
          "data": {
            "text/html": [
              "<html>\n",
              "<head><meta charset=\"utf-8\" /></head>\n",
              "<body>\n",
              "    <div>            <script src=\"https://cdnjs.cloudflare.com/ajax/libs/mathjax/2.7.5/MathJax.js?config=TeX-AMS-MML_SVG\"></script><script type=\"text/javascript\">if (window.MathJax) {MathJax.Hub.Config({SVG: {font: \"STIX-Web\"}});}</script>                <script type=\"text/javascript\">window.PlotlyConfig = {MathJaxConfig: 'local'};</script>\n",
              "        <script src=\"https://cdn.plot.ly/plotly-2.8.3.min.js\"></script>                <div id=\"00bc9e89-3fc5-4dd3-91c4-dc319b6feff7\" class=\"plotly-graph-div\" style=\"height:600px; width:600px;\"></div>            <script type=\"text/javascript\">                                    window.PLOTLYENV=window.PLOTLYENV || {};                                    if (document.getElementById(\"00bc9e89-3fc5-4dd3-91c4-dc319b6feff7\")) {                    Plotly.newPlot(                        \"00bc9e89-3fc5-4dd3-91c4-dc319b6feff7\",                        [{\"mode\":\"markers\",\"x\":[-1.0,-0.9310344827586207,-0.8620689655172413,-0.7931034482758621,-0.7241379310344828,-0.6551724137931034,-0.5862068965517242,-0.5172413793103449,-0.4482758620689655,-0.3793103448275862,-0.31034482758620685,-0.24137931034482762,-0.1724137931034483,-0.10344827586206895,-0.034482758620689724,0.034482758620689724,0.10344827586206895,0.17241379310344818,0.24137931034482762,0.31034482758620685,0.3793103448275863,0.4482758620689655,0.5172413793103448,0.5862068965517242,0.6551724137931034,0.7241379310344827,0.7931034482758621,0.8620689655172413,0.9310344827586206,1.0],\"y\":[0.33273525717519525,0.2186192290026248,0.07425299248796702,-0.027657330179663056,-0.030995298567809703,-0.041876149137976035,-0.05969034875340026,-0.07886366585838464,0.015146649990392669,0.015279411450646934,0.062325366859624594,0.05468582379539513,0.07886066714333574,0.10255918905193666,0.12721964696472535,0.10284589672597166,0.060316898891313794,0.06724534336678406,0.06353575109829811,-0.004457248610761651,-0.042956018141526435,-0.11035932527354428,-0.14861826688271554,-0.16008711190126612,-0.16675108262820967,-0.1512760703392625,-0.11690870477609124,-0.021627654374459362,0.0553206834102508,0.23296845376821806],\"type\":\"scatter\"},{\"mode\":\"lines\",\"x\":[-1.0,-0.9310344827586207,-0.8620689655172413,-0.7931034482758621,-0.7241379310344828,-0.6551724137931034,-0.5862068965517242,-0.5172413793103449,-0.4482758620689655,-0.3793103448275862,-0.31034482758620685,-0.24137931034482762,-0.1724137931034483,-0.10344827586206895,-0.034482758620689724,0.034482758620689724,0.10344827586206895,0.17241379310344818,0.24137931034482762,0.31034482758620685,0.3793103448275863,0.4482758620689655,0.5172413793103448,0.5862068965517242,0.6551724137931034,0.7241379310344827,0.7931034482758621,0.8620689655172413,0.9310344827586206,1.0],\"y\":[0.3528777818685988,0.18752714831930506,0.0718019989814987,-0.0028382991127091917,-0.044271813385812306,-0.059714045714908195,-0.05571793243169905,-0.03817384432249117,-0.012309586628195493,0.01730960095567291,0.046781044278994544,0.07286463473704555,0.09298282927049782,0.10522065036541879,0.10832568605327159,0.10170808991091496,0.0854405810606034,0.06025844416998699,0.027559529452111334,-0.01059574733458199,-0.05148440488625615,-0.09172089635367821,-0.12725710934221995,-0.15338236591185755,-0.16472342257717099,-0.15524447030734528,-0.11824713452616932,-0.04637047511203661,0.06840901360205495,0.23477740282850423],\"type\":\"scatter\"}],                        {\"template\":{\"data\":{\"barpolar\":[{\"marker\":{\"line\":{\"color\":\"rgb(17,17,17)\",\"width\":0.5},\"pattern\":{\"fillmode\":\"overlay\",\"size\":10,\"solidity\":0.2}},\"type\":\"barpolar\"}],\"bar\":[{\"error_x\":{\"color\":\"#f2f5fa\"},\"error_y\":{\"color\":\"#f2f5fa\"},\"marker\":{\"line\":{\"color\":\"rgb(17,17,17)\",\"width\":0.5},\"pattern\":{\"fillmode\":\"overlay\",\"size\":10,\"solidity\":0.2}},\"type\":\"bar\"}],\"carpet\":[{\"aaxis\":{\"endlinecolor\":\"#A2B1C6\",\"gridcolor\":\"#506784\",\"linecolor\":\"#506784\",\"minorgridcolor\":\"#506784\",\"startlinecolor\":\"#A2B1C6\"},\"baxis\":{\"endlinecolor\":\"#A2B1C6\",\"gridcolor\":\"#506784\",\"linecolor\":\"#506784\",\"minorgridcolor\":\"#506784\",\"startlinecolor\":\"#A2B1C6\"},\"type\":\"carpet\"}],\"choropleth\":[{\"colorbar\":{\"outlinewidth\":0,\"ticks\":\"\"},\"type\":\"choropleth\"}],\"contourcarpet\":[{\"colorbar\":{\"outlinewidth\":0,\"ticks\":\"\"},\"type\":\"contourcarpet\"}],\"contour\":[{\"colorbar\":{\"outlinewidth\":0,\"ticks\":\"\"},\"colorscale\":[[0.0,\"#0d0887\"],[0.1111111111111111,\"#46039f\"],[0.2222222222222222,\"#7201a8\"],[0.3333333333333333,\"#9c179e\"],[0.4444444444444444,\"#bd3786\"],[0.5555555555555556,\"#d8576b\"],[0.6666666666666666,\"#ed7953\"],[0.7777777777777778,\"#fb9f3a\"],[0.8888888888888888,\"#fdca26\"],[1.0,\"#f0f921\"]],\"type\":\"contour\"}],\"heatmapgl\":[{\"colorbar\":{\"outlinewidth\":0,\"ticks\":\"\"},\"colorscale\":[[0.0,\"#0d0887\"],[0.1111111111111111,\"#46039f\"],[0.2222222222222222,\"#7201a8\"],[0.3333333333333333,\"#9c179e\"],[0.4444444444444444,\"#bd3786\"],[0.5555555555555556,\"#d8576b\"],[0.6666666666666666,\"#ed7953\"],[0.7777777777777778,\"#fb9f3a\"],[0.8888888888888888,\"#fdca26\"],[1.0,\"#f0f921\"]],\"type\":\"heatmapgl\"}],\"heatmap\":[{\"colorbar\":{\"outlinewidth\":0,\"ticks\":\"\"},\"colorscale\":[[0.0,\"#0d0887\"],[0.1111111111111111,\"#46039f\"],[0.2222222222222222,\"#7201a8\"],[0.3333333333333333,\"#9c179e\"],[0.4444444444444444,\"#bd3786\"],[0.5555555555555556,\"#d8576b\"],[0.6666666666666666,\"#ed7953\"],[0.7777777777777778,\"#fb9f3a\"],[0.8888888888888888,\"#fdca26\"],[1.0,\"#f0f921\"]],\"type\":\"heatmap\"}],\"histogram2dcontour\":[{\"colorbar\":{\"outlinewidth\":0,\"ticks\":\"\"},\"colorscale\":[[0.0,\"#0d0887\"],[0.1111111111111111,\"#46039f\"],[0.2222222222222222,\"#7201a8\"],[0.3333333333333333,\"#9c179e\"],[0.4444444444444444,\"#bd3786\"],[0.5555555555555556,\"#d8576b\"],[0.6666666666666666,\"#ed7953\"],[0.7777777777777778,\"#fb9f3a\"],[0.8888888888888888,\"#fdca26\"],[1.0,\"#f0f921\"]],\"type\":\"histogram2dcontour\"}],\"histogram2d\":[{\"colorbar\":{\"outlinewidth\":0,\"ticks\":\"\"},\"colorscale\":[[0.0,\"#0d0887\"],[0.1111111111111111,\"#46039f\"],[0.2222222222222222,\"#7201a8\"],[0.3333333333333333,\"#9c179e\"],[0.4444444444444444,\"#bd3786\"],[0.5555555555555556,\"#d8576b\"],[0.6666666666666666,\"#ed7953\"],[0.7777777777777778,\"#fb9f3a\"],[0.8888888888888888,\"#fdca26\"],[1.0,\"#f0f921\"]],\"type\":\"histogram2d\"}],\"histogram\":[{\"marker\":{\"pattern\":{\"fillmode\":\"overlay\",\"size\":10,\"solidity\":0.2}},\"type\":\"histogram\"}],\"mesh3d\":[{\"colorbar\":{\"outlinewidth\":0,\"ticks\":\"\"},\"type\":\"mesh3d\"}],\"parcoords\":[{\"line\":{\"colorbar\":{\"outlinewidth\":0,\"ticks\":\"\"}},\"type\":\"parcoords\"}],\"pie\":[{\"automargin\":true,\"type\":\"pie\"}],\"scatter3d\":[{\"line\":{\"colorbar\":{\"outlinewidth\":0,\"ticks\":\"\"}},\"marker\":{\"colorbar\":{\"outlinewidth\":0,\"ticks\":\"\"}},\"type\":\"scatter3d\"}],\"scattercarpet\":[{\"marker\":{\"colorbar\":{\"outlinewidth\":0,\"ticks\":\"\"}},\"type\":\"scattercarpet\"}],\"scattergeo\":[{\"marker\":{\"colorbar\":{\"outlinewidth\":0,\"ticks\":\"\"}},\"type\":\"scattergeo\"}],\"scattergl\":[{\"marker\":{\"line\":{\"color\":\"#283442\"}},\"type\":\"scattergl\"}],\"scattermapbox\":[{\"marker\":{\"colorbar\":{\"outlinewidth\":0,\"ticks\":\"\"}},\"type\":\"scattermapbox\"}],\"scatterpolargl\":[{\"marker\":{\"colorbar\":{\"outlinewidth\":0,\"ticks\":\"\"}},\"type\":\"scatterpolargl\"}],\"scatterpolar\":[{\"marker\":{\"colorbar\":{\"outlinewidth\":0,\"ticks\":\"\"}},\"type\":\"scatterpolar\"}],\"scatter\":[{\"marker\":{\"line\":{\"color\":\"#283442\"}},\"type\":\"scatter\"}],\"scatterternary\":[{\"marker\":{\"colorbar\":{\"outlinewidth\":0,\"ticks\":\"\"}},\"type\":\"scatterternary\"}],\"surface\":[{\"colorbar\":{\"outlinewidth\":0,\"ticks\":\"\"},\"colorscale\":[[0.0,\"#0d0887\"],[0.1111111111111111,\"#46039f\"],[0.2222222222222222,\"#7201a8\"],[0.3333333333333333,\"#9c179e\"],[0.4444444444444444,\"#bd3786\"],[0.5555555555555556,\"#d8576b\"],[0.6666666666666666,\"#ed7953\"],[0.7777777777777778,\"#fb9f3a\"],[0.8888888888888888,\"#fdca26\"],[1.0,\"#f0f921\"]],\"type\":\"surface\"}],\"table\":[{\"cells\":{\"fill\":{\"color\":\"#506784\"},\"line\":{\"color\":\"rgb(17,17,17)\"}},\"header\":{\"fill\":{\"color\":\"#2a3f5f\"},\"line\":{\"color\":\"rgb(17,17,17)\"}},\"type\":\"table\"}]},\"layout\":{\"annotationdefaults\":{\"arrowcolor\":\"#f2f5fa\",\"arrowhead\":0,\"arrowwidth\":1},\"autotypenumbers\":\"strict\",\"coloraxis\":{\"colorbar\":{\"outlinewidth\":0,\"ticks\":\"\"}},\"colorscale\":{\"diverging\":[[0,\"#8e0152\"],[0.1,\"#c51b7d\"],[0.2,\"#de77ae\"],[0.3,\"#f1b6da\"],[0.4,\"#fde0ef\"],[0.5,\"#f7f7f7\"],[0.6,\"#e6f5d0\"],[0.7,\"#b8e186\"],[0.8,\"#7fbc41\"],[0.9,\"#4d9221\"],[1,\"#276419\"]],\"sequential\":[[0.0,\"#0d0887\"],[0.1111111111111111,\"#46039f\"],[0.2222222222222222,\"#7201a8\"],[0.3333333333333333,\"#9c179e\"],[0.4444444444444444,\"#bd3786\"],[0.5555555555555556,\"#d8576b\"],[0.6666666666666666,\"#ed7953\"],[0.7777777777777778,\"#fb9f3a\"],[0.8888888888888888,\"#fdca26\"],[1.0,\"#f0f921\"]],\"sequentialminus\":[[0.0,\"#0d0887\"],[0.1111111111111111,\"#46039f\"],[0.2222222222222222,\"#7201a8\"],[0.3333333333333333,\"#9c179e\"],[0.4444444444444444,\"#bd3786\"],[0.5555555555555556,\"#d8576b\"],[0.6666666666666666,\"#ed7953\"],[0.7777777777777778,\"#fb9f3a\"],[0.8888888888888888,\"#fdca26\"],[1.0,\"#f0f921\"]]},\"colorway\":[\"#636efa\",\"#EF553B\",\"#00cc96\",\"#ab63fa\",\"#FFA15A\",\"#19d3f3\",\"#FF6692\",\"#B6E880\",\"#FF97FF\",\"#FECB52\"],\"font\":{\"color\":\"#f2f5fa\"},\"geo\":{\"bgcolor\":\"rgb(17,17,17)\",\"lakecolor\":\"rgb(17,17,17)\",\"landcolor\":\"rgb(17,17,17)\",\"showlakes\":true,\"showland\":true,\"subunitcolor\":\"#506784\"},\"hoverlabel\":{\"align\":\"left\"},\"hovermode\":\"closest\",\"mapbox\":{\"style\":\"dark\"},\"paper_bgcolor\":\"rgb(17,17,17)\",\"plot_bgcolor\":\"rgb(17,17,17)\",\"polar\":{\"angularaxis\":{\"gridcolor\":\"#506784\",\"linecolor\":\"#506784\",\"ticks\":\"\"},\"bgcolor\":\"rgb(17,17,17)\",\"radialaxis\":{\"gridcolor\":\"#506784\",\"linecolor\":\"#506784\",\"ticks\":\"\"}},\"scene\":{\"xaxis\":{\"backgroundcolor\":\"rgb(17,17,17)\",\"gridcolor\":\"#506784\",\"gridwidth\":2,\"linecolor\":\"#506784\",\"showbackground\":true,\"ticks\":\"\",\"zerolinecolor\":\"#C8D4E3\"},\"yaxis\":{\"backgroundcolor\":\"rgb(17,17,17)\",\"gridcolor\":\"#506784\",\"gridwidth\":2,\"linecolor\":\"#506784\",\"showbackground\":true,\"ticks\":\"\",\"zerolinecolor\":\"#C8D4E3\"},\"zaxis\":{\"backgroundcolor\":\"rgb(17,17,17)\",\"gridcolor\":\"#506784\",\"gridwidth\":2,\"linecolor\":\"#506784\",\"showbackground\":true,\"ticks\":\"\",\"zerolinecolor\":\"#C8D4E3\"}},\"shapedefaults\":{\"line\":{\"color\":\"#f2f5fa\"}},\"sliderdefaults\":{\"bgcolor\":\"#C8D4E3\",\"bordercolor\":\"rgb(17,17,17)\",\"borderwidth\":1,\"tickwidth\":0},\"ternary\":{\"aaxis\":{\"gridcolor\":\"#506784\",\"linecolor\":\"#506784\",\"ticks\":\"\"},\"baxis\":{\"gridcolor\":\"#506784\",\"linecolor\":\"#506784\",\"ticks\":\"\"},\"bgcolor\":\"rgb(17,17,17)\",\"caxis\":{\"gridcolor\":\"#506784\",\"linecolor\":\"#506784\",\"ticks\":\"\"}},\"title\":{\"x\":0.05},\"updatemenudefaults\":{\"bgcolor\":\"#506784\",\"borderwidth\":0},\"xaxis\":{\"automargin\":true,\"gridcolor\":\"#283442\",\"linecolor\":\"#506784\",\"ticks\":\"\",\"title\":{\"standoff\":15},\"zerolinecolor\":\"#283442\",\"zerolinewidth\":2},\"yaxis\":{\"automargin\":true,\"gridcolor\":\"#283442\",\"linecolor\":\"#506784\",\"ticks\":\"\",\"title\":{\"standoff\":15},\"zerolinecolor\":\"#283442\",\"zerolinewidth\":2}}},\"xaxis\":{\"anchor\":\"y\",\"domain\":[0.0,1.0]},\"yaxis\":{\"anchor\":\"x\",\"domain\":[0.0,1.0]},\"width\":600,\"height\":600},                        {\"responsive\": true}                    ).then(function(){\n",
              "                            \n",
              "var gd = document.getElementById('00bc9e89-3fc5-4dd3-91c4-dc319b6feff7');\n",
              "var x = new MutationObserver(function (mutations, observer) {{\n",
              "        var display = window.getComputedStyle(gd).display;\n",
              "        if (!display || display === 'none') {{\n",
              "            console.log([gd, 'removed!']);\n",
              "            Plotly.purge(gd);\n",
              "            observer.disconnect();\n",
              "        }}\n",
              "}});\n",
              "\n",
              "// Listen for the removal of the full notebook cells\n",
              "var notebookContainer = gd.closest('#notebook-container');\n",
              "if (notebookContainer) {{\n",
              "    x.observe(notebookContainer, {childList: true});\n",
              "}}\n",
              "\n",
              "// Listen for the clearing of the current output cell\n",
              "var outputEl = gd.closest('.output');\n",
              "if (outputEl) {{\n",
              "    x.observe(outputEl, {childList: true});\n",
              "}}\n",
              "\n",
              "                        })                };                            </script>        </div>\n",
              "</body>\n",
              "</html>"
            ]
          },
          "metadata": {}
        }
      ]
    },
    {
      "cell_type": "code",
      "source": [
        "u_linalg = np.linalg.solve(A.T @ A, A.T @ yd)"
      ],
      "metadata": {
        "id": "JaF8an8yGDKP"
      },
      "execution_count": 46,
      "outputs": []
    },
    {
      "cell_type": "code",
      "source": [
        "u_linalg"
      ],
      "metadata": {
        "colab": {
          "base_uri": "https://localhost:8080/"
        },
        "id": "WCTztJ3wKonW",
        "outputId": "ee110315-3bba-4f60-fe8f-70222567b635"
      },
      "execution_count": 47,
      "outputs": [
        {
          "output_type": "execute_result",
          "data": {
            "text/plain": [
              "array([ 1.22036498,  0.03694644, -1.03278048, -0.0959974 ,  0.10624321])"
            ]
          },
          "metadata": {},
          "execution_count": 47
        }
      ]
    },
    {
      "cell_type": "code",
      "source": [
        "u_min"
      ],
      "metadata": {
        "colab": {
          "base_uri": "https://localhost:8080/"
        },
        "id": "eIY9CLiYKp9i",
        "outputId": "0b2af924-8989-4cc7-b79b-d9ce77e16e00"
      },
      "execution_count": 48,
      "outputs": [
        {
          "output_type": "execute_result",
          "data": {
            "text/plain": [
              "array([ 1.22036464,  0.03694889, -1.03278025, -0.09599908,  0.1062432 ])"
            ]
          },
          "metadata": {},
          "execution_count": 48
        }
      ]
    },
    {
      "cell_type": "code",
      "source": [
        "fig = make_subplots()\n",
        "fig.add_scatter(x=xd, y=yd, mode='markers')\n",
        "fig.add_scatter(x=xd, y=A @ u_min, mode='lines')\n",
        "fig.update_layout(width=600, height=600, template='plotly_dark')"
      ],
      "metadata": {
        "id": "XQ91BK1uKNs4"
      },
      "execution_count": null,
      "outputs": []
    },
    {
      "cell_type": "code",
      "source": [
        "N=100\n",
        "xd=np.linspace(0,9., N)\n",
        "yd = 1.2*np.exp(-xd/2)*np.sin(6.*xd)\n",
        "yd = rng.normal(loc=yd, scale=np.abs(0.1*yd))\n",
        "\n",
        "fig = make_subplots()\n",
        "fig.add_scatter(x=xd, y=yd, mode='markers')\n",
        "fig.update_layout(width=600, height=600, template='plotly_dark')"
      ],
      "metadata": {
        "colab": {
          "base_uri": "https://localhost:8080/",
          "height": 617
        },
        "id": "GdvARbMPNJUI",
        "outputId": "3e22bb2b-900d-4eaf-88b2-df9e9a337de5"
      },
      "execution_count": 65,
      "outputs": [
        {
          "output_type": "display_data",
          "data": {
            "text/html": [
              "<html>\n",
              "<head><meta charset=\"utf-8\" /></head>\n",
              "<body>\n",
              "    <div>            <script src=\"https://cdnjs.cloudflare.com/ajax/libs/mathjax/2.7.5/MathJax.js?config=TeX-AMS-MML_SVG\"></script><script type=\"text/javascript\">if (window.MathJax) {MathJax.Hub.Config({SVG: {font: \"STIX-Web\"}});}</script>                <script type=\"text/javascript\">window.PlotlyConfig = {MathJaxConfig: 'local'};</script>\n",
              "        <script src=\"https://cdn.plot.ly/plotly-2.8.3.min.js\"></script>                <div id=\"bc46c61e-3172-4c3a-bff8-db1fa2ce999c\" class=\"plotly-graph-div\" style=\"height:600px; width:600px;\"></div>            <script type=\"text/javascript\">                                    window.PLOTLYENV=window.PLOTLYENV || {};                                    if (document.getElementById(\"bc46c61e-3172-4c3a-bff8-db1fa2ce999c\")) {                    Plotly.newPlot(                        \"bc46c61e-3172-4c3a-bff8-db1fa2ce999c\",                        [{\"mode\":\"markers\",\"x\":[0.0,0.09090909090909091,0.18181818181818182,0.2727272727272727,0.36363636363636365,0.4545454545454546,0.5454545454545454,0.6363636363636364,0.7272727272727273,0.8181818181818182,0.9090909090909092,1.0,1.0909090909090908,1.1818181818181819,1.2727272727272727,1.3636363636363638,1.4545454545454546,1.5454545454545454,1.6363636363636365,1.7272727272727273,1.8181818181818183,1.9090909090909092,2.0,2.090909090909091,2.1818181818181817,2.272727272727273,2.3636363636363638,2.4545454545454546,2.5454545454545454,2.6363636363636362,2.7272727272727275,2.8181818181818183,2.909090909090909,3.0,3.090909090909091,3.181818181818182,3.272727272727273,3.3636363636363638,3.4545454545454546,3.5454545454545454,3.6363636363636367,3.7272727272727275,3.8181818181818183,3.909090909090909,4.0,4.090909090909091,4.181818181818182,4.2727272727272725,4.363636363636363,4.454545454545455,4.545454545454546,4.636363636363637,4.7272727272727275,4.818181818181818,4.909090909090909,5.0,5.090909090909091,5.181818181818182,5.2727272727272725,5.363636363636364,5.454545454545455,5.545454545454546,5.636363636363637,5.7272727272727275,5.818181818181818,5.909090909090909,6.0,6.090909090909091,6.181818181818182,6.2727272727272725,6.363636363636364,6.454545454545455,6.545454545454546,6.636363636363637,6.7272727272727275,6.818181818181818,6.909090909090909,7.0,7.090909090909091,7.181818181818182,7.272727272727273,7.363636363636364,7.454545454545455,7.545454545454546,7.636363636363637,7.7272727272727275,7.818181818181818,7.909090909090909,8.0,8.090909090909092,8.181818181818182,8.272727272727273,8.363636363636363,8.454545454545455,8.545454545454545,8.636363636363637,8.727272727272727,8.818181818181818,8.90909090909091,9.0],\"y\":[0.0,0.5683059003016439,1.0458406942375018,0.8528266728053718,0.8831659552400732,0.3922402148745101,-0.10690197929320737,-0.5356610264123768,-0.6398493865122636,-0.8553588062989272,-0.5271602711020347,-0.2213874537889495,0.17804366986729453,0.5159652824552874,0.6588594508954676,0.6939896426919395,0.35936664194739065,0.09472046305499938,-0.20812933281866494,-0.4368580062334772,-0.5598329151980527,-0.40743579246799144,-0.24922129519646322,-0.008074830534777965,0.1912074730337891,0.32177622928375527,0.3807384158076022,0.34252745733514933,0.12627345532121492,-0.03172991839068544,-0.17074503764755203,-0.27947060569552895,-0.25725557444749103,-0.20679775818175436,-0.0584451179987787,0.05778177706836275,0.16676012875402307,0.20985436159601661,0.16891644795572575,0.13063807901750873,0.034301411709283906,-0.057571608751620484,-0.13433168659990352,-0.17217545811191987,-0.14618647212166286,-0.08317429090837504,-0.006436480318115328,0.07305013920847449,0.13646672060411588,0.12465273267471544,0.11671982349925797,0.05660212496935698,-0.00952731986383826,-0.0632527642321635,-0.0920994431407496,-0.09943882693451,-0.05875087357335754,-0.030784149949827526,0.020925356341844434,0.0657506295298092,0.07339937065887375,0.08033094335730724,0.04897775473500324,0.013275003544529207,-0.02270050318889807,-0.05674469732595829,-0.05600668286952328,-0.04465977080534641,-0.03336775989097218,-0.002991847865590334,0.022924687960920644,0.036307202135491136,0.050022051063615965,0.043345708487256614,0.017555426649594866,-0.0026533123569050863,-0.024988393299022773,-0.033351377248098925,-0.03264840019352463,-0.021228470353618183,-0.009050898181968145,0.006971681106951981,0.01854089635606433,0.025860041103234737,0.021206366958964065,0.016117044601353304,0.004385762364570537,-0.007194566022148319,-0.01806217777340383,-0.02305617939525713,-0.01917201487680298,-0.01262144895207521,-0.001484027012526756,0.0080237792361695,0.013698417762780525,0.014818207707453183,0.011434258614951951,0.007360801738527753,-0.0006468557075352998,-0.00710322937196893],\"type\":\"scatter\"}],                        {\"template\":{\"data\":{\"barpolar\":[{\"marker\":{\"line\":{\"color\":\"rgb(17,17,17)\",\"width\":0.5},\"pattern\":{\"fillmode\":\"overlay\",\"size\":10,\"solidity\":0.2}},\"type\":\"barpolar\"}],\"bar\":[{\"error_x\":{\"color\":\"#f2f5fa\"},\"error_y\":{\"color\":\"#f2f5fa\"},\"marker\":{\"line\":{\"color\":\"rgb(17,17,17)\",\"width\":0.5},\"pattern\":{\"fillmode\":\"overlay\",\"size\":10,\"solidity\":0.2}},\"type\":\"bar\"}],\"carpet\":[{\"aaxis\":{\"endlinecolor\":\"#A2B1C6\",\"gridcolor\":\"#506784\",\"linecolor\":\"#506784\",\"minorgridcolor\":\"#506784\",\"startlinecolor\":\"#A2B1C6\"},\"baxis\":{\"endlinecolor\":\"#A2B1C6\",\"gridcolor\":\"#506784\",\"linecolor\":\"#506784\",\"minorgridcolor\":\"#506784\",\"startlinecolor\":\"#A2B1C6\"},\"type\":\"carpet\"}],\"choropleth\":[{\"colorbar\":{\"outlinewidth\":0,\"ticks\":\"\"},\"type\":\"choropleth\"}],\"contourcarpet\":[{\"colorbar\":{\"outlinewidth\":0,\"ticks\":\"\"},\"type\":\"contourcarpet\"}],\"contour\":[{\"colorbar\":{\"outlinewidth\":0,\"ticks\":\"\"},\"colorscale\":[[0.0,\"#0d0887\"],[0.1111111111111111,\"#46039f\"],[0.2222222222222222,\"#7201a8\"],[0.3333333333333333,\"#9c179e\"],[0.4444444444444444,\"#bd3786\"],[0.5555555555555556,\"#d8576b\"],[0.6666666666666666,\"#ed7953\"],[0.7777777777777778,\"#fb9f3a\"],[0.8888888888888888,\"#fdca26\"],[1.0,\"#f0f921\"]],\"type\":\"contour\"}],\"heatmapgl\":[{\"colorbar\":{\"outlinewidth\":0,\"ticks\":\"\"},\"colorscale\":[[0.0,\"#0d0887\"],[0.1111111111111111,\"#46039f\"],[0.2222222222222222,\"#7201a8\"],[0.3333333333333333,\"#9c179e\"],[0.4444444444444444,\"#bd3786\"],[0.5555555555555556,\"#d8576b\"],[0.6666666666666666,\"#ed7953\"],[0.7777777777777778,\"#fb9f3a\"],[0.8888888888888888,\"#fdca26\"],[1.0,\"#f0f921\"]],\"type\":\"heatmapgl\"}],\"heatmap\":[{\"colorbar\":{\"outlinewidth\":0,\"ticks\":\"\"},\"colorscale\":[[0.0,\"#0d0887\"],[0.1111111111111111,\"#46039f\"],[0.2222222222222222,\"#7201a8\"],[0.3333333333333333,\"#9c179e\"],[0.4444444444444444,\"#bd3786\"],[0.5555555555555556,\"#d8576b\"],[0.6666666666666666,\"#ed7953\"],[0.7777777777777778,\"#fb9f3a\"],[0.8888888888888888,\"#fdca26\"],[1.0,\"#f0f921\"]],\"type\":\"heatmap\"}],\"histogram2dcontour\":[{\"colorbar\":{\"outlinewidth\":0,\"ticks\":\"\"},\"colorscale\":[[0.0,\"#0d0887\"],[0.1111111111111111,\"#46039f\"],[0.2222222222222222,\"#7201a8\"],[0.3333333333333333,\"#9c179e\"],[0.4444444444444444,\"#bd3786\"],[0.5555555555555556,\"#d8576b\"],[0.6666666666666666,\"#ed7953\"],[0.7777777777777778,\"#fb9f3a\"],[0.8888888888888888,\"#fdca26\"],[1.0,\"#f0f921\"]],\"type\":\"histogram2dcontour\"}],\"histogram2d\":[{\"colorbar\":{\"outlinewidth\":0,\"ticks\":\"\"},\"colorscale\":[[0.0,\"#0d0887\"],[0.1111111111111111,\"#46039f\"],[0.2222222222222222,\"#7201a8\"],[0.3333333333333333,\"#9c179e\"],[0.4444444444444444,\"#bd3786\"],[0.5555555555555556,\"#d8576b\"],[0.6666666666666666,\"#ed7953\"],[0.7777777777777778,\"#fb9f3a\"],[0.8888888888888888,\"#fdca26\"],[1.0,\"#f0f921\"]],\"type\":\"histogram2d\"}],\"histogram\":[{\"marker\":{\"pattern\":{\"fillmode\":\"overlay\",\"size\":10,\"solidity\":0.2}},\"type\":\"histogram\"}],\"mesh3d\":[{\"colorbar\":{\"outlinewidth\":0,\"ticks\":\"\"},\"type\":\"mesh3d\"}],\"parcoords\":[{\"line\":{\"colorbar\":{\"outlinewidth\":0,\"ticks\":\"\"}},\"type\":\"parcoords\"}],\"pie\":[{\"automargin\":true,\"type\":\"pie\"}],\"scatter3d\":[{\"line\":{\"colorbar\":{\"outlinewidth\":0,\"ticks\":\"\"}},\"marker\":{\"colorbar\":{\"outlinewidth\":0,\"ticks\":\"\"}},\"type\":\"scatter3d\"}],\"scattercarpet\":[{\"marker\":{\"colorbar\":{\"outlinewidth\":0,\"ticks\":\"\"}},\"type\":\"scattercarpet\"}],\"scattergeo\":[{\"marker\":{\"colorbar\":{\"outlinewidth\":0,\"ticks\":\"\"}},\"type\":\"scattergeo\"}],\"scattergl\":[{\"marker\":{\"line\":{\"color\":\"#283442\"}},\"type\":\"scattergl\"}],\"scattermapbox\":[{\"marker\":{\"colorbar\":{\"outlinewidth\":0,\"ticks\":\"\"}},\"type\":\"scattermapbox\"}],\"scatterpolargl\":[{\"marker\":{\"colorbar\":{\"outlinewidth\":0,\"ticks\":\"\"}},\"type\":\"scatterpolargl\"}],\"scatterpolar\":[{\"marker\":{\"colorbar\":{\"outlinewidth\":0,\"ticks\":\"\"}},\"type\":\"scatterpolar\"}],\"scatter\":[{\"marker\":{\"line\":{\"color\":\"#283442\"}},\"type\":\"scatter\"}],\"scatterternary\":[{\"marker\":{\"colorbar\":{\"outlinewidth\":0,\"ticks\":\"\"}},\"type\":\"scatterternary\"}],\"surface\":[{\"colorbar\":{\"outlinewidth\":0,\"ticks\":\"\"},\"colorscale\":[[0.0,\"#0d0887\"],[0.1111111111111111,\"#46039f\"],[0.2222222222222222,\"#7201a8\"],[0.3333333333333333,\"#9c179e\"],[0.4444444444444444,\"#bd3786\"],[0.5555555555555556,\"#d8576b\"],[0.6666666666666666,\"#ed7953\"],[0.7777777777777778,\"#fb9f3a\"],[0.8888888888888888,\"#fdca26\"],[1.0,\"#f0f921\"]],\"type\":\"surface\"}],\"table\":[{\"cells\":{\"fill\":{\"color\":\"#506784\"},\"line\":{\"color\":\"rgb(17,17,17)\"}},\"header\":{\"fill\":{\"color\":\"#2a3f5f\"},\"line\":{\"color\":\"rgb(17,17,17)\"}},\"type\":\"table\"}]},\"layout\":{\"annotationdefaults\":{\"arrowcolor\":\"#f2f5fa\",\"arrowhead\":0,\"arrowwidth\":1},\"autotypenumbers\":\"strict\",\"coloraxis\":{\"colorbar\":{\"outlinewidth\":0,\"ticks\":\"\"}},\"colorscale\":{\"diverging\":[[0,\"#8e0152\"],[0.1,\"#c51b7d\"],[0.2,\"#de77ae\"],[0.3,\"#f1b6da\"],[0.4,\"#fde0ef\"],[0.5,\"#f7f7f7\"],[0.6,\"#e6f5d0\"],[0.7,\"#b8e186\"],[0.8,\"#7fbc41\"],[0.9,\"#4d9221\"],[1,\"#276419\"]],\"sequential\":[[0.0,\"#0d0887\"],[0.1111111111111111,\"#46039f\"],[0.2222222222222222,\"#7201a8\"],[0.3333333333333333,\"#9c179e\"],[0.4444444444444444,\"#bd3786\"],[0.5555555555555556,\"#d8576b\"],[0.6666666666666666,\"#ed7953\"],[0.7777777777777778,\"#fb9f3a\"],[0.8888888888888888,\"#fdca26\"],[1.0,\"#f0f921\"]],\"sequentialminus\":[[0.0,\"#0d0887\"],[0.1111111111111111,\"#46039f\"],[0.2222222222222222,\"#7201a8\"],[0.3333333333333333,\"#9c179e\"],[0.4444444444444444,\"#bd3786\"],[0.5555555555555556,\"#d8576b\"],[0.6666666666666666,\"#ed7953\"],[0.7777777777777778,\"#fb9f3a\"],[0.8888888888888888,\"#fdca26\"],[1.0,\"#f0f921\"]]},\"colorway\":[\"#636efa\",\"#EF553B\",\"#00cc96\",\"#ab63fa\",\"#FFA15A\",\"#19d3f3\",\"#FF6692\",\"#B6E880\",\"#FF97FF\",\"#FECB52\"],\"font\":{\"color\":\"#f2f5fa\"},\"geo\":{\"bgcolor\":\"rgb(17,17,17)\",\"lakecolor\":\"rgb(17,17,17)\",\"landcolor\":\"rgb(17,17,17)\",\"showlakes\":true,\"showland\":true,\"subunitcolor\":\"#506784\"},\"hoverlabel\":{\"align\":\"left\"},\"hovermode\":\"closest\",\"mapbox\":{\"style\":\"dark\"},\"paper_bgcolor\":\"rgb(17,17,17)\",\"plot_bgcolor\":\"rgb(17,17,17)\",\"polar\":{\"angularaxis\":{\"gridcolor\":\"#506784\",\"linecolor\":\"#506784\",\"ticks\":\"\"},\"bgcolor\":\"rgb(17,17,17)\",\"radialaxis\":{\"gridcolor\":\"#506784\",\"linecolor\":\"#506784\",\"ticks\":\"\"}},\"scene\":{\"xaxis\":{\"backgroundcolor\":\"rgb(17,17,17)\",\"gridcolor\":\"#506784\",\"gridwidth\":2,\"linecolor\":\"#506784\",\"showbackground\":true,\"ticks\":\"\",\"zerolinecolor\":\"#C8D4E3\"},\"yaxis\":{\"backgroundcolor\":\"rgb(17,17,17)\",\"gridcolor\":\"#506784\",\"gridwidth\":2,\"linecolor\":\"#506784\",\"showbackground\":true,\"ticks\":\"\",\"zerolinecolor\":\"#C8D4E3\"},\"zaxis\":{\"backgroundcolor\":\"rgb(17,17,17)\",\"gridcolor\":\"#506784\",\"gridwidth\":2,\"linecolor\":\"#506784\",\"showbackground\":true,\"ticks\":\"\",\"zerolinecolor\":\"#C8D4E3\"}},\"shapedefaults\":{\"line\":{\"color\":\"#f2f5fa\"}},\"sliderdefaults\":{\"bgcolor\":\"#C8D4E3\",\"bordercolor\":\"rgb(17,17,17)\",\"borderwidth\":1,\"tickwidth\":0},\"ternary\":{\"aaxis\":{\"gridcolor\":\"#506784\",\"linecolor\":\"#506784\",\"ticks\":\"\"},\"baxis\":{\"gridcolor\":\"#506784\",\"linecolor\":\"#506784\",\"ticks\":\"\"},\"bgcolor\":\"rgb(17,17,17)\",\"caxis\":{\"gridcolor\":\"#506784\",\"linecolor\":\"#506784\",\"ticks\":\"\"}},\"title\":{\"x\":0.05},\"updatemenudefaults\":{\"bgcolor\":\"#506784\",\"borderwidth\":0},\"xaxis\":{\"automargin\":true,\"gridcolor\":\"#283442\",\"linecolor\":\"#506784\",\"ticks\":\"\",\"title\":{\"standoff\":15},\"zerolinecolor\":\"#283442\",\"zerolinewidth\":2},\"yaxis\":{\"automargin\":true,\"gridcolor\":\"#283442\",\"linecolor\":\"#506784\",\"ticks\":\"\",\"title\":{\"standoff\":15},\"zerolinecolor\":\"#283442\",\"zerolinewidth\":2}}},\"xaxis\":{\"anchor\":\"y\",\"domain\":[0.0,1.0]},\"yaxis\":{\"anchor\":\"x\",\"domain\":[0.0,1.0]},\"width\":600,\"height\":600},                        {\"responsive\": true}                    ).then(function(){\n",
              "                            \n",
              "var gd = document.getElementById('bc46c61e-3172-4c3a-bff8-db1fa2ce999c');\n",
              "var x = new MutationObserver(function (mutations, observer) {{\n",
              "        var display = window.getComputedStyle(gd).display;\n",
              "        if (!display || display === 'none') {{\n",
              "            console.log([gd, 'removed!']);\n",
              "            Plotly.purge(gd);\n",
              "            observer.disconnect();\n",
              "        }}\n",
              "}});\n",
              "\n",
              "// Listen for the removal of the full notebook cells\n",
              "var notebookContainer = gd.closest('#notebook-container');\n",
              "if (notebookContainer) {{\n",
              "    x.observe(notebookContainer, {childList: true});\n",
              "}}\n",
              "\n",
              "// Listen for the clearing of the current output cell\n",
              "var outputEl = gd.closest('.output');\n",
              "if (outputEl) {{\n",
              "    x.observe(outputEl, {childList: true});\n",
              "}}\n",
              "\n",
              "                        })                };                            </script>        </div>\n",
              "</body>\n",
              "</html>"
            ]
          },
          "metadata": {}
        }
      ]
    },
    {
      "cell_type": "code",
      "source": [
        "def sumsq(u):\n",
        "   a, td, w = u\n",
        "   ym = a*np.exp(-xd/td)*np.sin(w*xd)\n",
        "   return np.sum((ym-yd)**2)"
      ],
      "metadata": {
        "id": "jlG5fR1xNZ1D"
      },
      "execution_count": 66,
      "outputs": []
    },
    {
      "cell_type": "code",
      "source": [
        "a, td, w= minimize(sumsq, [1., 1., 5.]).x"
      ],
      "metadata": {
        "id": "e9gpzSMzO4NG"
      },
      "execution_count": 69,
      "outputs": []
    },
    {
      "cell_type": "code",
      "source": [
        "xm = np.linspace(0, 9.,500)\n",
        "\n",
        "fig = make_subplots()\n",
        "fig.add_scatter(x=xd, y=yd, mode='markers')\n",
        "fig.add_scatter(x=xm, y= a*np.exp(-xm/td)*np.sin(w*xm), mode='lines')\n",
        "fig.update_layout(width=600, height=600, template='plotly_dark')"
      ],
      "metadata": {
        "colab": {
          "base_uri": "https://localhost:8080/",
          "height": 617
        },
        "id": "0AA1dCcyO98I",
        "outputId": "73a0afe7-a75f-485f-c678-8c0c08a122a9"
      },
      "execution_count": 72,
      "outputs": [
        {
          "output_type": "display_data",
          "data": {
            "text/html": [
              "<html>\n",
              "<head><meta charset=\"utf-8\" /></head>\n",
              "<body>\n",
              "    <div>            <script src=\"https://cdnjs.cloudflare.com/ajax/libs/mathjax/2.7.5/MathJax.js?config=TeX-AMS-MML_SVG\"></script><script type=\"text/javascript\">if (window.MathJax) {MathJax.Hub.Config({SVG: {font: \"STIX-Web\"}});}</script>                <script type=\"text/javascript\">window.PlotlyConfig = {MathJaxConfig: 'local'};</script>\n",
              "        <script src=\"https://cdn.plot.ly/plotly-2.8.3.min.js\"></script>                <div id=\"6ab0d4b8-e47e-4b60-a2c8-5986f158a188\" class=\"plotly-graph-div\" style=\"height:600px; width:600px;\"></div>            <script type=\"text/javascript\">                                    window.PLOTLYENV=window.PLOTLYENV || {};                                    if (document.getElementById(\"6ab0d4b8-e47e-4b60-a2c8-5986f158a188\")) {                    Plotly.newPlot(                        \"6ab0d4b8-e47e-4b60-a2c8-5986f158a188\",                        [{\"mode\":\"markers\",\"x\":[0.0,0.09090909090909091,0.18181818181818182,0.2727272727272727,0.36363636363636365,0.4545454545454546,0.5454545454545454,0.6363636363636364,0.7272727272727273,0.8181818181818182,0.9090909090909092,1.0,1.0909090909090908,1.1818181818181819,1.2727272727272727,1.3636363636363638,1.4545454545454546,1.5454545454545454,1.6363636363636365,1.7272727272727273,1.8181818181818183,1.9090909090909092,2.0,2.090909090909091,2.1818181818181817,2.272727272727273,2.3636363636363638,2.4545454545454546,2.5454545454545454,2.6363636363636362,2.7272727272727275,2.8181818181818183,2.909090909090909,3.0,3.090909090909091,3.181818181818182,3.272727272727273,3.3636363636363638,3.4545454545454546,3.5454545454545454,3.6363636363636367,3.7272727272727275,3.8181818181818183,3.909090909090909,4.0,4.090909090909091,4.181818181818182,4.2727272727272725,4.363636363636363,4.454545454545455,4.545454545454546,4.636363636363637,4.7272727272727275,4.818181818181818,4.909090909090909,5.0,5.090909090909091,5.181818181818182,5.2727272727272725,5.363636363636364,5.454545454545455,5.545454545454546,5.636363636363637,5.7272727272727275,5.818181818181818,5.909090909090909,6.0,6.090909090909091,6.181818181818182,6.2727272727272725,6.363636363636364,6.454545454545455,6.545454545454546,6.636363636363637,6.7272727272727275,6.818181818181818,6.909090909090909,7.0,7.090909090909091,7.181818181818182,7.272727272727273,7.363636363636364,7.454545454545455,7.545454545454546,7.636363636363637,7.7272727272727275,7.818181818181818,7.909090909090909,8.0,8.090909090909092,8.181818181818182,8.272727272727273,8.363636363636363,8.454545454545455,8.545454545454545,8.636363636363637,8.727272727272727,8.818181818181818,8.90909090909091,9.0],\"y\":[0.0,0.5683059003016439,1.0458406942375018,0.8528266728053718,0.8831659552400732,0.3922402148745101,-0.10690197929320737,-0.5356610264123768,-0.6398493865122636,-0.8553588062989272,-0.5271602711020347,-0.2213874537889495,0.17804366986729453,0.5159652824552874,0.6588594508954676,0.6939896426919395,0.35936664194739065,0.09472046305499938,-0.20812933281866494,-0.4368580062334772,-0.5598329151980527,-0.40743579246799144,-0.24922129519646322,-0.008074830534777965,0.1912074730337891,0.32177622928375527,0.3807384158076022,0.34252745733514933,0.12627345532121492,-0.03172991839068544,-0.17074503764755203,-0.27947060569552895,-0.25725557444749103,-0.20679775818175436,-0.0584451179987787,0.05778177706836275,0.16676012875402307,0.20985436159601661,0.16891644795572575,0.13063807901750873,0.034301411709283906,-0.057571608751620484,-0.13433168659990352,-0.17217545811191987,-0.14618647212166286,-0.08317429090837504,-0.006436480318115328,0.07305013920847449,0.13646672060411588,0.12465273267471544,0.11671982349925797,0.05660212496935698,-0.00952731986383826,-0.0632527642321635,-0.0920994431407496,-0.09943882693451,-0.05875087357335754,-0.030784149949827526,0.020925356341844434,0.0657506295298092,0.07339937065887375,0.08033094335730724,0.04897775473500324,0.013275003544529207,-0.02270050318889807,-0.05674469732595829,-0.05600668286952328,-0.04465977080534641,-0.03336775989097218,-0.002991847865590334,0.022924687960920644,0.036307202135491136,0.050022051063615965,0.043345708487256614,0.017555426649594866,-0.0026533123569050863,-0.024988393299022773,-0.033351377248098925,-0.03264840019352463,-0.021228470353618183,-0.009050898181968145,0.006971681106951981,0.01854089635606433,0.025860041103234737,0.021206366958964065,0.016117044601353304,0.004385762364570537,-0.007194566022148319,-0.01806217777340383,-0.02305617939525713,-0.01917201487680298,-0.01262144895207521,-0.001484027012526756,0.0080237792361695,0.013698417762780525,0.014818207707453183,0.011434258614951951,0.007360801738527753,-0.0006468557075352998,-0.00710322937196893],\"type\":\"scatter\"},{\"mode\":\"lines\",\"x\":[0.0,0.018036072144288578,0.036072144288577156,0.05410821643286573,0.07214428857715431,0.09018036072144289,0.10821643286573146,0.12625250501002006,0.14428857715430862,0.1623246492985972,0.18036072144288579,0.19839679358717435,0.21643286573146292,0.23446893787575152,0.2525050100200401,0.27054108216432865,0.28857715430861725,0.30661322645290584,0.3246492985971944,0.342685370741483,0.36072144288577157,0.3787575150300601,0.3967935871743487,0.4148296593186373,0.43286573146292584,0.45090180360721444,0.46893787575150303,0.4869739478957916,0.5050100200400802,0.5230460921843687,0.5410821643286573,0.5591182364729459,0.5771543086172345,0.5951903807615231,0.6132264529058117,0.6312625250501003,0.6492985971943888,0.6673346693386774,0.685370741482966,0.7034068136272545,0.7214428857715431,0.7394789579158317,0.7575150300601202,0.7755511022044088,0.7935871743486974,0.811623246492986,0.8296593186372746,0.8476953907815632,0.8657314629258517,0.8837675350701403,0.9018036072144289,0.9198396793587175,0.9378757515030061,0.9559118236472947,0.9739478957915833,0.9919839679358717,1.0100200400801604,1.028056112224449,1.0460921843687374,1.0641282565130261,1.0821643286573146,1.1002004008016033,1.1182364729458918,1.1362725450901805,1.154308617234469,1.1723446893787575,1.1903807615230462,1.2084168336673347,1.2264529058116234,1.2444889779559118,1.2625250501002006,1.280561122244489,1.2985971943887775,1.3166332665330662,1.3346693386773547,1.3527054108216434,1.370741482965932,1.3887775551102204,1.406813627254509,1.4248496993987976,1.4428857715430863,1.4609218436873748,1.4789579158316635,1.496993987975952,1.5150300601202404,1.5330661322645291,1.5511022044088176,1.5691382765531063,1.5871743486973948,1.6052104208416835,1.623246492985972,1.6412825651302605,1.6593186372745492,1.6773547094188377,1.6953907815631264,1.7134268537074149,1.7314629258517034,1.749498997995992,1.7675350701402806,1.7855711422845693,1.8036072144288577,1.8216432865731464,1.839679358717435,1.8577154308617234,1.8757515030060121,1.8937875751503006,1.9118236472945893,1.9298597194388778,1.9478957915831665,1.965931863727455,1.9839679358717435,2.002004008016032,2.020040080160321,2.038076152304609,2.056112224448898,2.0741482965931866,2.092184368737475,2.1102204408817635,2.1282565130260522,2.146292585170341,2.164328657314629,2.182364729458918,2.2004008016032066,2.218436873747495,2.2364729458917836,2.2545090180360723,2.272545090180361,2.2905811623246493,2.308617234468938,2.3266533066132267,2.344689378757515,2.3627254509018036,2.3807615230460923,2.398797595190381,2.4168336673346693,2.434869739478958,2.4529058116232467,2.470941883767535,2.4889779559118237,2.5070140280561124,2.525050100200401,2.5430861723446894,2.561122244488978,2.579158316633267,2.597194388777555,2.6152304609218437,2.6332665330661325,2.651302605210421,2.6693386773547094,2.687374749498998,2.705410821643287,2.723446893787575,2.741482965931864,2.7595190380761525,2.7775551102204408,2.7955911823647295,2.813627254509018,2.831663326653307,2.849699398797595,2.867735470941884,2.8857715430861726,2.903807615230461,2.9218436873747495,2.9398797595190382,2.957915831663327,2.975951903807615,2.993987975951904,3.0120240480961926,3.030060120240481,3.0480961923847696,3.0661322645290583,3.084168336673347,3.1022044088176353,3.120240480961924,3.1382765531062127,3.156312625250501,3.1743486973947896,3.1923847695390783,3.210420841683367,3.2284569138276553,3.246492985971944,3.2645290581162327,3.282565130260521,3.3006012024048097,3.3186372745490984,3.336673346693387,3.3547094188376754,3.372745490981964,3.390781563126253,3.408817635270541,3.4268537074148298,3.4448897795591185,3.4629258517034067,3.4809619238476954,3.498997995991984,3.517034068136273,3.535070140280561,3.55310621242485,3.5711422845691385,3.5891783567134268,3.6072144288577155,3.625250501002004,3.643286573146293,3.661322645290581,3.67935871743487,3.6973947895791586,3.715430861723447,3.7334669338677355,3.7515030060120242,3.769539078156313,3.787575150300601,3.80561122244489,3.8236472945891786,3.841683366733467,3.8597194388777556,3.8777555110220443,3.895791583166333,3.9138276553106213,3.93186372745491,3.9498997995991987,3.967935871743487,3.9859719438877756,4.004008016032064,4.022044088176353,4.040080160320642,4.05811623246493,4.076152304609218,4.094188376753507,4.112224448897796,4.130260521042084,4.148296593186373,4.166332665330661,4.18436873747495,4.202404809619239,4.220440881763527,4.238476953907816,4.2565130260521045,4.274549098196393,4.292585170340682,4.31062124248497,4.328657314629258,4.3466933867735476,4.364729458917836,4.382765531062124,4.400801603206413,4.4188376753507015,4.43687374749499,4.454909819639279,4.472945891783567,4.490981963927856,4.509018036072145,4.527054108216433,4.545090180360722,4.56312625250501,4.5811623246492985,4.599198396793588,4.617234468937876,4.635270541082164,4.653306613226453,4.671342685370742,4.68937875751503,4.707414829659319,4.725450901803607,4.7434869739478955,4.761523046092185,4.779559118236473,4.797595190380762,4.81563126252505,4.833667334669339,4.851703406813628,4.869739478957916,4.887775551102204,4.9058116232464934,4.923847695390782,4.94188376753507,4.959919839679359,4.977955911823647,4.995991983967936,5.014028056112225,5.032064128256513,5.050100200400802,5.0681362725450905,5.086172344689379,5.104208416833668,5.122244488977956,5.140280561122244,5.158316633266534,5.176352705410822,5.19438877755511,5.212424849699399,5.2304609218436875,5.248496993987976,5.266533066132265,5.284569138276553,5.302605210420842,5.320641282565131,5.338677354709419,5.356713426853708,5.374749498997996,5.3927855711422845,5.410821643286574,5.428857715430862,5.44689378757515,5.464929859719439,5.482965931863728,5.501002004008016,5.519038076152305,5.537074148296593,5.5551102204408815,5.573146292585171,5.591182364729459,5.609218436873748,5.627254509018036,5.645290581162325,5.663326653306614,5.681362725450902,5.69939879759519,5.7174348697394795,5.735470941883768,5.753507014028056,5.771543086172345,5.789579158316633,5.807615230460922,5.825651302605211,5.843687374749499,5.861723446893788,5.8797595190380765,5.897795591182365,5.915831663326654,5.933867735470942,5.95190380761523,5.96993987975952,5.987975951903808,6.006012024048096,6.024048096192385,6.0420841683366735,6.060120240480962,6.078156312625251,6.096192384769539,6.114228456913828,6.132264529058117,6.150300601202405,6.168336673346694,6.186372745490982,6.2044088176352705,6.22244488977956,6.240480961923848,6.258517034068136,6.276553106212425,6.294589178356714,6.312625250501002,6.330661322645291,6.348697394789579,6.3667334669338675,6.384769539078157,6.402805611222445,6.420841683366734,6.438877755511022,6.456913827655311,6.4749498997996,6.492985971943888,6.511022044088176,6.5290581162324655,6.547094188376754,6.565130260521042,6.583166332665331,6.601202404809619,6.619238476953908,6.637274549098197,6.655310621242485,6.673346693386774,6.6913827655310625,6.709418837675351,6.72745490981964,6.745490981963928,6.763527054108216,6.781563126252506,6.799599198396794,6.817635270541082,6.835671342685371,6.8537074148296595,6.871743486973948,6.889779559118237,6.907815631262525,6.925851703406813,6.943887775551103,6.961923847695391,6.97995991983968,6.997995991983968,7.0160320641282565,7.034068136272546,7.052104208416834,7.070140280561122,7.088176352705411,7.1062124248497,7.124248496993988,7.142284569138277,7.160320641282565,7.1783567134268536,7.196392785571143,7.214428857715431,7.23246492985972,7.250501002004008,7.268537074148297,7.286573146292586,7.304609218436874,7.322645290581162,7.3406813627254515,7.35871743486974,7.376753507014028,7.394789579158317,7.412825651302605,7.430861723446894,7.448897795591183,7.466933867735471,7.48496993987976,7.5030060120240485,7.521042084168337,7.539078156312626,7.557114228456914,7.575150300601202,7.593186372745492,7.61122244488978,7.629258517034068,7.647294589178357,7.6653306613226455,7.683366733466934,7.701402805611223,7.719438877755511,7.7374749498997994,7.755511022044089,7.773547094188377,7.791583166332666,7.809619238476954,7.8276553106212425,7.845691382765532,7.86372745490982,7.881763527054108,7.899799599198397,7.917835671342686,7.935871743486974,7.953907815631263,7.971943887775551,7.98997995991984,8.008016032064129,8.026052104208418,8.044088176352705,8.062124248496994,8.080160320641284,8.098196392785571,8.11623246492986,8.13426853707415,8.152304609218437,8.170340681362726,8.188376753507015,8.206412825651302,8.224448897795591,8.24248496993988,8.260521042084168,8.278557114228457,8.296593186372746,8.314629258517034,8.332665330661323,8.350701402805612,8.3687374749499,8.386773547094188,8.404809619238478,8.422845691382767,8.440881763527054,8.458917835671343,8.476953907815632,8.49498997995992,8.513026052104209,8.531062124248498,8.549098196392785,8.567134268537075,8.585170340681364,8.603206412825651,8.62124248496994,8.63927855711423,8.657314629258517,8.675350701402806,8.693386773547095,8.711422845691382,8.729458917835672,8.74749498997996,8.765531062124248,8.783567134268537,8.801603206412826,8.819639278557114,8.837675350701403,8.855711422845692,8.87374749498998,8.891783567134269,8.909819639278558,8.927855711422845,8.945891783567134,8.963927855711423,8.981963927855713,9.0],\"y\":[0.0,0.12571831585033175,0.24780718419077238,0.36490562787627384,0.4757342767038109,0.5791088791683573,0.6739524726780776,0.759306093424134,0.8343379261714713,0.8983508141424831,0.9507880696591381,0.9912375470418965,1.0194339601868483,1.0352594480104522,1.0387424113245933,1.0300546644526534,1.0095069638004326,0.9775429934482119,0.9347319044419492,0.8817595196602244,0.8194183297662417,0.7485964176889004,0.6702654592038175,0.5854679554172084,0.4953038592293544,0.4009167621305885,0.3034798099458036,0.20418151640170706,0.10421164167590874,0.004747299452393149,-0.09306054947060348,-0.18810006620119474,-0.2793108234447617,-0.3656952842705433,-0.44632935007870744,-0.5203718708080967,-0.58707302436498,-0.6457814870379004,-0.6959503321061473,-0.7371416097581623,-0.7690295776177706,-0.7914025674371848,-0.8041634896652955,-0.8073289934514529,-0.8010273150190931,-0.7854948620691214,-0.7610715957894241,-0.7281952850058981,-0.6873947188773709,-0.6392819751921429,-0.5845438506642708,-0.5239325675668314,-0.4582558775088255,-0.3883666881119649,-0.31515234174179163,-0.239523677281469,-0.16240400621170245,-0.08471813300026863,-0.007381547050530541,0.0687100907318913,0.1426910492480395,0.21373510571123758,0.28106449867071726,0.3439581619343142,0.4017591557665339,0.45388122253656144,0.499814405452218,0.5391296809955556,0.5714825680250138,0.5966156890775662,0.6143602720417642,0.6246365929304237,0.6274533728149739,0.6229061539521679,0.6111746916047252,0.5925194089053522,0.5672769722227196,0.5358550537531863,0.49872635638991325,0.4564219832304662,0.40952424030742346,0.3586589662100223,0.30448748616876753,0.24769829087409875,0.18899854178380193,0.12910550494559164,0.06873801443878444,0.008608064453592183,-0.05058737417738645,-0.10817422144684745,-0.16350875335086373,-0.2159845846640403,-0.265039096201529,-0.3101592411927766,-0.3508866737559698,-0.38682215134701237,-0.4176291723499533,-0.44303681956162344,-0.462841790085172,-0.47690960196823173,-0.4851749776861703,-0.4876414141663782,-0.48437995836682995,-0.4755272163574313,-0.46128263230828986,-0.44190508167471715,-0.41770883010233123,-0.3890589160840088,-0.35636602112016447,-0.3200808960118963,-0.2806884159104168,-0.23870133982469444,-0.1946538524320603,-0.14909496723493695,-0.1025818703630376,-0.05567328364762166,-0.008922924016464289,0.03712686619085112,0.08195124666436933,0.12504869705086955,0.16594646286195422,0.20420557227160768,0.2394253726972953,0.27124754253713784,0.29935954032293194,0.32349746075752894,0.3434482745457389,0.3590514365097053,0.37019985411184697,0.37684021610106333,0.37897268846317844,0.3766499921096303,0.3699758836983624,0.35910306757158766,0.34423057294610787,0.32560063613902707,0.303495132697851,0.2782316087794096,0.2501589649451993,0.21965284867819226,0.18711081435313082,0.15294731109281287,0.117588559909462,0.08146738176440989,0.04501803769079948,0.008671140931048307,-0.027151300830607378,-0.062040657576589386,-0.09560621096243406,-0.1274794014568447,-0.15731774403477752,-0.1848083724746795,-0.20967117732860124,-0.23166150797253282,-0.25057241473603675,-0.2662364128855487,-0.2785267561241375,-0.28735821320144095,-0.2926873471309988,-0.29451230232000875,-0.2928721105624979,-0.2878455322680411,-0.27954945443509543,-0.26813687167578465,-0.25379448100743746,-0.23673992510067668,-0.21721872217548605,-0.1955009237327879,-0.1718775437733675,-0.1466568050689625,-0.1201602493991425,-0.09271875944620195,-0.06466854024948653,-0.036347107767644445,-0.008089331196088987,0.01977642574260537,0.046932021249814104,0.07307306876147486,0.09791224907507794,0.12118236648341964,0.1426391176892643,0.16206354616116095,0.17926415872868445,0.194078685552633,0.20637546908831353,0.21605447223315752,0.22304790045867737,0.22732043731685472,0.22886909722923568,0.22772270386187912,0.22394100661171185,0.21761345173356159,0.2088576283792244,0.19781741326126143,0.1846608407598678,0.1695777280306693,0.1527770870190577,0.13448435722202545,0.11493849454596655,0.09438895267830823,0.07309259401726745,0.05131056738776164,0.029305189518006196,0.007336866571155988,-0.014338909065320137,-0.035474453013131915,-0.055832642291031125,-0.07518949817915888,-0.09333657138089557,-0.11008310507604886,-0.12525795446881582,-0.1387112446412642,-0.15031575188722512,-0.15996799718061447,-0.16758904398370247,-0.17312499618212074,-0.1765471955021591,-0.1778521212807391,-0.1770609988793502,-0.174219126321889,-0.16939493185671803,-0.16267877806184672,-0.15418153079840238,-0.14403291374416025,-0.13237967138203177,-0.11938356515796562,-0.10521922904242961,-0.0900719119173932,-0.07413513505825688,-0.0576082934835772,-0.04069423010467366,-0.023596811426408983,-0.006518533037489437,0.010341817704641121,0.026791415527766805,0.04264554279632141,0.057729603609066954,0.0718809852229636,0.0849507477283473,0.09680512523130345,0.10732682428491652,0.11641610792037885,0.1239916563291171,0.12999119800517395,0.1343719079398196,0.137110572234998,0.13820352123644541,0.13766633594999825,0.13553333506594414,0.1318568523480988,0.1267063164205318,0.12016714708162436,0.11233948417108297,0.1033367666920038,0.09328418133128931,0.08231700071496616,0.0705788326705201,0.05821980243983095,0.04539469019038303,0.03226104630896042,0.018977306834127804,0.005700930997399497,-0.007413417792867201,-0.02021562706451884,-0.032561807128406464,-0.04431586159983973,-0.05535094002776019,-0.06555075772431383,-0.0748107696924278,-0.08303918747553689,-0.0901578297773569,-0.09610279979519377,-0.10082498435207615,-0.1042903720752491,-0.10648019002569388,-0.1073908603102626,-0.1070337802805048,-0.10543493191704228,-0.10263432789352575,-0.0986853035893972,-0.0936536659572399,-0.08761671163175372,-0.08066212797871196,-0.07288679191132584,-0.06439548223817478,-0.05529952204370069,-0.045715368134022584,-0.03576316490485884,-0.02556528010441339,-0.015244839874473325,-0.004924280162188216,0.005276068890039983,0.01523934963942376,0.024853479629902826,0.034012376184993184,0.04261708997281659,0.050576835893644305,0.05780991103791601,0.06424449095577615,0.06981929704871957,0.07448412952023611,0.07820026198556176,0.08094069552069809,0.0826902716078457,0.0834456450889062,0.08321511985172958,0.08201835152730748,0.07988592295300954,0.07685879954133694,0.07298767297098781,0.06833220277422243,0.06296016642017915,0.056946529378219556,0.05037244738067991,0.0433242136846164,0.03589216455307689,0.028169556436041313,0.02025142842911164,0.01223346352601138,0.004210861962365199,-0.0037227604215553187,-0.011476436385670757,-0.018962862299107285,-0.02609935296602121,-0.0328087261716466,-0.039020107845143294,-0.04466964981803239,-0.04970115331410913,-0.05406659252394527,-0.05772653387918894,-0.0606504479333994,-0.06281691206146922,-0.06421370349343947,-0.06483778348542642,-0.06469517468581121,-0.06380073496466285,-0.06217783212526367,-0.059857924996176204,-0.05688005739917718,-0.05329027239237505,-0.04914095499000972,-0.0444901122531576,-0.03940060022270833,-0.033939307622720634,-0.028176306595426723,-0.022183980936926095,-0.01603614238475328,-0.009807145466215956,-0.003571011252312276,0.0025994299198233025,0.008633367087366815,0.014462799496812631,0.020023281063816154,0.025254610576301163,0.03010146052750296,0.034513938303557264,0.03844807434693169,0.04186623286096077,0.044737441600168036,0.04703763829391299,0.04874983226508066,0.04986418081904359,0.05037798097911974,0.05029557812182882,0.049628194007375837,0.04839367759762564,0.04661618289567169,0.044325778819092346,0.04155799682514942,0.038353322633526435,0.034756638934754565,0.03081662642540085,0.02658513087059969,0.022116504158089186,0.01746692747405964,0.012693724799651314,0.007854674898676844,0.003007329844116207,-0.0017916520838074995,-0.006487151597531798,-0.01102620455455045,-0.015358582378477531,-0.01943733059655542,-0.023219259935616552,-0.026665385067270182,-0.02974130678794622,-0.032417534151454375,-0.03466974383174781,-0.036478974772270606,-0.03783175696621685,-0.03872017399989196,-0.03914185976995491,-0.03909993054572619,-0.038602854281399264,-0.037664259781823514,-0.03630268898196233,-0.034541296207266536,-0.0324074988337962,-0.02993258425750847,-0.02715127850702696,-0.024101282189607956,-0.02082277974294857,-0.017357928173935153,-0.013750331598191494,-0.010044507951192976,-0.006285354223320662,-0.0025176164791232774,0.0012146292424728559,0.004868479282055053,0.00840268239894643,0.011778092283000837,0.014958087736864557,0.017908956186192586,0.020600236677585627,0.02300501906246277,0.025100196632727192,0.026866670063853983,0.028289501125642862,0.029358015233041983,0.030065852521888026,0.030410967739987776,0.030395579835727826,0.03002607269769974,0.029312849043344975,0.028270139966475354,0.026915773127305052,0.025270902999469814,0.02335970697212283,0.0212090514379306,0.018848132276627242,0.01630809436642709,0.013621634920375849,0.010822595550752845,0.00794554801167034,0.0050253785585223434,0.0020968757940749267,-0.000805673253485978,-0.0036488742528697597,-0.006400599552530502,-0.00903034095873641,-0.011509537560751282,-0.013811875210438052,-0.015913554652484195,-0.017793525718639052,-0.019433685439537465,-0.02081903838531134,-0.02193781801563283,-0.022781568295413276,-0.02334518530844598,-0.023626919072279075,-0.02362833621811748,-0.023354244644409702,-0.022812581677044447,-0.022014267668177538,-0.0209730273354136,-0.019705181479568068,-0.018229412019188665,-0.01656650354055112,-0.014739064780594646,-0.012771233635415003,-0.010688369417175542,-0.008516736166894986,-0.006283180869321646,-0.004014810409350467,-0.0017386710580234634,0.0005185658185262763,0.0027309082699454963,0.004873335110362295,0.006922070934588237,0.00885484187648538,0.010651109459029955,0.012292280186659356,0.013761888853737672,0.015045753884297271,0.016132103373299695,0.017011670864137556,0.017677760266556927,0.018126279689232905,0.018355744327538285,0.01836724890541623,0.018164410516651963,0.017753283041404572,0.01714224462503005,0.01634185999470188,0.015364719652144915,0.01422525821532282,0.012939554385903254,0.011525115190925068,0.010000647284860588,0.008385818201172766,0.006701010509928797,0.004967071869853687,0.0032050639596417027,0.0014360132350400223,-0.00031933361377527023,-0.0020407467342908785,-0.0037087400777473896,-0.005304785786946077,-0.006811513722693626,-0.008212894058361968],\"type\":\"scatter\"}],                        {\"template\":{\"data\":{\"barpolar\":[{\"marker\":{\"line\":{\"color\":\"rgb(17,17,17)\",\"width\":0.5},\"pattern\":{\"fillmode\":\"overlay\",\"size\":10,\"solidity\":0.2}},\"type\":\"barpolar\"}],\"bar\":[{\"error_x\":{\"color\":\"#f2f5fa\"},\"error_y\":{\"color\":\"#f2f5fa\"},\"marker\":{\"line\":{\"color\":\"rgb(17,17,17)\",\"width\":0.5},\"pattern\":{\"fillmode\":\"overlay\",\"size\":10,\"solidity\":0.2}},\"type\":\"bar\"}],\"carpet\":[{\"aaxis\":{\"endlinecolor\":\"#A2B1C6\",\"gridcolor\":\"#506784\",\"linecolor\":\"#506784\",\"minorgridcolor\":\"#506784\",\"startlinecolor\":\"#A2B1C6\"},\"baxis\":{\"endlinecolor\":\"#A2B1C6\",\"gridcolor\":\"#506784\",\"linecolor\":\"#506784\",\"minorgridcolor\":\"#506784\",\"startlinecolor\":\"#A2B1C6\"},\"type\":\"carpet\"}],\"choropleth\":[{\"colorbar\":{\"outlinewidth\":0,\"ticks\":\"\"},\"type\":\"choropleth\"}],\"contourcarpet\":[{\"colorbar\":{\"outlinewidth\":0,\"ticks\":\"\"},\"type\":\"contourcarpet\"}],\"contour\":[{\"colorbar\":{\"outlinewidth\":0,\"ticks\":\"\"},\"colorscale\":[[0.0,\"#0d0887\"],[0.1111111111111111,\"#46039f\"],[0.2222222222222222,\"#7201a8\"],[0.3333333333333333,\"#9c179e\"],[0.4444444444444444,\"#bd3786\"],[0.5555555555555556,\"#d8576b\"],[0.6666666666666666,\"#ed7953\"],[0.7777777777777778,\"#fb9f3a\"],[0.8888888888888888,\"#fdca26\"],[1.0,\"#f0f921\"]],\"type\":\"contour\"}],\"heatmapgl\":[{\"colorbar\":{\"outlinewidth\":0,\"ticks\":\"\"},\"colorscale\":[[0.0,\"#0d0887\"],[0.1111111111111111,\"#46039f\"],[0.2222222222222222,\"#7201a8\"],[0.3333333333333333,\"#9c179e\"],[0.4444444444444444,\"#bd3786\"],[0.5555555555555556,\"#d8576b\"],[0.6666666666666666,\"#ed7953\"],[0.7777777777777778,\"#fb9f3a\"],[0.8888888888888888,\"#fdca26\"],[1.0,\"#f0f921\"]],\"type\":\"heatmapgl\"}],\"heatmap\":[{\"colorbar\":{\"outlinewidth\":0,\"ticks\":\"\"},\"colorscale\":[[0.0,\"#0d0887\"],[0.1111111111111111,\"#46039f\"],[0.2222222222222222,\"#7201a8\"],[0.3333333333333333,\"#9c179e\"],[0.4444444444444444,\"#bd3786\"],[0.5555555555555556,\"#d8576b\"],[0.6666666666666666,\"#ed7953\"],[0.7777777777777778,\"#fb9f3a\"],[0.8888888888888888,\"#fdca26\"],[1.0,\"#f0f921\"]],\"type\":\"heatmap\"}],\"histogram2dcontour\":[{\"colorbar\":{\"outlinewidth\":0,\"ticks\":\"\"},\"colorscale\":[[0.0,\"#0d0887\"],[0.1111111111111111,\"#46039f\"],[0.2222222222222222,\"#7201a8\"],[0.3333333333333333,\"#9c179e\"],[0.4444444444444444,\"#bd3786\"],[0.5555555555555556,\"#d8576b\"],[0.6666666666666666,\"#ed7953\"],[0.7777777777777778,\"#fb9f3a\"],[0.8888888888888888,\"#fdca26\"],[1.0,\"#f0f921\"]],\"type\":\"histogram2dcontour\"}],\"histogram2d\":[{\"colorbar\":{\"outlinewidth\":0,\"ticks\":\"\"},\"colorscale\":[[0.0,\"#0d0887\"],[0.1111111111111111,\"#46039f\"],[0.2222222222222222,\"#7201a8\"],[0.3333333333333333,\"#9c179e\"],[0.4444444444444444,\"#bd3786\"],[0.5555555555555556,\"#d8576b\"],[0.6666666666666666,\"#ed7953\"],[0.7777777777777778,\"#fb9f3a\"],[0.8888888888888888,\"#fdca26\"],[1.0,\"#f0f921\"]],\"type\":\"histogram2d\"}],\"histogram\":[{\"marker\":{\"pattern\":{\"fillmode\":\"overlay\",\"size\":10,\"solidity\":0.2}},\"type\":\"histogram\"}],\"mesh3d\":[{\"colorbar\":{\"outlinewidth\":0,\"ticks\":\"\"},\"type\":\"mesh3d\"}],\"parcoords\":[{\"line\":{\"colorbar\":{\"outlinewidth\":0,\"ticks\":\"\"}},\"type\":\"parcoords\"}],\"pie\":[{\"automargin\":true,\"type\":\"pie\"}],\"scatter3d\":[{\"line\":{\"colorbar\":{\"outlinewidth\":0,\"ticks\":\"\"}},\"marker\":{\"colorbar\":{\"outlinewidth\":0,\"ticks\":\"\"}},\"type\":\"scatter3d\"}],\"scattercarpet\":[{\"marker\":{\"colorbar\":{\"outlinewidth\":0,\"ticks\":\"\"}},\"type\":\"scattercarpet\"}],\"scattergeo\":[{\"marker\":{\"colorbar\":{\"outlinewidth\":0,\"ticks\":\"\"}},\"type\":\"scattergeo\"}],\"scattergl\":[{\"marker\":{\"line\":{\"color\":\"#283442\"}},\"type\":\"scattergl\"}],\"scattermapbox\":[{\"marker\":{\"colorbar\":{\"outlinewidth\":0,\"ticks\":\"\"}},\"type\":\"scattermapbox\"}],\"scatterpolargl\":[{\"marker\":{\"colorbar\":{\"outlinewidth\":0,\"ticks\":\"\"}},\"type\":\"scatterpolargl\"}],\"scatterpolar\":[{\"marker\":{\"colorbar\":{\"outlinewidth\":0,\"ticks\":\"\"}},\"type\":\"scatterpolar\"}],\"scatter\":[{\"marker\":{\"line\":{\"color\":\"#283442\"}},\"type\":\"scatter\"}],\"scatterternary\":[{\"marker\":{\"colorbar\":{\"outlinewidth\":0,\"ticks\":\"\"}},\"type\":\"scatterternary\"}],\"surface\":[{\"colorbar\":{\"outlinewidth\":0,\"ticks\":\"\"},\"colorscale\":[[0.0,\"#0d0887\"],[0.1111111111111111,\"#46039f\"],[0.2222222222222222,\"#7201a8\"],[0.3333333333333333,\"#9c179e\"],[0.4444444444444444,\"#bd3786\"],[0.5555555555555556,\"#d8576b\"],[0.6666666666666666,\"#ed7953\"],[0.7777777777777778,\"#fb9f3a\"],[0.8888888888888888,\"#fdca26\"],[1.0,\"#f0f921\"]],\"type\":\"surface\"}],\"table\":[{\"cells\":{\"fill\":{\"color\":\"#506784\"},\"line\":{\"color\":\"rgb(17,17,17)\"}},\"header\":{\"fill\":{\"color\":\"#2a3f5f\"},\"line\":{\"color\":\"rgb(17,17,17)\"}},\"type\":\"table\"}]},\"layout\":{\"annotationdefaults\":{\"arrowcolor\":\"#f2f5fa\",\"arrowhead\":0,\"arrowwidth\":1},\"autotypenumbers\":\"strict\",\"coloraxis\":{\"colorbar\":{\"outlinewidth\":0,\"ticks\":\"\"}},\"colorscale\":{\"diverging\":[[0,\"#8e0152\"],[0.1,\"#c51b7d\"],[0.2,\"#de77ae\"],[0.3,\"#f1b6da\"],[0.4,\"#fde0ef\"],[0.5,\"#f7f7f7\"],[0.6,\"#e6f5d0\"],[0.7,\"#b8e186\"],[0.8,\"#7fbc41\"],[0.9,\"#4d9221\"],[1,\"#276419\"]],\"sequential\":[[0.0,\"#0d0887\"],[0.1111111111111111,\"#46039f\"],[0.2222222222222222,\"#7201a8\"],[0.3333333333333333,\"#9c179e\"],[0.4444444444444444,\"#bd3786\"],[0.5555555555555556,\"#d8576b\"],[0.6666666666666666,\"#ed7953\"],[0.7777777777777778,\"#fb9f3a\"],[0.8888888888888888,\"#fdca26\"],[1.0,\"#f0f921\"]],\"sequentialminus\":[[0.0,\"#0d0887\"],[0.1111111111111111,\"#46039f\"],[0.2222222222222222,\"#7201a8\"],[0.3333333333333333,\"#9c179e\"],[0.4444444444444444,\"#bd3786\"],[0.5555555555555556,\"#d8576b\"],[0.6666666666666666,\"#ed7953\"],[0.7777777777777778,\"#fb9f3a\"],[0.8888888888888888,\"#fdca26\"],[1.0,\"#f0f921\"]]},\"colorway\":[\"#636efa\",\"#EF553B\",\"#00cc96\",\"#ab63fa\",\"#FFA15A\",\"#19d3f3\",\"#FF6692\",\"#B6E880\",\"#FF97FF\",\"#FECB52\"],\"font\":{\"color\":\"#f2f5fa\"},\"geo\":{\"bgcolor\":\"rgb(17,17,17)\",\"lakecolor\":\"rgb(17,17,17)\",\"landcolor\":\"rgb(17,17,17)\",\"showlakes\":true,\"showland\":true,\"subunitcolor\":\"#506784\"},\"hoverlabel\":{\"align\":\"left\"},\"hovermode\":\"closest\",\"mapbox\":{\"style\":\"dark\"},\"paper_bgcolor\":\"rgb(17,17,17)\",\"plot_bgcolor\":\"rgb(17,17,17)\",\"polar\":{\"angularaxis\":{\"gridcolor\":\"#506784\",\"linecolor\":\"#506784\",\"ticks\":\"\"},\"bgcolor\":\"rgb(17,17,17)\",\"radialaxis\":{\"gridcolor\":\"#506784\",\"linecolor\":\"#506784\",\"ticks\":\"\"}},\"scene\":{\"xaxis\":{\"backgroundcolor\":\"rgb(17,17,17)\",\"gridcolor\":\"#506784\",\"gridwidth\":2,\"linecolor\":\"#506784\",\"showbackground\":true,\"ticks\":\"\",\"zerolinecolor\":\"#C8D4E3\"},\"yaxis\":{\"backgroundcolor\":\"rgb(17,17,17)\",\"gridcolor\":\"#506784\",\"gridwidth\":2,\"linecolor\":\"#506784\",\"showbackground\":true,\"ticks\":\"\",\"zerolinecolor\":\"#C8D4E3\"},\"zaxis\":{\"backgroundcolor\":\"rgb(17,17,17)\",\"gridcolor\":\"#506784\",\"gridwidth\":2,\"linecolor\":\"#506784\",\"showbackground\":true,\"ticks\":\"\",\"zerolinecolor\":\"#C8D4E3\"}},\"shapedefaults\":{\"line\":{\"color\":\"#f2f5fa\"}},\"sliderdefaults\":{\"bgcolor\":\"#C8D4E3\",\"bordercolor\":\"rgb(17,17,17)\",\"borderwidth\":1,\"tickwidth\":0},\"ternary\":{\"aaxis\":{\"gridcolor\":\"#506784\",\"linecolor\":\"#506784\",\"ticks\":\"\"},\"baxis\":{\"gridcolor\":\"#506784\",\"linecolor\":\"#506784\",\"ticks\":\"\"},\"bgcolor\":\"rgb(17,17,17)\",\"caxis\":{\"gridcolor\":\"#506784\",\"linecolor\":\"#506784\",\"ticks\":\"\"}},\"title\":{\"x\":0.05},\"updatemenudefaults\":{\"bgcolor\":\"#506784\",\"borderwidth\":0},\"xaxis\":{\"automargin\":true,\"gridcolor\":\"#283442\",\"linecolor\":\"#506784\",\"ticks\":\"\",\"title\":{\"standoff\":15},\"zerolinecolor\":\"#283442\",\"zerolinewidth\":2},\"yaxis\":{\"automargin\":true,\"gridcolor\":\"#283442\",\"linecolor\":\"#506784\",\"ticks\":\"\",\"title\":{\"standoff\":15},\"zerolinecolor\":\"#283442\",\"zerolinewidth\":2}}},\"xaxis\":{\"anchor\":\"y\",\"domain\":[0.0,1.0]},\"yaxis\":{\"anchor\":\"x\",\"domain\":[0.0,1.0]},\"width\":600,\"height\":600},                        {\"responsive\": true}                    ).then(function(){\n",
              "                            \n",
              "var gd = document.getElementById('6ab0d4b8-e47e-4b60-a2c8-5986f158a188');\n",
              "var x = new MutationObserver(function (mutations, observer) {{\n",
              "        var display = window.getComputedStyle(gd).display;\n",
              "        if (!display || display === 'none') {{\n",
              "            console.log([gd, 'removed!']);\n",
              "            Plotly.purge(gd);\n",
              "            observer.disconnect();\n",
              "        }}\n",
              "}});\n",
              "\n",
              "// Listen for the removal of the full notebook cells\n",
              "var notebookContainer = gd.closest('#notebook-container');\n",
              "if (notebookContainer) {{\n",
              "    x.observe(notebookContainer, {childList: true});\n",
              "}}\n",
              "\n",
              "// Listen for the clearing of the current output cell\n",
              "var outputEl = gd.closest('.output');\n",
              "if (outputEl) {{\n",
              "    x.observe(outputEl, {childList: true});\n",
              "}}\n",
              "\n",
              "                        })                };                            </script>        </div>\n",
              "</body>\n",
              "</html>"
            ]
          },
          "metadata": {}
        }
      ]
    },
    {
      "cell_type": "code",
      "source": [],
      "metadata": {
        "id": "fpJxQsDFPKIn"
      },
      "execution_count": null,
      "outputs": []
    }
  ]
}