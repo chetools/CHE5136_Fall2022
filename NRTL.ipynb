{
  "nbformat": 4,
  "nbformat_minor": 0,
  "metadata": {
    "colab": {
      "provenance": [],
      "authorship_tag": "ABX9TyNsW3pEtAexi6hRMmR4OoHD",
      "include_colab_link": true
    },
    "kernelspec": {
      "name": "python3",
      "display_name": "Python 3"
    },
    "language_info": {
      "name": "python"
    }
  },
  "cells": [
    {
      "cell_type": "markdown",
      "metadata": {
        "id": "view-in-github",
        "colab_type": "text"
      },
      "source": [
        "<a href=\"https://colab.research.google.com/github/profteachkids/CHE5136_Fall2022/blob/main/NRTL.ipynb\" target=\"_parent\"><img src=\"https://colab.research.google.com/assets/colab-badge.svg\" alt=\"Open In Colab\"/></a>"
      ]
    },
    {
      "cell_type": "code",
      "execution_count": 1,
      "metadata": {
        "colab": {
          "base_uri": "https://localhost:8080/"
        },
        "id": "6w4s3TWXYXyz",
        "outputId": "492c03fc-7739-4608-9307-9cc7d00520d1"
      },
      "outputs": [
        {
          "output_type": "stream",
          "name": "stdout",
          "text": [
            "Looking in indexes: https://pypi.org/simple, https://us-python.pkg.dev/colab-wheels/public/simple/\n",
            "Collecting importnb\n",
            "  Downloading importnb-2022.10.24-py3-none-any.whl (39 kB)\n",
            "Installing collected packages: importnb\n",
            "Successfully installed importnb-2022.10.24\n"
          ]
        }
      ],
      "source": [
        "!wget -N -q https://raw.githubusercontent.com/profteachkids/chetools/main/tools/che4.ipynb -O che4.ipynb\n",
        "!pip install importnb"
      ]
    },
    {
      "cell_type": "code",
      "source": [
        "from importnb import Notebook\n",
        "with Notebook(): \n",
        "    from che4 import Props\n",
        "\n",
        "import numpy as np\n",
        "from scipy.optimize import root"
      ],
      "metadata": {
        "id": "XFjVkP5QYYfo"
      },
      "execution_count": 88,
      "outputs": []
    },
    {
      "cell_type": "markdown",
      "source": [
        "### NRTL Activity Coefficient Model\n",
        "\n",
        "$ln (\\gamma_i) = \\dfrac{ \\sum\\limits_{j=1}^{n}x_j \\tau_{ji}G_{ji}}{\\sum\\limits_{k=1}^{n}x_kG_{ki}} + \n",
        "\\sum\\limits_{j=1}^{n} \\dfrac{x_jG_{ij}}{\\sum\\limits_{k=1}^{n}x_k G_{kj}} \\left( \\tau_{ij} - \n",
        "\\dfrac{\\sum\\limits_{m=1}^{n} x_m \\tau_{mj} G_{mj}}{\\sum\\limits_{k=1}^{n} x_kG_{kj}} \\right)$\n",
        "\n",
        "$\\tau_{ji} = A_{ji} + \\dfrac{B_{ji}}{T} + C_{ji}ln(T)+D_{ji}T$\n",
        "\n",
        "$G_{ji}=exp \\left( - \\alpha_{ji} \\tau_{ji} \\right)$\n",
        "\n",
        "$\\alpha_{ij}=\\alpha_{ji}$"
      ],
      "metadata": {
        "id": "r87i_KrjYgfz"
      }
    },
    {
      "cell_type": "code",
      "source": [
        "def lng_matvec(x,T):\n",
        "    x=x.reshape((1,-1))\n",
        "    tau = p.NRTL_B/T\n",
        "    G = np.exp(-p.NRTL_alpha*tau)\n",
        "    xtauG = x@ (tau*G)\n",
        "    xG = x@G\n",
        "    xtauGdivxG=xtauG/xG\n",
        "    a=G*(tau-xtauGdivxG[None,:])/xG[None,:]\n",
        "    lng= xtauGdivxG + a@(x.squeeze())\n",
        "    return lng.flatten()\n",
        "np.exp(lng_matvec(x,300.))"
      ],
      "metadata": {
        "id": "OUwpBb-QupA2",
        "outputId": "89e0177c-8b71-4dad-92e5-c8e8130b136b",
        "colab": {
          "base_uri": "https://localhost:8080/"
        }
      },
      "execution_count": 78,
      "outputs": [
        {
          "output_type": "execute_result",
          "data": {
            "text/plain": [
              "array([0.99367274, 1.14457226, 1.61038962])"
            ]
          },
          "metadata": {},
          "execution_count": 78
        }
      ]
    },
    {
      "cell_type": "code",
      "source": [
        "def lng_einsum(x, T):\n",
        "    tau = p.NRTL_B/T\n",
        "    G = np.exp(-p.NRTL_alpha*tau)\n",
        "    xtauG = np.einsum('j,ji->i',x,tau*G)\n",
        "    xG = np.einsum('j,ji',x,G)\n",
        "    xtauGdivxG=xtauG/xG\n",
        "    print(xtauGdivxG)\n",
        "    term2=np.einsum('j,ij->i',x,G*(tau-xtauGdivxG[None,:])/xG[None,:] )\n",
        "    return xtauGdivxG + term2\n",
        "\n",
        "\n",
        "np.exp(lng_einsum(x,300.))"
      ],
      "metadata": {
        "id": "zRlxtLb6rY2D",
        "outputId": "f85a0366-ba16-47f3-93b8-0176452b46a3",
        "colab": {
          "base_uri": "https://localhost:8080/"
        }
      },
      "execution_count": 56,
      "outputs": [
        {
          "output_type": "stream",
          "name": "stdout",
          "text": [
            "[ 0.49820792  0.19718116 -0.09022929]\n"
          ]
        },
        {
          "output_type": "execute_result",
          "data": {
            "text/plain": [
              "array([0.99367274, 1.14457226, 1.61038962])"
            ]
          },
          "metadata": {},
          "execution_count": 56
        }
      ]
    },
    {
      "cell_type": "code",
      "source": [
        "p = Props(['Methanol','Ethanol','Water'])"
      ],
      "metadata": {
        "id": "5OSp9CkdYZ9C"
      },
      "execution_count": 57,
      "outputs": []
    },
    {
      "cell_type": "code",
      "source": [
        "def lng_method1(x, T):\n",
        "    tau = p.NRTL_B/T\n",
        "    G = np.exp(-p.NRTL_alpha*tau)\n",
        "    lng = np.zeros_like(x)\n",
        "    xtauGdivxG = np.zeros_like(x)\n",
        "    xG = np.zeros_like(x)\n",
        "    term2 = np.zeros_like(x)\n",
        "    N = x.size\n",
        "    for i in range(N):\n",
        "        xtauG = 0.\n",
        "        for j in range(N):\n",
        "            xtauG += x[j]*tau[j,i]*G[j,i]\n",
        "            xG[i] += x[j]*G[j,i]\n",
        "        xtauGdivxG[i] = xtauG/xG[i]\n",
        "    for i in range(N):\n",
        "        for j in range(N):\n",
        "            term2[i]+= x[j]*G[i,j]/xG[j]*(tau[i,j] - xtauGdivxG[j])\n",
        "\n",
        "    print(term2)\n",
        "    return xtauGdivxG + term2"
      ],
      "metadata": {
        "id": "KIaEgfUD6aE-"
      },
      "execution_count": 43,
      "outputs": []
    },
    {
      "cell_type": "code",
      "source": [
        "x=np.array([1/3, 1/3, 1/3])\n",
        "np.exp(lng_method1(x,300.))\n"
      ],
      "metadata": {
        "colab": {
          "base_uri": "https://localhost:8080/"
        },
        "id": "2SzUzUA27_SX",
        "outputId": "0f23ab29-ba3e-4950-fd3d-43bd4e15939c"
      },
      "execution_count": 65,
      "outputs": [
        {
          "output_type": "stream",
          "name": "stdout",
          "text": [
            "[-0.50455528 -0.06215016  0.56670544]\n"
          ]
        },
        {
          "output_type": "execute_result",
          "data": {
            "text/plain": [
              "array([0.99367274, 1.14457226, 1.61038962])"
            ]
          },
          "metadata": {},
          "execution_count": 65
        }
      ]
    },
    {
      "cell_type": "code",
      "source": [
        "def bubblePy(x, T):\n",
        "    Pi=x*np.exp(lng_matvec(x,T))*p.Pvap(T)\n",
        "    P = np.sum(Pi)\n",
        "    return P, Pi/P \n",
        "\n",
        "def bubbleT(x, P):\n",
        "\n",
        "    r\n",
        "\n"
      ],
      "metadata": {
        "id": "EQ6hQHqwzyDk"
      },
      "execution_count": 86,
      "outputs": []
    },
    {
      "cell_type": "code",
      "source": [
        "bubblePy(x,350.)"
      ],
      "metadata": {
        "id": "KBVR3B-J8Dhg",
        "outputId": "0e8db853-fa64-4ed3-ce03-c7bf5b3f133c",
        "colab": {
          "base_uri": "https://localhost:8080/"
        }
      },
      "execution_count": 87,
      "outputs": [
        {
          "output_type": "execute_result",
          "data": {
            "text/plain": [
              "(DeviceArray(111634.03410608, dtype=float64),\n",
              " DeviceArray([0.48004229, 0.32823712, 0.1917206 ], dtype=float64))"
            ]
          },
          "metadata": {},
          "execution_count": 87
        }
      ]
    },
    {
      "cell_type": "code",
      "source": [
        "a"
      ],
      "metadata": {
        "colab": {
          "base_uri": "https://localhost:8080/"
        },
        "id": "Rx6FdJ4JFJIs",
        "outputId": "fe7c4d7a-f341-4817-aeff-b7b2e93c21ea"
      },
      "execution_count": 31,
      "outputs": [
        {
          "output_type": "execute_result",
          "data": {
            "text/plain": [
              "array([[ 14,  38,  62],\n",
              "       [ 38, 126, 214]])"
            ]
          },
          "metadata": {},
          "execution_count": 31
        }
      ]
    },
    {
      "cell_type": "code",
      "source": [
        "a@(b.T)"
      ],
      "metadata": {
        "id": "e1xkEfRHFk62",
        "outputId": "8277ffc5-2dc8-4b5d-f5d0-4d43203dc2fb",
        "colab": {
          "base_uri": "https://localhost:8080/"
        }
      },
      "execution_count": 28,
      "outputs": [
        {
          "output_type": "execute_result",
          "data": {
            "text/plain": [
              "array([[ 14,  38],\n",
              "       [ 38, 126],\n",
              "       [ 62, 214]])"
            ]
          },
          "metadata": {},
          "execution_count": 28
        }
      ]
    },
    {
      "cell_type": "code",
      "source": [],
      "metadata": {
        "id": "GVAY9P4iqsBt"
      },
      "execution_count": null,
      "outputs": []
    }
  ]
}