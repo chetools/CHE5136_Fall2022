{
  "nbformat": 4,
  "nbformat_minor": 0,
  "metadata": {
    "colab": {
      "provenance": [],
      "authorship_tag": "ABX9TyMsb0X9Srm1soyVHVuhYZE3",
      "include_colab_link": true
    },
    "kernelspec": {
      "name": "python3",
      "display_name": "Python 3"
    },
    "language_info": {
      "name": "python"
    }
  },
  "cells": [
    {
      "cell_type": "markdown",
      "metadata": {
        "id": "view-in-github",
        "colab_type": "text"
      },
      "source": [
        "<a href=\"https://colab.research.google.com/github/profteachkids/CHE5136_Fall2022/blob/main/NRTL.ipynb\" target=\"_parent\"><img src=\"https://colab.research.google.com/assets/colab-badge.svg\" alt=\"Open In Colab\"/></a>"
      ]
    },
    {
      "cell_type": "code",
      "execution_count": 1,
      "metadata": {
        "colab": {
          "base_uri": "https://localhost:8080/"
        },
        "id": "6w4s3TWXYXyz",
        "outputId": "d7b4034f-1e40-4b2c-bdc8-85bd91a7b1a4"
      },
      "outputs": [
        {
          "output_type": "stream",
          "name": "stdout",
          "text": [
            "Looking in indexes: https://pypi.org/simple, https://us-python.pkg.dev/colab-wheels/public/simple/\n",
            "Collecting importnb\n",
            "  Downloading importnb-2022.10.24-py3-none-any.whl (39 kB)\n",
            "Installing collected packages: importnb\n",
            "Successfully installed importnb-2022.10.24\n"
          ]
        }
      ],
      "source": [
        "!wget -N -q https://raw.githubusercontent.com/profteachkids/chetools/main/tools/che4.ipynb -O che4.ipynb\n",
        "!pip install importnb"
      ]
    },
    {
      "cell_type": "code",
      "source": [
        "from importnb import Notebook\n",
        "with Notebook(): \n",
        "    from che4 import Props, qtox, xtoq\n",
        "\n",
        "import numpy as np\n",
        "from scipy.optimize import root, brentq\n",
        "from plotly.subplots import make_subplots\n",
        "from scipy.special import expit"
      ],
      "metadata": {
        "id": "XFjVkP5QYYfo",
        "outputId": "f3924b68-180f-4fc4-a43a-0ce491cc1f04",
        "colab": {
          "base_uri": "https://localhost:8080/"
        }
      },
      "execution_count": 2,
      "outputs": [
        {
          "output_type": "stream",
          "name": "stderr",
          "text": [
            "WARNING:jax._src.lib.xla_bridge:No GPU/TPU found, falling back to CPU. (Set TF_CPP_MIN_LOG_LEVEL=0 and rerun for more info.)\n"
          ]
        }
      ]
    },
    {
      "cell_type": "markdown",
      "source": [
        "### NRTL Activity Coefficient Model\n",
        "\n",
        "$ln (\\gamma_i) = \\dfrac{ \\sum\\limits_{j=1}^{n}x_j \\tau_{ji}G_{ji}}{\\sum\\limits_{k=1}^{n}x_kG_{ki}} + \n",
        "\\sum\\limits_{j=1}^{n} \\dfrac{x_jG_{ij}}{\\sum\\limits_{k=1}^{n}x_k G_{kj}} \\left( \\tau_{ij} - \n",
        "\\dfrac{\\sum\\limits_{m=1}^{n} x_m \\tau_{mj} G_{mj}}{\\sum\\limits_{k=1}^{n} x_kG_{kj}} \\right)$\n",
        "\n",
        "$\\tau_{ji} = A_{ji} + \\dfrac{B_{ji}}{T} + C_{ji}ln(T)+D_{ji}T$\n",
        "\n",
        "$G_{ji}=exp \\left( - \\alpha_{ji} \\tau_{ji} \\right)$\n",
        "\n",
        "$\\alpha_{ij}=\\alpha_{ji}$"
      ],
      "metadata": {
        "id": "r87i_KrjYgfz"
      }
    },
    {
      "cell_type": "code",
      "source": [
        "def NRTL_gamma_loop(x, T):\n",
        "    tau = p.NRTL_B/T\n",
        "    G = np.exp(-p.NRTL_alpha*tau)\n",
        "    lng = np.zeros_like(x)\n",
        "    xtauGdivxG = np.zeros_like(x)\n",
        "    xG = np.zeros_like(x)\n",
        "    term2 = np.zeros_like(x)\n",
        "    N = x.size\n",
        "    for i in range(N):\n",
        "        xtauG = 0.\n",
        "        for j in range(N):\n",
        "            xtauG += x[j]*tau[j,i]*G[j,i]\n",
        "            xG[i] += x[j]*G[j,i]\n",
        "        xtauGdivxG[i] = xtauG/xG[i]\n",
        "    for i in range(N):\n",
        "        for j in range(N):\n",
        "            term2[i]+= x[j]*G[i,j]/xG[j]*(tau[i,j] - xtauGdivxG[j])\n",
        "\n",
        "    return np.exp(xtauGdivxG + term2)\n",
        "\n",
        "def NRTL_gamma_einsum(x, T):\n",
        "    tau = p.NRTL_B/T\n",
        "    G = np.exp(-p.NRTL_alpha*tau)\n",
        "    xtauG = np.einsum('j,ji->i',x,tau*G)\n",
        "    xG = np.einsum('j,ji',x,G)\n",
        "    xtauGdivxG=xtauG/xG\n",
        "    term2=np.einsum('j,ij->i',x,G*(tau-xtauGdivxG[None,:])/xG[None,:] )\n",
        "    return np.exp(xtauGdivxG + term2)\n",
        "\n",
        "def NRTL_gamma_matvec(x,T):\n",
        "    x=x.reshape((1,-1))\n",
        "    tau = p.NRTL_B/T\n",
        "    G = np.exp(-p.NRTL_alpha*tau)\n",
        "    xtauG = x@ (tau*G)\n",
        "    xG = x@G\n",
        "    xtauGdivxG=xtauG/xG\n",
        "    a=G*(tau-xtauGdivxG[None,:])/xG[None,:]\n",
        "    lng= xtauGdivxG + a@(x.squeeze())\n",
        "    return np.exp(lng.flatten())"
      ],
      "metadata": {
        "id": "zRlxtLb6rY2D"
      },
      "execution_count": 3,
      "outputs": []
    },
    {
      "cell_type": "code",
      "source": [
        "p = Props(['Ethanol','Water'])"
      ],
      "metadata": {
        "id": "5OSp9CkdYZ9C"
      },
      "execution_count": 4,
      "outputs": []
    },
    {
      "cell_type": "code",
      "source": [
        "def bubblePy_NRTL(x, T):\n",
        "    Pi=x*NRTL_gamma_matvec(x,T)*p.Pvap(T)\n",
        "    P = np.sum(Pi)\n",
        "    return P, Pi/P \n",
        "\n",
        "def bubbleT_NRTL(x, P):\n",
        "    Tb=p.Tb(P)\n",
        "    Tlo, Thi = np.min(Tb), np.max(Tb)\n",
        "\n",
        "    def eq(T):\n",
        "        return bubblePy_NRTL(x,T)[0]-P\n",
        "\n",
        "    T = brentq(eq, Tlo-40, Thi+40)\n",
        "\n",
        "    return T, x*p.Pvap(T)/P \n",
        "\n",
        "def dewP_ideal(y, T):\n",
        "    pvap = p.Pvap(T)\n",
        "    P =  1/(np.sum(y/pvap))\n",
        "    x = y * P/pvap\n",
        "    return P, x\n",
        "\n",
        "def dewT_ideal(y, P):\n",
        "    Tb=p.Tb(P)\n",
        "    Tlo, Thi = np.min(Tb), np.max(Tb)\n",
        "\n",
        "    def eq(T):\n",
        "        return dewP_ideal(y,T)[0]-P\n",
        "\n",
        "    T = brentq(eq, Tlo-40, Thi+40)\n",
        "    return T,  y*P/p.Pvap(T)\n",
        "\n",
        "\n",
        "def dewP_NRTL(y, T):\n",
        "\n",
        "    def eq(v):\n",
        "        x = qtox(v[:-1])\n",
        "        P = v[-1]\n",
        "        return x*NRTL_gamma_matvec(x,T)*p.Pvap(T)-y*P\n",
        "\n",
        "    P_ideal, x_ideal = dewP_ideal(y,T)\n",
        "    v_guess=np.append(xtoq(x_ideal),P_ideal)\n",
        "    sol=root(eq,v_guess).x\n",
        "    return sol[-1], qtox(sol[:-1])\n",
        "\n",
        "def dewT_NRTL(y, P):\n",
        "    def eq(v):\n",
        "        x = qtox(v[:-1])\n",
        "        T = v[-1]\n",
        "        return x*NRTL_gamma_matvec(x,T)*p.Pvap(T)-y*P\n",
        "\n",
        "    T_ideal, x_ideal = dewT_ideal(y,P)\n",
        "    v_guess=np.append(xtoq(x_ideal),T_ideal)\n",
        "    sol=root(eq,v_guess).x\n",
        "    return sol[-1], qtox(sol[:-1]), \n",
        "\n"
      ],
      "metadata": {
        "id": "EQ6hQHqwzyDk"
      },
      "execution_count": 5,
      "outputs": []
    },
    {
      "cell_type": "code",
      "source": [
        "z1=np.linspace(0,1,101)\n",
        "zs=np.c_[z1, 1-z1]"
      ],
      "metadata": {
        "id": "bvBpfLtgHYeK"
      },
      "execution_count": 6,
      "outputs": []
    },
    {
      "cell_type": "code",
      "source": [
        "P=101325\n",
        "bubbleT_list=[]\n",
        "bubbley1_list=[]\n",
        "for z in zs:\n",
        "    bubbleT, y_bubble = bubbleT_NRTL(z, P)\n",
        "    bubbleT_list.append(bubbleT)\n",
        "    bubbley1_list.append(y_bubble[0])\n",
        "\n"
      ],
      "metadata": {
        "id": "qeziV4HgRuZW"
      },
      "execution_count": 7,
      "outputs": []
    },
    {
      "cell_type": "code",
      "source": [
        "fig=make_subplots()\n",
        "fig.add_scatter(x=bubbley1_list,y=bubbleT_list,mode='lines')\n",
        "fig.add_scatter(x=z1,y=bubbleT_list, mode='lines')\n",
        "fig.update_layout(width=800, height=800, template='plotly_dark')"
      ],
      "metadata": {
        "id": "YorpyTyOSjWH",
        "outputId": "e5ad30f0-c7d3-4b13-d392-29e5c19c8839",
        "colab": {
          "base_uri": "https://localhost:8080/",
          "height": 817
        }
      },
      "execution_count": 8,
      "outputs": [
        {
          "output_type": "display_data",
          "data": {
            "text/html": [
              "<html>\n",
              "<head><meta charset=\"utf-8\" /></head>\n",
              "<body>\n",
              "    <div>            <script src=\"https://cdnjs.cloudflare.com/ajax/libs/mathjax/2.7.5/MathJax.js?config=TeX-AMS-MML_SVG\"></script><script type=\"text/javascript\">if (window.MathJax) {MathJax.Hub.Config({SVG: {font: \"STIX-Web\"}});}</script>                <script type=\"text/javascript\">window.PlotlyConfig = {MathJaxConfig: 'local'};</script>\n",
              "        <script src=\"https://cdn.plot.ly/plotly-2.8.3.min.js\"></script>                <div id=\"d51cf9b0-1765-4d89-b9b3-7813598b562e\" class=\"plotly-graph-div\" style=\"height:800px; width:800px;\"></div>            <script type=\"text/javascript\">                                    window.PLOTLYENV=window.PLOTLYENV || {};                                    if (document.getElementById(\"d51cf9b0-1765-4d89-b9b3-7813598b562e\")) {                    Plotly.newPlot(                        \"d51cf9b0-1765-4d89-b9b3-7813598b562e\",                        [{\"mode\":\"lines\",\"x\":[0.0,0.020219241075375396,0.03747217326510728,0.05272009410178576,0.06658025435053623,0.07946119173081652,0.09164039915361472,0.1033105115768313,0.11460768443262431,0.12562955694972885,0.1364469339928718,0.1471115710464752,0.15766147849473822,0.16812460899356618,0.17852146793057602,0.18886699226834502,0.1991719232103627,0.20944382272967613,0.21968783560620897,0.2299072669758787,0.24010402434487038,0.25027895879351975,0.26043213033134144,0.27056301557213297,0.28067067110974886,0.2907538625585013,0.3008111667552945,0.31084105282077534,0.32084194644926517,0.3308122808090722,0.3407505366919245,0.3506552739870765,0.36052515612483665,0.3703589688023512,0.3801556340462809,0.3899142204651581,0.3996339503848881,0.40931420443437067,0.4189545240473218,0.4285546122648189,0.438114333157558,0.44763371013301806,0.45711292334916176,0.46655230641985845,0.4759523425676621,0.4853136603546607,0.49463702910126484,0.5039233540857668,0.5131736716023874,0.5223891439438294,0.5315710543632131,0.5407208020619468,0.5498398972421551,0.558929956256094,0.5679926968791967,0.5770299337289939,0.586043573847788,0.5950356124637304,0.6040081289419201,0.6129632829345456,0.6219033107371151,0.630830521855647,0.6397472957885998,0.6486560790255389,0.6575593822637422,0.6664597778429096,0.6753598973974285,0.6842624297249483,0.6931701188696974,0.7020857624183479,0.7110122100063416,0.7199523620318269,0.7289091685750058,0.7378856285198031,0.7468847888755688,0.7559097442959113,0.764963636792571,0.7740496556416455,0.7831710374804515,0.7923310665929252,0.8015330753821622,0.8107804450288011,0.8200766063342751,0.8294250407486041,0.8388292815823902,0.8482929154032997,0.8578195836180789,0.8674129842408517,0.8770768738499747,0.8868150697351022,0.8966314522379522,0.9065299672896655,0.9165146291489984,0.9265895233462363,0.9367588098379609,0.9470267263789386,0.9573975921181253,0.9678758114264556,0.978465877965178,0.9891723790039662,0.9999999999999999],\"y\":[373.1478177065464,370.4973046488101,368.31949216823296,366.5113460453095,364.99602635557676,363.715398472836,362.62485808656896,361.6897276204096,360.88271704386096,360.18211035833474,359.5704522031391,359.0335835460467,358.55992431673207,358.1399330770821,357.76569526985674,357.4306060179228,357.1291232746301,356.85657390342817,356.6089999964386,356.38303608488235,356.17581028384103,355.9848641407901,355.8080872186081,355.64366337416976,355.49002638647346,355.3458231088759,355.2098827145033,355.0811909052991,354.958868187147,354.84215149338155,354.73037857940926,354.6229747215039,354.519441340056,354.41934623694357,354.3223151921539,354.2280247093972,354.13619573648697,354.0465882155306,353.95899634184116,353.873244430041,353.78918330191334,353.70668712386106,353.62565063284535,353.5459866988546,353.4676241796258,353.3905060297494,353.3145876317069,353.23983532093433,353.1662250808655,353.09374138718283,353.02237618327933,352.952127971321,352.8830010053189,352.81500457437784,352.74815236576944,352.68246189878465,352.61795402142474,352.55465246295887,352.49258343621585,352.4317752841996,352.3722581662602,352.31406377959416,352.2572251123432,352.20177622497494,352.1477520570073,352.09518825645756,352.04412102969553,351.994587009621,351.9466231403219,351.9002665765575,351.855554596596,351.81252452708173,351.77121367875765,351.7316592919789,351.6938984910747,351.65796824670747,351.6239053454659,351.59174636601136,351.5615276611639,351.5332853453756,351.50705528710404,351.4828731056389,351.46077417198836,351.44079361347394,351.42296632171457,351.4073269637186,351.3939099958383,351.38274968035705,351.37388010452025,351.3673352018327,351.3631487754766,351.3613545237148,351.36198606716977,351.3650769778855,351.3706608100901,351.3787711325966,351.3894415627948,351.40270580219357,351.4185976734942,351.4371511591796,351.458400441624],\"type\":\"scatter\"},{\"mode\":\"lines\",\"x\":[0.0,0.01,0.02,0.03,0.04,0.05,0.06,0.07,0.08,0.09,0.1,0.11,0.12,0.13,0.14,0.15,0.16,0.17,0.18,0.19,0.2,0.21,0.22,0.23,0.24,0.25,0.26,0.27,0.28,0.29,0.3,0.31,0.32,0.33,0.34,0.35000000000000003,0.36,0.37,0.38,0.39,0.4,0.41000000000000003,0.42,0.43,0.44,0.45,0.46,0.47000000000000003,0.48,0.49,0.5,0.51,0.52,0.53,0.54,0.55,0.56,0.5700000000000001,0.58,0.59,0.6,0.61,0.62,0.63,0.64,0.65,0.66,0.67,0.68,0.6900000000000001,0.7000000000000001,0.71,0.72,0.73,0.74,0.75,0.76,0.77,0.78,0.79,0.8,0.81,0.8200000000000001,0.8300000000000001,0.84,0.85,0.86,0.87,0.88,0.89,0.9,0.91,0.92,0.93,0.9400000000000001,0.9500000000000001,0.96,0.97,0.98,0.99,1.0],\"y\":[373.1478177065464,370.4973046488101,368.31949216823296,366.5113460453095,364.99602635557676,363.715398472836,362.62485808656896,361.6897276204096,360.88271704386096,360.18211035833474,359.5704522031391,359.0335835460467,358.55992431673207,358.1399330770821,357.76569526985674,357.4306060179228,357.1291232746301,356.85657390342817,356.6089999964386,356.38303608488235,356.17581028384103,355.9848641407901,355.8080872186081,355.64366337416976,355.49002638647346,355.3458231088759,355.2098827145033,355.0811909052991,354.958868187147,354.84215149338155,354.73037857940926,354.6229747215039,354.519441340056,354.41934623694357,354.3223151921539,354.2280247093972,354.13619573648697,354.0465882155306,353.95899634184116,353.873244430041,353.78918330191334,353.70668712386106,353.62565063284535,353.5459866988546,353.4676241796258,353.3905060297494,353.3145876317069,353.23983532093433,353.1662250808655,353.09374138718283,353.02237618327933,352.952127971321,352.8830010053189,352.81500457437784,352.74815236576944,352.68246189878465,352.61795402142474,352.55465246295887,352.49258343621585,352.4317752841996,352.3722581662602,352.31406377959416,352.2572251123432,352.20177622497494,352.1477520570073,352.09518825645756,352.04412102969553,351.994587009621,351.9466231403219,351.9002665765575,351.855554596596,351.81252452708173,351.77121367875765,351.7316592919789,351.6938984910747,351.65796824670747,351.6239053454659,351.59174636601136,351.5615276611639,351.5332853453756,351.50705528710404,351.4828731056389,351.46077417198836,351.44079361347394,351.42296632171457,351.4073269637186,351.3939099958383,351.38274968035705,351.37388010452025,351.3673352018327,351.3631487754766,351.3613545237148,351.36198606716977,351.3650769778855,351.3706608100901,351.3787711325966,351.3894415627948,351.40270580219357,351.4185976734942,351.4371511591796,351.458400441624],\"type\":\"scatter\"}],                        {\"template\":{\"data\":{\"barpolar\":[{\"marker\":{\"line\":{\"color\":\"rgb(17,17,17)\",\"width\":0.5},\"pattern\":{\"fillmode\":\"overlay\",\"size\":10,\"solidity\":0.2}},\"type\":\"barpolar\"}],\"bar\":[{\"error_x\":{\"color\":\"#f2f5fa\"},\"error_y\":{\"color\":\"#f2f5fa\"},\"marker\":{\"line\":{\"color\":\"rgb(17,17,17)\",\"width\":0.5},\"pattern\":{\"fillmode\":\"overlay\",\"size\":10,\"solidity\":0.2}},\"type\":\"bar\"}],\"carpet\":[{\"aaxis\":{\"endlinecolor\":\"#A2B1C6\",\"gridcolor\":\"#506784\",\"linecolor\":\"#506784\",\"minorgridcolor\":\"#506784\",\"startlinecolor\":\"#A2B1C6\"},\"baxis\":{\"endlinecolor\":\"#A2B1C6\",\"gridcolor\":\"#506784\",\"linecolor\":\"#506784\",\"minorgridcolor\":\"#506784\",\"startlinecolor\":\"#A2B1C6\"},\"type\":\"carpet\"}],\"choropleth\":[{\"colorbar\":{\"outlinewidth\":0,\"ticks\":\"\"},\"type\":\"choropleth\"}],\"contourcarpet\":[{\"colorbar\":{\"outlinewidth\":0,\"ticks\":\"\"},\"type\":\"contourcarpet\"}],\"contour\":[{\"colorbar\":{\"outlinewidth\":0,\"ticks\":\"\"},\"colorscale\":[[0.0,\"#0d0887\"],[0.1111111111111111,\"#46039f\"],[0.2222222222222222,\"#7201a8\"],[0.3333333333333333,\"#9c179e\"],[0.4444444444444444,\"#bd3786\"],[0.5555555555555556,\"#d8576b\"],[0.6666666666666666,\"#ed7953\"],[0.7777777777777778,\"#fb9f3a\"],[0.8888888888888888,\"#fdca26\"],[1.0,\"#f0f921\"]],\"type\":\"contour\"}],\"heatmapgl\":[{\"colorbar\":{\"outlinewidth\":0,\"ticks\":\"\"},\"colorscale\":[[0.0,\"#0d0887\"],[0.1111111111111111,\"#46039f\"],[0.2222222222222222,\"#7201a8\"],[0.3333333333333333,\"#9c179e\"],[0.4444444444444444,\"#bd3786\"],[0.5555555555555556,\"#d8576b\"],[0.6666666666666666,\"#ed7953\"],[0.7777777777777778,\"#fb9f3a\"],[0.8888888888888888,\"#fdca26\"],[1.0,\"#f0f921\"]],\"type\":\"heatmapgl\"}],\"heatmap\":[{\"colorbar\":{\"outlinewidth\":0,\"ticks\":\"\"},\"colorscale\":[[0.0,\"#0d0887\"],[0.1111111111111111,\"#46039f\"],[0.2222222222222222,\"#7201a8\"],[0.3333333333333333,\"#9c179e\"],[0.4444444444444444,\"#bd3786\"],[0.5555555555555556,\"#d8576b\"],[0.6666666666666666,\"#ed7953\"],[0.7777777777777778,\"#fb9f3a\"],[0.8888888888888888,\"#fdca26\"],[1.0,\"#f0f921\"]],\"type\":\"heatmap\"}],\"histogram2dcontour\":[{\"colorbar\":{\"outlinewidth\":0,\"ticks\":\"\"},\"colorscale\":[[0.0,\"#0d0887\"],[0.1111111111111111,\"#46039f\"],[0.2222222222222222,\"#7201a8\"],[0.3333333333333333,\"#9c179e\"],[0.4444444444444444,\"#bd3786\"],[0.5555555555555556,\"#d8576b\"],[0.6666666666666666,\"#ed7953\"],[0.7777777777777778,\"#fb9f3a\"],[0.8888888888888888,\"#fdca26\"],[1.0,\"#f0f921\"]],\"type\":\"histogram2dcontour\"}],\"histogram2d\":[{\"colorbar\":{\"outlinewidth\":0,\"ticks\":\"\"},\"colorscale\":[[0.0,\"#0d0887\"],[0.1111111111111111,\"#46039f\"],[0.2222222222222222,\"#7201a8\"],[0.3333333333333333,\"#9c179e\"],[0.4444444444444444,\"#bd3786\"],[0.5555555555555556,\"#d8576b\"],[0.6666666666666666,\"#ed7953\"],[0.7777777777777778,\"#fb9f3a\"],[0.8888888888888888,\"#fdca26\"],[1.0,\"#f0f921\"]],\"type\":\"histogram2d\"}],\"histogram\":[{\"marker\":{\"pattern\":{\"fillmode\":\"overlay\",\"size\":10,\"solidity\":0.2}},\"type\":\"histogram\"}],\"mesh3d\":[{\"colorbar\":{\"outlinewidth\":0,\"ticks\":\"\"},\"type\":\"mesh3d\"}],\"parcoords\":[{\"line\":{\"colorbar\":{\"outlinewidth\":0,\"ticks\":\"\"}},\"type\":\"parcoords\"}],\"pie\":[{\"automargin\":true,\"type\":\"pie\"}],\"scatter3d\":[{\"line\":{\"colorbar\":{\"outlinewidth\":0,\"ticks\":\"\"}},\"marker\":{\"colorbar\":{\"outlinewidth\":0,\"ticks\":\"\"}},\"type\":\"scatter3d\"}],\"scattercarpet\":[{\"marker\":{\"colorbar\":{\"outlinewidth\":0,\"ticks\":\"\"}},\"type\":\"scattercarpet\"}],\"scattergeo\":[{\"marker\":{\"colorbar\":{\"outlinewidth\":0,\"ticks\":\"\"}},\"type\":\"scattergeo\"}],\"scattergl\":[{\"marker\":{\"line\":{\"color\":\"#283442\"}},\"type\":\"scattergl\"}],\"scattermapbox\":[{\"marker\":{\"colorbar\":{\"outlinewidth\":0,\"ticks\":\"\"}},\"type\":\"scattermapbox\"}],\"scatterpolargl\":[{\"marker\":{\"colorbar\":{\"outlinewidth\":0,\"ticks\":\"\"}},\"type\":\"scatterpolargl\"}],\"scatterpolar\":[{\"marker\":{\"colorbar\":{\"outlinewidth\":0,\"ticks\":\"\"}},\"type\":\"scatterpolar\"}],\"scatter\":[{\"marker\":{\"line\":{\"color\":\"#283442\"}},\"type\":\"scatter\"}],\"scatterternary\":[{\"marker\":{\"colorbar\":{\"outlinewidth\":0,\"ticks\":\"\"}},\"type\":\"scatterternary\"}],\"surface\":[{\"colorbar\":{\"outlinewidth\":0,\"ticks\":\"\"},\"colorscale\":[[0.0,\"#0d0887\"],[0.1111111111111111,\"#46039f\"],[0.2222222222222222,\"#7201a8\"],[0.3333333333333333,\"#9c179e\"],[0.4444444444444444,\"#bd3786\"],[0.5555555555555556,\"#d8576b\"],[0.6666666666666666,\"#ed7953\"],[0.7777777777777778,\"#fb9f3a\"],[0.8888888888888888,\"#fdca26\"],[1.0,\"#f0f921\"]],\"type\":\"surface\"}],\"table\":[{\"cells\":{\"fill\":{\"color\":\"#506784\"},\"line\":{\"color\":\"rgb(17,17,17)\"}},\"header\":{\"fill\":{\"color\":\"#2a3f5f\"},\"line\":{\"color\":\"rgb(17,17,17)\"}},\"type\":\"table\"}]},\"layout\":{\"annotationdefaults\":{\"arrowcolor\":\"#f2f5fa\",\"arrowhead\":0,\"arrowwidth\":1},\"autotypenumbers\":\"strict\",\"coloraxis\":{\"colorbar\":{\"outlinewidth\":0,\"ticks\":\"\"}},\"colorscale\":{\"diverging\":[[0,\"#8e0152\"],[0.1,\"#c51b7d\"],[0.2,\"#de77ae\"],[0.3,\"#f1b6da\"],[0.4,\"#fde0ef\"],[0.5,\"#f7f7f7\"],[0.6,\"#e6f5d0\"],[0.7,\"#b8e186\"],[0.8,\"#7fbc41\"],[0.9,\"#4d9221\"],[1,\"#276419\"]],\"sequential\":[[0.0,\"#0d0887\"],[0.1111111111111111,\"#46039f\"],[0.2222222222222222,\"#7201a8\"],[0.3333333333333333,\"#9c179e\"],[0.4444444444444444,\"#bd3786\"],[0.5555555555555556,\"#d8576b\"],[0.6666666666666666,\"#ed7953\"],[0.7777777777777778,\"#fb9f3a\"],[0.8888888888888888,\"#fdca26\"],[1.0,\"#f0f921\"]],\"sequentialminus\":[[0.0,\"#0d0887\"],[0.1111111111111111,\"#46039f\"],[0.2222222222222222,\"#7201a8\"],[0.3333333333333333,\"#9c179e\"],[0.4444444444444444,\"#bd3786\"],[0.5555555555555556,\"#d8576b\"],[0.6666666666666666,\"#ed7953\"],[0.7777777777777778,\"#fb9f3a\"],[0.8888888888888888,\"#fdca26\"],[1.0,\"#f0f921\"]]},\"colorway\":[\"#636efa\",\"#EF553B\",\"#00cc96\",\"#ab63fa\",\"#FFA15A\",\"#19d3f3\",\"#FF6692\",\"#B6E880\",\"#FF97FF\",\"#FECB52\"],\"font\":{\"color\":\"#f2f5fa\"},\"geo\":{\"bgcolor\":\"rgb(17,17,17)\",\"lakecolor\":\"rgb(17,17,17)\",\"landcolor\":\"rgb(17,17,17)\",\"showlakes\":true,\"showland\":true,\"subunitcolor\":\"#506784\"},\"hoverlabel\":{\"align\":\"left\"},\"hovermode\":\"closest\",\"mapbox\":{\"style\":\"dark\"},\"paper_bgcolor\":\"rgb(17,17,17)\",\"plot_bgcolor\":\"rgb(17,17,17)\",\"polar\":{\"angularaxis\":{\"gridcolor\":\"#506784\",\"linecolor\":\"#506784\",\"ticks\":\"\"},\"bgcolor\":\"rgb(17,17,17)\",\"radialaxis\":{\"gridcolor\":\"#506784\",\"linecolor\":\"#506784\",\"ticks\":\"\"}},\"scene\":{\"xaxis\":{\"backgroundcolor\":\"rgb(17,17,17)\",\"gridcolor\":\"#506784\",\"gridwidth\":2,\"linecolor\":\"#506784\",\"showbackground\":true,\"ticks\":\"\",\"zerolinecolor\":\"#C8D4E3\"},\"yaxis\":{\"backgroundcolor\":\"rgb(17,17,17)\",\"gridcolor\":\"#506784\",\"gridwidth\":2,\"linecolor\":\"#506784\",\"showbackground\":true,\"ticks\":\"\",\"zerolinecolor\":\"#C8D4E3\"},\"zaxis\":{\"backgroundcolor\":\"rgb(17,17,17)\",\"gridcolor\":\"#506784\",\"gridwidth\":2,\"linecolor\":\"#506784\",\"showbackground\":true,\"ticks\":\"\",\"zerolinecolor\":\"#C8D4E3\"}},\"shapedefaults\":{\"line\":{\"color\":\"#f2f5fa\"}},\"sliderdefaults\":{\"bgcolor\":\"#C8D4E3\",\"bordercolor\":\"rgb(17,17,17)\",\"borderwidth\":1,\"tickwidth\":0},\"ternary\":{\"aaxis\":{\"gridcolor\":\"#506784\",\"linecolor\":\"#506784\",\"ticks\":\"\"},\"baxis\":{\"gridcolor\":\"#506784\",\"linecolor\":\"#506784\",\"ticks\":\"\"},\"bgcolor\":\"rgb(17,17,17)\",\"caxis\":{\"gridcolor\":\"#506784\",\"linecolor\":\"#506784\",\"ticks\":\"\"}},\"title\":{\"x\":0.05},\"updatemenudefaults\":{\"bgcolor\":\"#506784\",\"borderwidth\":0},\"xaxis\":{\"automargin\":true,\"gridcolor\":\"#283442\",\"linecolor\":\"#506784\",\"ticks\":\"\",\"title\":{\"standoff\":15},\"zerolinecolor\":\"#283442\",\"zerolinewidth\":2},\"yaxis\":{\"automargin\":true,\"gridcolor\":\"#283442\",\"linecolor\":\"#506784\",\"ticks\":\"\",\"title\":{\"standoff\":15},\"zerolinecolor\":\"#283442\",\"zerolinewidth\":2}}},\"xaxis\":{\"anchor\":\"y\",\"domain\":[0.0,1.0]},\"yaxis\":{\"anchor\":\"x\",\"domain\":[0.0,1.0]},\"width\":800,\"height\":800},                        {\"responsive\": true}                    ).then(function(){\n",
              "                            \n",
              "var gd = document.getElementById('d51cf9b0-1765-4d89-b9b3-7813598b562e');\n",
              "var x = new MutationObserver(function (mutations, observer) {{\n",
              "        var display = window.getComputedStyle(gd).display;\n",
              "        if (!display || display === 'none') {{\n",
              "            console.log([gd, 'removed!']);\n",
              "            Plotly.purge(gd);\n",
              "            observer.disconnect();\n",
              "        }}\n",
              "}});\n",
              "\n",
              "// Listen for the removal of the full notebook cells\n",
              "var notebookContainer = gd.closest('#notebook-container');\n",
              "if (notebookContainer) {{\n",
              "    x.observe(notebookContainer, {childList: true});\n",
              "}}\n",
              "\n",
              "// Listen for the clearing of the current output cell\n",
              "var outputEl = gd.closest('.output');\n",
              "if (outputEl) {{\n",
              "    x.observe(outputEl, {childList: true});\n",
              "}}\n",
              "\n",
              "                        })                };                            </script>        </div>\n",
              "</body>\n",
              "</html>"
            ]
          },
          "metadata": {}
        }
      ]
    },
    {
      "cell_type": "code",
      "source": [
        "p = Props(['Methanol','Ethanol','Water'])"
      ],
      "metadata": {
        "id": "QlbB2ZyVTXyt"
      },
      "execution_count": 9,
      "outputs": []
    },
    {
      "cell_type": "code",
      "source": [
        "nF = np.array([10, 10, 10])\n",
        "flashP = 101325"
      ],
      "metadata": {
        "id": "Wmly47rgUmIg"
      },
      "execution_count": 10,
      "outputs": []
    },
    {
      "cell_type": "code",
      "source": [
        "zF = nF/np.sum(nF)"
      ],
      "metadata": {
        "id": "W4ugufxtWpNg"
      },
      "execution_count": 11,
      "outputs": []
    },
    {
      "cell_type": "code",
      "source": [
        "bubbleT, _ = bubbleT_NRTL(zF, flashP)\n",
        "dewT, _ = dewT_NRTL(zF, flashP)"
      ],
      "metadata": {
        "id": "Zs45JJIQW_IS"
      },
      "execution_count": 12,
      "outputs": []
    },
    {
      "cell_type": "code",
      "source": [
        "flashT=np.mean([bubbleT, dewT])"
      ],
      "metadata": {
        "id": "zlBDbCW2W_vZ"
      },
      "execution_count": 13,
      "outputs": []
    },
    {
      "cell_type": "code",
      "source": [
        "def flashTP(nF, T, P):\n",
        "\n",
        "    def fug_eq(v):\n",
        "        nV = nF*expit(v)\n",
        "        nL = nF - nV\n",
        "        x = nL/np.sum(nL)\n",
        "        y = nV/np.sum(nV)\n",
        "        return x*NRTL_gamma_matvec(x,T)*p.Pvap(T) - y*P\n",
        "        \n",
        "    nV = nF*expit(root(fug_eq, np.zeros(3)).x)\n",
        "    nL = nF-nV\n",
        "    x = nL/np.sum(nL)\n",
        "    y = nV/np.sum(nV)\n",
        "\n",
        "    return x, y, np.sum(nV)/np.sum(nF)"
      ],
      "metadata": {
        "id": "jr-5zdGjXJHE"
      },
      "execution_count": 46,
      "outputs": []
    },
    {
      "cell_type": "code",
      "source": [
        "flashTP(nF, flashT, flashP)"
      ],
      "metadata": {
        "id": "ggfoWDccXZTP",
        "outputId": "0ba92c39-5ec6-43ff-8963-9dc4cd817210",
        "colab": {
          "base_uri": "https://localhost:8080/"
        }
      },
      "execution_count": 17,
      "outputs": [
        {
          "output_type": "execute_result",
          "data": {
            "text/plain": [
              "(array([0.24136541, 0.29673509, 0.4618995 ]),\n",
              " array([0.38461874, 0.35374214, 0.26163912]),\n",
              " 0.6419950224372866)"
            ]
          },
          "metadata": {},
          "execution_count": 17
        }
      ]
    },
    {
      "cell_type": "code",
      "source": [
        "#Adiabatic Flash Calculation\n",
        "nFeed = np.array([10, 10, 10])\n",
        "zF = nFeed/np.sum(nFeed)\n",
        "FeedP = 3e5\n",
        "FlashP = 1e5\n",
        "FeedT, _ = bubbleT_NRTL(zF, FeedP)   #Feed is saturated liquid\n",
        "FeedH = p.Hl(nFeed, FeedT)"
      ],
      "metadata": {
        "id": "0K3l8JfFZUIx"
      },
      "execution_count": 30,
      "outputs": []
    },
    {
      "cell_type": "code",
      "source": [
        "def flashPQ(nF, flashP, Q):\n",
        "    "
      ],
      "metadata": {
        "id": "Y9hqbF77OlxA"
      },
      "execution_count": null,
      "outputs": []
    },
    {
      "cell_type": "code",
      "source": [
        "def H_balance(T):\n",
        "    x,y, fracV = flashTP(nF, T, FlashP)\n",
        "    nV = y*fracV*np.sum(nFeed)\n",
        "    nL = x*(1-fracV)*np.sum(nFeed)\n",
        "    return [p.Hv(nV, T) + p.Hl(nL, T) - FeedH]"
      ],
      "metadata": {
        "id": "UHdwabb-GRM1"
      },
      "execution_count": 53,
      "outputs": []
    },
    {
      "cell_type": "code",
      "source": [
        "res=root(H_balance, [346])"
      ],
      "metadata": {
        "id": "GH4raXAZJhZn",
        "outputId": "b39732d3-0895-43e1-ca57-285a4a50d990",
        "colab": {
          "base_uri": "https://localhost:8080/"
        }
      },
      "execution_count": 55,
      "outputs": [
        {
          "output_type": "stream",
          "name": "stderr",
          "text": [
            "/usr/local/lib/python3.7/dist-packages/ipykernel_launcher.py:6: RuntimeWarning:\n",
            "\n",
            "invalid value encountered in true_divide\n",
            "\n"
          ]
        }
      ]
    },
    {
      "cell_type": "code",
      "source": [
        "flashTP(nF,res.x[0],FlashP)"
      ],
      "metadata": {
        "id": "xH0jmI2NM22K",
        "outputId": "05b16ce8-edf0-4a8a-b0df-253ad5d948d1",
        "colab": {
          "base_uri": "https://localhost:8080/"
        }
      },
      "execution_count": 57,
      "outputs": [
        {
          "output_type": "execute_result",
          "data": {
            "text/plain": [
              "(array([0.32036409, 0.33335227, 0.34628364]),\n",
              " array([0.46849883, 0.33313593, 0.19836523]),\n",
              " 0.0875503096267397)"
            ]
          },
          "metadata": {},
          "execution_count": 57
        }
      ]
    },
    {
      "cell_type": "code",
      "source": [],
      "metadata": {
        "id": "5ohWungnOGQ1"
      },
      "execution_count": null,
      "outputs": []
    }
  ]
}