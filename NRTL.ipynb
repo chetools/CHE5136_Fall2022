{
  "nbformat": 4,
  "nbformat_minor": 0,
  "metadata": {
    "colab": {
      "provenance": [],
      "authorship_tag": "ABX9TyNDhzFHdz3f34kearo6LQds",
      "include_colab_link": true
    },
    "kernelspec": {
      "name": "python3",
      "display_name": "Python 3"
    },
    "language_info": {
      "name": "python"
    }
  },
  "cells": [
    {
      "cell_type": "markdown",
      "metadata": {
        "id": "view-in-github",
        "colab_type": "text"
      },
      "source": [
        "<a href=\"https://colab.research.google.com/github/profteachkids/CHE5136_Fall2022/blob/main/NRTL.ipynb\" target=\"_parent\"><img src=\"https://colab.research.google.com/assets/colab-badge.svg\" alt=\"Open In Colab\"/></a>"
      ]
    },
    {
      "cell_type": "code",
      "execution_count": 1,
      "metadata": {
        "colab": {
          "base_uri": "https://localhost:8080/"
        },
        "id": "6w4s3TWXYXyz",
        "outputId": "bfabf9bc-db0e-480d-ec15-1ad3e71f5928"
      },
      "outputs": [
        {
          "output_type": "stream",
          "name": "stdout",
          "text": [
            "Looking in indexes: https://pypi.org/simple, https://us-python.pkg.dev/colab-wheels/public/simple/\n",
            "Collecting importnb\n",
            "  Downloading importnb-2022.10.24-py3-none-any.whl (39 kB)\n",
            "Installing collected packages: importnb\n",
            "Successfully installed importnb-2022.10.24\n"
          ]
        }
      ],
      "source": [
        "!wget -N -q https://raw.githubusercontent.com/profteachkids/chetools/main/tools/che4.ipynb -O che4.ipynb\n",
        "!pip install importnb"
      ]
    },
    {
      "cell_type": "code",
      "source": [
        "from importnb import Notebook\n",
        "with Notebook(): \n",
        "    from che4 import Props\n",
        "\n",
        "import numpy as np"
      ],
      "metadata": {
        "colab": {
          "base_uri": "https://localhost:8080/"
        },
        "id": "XFjVkP5QYYfo",
        "outputId": "fc86fbd1-3508-4fe1-8d19-595ff566a21d"
      },
      "execution_count": 2,
      "outputs": [
        {
          "output_type": "stream",
          "name": "stderr",
          "text": [
            "WARNING:absl:No GPU/TPU found, falling back to CPU. (Set TF_CPP_MIN_LOG_LEVEL=0 and rerun for more info.)\n"
          ]
        }
      ]
    },
    {
      "cell_type": "markdown",
      "source": [
        "### NRTL Activity Coefficient Model\n",
        "\n",
        "$ln (\\gamma_i) = \\dfrac{ \\sum\\limits_{j=1}^{n}x_j \\tau_{ji}G_{ji}}{\\sum\\limits_{k=1}^{n}x_kG_{ki}} + \n",
        "\\sum\\limits_{j=1}^{n} \\dfrac{x_jG_{ij}}{\\sum\\limits_{k=1}^{n}x_k G_{kj}} \\left( \\tau_{ij} - \n",
        "\\dfrac{\\sum\\limits_{m=1}^{n} x_m \\tau_{mj} G_{mj}}{\\sum\\limits_{k=1}^{n} x_kG_{kj}} \\right)$\n",
        "\n",
        "$\\tau_{ji} = A_{ji} + \\dfrac{B_{ji}}{T} + C_{ji}ln(T)+D_{ji}T$\n",
        "\n",
        "$G_{ji}=exp \\left( - \\alpha_{ji} \\tau_{ji} \\right)$\n",
        "\n",
        "$\\alpha_{ij}=\\alpha_{ji}$"
      ],
      "metadata": {
        "id": "r87i_KrjYgfz"
      }
    },
    {
      "cell_type": "code",
      "source": [
        "p = Props(['Methanol','Ethanol','Water'])"
      ],
      "metadata": {
        "id": "5OSp9CkdYZ9C"
      },
      "execution_count": 3,
      "outputs": []
    },
    {
      "cell_type": "code",
      "source": [
        "p.NRTL_B"
      ],
      "metadata": {
        "colab": {
          "base_uri": "https://localhost:8080/"
        },
        "id": "CDnRBy2eAQac",
        "outputId": "9ce80951-9be0-4ceb-bad5-c2ee3fcef0cb"
      },
      "execution_count": 23,
      "outputs": [
        {
          "output_type": "execute_result",
          "data": {
            "text/plain": [
              "array([[   0.  , -155.5 ,  -24.49],\n",
              "       [ 190.06,    0.  ,  -55.17],\n",
              "       [ 307.17,  670.44,    0.  ]])"
            ]
          },
          "metadata": {},
          "execution_count": 23
        }
      ]
    },
    {
      "cell_type": "code",
      "source": [
        "def lng_method1(x, T):\n",
        "    tau = p.NRTL_B/T\n",
        "    G = np.exp(-p.NRTL_alpha*tau)\n",
        "    lng = np.zeros_like(x)\n",
        "    xtauGdivxG = np.zeros_like(x)\n",
        "    xG = np.zeros_like(x)\n",
        "    term2 = np.zeros_like(x)\n",
        "    N = x.size\n",
        "    for i in range(N):\n",
        "        xtauG = 0.\n",
        "        for j in range(N):\n",
        "            xtauG += x[j]*tau[j,i]*G[j,i]\n",
        "            xG[i] += x[j]*G[j,i]\n",
        "        xtauGdivxG[i] = xtauG/xG[i]\n",
        "\n",
        "    for i in range(N):\n",
        "        for j in range(N):\n",
        "            term2[i]+= x[j]*G[i,j]/xG[j]*(tau[i,j] - xtauGdivxG[j])\n",
        "\n",
        "    return xtauGdivxG + term2"
      ],
      "metadata": {
        "id": "KIaEgfUD6aE-"
      },
      "execution_count": 28,
      "outputs": []
    },
    {
      "cell_type": "code",
      "source": [
        "x=np.array([1/3, 1/3, 1/3])\n",
        "np.exp(lng_method1(x,300.))"
      ],
      "metadata": {
        "colab": {
          "base_uri": "https://localhost:8080/"
        },
        "id": "2SzUzUA27_SX",
        "outputId": "e5150b8f-b2e4-45ba-a0ee-4a98e2d9dda5"
      },
      "execution_count": 30,
      "outputs": [
        {
          "output_type": "execute_result",
          "data": {
            "text/plain": [
              "array([0.99367274, 1.14457226, 1.61038962])"
            ]
          },
          "metadata": {},
          "execution_count": 30
        }
      ]
    },
    {
      "cell_type": "code",
      "source": [
        "a= np.arange(25*6*7).reshape(5,5,6,7)\n",
        "b = np.arange(7*9*6).reshape(7,9,6)"
      ],
      "metadata": {
        "id": "KBVR3B-J8Dhg"
      },
      "execution_count": 44,
      "outputs": []
    },
    {
      "cell_type": "code",
      "source": [
        "np.einsum('ijkl,lno->ijkno',a,b).shape"
      ],
      "metadata": {
        "colab": {
          "base_uri": "https://localhost:8080/"
        },
        "id": "Rx6FdJ4JFJIs",
        "outputId": "c630c465-40d3-44bf-b5fd-f77a77a3c323"
      },
      "execution_count": 46,
      "outputs": [
        {
          "output_type": "execute_result",
          "data": {
            "text/plain": [
              "(5, 5, 6, 9, 6)"
            ]
          },
          "metadata": {},
          "execution_count": 46
        }
      ]
    },
    {
      "cell_type": "code",
      "source": [],
      "metadata": {
        "id": "e1xkEfRHFk62"
      },
      "execution_count": null,
      "outputs": []
    }
  ]
}