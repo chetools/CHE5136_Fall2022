{
  "nbformat": 4,
  "nbformat_minor": 0,
  "metadata": {
    "colab": {
      "provenance": [],
      "authorship_tag": "ABX9TyPJRmjglJN8brNg1A2j1Frz",
      "include_colab_link": true
    },
    "kernelspec": {
      "name": "python3",
      "display_name": "Python 3"
    },
    "language_info": {
      "name": "python"
    }
  },
  "cells": [
    {
      "cell_type": "markdown",
      "metadata": {
        "id": "view-in-github",
        "colab_type": "text"
      },
      "source": [
        "<a href=\"https://colab.research.google.com/github/profteachkids/CHE5136_Fall2022/blob/main/NRTL.ipynb\" target=\"_parent\"><img src=\"https://colab.research.google.com/assets/colab-badge.svg\" alt=\"Open In Colab\"/></a>"
      ]
    },
    {
      "cell_type": "code",
      "execution_count": 1,
      "metadata": {
        "colab": {
          "base_uri": "https://localhost:8080/"
        },
        "id": "6w4s3TWXYXyz",
        "outputId": "20fcb192-66fb-4f42-c95c-d3193480da5f"
      },
      "outputs": [
        {
          "output_type": "stream",
          "name": "stdout",
          "text": [
            "Looking in indexes: https://pypi.org/simple, https://us-python.pkg.dev/colab-wheels/public/simple/\n",
            "Collecting importnb\n",
            "  Downloading importnb-2022.10.24-py3-none-any.whl (39 kB)\n",
            "Installing collected packages: importnb\n",
            "Successfully installed importnb-2022.10.24\n"
          ]
        }
      ],
      "source": [
        "!wget -N -q https://raw.githubusercontent.com/profteachkids/chetools/main/tools/che4.ipynb -O che4.ipynb\n",
        "!pip install importnb"
      ]
    },
    {
      "cell_type": "code",
      "source": [
        "from importnb import Notebook\n",
        "with Notebook(): \n",
        "    from che4 import Props, qtox, xtoq\n",
        "\n",
        "import numpy as np\n",
        "from scipy.optimize import root, brentq"
      ],
      "metadata": {
        "id": "XFjVkP5QYYfo"
      },
      "execution_count": 33,
      "outputs": []
    },
    {
      "cell_type": "markdown",
      "source": [
        "### NRTL Activity Coefficient Model\n",
        "\n",
        "$ln (\\gamma_i) = \\dfrac{ \\sum\\limits_{j=1}^{n}x_j \\tau_{ji}G_{ji}}{\\sum\\limits_{k=1}^{n}x_kG_{ki}} + \n",
        "\\sum\\limits_{j=1}^{n} \\dfrac{x_jG_{ij}}{\\sum\\limits_{k=1}^{n}x_k G_{kj}} \\left( \\tau_{ij} - \n",
        "\\dfrac{\\sum\\limits_{m=1}^{n} x_m \\tau_{mj} G_{mj}}{\\sum\\limits_{k=1}^{n} x_kG_{kj}} \\right)$\n",
        "\n",
        "$\\tau_{ji} = A_{ji} + \\dfrac{B_{ji}}{T} + C_{ji}ln(T)+D_{ji}T$\n",
        "\n",
        "$G_{ji}=exp \\left( - \\alpha_{ji} \\tau_{ji} \\right)$\n",
        "\n",
        "$\\alpha_{ij}=\\alpha_{ji}$"
      ],
      "metadata": {
        "id": "r87i_KrjYgfz"
      }
    },
    {
      "cell_type": "code",
      "source": [
        "def NRTL_gamma_loop(x, T):\n",
        "    tau = p.NRTL_B/T\n",
        "    G = np.exp(-p.NRTL_alpha*tau)\n",
        "    lng = np.zeros_like(x)\n",
        "    xtauGdivxG = np.zeros_like(x)\n",
        "    xG = np.zeros_like(x)\n",
        "    term2 = np.zeros_like(x)\n",
        "    N = x.size\n",
        "    for i in range(N):\n",
        "        xtauG = 0.\n",
        "        for j in range(N):\n",
        "            xtauG += x[j]*tau[j,i]*G[j,i]\n",
        "            xG[i] += x[j]*G[j,i]\n",
        "        xtauGdivxG[i] = xtauG/xG[i]\n",
        "    for i in range(N):\n",
        "        for j in range(N):\n",
        "            term2[i]+= x[j]*G[i,j]/xG[j]*(tau[i,j] - xtauGdivxG[j])\n",
        "\n",
        "    return np.exp(xtauGdivxG + term2)\n",
        "\n",
        "def NRTL_gamma_einsum(x, T):\n",
        "    tau = p.NRTL_B/T\n",
        "    G = np.exp(-p.NRTL_alpha*tau)\n",
        "    xtauG = np.einsum('j,ji->i',x,tau*G)\n",
        "    xG = np.einsum('j,ji',x,G)\n",
        "    xtauGdivxG=xtauG/xG\n",
        "    term2=np.einsum('j,ij->i',x,G*(tau-xtauGdivxG[None,:])/xG[None,:] )\n",
        "    return np.exp(xtauGdivxG + term2)\n",
        "\n",
        "def NRTL_gamma_matvec(x,T):\n",
        "    x=x.reshape((1,-1))\n",
        "    tau = p.NRTL_B/T\n",
        "    G = np.exp(-p.NRTL_alpha*tau)\n",
        "    xtauG = x@ (tau*G)\n",
        "    xG = x@G\n",
        "    xtauGdivxG=xtauG/xG\n",
        "    a=G*(tau-xtauGdivxG[None,:])/xG[None,:]\n",
        "    lng= xtauGdivxG + a@(x.squeeze())\n",
        "    return np.exp(lng.flatten())"
      ],
      "metadata": {
        "id": "zRlxtLb6rY2D"
      },
      "execution_count": 12,
      "outputs": []
    },
    {
      "cell_type": "code",
      "source": [
        "p = Props(['Methanol','Ethanol','Water'])"
      ],
      "metadata": {
        "id": "5OSp9CkdYZ9C"
      },
      "execution_count": 13,
      "outputs": []
    },
    {
      "cell_type": "code",
      "source": [
        "z=np.array([1/3, 1/3, 1/3])"
      ],
      "metadata": {
        "id": "2SzUzUA27_SX"
      },
      "execution_count": 27,
      "outputs": []
    },
    {
      "cell_type": "code",
      "source": [
        "def bubblePy_NRTL(x, T):\n",
        "    Pi=x*NRTL_gamma_matvec(x,T)*p.Pvap(T)\n",
        "    P = np.sum(Pi)\n",
        "    return P, Pi/P \n",
        "\n",
        "def bubbleT_NRTL(x, P):\n",
        "    Tb=p.Tb(P)\n",
        "    Tlo, Thi = np.min(Tb), np.max(Tb)\n",
        "\n",
        "    def eq(T):\n",
        "        return bubblePy_NRTL(x,T)[0]-P\n",
        "\n",
        "    return brentq(eq, Tlo-40, Thi+40)\n",
        "\n",
        "def dewP_ideal(y, T):\n",
        "    pvap = p.Pvap(T)\n",
        "    P =  1/(np.sum(y/pvap))\n",
        "    x = y * P/pvap\n",
        "    return P, x\n",
        "\n",
        "def dewT_ideal(y, P):\n",
        "    Tb=p.Tb(P)\n",
        "    Tlo, Thi = np.min(Tb), np.max(Tb)\n",
        "\n",
        "    def eq(T):\n",
        "        return dewP_ideal(y,T)[0]-P\n",
        "\n",
        "    return brentq(eq, Tlo-40, Thi+40)\n",
        "\n",
        "\n",
        "def dewP_NRTL(y, T):\n",
        "\n",
        "    def eq(v):\n",
        "        x = qtox(v[:-1])\n",
        "        P = v[-1]\n",
        "        return x*NRTL_gamma_matvec(x,T)*p.Pvap(T)-y*P\n",
        "\n",
        "    P_ideal, x_ideal = dewP_ideal(y,T)\n",
        "    v_guess=np.append(xtoq(x_ideal),P_ideal)\n",
        "    sol=root(eq,v_guess).x\n",
        "    return qtox(sol[:-1]), sol[-1]\n",
        "\n"
      ],
      "metadata": {
        "id": "EQ6hQHqwzyDk"
      },
      "execution_count": 45,
      "outputs": []
    },
    {
      "cell_type": "code",
      "source": [
        "dewP_NRTL(z,400)"
      ],
      "metadata": {
        "id": "ctrT_3ucEI3s",
        "outputId": "0952de13-758b-467d-a926-df277e196c1d",
        "colab": {
          "base_uri": "https://localhost:8080/"
        }
      },
      "execution_count": 46,
      "outputs": [
        {
          "output_type": "execute_result",
          "data": {
            "text/plain": [
              "(DeviceArray([0.2084266 , 0.22785431, 0.56371909], dtype=float64),\n",
              " 514139.98501294805)"
            ]
          },
          "metadata": {},
          "execution_count": 46
        }
      ]
    },
    {
      "cell_type": "code",
      "source": [
        "dewP_ideal(z,500.)"
      ],
      "metadata": {
        "id": "GVAY9P4iqsBt",
        "outputId": "63bed196-bb75-4bce-8d69-0335ebc007cf",
        "colab": {
          "base_uri": "https://localhost:8080/"
        }
      },
      "execution_count": 39,
      "outputs": [
        {
          "output_type": "execute_result",
          "data": {
            "text/plain": [
              "(DeviceArray(4068696.56011698, dtype=float64),\n",
              " DeviceArray([0.20631222, 0.27936238, 0.51432541], dtype=float64))"
            ]
          },
          "metadata": {},
          "execution_count": 39
        }
      ]
    },
    {
      "cell_type": "code",
      "source": [
        "dewT_ideal(z,4068696)"
      ],
      "metadata": {
        "id": "iC4UzeyFCLJ8",
        "outputId": "94b77378-0a25-420b-d9d0-bd8c2aae539e",
        "colab": {
          "base_uri": "https://localhost:8080/"
        }
      },
      "execution_count": 40,
      "outputs": [
        {
          "output_type": "execute_result",
          "data": {
            "text/plain": [
              "499.9999923165434"
            ]
          },
          "metadata": {},
          "execution_count": 40
        }
      ]
    },
    {
      "cell_type": "code",
      "source": [
        "xtoq(np.array([0.1,0.3,0.6]))"
      ],
      "metadata": {
        "id": "36faBAuBDQAo",
        "outputId": "6ca09c84-1a50-44cf-edc5-73076436b2c9",
        "colab": {
          "base_uri": "https://localhost:8080/"
        }
      },
      "execution_count": 35,
      "outputs": [
        {
          "output_type": "execute_result",
          "data": {
            "text/plain": [
              "DeviceArray([-1.79175947, -0.69314718], dtype=float64)"
            ]
          },
          "metadata": {},
          "execution_count": 35
        }
      ]
    },
    {
      "cell_type": "code",
      "source": [
        "qtox(np.array([-1.79175947, -0.69314718]))"
      ],
      "metadata": {
        "id": "awD_yNUpHLgu",
        "outputId": "1de9b7b0-bb69-4604-a0f2-c0885cec531a",
        "colab": {
          "base_uri": "https://localhost:8080/"
        }
      },
      "execution_count": 37,
      "outputs": [
        {
          "output_type": "execute_result",
          "data": {
            "text/plain": [
              "DeviceArray([0.1, 0.3, 0.6], dtype=float64)"
            ]
          },
          "metadata": {},
          "execution_count": 37
        }
      ]
    },
    {
      "cell_type": "code",
      "source": [],
      "metadata": {
        "id": "bvBpfLtgHYeK"
      },
      "execution_count": null,
      "outputs": []
    }
  ]
}